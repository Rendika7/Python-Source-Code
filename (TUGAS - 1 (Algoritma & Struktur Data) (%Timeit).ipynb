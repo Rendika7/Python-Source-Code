{
 "cells": [
  {
   "cell_type": "markdown",
   "id": "b4173397",
   "metadata": {},
   "source": [
    "# Nomor 2"
   ]
  },
  {
   "cell_type": "code",
   "execution_count": 4,
   "id": "2ac565c4",
   "metadata": {},
   "outputs": [
    {
     "data": {
      "text/html": [
       "<div>\n",
       "<style scoped>\n",
       "    .dataframe tbody tr th:only-of-type {\n",
       "        vertical-align: middle;\n",
       "    }\n",
       "\n",
       "    .dataframe tbody tr th {\n",
       "        vertical-align: top;\n",
       "    }\n",
       "\n",
       "    .dataframe thead th {\n",
       "        text-align: right;\n",
       "    }\n",
       "</style>\n",
       "<table border=\"1\" class=\"dataframe\">\n",
       "  <thead>\n",
       "    <tr style=\"text-align: right;\">\n",
       "      <th></th>\n",
       "      <th>Gender</th>\n",
       "      <th>Weight</th>\n",
       "      <th>Height</th>\n",
       "    </tr>\n",
       "  </thead>\n",
       "  <tbody>\n",
       "    <tr>\n",
       "      <th>0</th>\n",
       "      <td>Male</td>\n",
       "      <td>73.847017</td>\n",
       "      <td>241.893563</td>\n",
       "    </tr>\n",
       "    <tr>\n",
       "      <th>1</th>\n",
       "      <td>Male</td>\n",
       "      <td>68.781904</td>\n",
       "      <td>162.310473</td>\n",
       "    </tr>\n",
       "    <tr>\n",
       "      <th>2</th>\n",
       "      <td>Male</td>\n",
       "      <td>74.110105</td>\n",
       "      <td>212.740856</td>\n",
       "    </tr>\n",
       "    <tr>\n",
       "      <th>3</th>\n",
       "      <td>Male</td>\n",
       "      <td>71.730978</td>\n",
       "      <td>220.042470</td>\n",
       "    </tr>\n",
       "    <tr>\n",
       "      <th>4</th>\n",
       "      <td>Male</td>\n",
       "      <td>69.881796</td>\n",
       "      <td>206.349801</td>\n",
       "    </tr>\n",
       "    <tr>\n",
       "      <th>5</th>\n",
       "      <td>Male</td>\n",
       "      <td>67.253016</td>\n",
       "      <td>152.212156</td>\n",
       "    </tr>\n",
       "    <tr>\n",
       "      <th>6</th>\n",
       "      <td>Female</td>\n",
       "      <td>64.623292</td>\n",
       "      <td>134.611015</td>\n",
       "    </tr>\n",
       "    <tr>\n",
       "      <th>7</th>\n",
       "      <td>Female</td>\n",
       "      <td>65.235913</td>\n",
       "      <td>128.446415</td>\n",
       "    </tr>\n",
       "    <tr>\n",
       "      <th>8</th>\n",
       "      <td>Female</td>\n",
       "      <td>62.974785</td>\n",
       "      <td>137.474570</td>\n",
       "    </tr>\n",
       "    <tr>\n",
       "      <th>9</th>\n",
       "      <td>Female</td>\n",
       "      <td>64.720794</td>\n",
       "      <td>143.840840</td>\n",
       "    </tr>\n",
       "    <tr>\n",
       "      <th>10</th>\n",
       "      <td>Female</td>\n",
       "      <td>61.991103</td>\n",
       "      <td>124.263053</td>\n",
       "    </tr>\n",
       "    <tr>\n",
       "      <th>11</th>\n",
       "      <td>Female</td>\n",
       "      <td>63.034487</td>\n",
       "      <td>125.467016</td>\n",
       "    </tr>\n",
       "    <tr>\n",
       "      <th>12</th>\n",
       "      <td>Female</td>\n",
       "      <td>61.722079</td>\n",
       "      <td>107.224707</td>\n",
       "    </tr>\n",
       "    <tr>\n",
       "      <th>13</th>\n",
       "      <td>Female</td>\n",
       "      <td>66.235472</td>\n",
       "      <td>149.413468</td>\n",
       "    </tr>\n",
       "    <tr>\n",
       "      <th>14</th>\n",
       "      <td>Female</td>\n",
       "      <td>64.948536</td>\n",
       "      <td>155.133186</td>\n",
       "    </tr>\n",
       "  </tbody>\n",
       "</table>\n",
       "</div>"
      ],
      "text/plain": [
       "    Gender     Weight      Height\n",
       "0     Male  73.847017  241.893563\n",
       "1     Male  68.781904  162.310473\n",
       "2     Male  74.110105  212.740856\n",
       "3     Male  71.730978  220.042470\n",
       "4     Male  69.881796  206.349801\n",
       "5     Male  67.253016  152.212156\n",
       "6   Female  64.623292  134.611015\n",
       "7   Female  65.235913  128.446415\n",
       "8   Female  62.974785  137.474570\n",
       "9   Female  64.720794  143.840840\n",
       "10  Female  61.991103  124.263053\n",
       "11  Female  63.034487  125.467016\n",
       "12  Female  61.722079  107.224707\n",
       "13  Female  66.235472  149.413468\n",
       "14  Female  64.948536  155.133186"
      ]
     },
     "execution_count": 4,
     "metadata": {},
     "output_type": "execute_result"
    }
   ],
   "source": [
    "import pandas as pd\n",
    "import numpy as np\n",
    "\n",
    "# Data warga yang akan diubah menjadi DataFrame dari Dictionary\n",
    "# ----------------------------------------------\n",
    "DataWarga = {\"Gender\" :[\"Male\",\"Male\",\"Male\",\"Male\",\"Male\",\"Male\",\"Female\",\"Female\",\"Female\",\"Female\",\"Female\",\"Female\",\"Female\",\"Female\",\"Female\",],\n",
    "       \"Weight\" : [73.84701702, 68.78190405, 74.11010539, 71.7309784, 69.88179586, 67.25301569, 64.62329203, 65.23591282, 62.9747851 ,64.72079374, 61.99110332, 63.03448673, 61.72207869, 66.23547229, 64.94853593],\n",
    "       \"Height\" : [241.8935632, 162.3104725, 212.7408556, 220.0424703, 206.3498006, 152.2121558, 134.6110153, 128.446415, 137.4745698, 143.8408398, 124.2630529, 125.4670161, 107.2247071, 149.4134676, 155.1331864]}\n",
    "df = pd.DataFrame(DataWarga)\n",
    "df\n",
    "# ----------------------------------------------"
   ]
  },
  {
   "cell_type": "code",
   "execution_count": 5,
   "id": "d7f6b23d",
   "metadata": {},
   "outputs": [
    {
     "data": {
      "text/plain": [
       "[107.2247071,\n",
       " 124.2630529,\n",
       " 125.4670161,\n",
       " 128.446415,\n",
       " 134.6110153,\n",
       " 137.4745698,\n",
       " 143.8408398,\n",
       " 149.4134676,\n",
       " 152.2121558,\n",
       " 155.1331864,\n",
       " 162.3104725,\n",
       " 206.3498006,\n",
       " 212.7408556,\n",
       " 220.0424703,\n",
       " 241.8935632]"
      ]
     },
     "execution_count": 5,
     "metadata": {},
     "output_type": "execute_result"
    }
   ],
   "source": [
    "# Mengambil Kolom 'Height' dalam DataFrame 'df'\n",
    "# ----------------------------------------------\n",
    "Tinggi = np.array(df['Height'])\n",
    "Tinggi.sort()\n",
    "Tinggi = Tinggi.tolist()\n",
    "Tinggi\n",
    "# ----------------------------------------------"
   ]
  },
  {
   "cell_type": "code",
   "execution_count": 6,
   "id": "a2e9008e",
   "metadata": {},
   "outputs": [],
   "source": [
    "#Function untuk mencari Tinggi yang lebih dari 170 namun hanya 1 diatas 170\n",
    "# ----------------------------------------------\n",
    "def Cari(Data,Target):\n",
    "    for i in Data:\n",
    "        if i > Target:\n",
    "            return i\n",
    "# ----------------------------------------------"
   ]
  },
  {
   "cell_type": "code",
   "execution_count": 7,
   "id": "1c462ddd",
   "metadata": {},
   "outputs": [],
   "source": [
    "#Mencari Jumlah Warga yang tinggi > 170 menggunakan binary search\n",
    "# ----------------------------------------------\n",
    "def binarysearch(data, target):\n",
    "    low = 0\n",
    "    high = len(data) - 1\n",
    "    while low <= high:\n",
    "        mid = (low + high)//2\n",
    "        if target < data[mid]:\n",
    "            high = mid - 1\n",
    "        elif target > data[mid]:\n",
    "            low = mid + 1\n",
    "        else:\n",
    "            return mid\n",
    "# ----------------------------------------------\n"
   ]
  },
  {
   "cell_type": "code",
   "execution_count": 10,
   "id": "d51aaa86",
   "metadata": {},
   "outputs": [
    {
     "name": "stdout",
     "output_type": "stream",
     "text": [
      "Total Warga 'Suka Maju Tanpa Mundur' Yang Lebih Dari 170 cm adalah 4 Orang\n",
      "\n"
     ]
    }
   ],
   "source": [
    "# ----------------------------------------------\n",
    "Tinggi_Kurang_170 = binarysearch(Tinggi,Cari(Tinggi,170))\n",
    "Banyak_Tinggi_Lebih_170 = len(Tinggi)-Tinggi_Kurang_170\n",
    "print (f\"Total Warga 'Suka Maju Tanpa Mundur' Yang Lebih Dari 170 cm adalah {Banyak_Tinggi_Lebih_170} Orang\")\n",
    "# ----------------------------------------------\n",
    "print(\"\")"
   ]
  },
  {
   "cell_type": "code",
   "execution_count": 7,
   "id": "c3035dd6",
   "metadata": {},
   "outputs": [
    {
     "name": "stdout",
     "output_type": "stream",
     "text": [
      "Jumlah Laki-Laki di Warga 'Suka Maju Tanpa Mundur' yang lebih dari 170 cm adalah 4 Orang\n",
      "\n"
     ]
    }
   ],
   "source": [
    "# ----------------------------------------------\n",
    "Pria_Array = np.array(df[(df['Gender'] == 'Male') & (df['Height'] > 170)])\n",
    "Banyak = 0\n",
    "for i in Pria_Array:\n",
    "    Banyak += 1\n",
    "print(f\"Jumlah Laki-Laki di Warga 'Suka Maju Tanpa Mundur' yang lebih dari 170 cm adalah {Banyak} Orang\")\n",
    "# ----------------------------------------------\n",
    "print(\"\")"
   ]
  },
  {
   "cell_type": "code",
   "execution_count": 8,
   "id": "29f7a53c",
   "metadata": {},
   "outputs": [
    {
     "name": "stdout",
     "output_type": "stream",
     "text": [
      "Jumlah Wanita di Warga 'Suka Maju Tanpa Mundur' yang lebih dari 170 cm adalah 0 Orang\n"
     ]
    }
   ],
   "source": [
    "# ----------------------------------------------\n",
    "Wanita_Array = np.array(df[(df['Gender'] == 'Female') & (df['Height'] > 170)])\n",
    "Banyak = 0\n",
    "for i in Wanita_Array:\n",
    "    Banyak += 1\n",
    "print(f\"Jumlah Wanita di Warga 'Suka Maju Tanpa Mundur' yang lebih dari 170 cm adalah {Banyak} Orang\")\n",
    "# ----------------------------------------------"
   ]
  },
  {
   "cell_type": "markdown",
   "id": "1fbf4529",
   "metadata": {},
   "source": [
    "# NOMOR 3"
   ]
  },
  {
   "cell_type": "code",
   "execution_count": 11,
   "id": "ad8de152",
   "metadata": {},
   "outputs": [],
   "source": [
    "import pandas as pd\n",
    "import numpy as np\n",
    "\n",
    "Data_Mahasiswa ={'NIM':[1206210001,1206210002,1206210003,1206210004,1206210005,\n",
    "             1206210006,1206210007,1206210008,1206210009,1206210010,\n",
    "             1206210011,1206210012,1206210013,1206210014,1206210015,\n",
    "             1206210016,1206210017,1206210018,1206210019,1206210020,\n",
    "             1206210021,1206210022,1206210023],\n",
    "      'Nama':['Tarisma Dwi Putri Alifianti','Irma Octavia Chaniago','Ayudya Nur Rahmadina',\n",
    "              'Thesion Marta Sianipar','Rahmat Sigit Hidayat','Farhan Nanda Prihamudi',\n",
    "              'Fikrie Hartanta Sembiring','Muhammad Sirojul Muttaqin','Rizal Rahman Rizkika',\n",
    "              'Halim Arif Cahyono','Rendika Nurhartanto Suharto','Senna Yoga Abira',\n",
    "              'Angel Tarigan','Ryanta Meylinda Savira','Miranthy Pramita Ningtyas',\n",
    "              'Avriono Aritonang','Inge Faradila Efaranti','Winalda Risky Febriyanti',\n",
    "              'Ananda Taqhsya Dwiyana','Astikhatul Mufaidah','Dida Ardzis Hanana',\n",
    "              'Annas Thasya Haafizhah Salsabiila','Febrian Farda Hasdikiyah'],\n",
    "      'Umur':[18, 19, 19, 19 ,18, 20, 18, 19, 19, 20,\n",
    "              17, 19, 19, 20 ,20, 19, 19, 20, 19, 18,\n",
    "              18, 19, 19],\n",
    "      'IPK':[3.55, 3.37, 3.85, 3.97 ,3.85, 3.55, 3.77, 3.80, 3.57 ,3.65,\n",
    "             3.65, 3.30, 3.80, 3.55 ,3.25, 3.35, 3.47, 3.65, 3.55 ,3.65,\n",
    "             3.15, 3.45, 3.50,]\n",
    "           }\n",
    "df = pd.DataFrame(Data_Mahasiswa)\n",
    "NIM = np.array(df['NIM'])"
   ]
  },
  {
   "cell_type": "code",
   "execution_count": 14,
   "id": "1d5f0f72",
   "metadata": {
    "scrolled": true
   },
   "outputs": [
    {
     "name": "stdout",
     "output_type": "stream",
     "text": [
      "NIM                    1206210007\n",
      "Nama    Fikrie Hartanta Sembiring\n",
      "Umur                           18\n",
      "IPK                          3.77\n",
      "Name: 6, dtype: object\n",
      "1.75 µs ± 21.6 ns per loop (mean ± std. dev. of 7 runs, 1,000,000 loops each)\n",
      "NIM                    1206210008\n",
      "Nama    Muhammad Sirojul Muttaqin\n",
      "Umur                           19\n",
      "IPK                           3.8\n",
      "Name: 7, dtype: object\n",
      "1.94 µs ± 15.2 ns per loop (mean ± std. dev. of 7 runs, 1,000,000 loops each)\n",
      "NIM        1206210013\n",
      "Nama    Angel Tarigan\n",
      "Umur               19\n",
      "IPK               3.8\n",
      "Name: 12, dtype: object\n",
      "2.91 µs ± 19.7 ns per loop (mean ± std. dev. of 7 runs, 100,000 loops each)\n",
      "NIM                      1206210001\n",
      "Nama    Tarisma Dwi Putri Alifianti\n",
      "Umur                             18\n",
      "IPK                            3.55\n",
      "Name: 0, dtype: object\n",
      "533 ns ± 7.48 ns per loop (mean ± std. dev. of 7 runs, 1,000,000 loops each)\n",
      "NIM        1206210013\n",
      "Nama    Angel Tarigan\n",
      "Umur               19\n",
      "IPK               3.8\n",
      "Name: 12, dtype: object\n",
      "2.94 µs ± 68.5 ns per loop (mean ± std. dev. of 7 runs, 100,000 loops each)\n"
     ]
    }
   ],
   "source": [
    "def Linear_Searching(Data, x):\n",
    "    n = len(Data)\n",
    "    for i in range(n):\n",
    "        if (Data[i] == x):\n",
    "            return i\n",
    "    return -1\n",
    "\n",
    "for i in range(5):\n",
    "    NIM_Random = np.random.randint(1206210001,1206210024)\n",
    "    NIM_Terpilih = Linear_Searching(NIM,NIM_Random)\n",
    "    if NIM_Terpilih != -1 :\n",
    "        print(df.iloc[NIM_Terpilih])\n",
    "    for i in range (1) :\n",
    "        Waktu = %timeit Linear_Searching(NIM,NIM_Random)"
   ]
  },
  {
   "cell_type": "code",
   "execution_count": 15,
   "id": "b0cef668",
   "metadata": {},
   "outputs": [
    {
     "name": "stdout",
     "output_type": "stream",
     "text": [
      "NIM                1206210002\n",
      "Nama    Irma Octavia Chaniago\n",
      "Umur                       19\n",
      "IPK                      3.37\n",
      "Name: 1, dtype: object\n",
      "2.44 µs ± 78.5 ns per loop (mean ± std. dev. of 7 runs, 100,000 loops each)\n",
      "NIM                            1206210022\n",
      "Nama    Annas Thasya Haafizhah Salsabiila\n",
      "Umur                                   19\n",
      "IPK                                  3.45\n",
      "Name: 21, dtype: object\n",
      "1.48 µs ± 4.97 ns per loop (mean ± std. dev. of 7 runs, 1,000,000 loops each)\n",
      "NIM                 1206210006\n",
      "Nama    Farhan Nanda Prihamudi\n",
      "Umur                        20\n",
      "IPK                       3.55\n",
      "Name: 5, dtype: object\n",
      "1.16 µs ± 14.6 ns per loop (mean ± std. dev. of 7 runs, 1,000,000 loops each)\n",
      "NIM             1206210021\n",
      "Nama    Dida Ardzis Hanana\n",
      "Umur                    18\n",
      "IPK                   3.15\n",
      "Name: 20, dtype: object\n",
      "1.22 µs ± 12.6 ns per loop (mean ± std. dev. of 7 runs, 1,000,000 loops each)\n",
      "NIM                      1206210011\n",
      "Nama    Rendika Nurhartanto Suharto\n",
      "Umur                             17\n",
      "IPK                            3.65\n",
      "Name: 10, dtype: object\n",
      "1.99 µs ± 23.6 ns per loop (mean ± std. dev. of 7 runs, 1,000,000 loops each)\n"
     ]
    }
   ],
   "source": [
    "def Binary_Searching (Data,x):\n",
    "    left = 0\n",
    "    right = len(Data)-1\n",
    "    mid = 0\n",
    "    while left <= right:\n",
    "        mid = (right+left)//2\n",
    "        if Data[mid] < x:\n",
    "            left = mid + 1\n",
    "        elif Data[mid] > x:\n",
    "            right = mid - 1\n",
    "        else:\n",
    "            return mid\n",
    "    return -1\n",
    "\n",
    "for i in range(5):\n",
    "    NIM_Random = np.random.randint(1206210001,1206210024)\n",
    "    NIM_Terpilih = Binary_Searching(NIM,NIM_Random)\n",
    "    if NIM_Terpilih != -1 :\n",
    "        print(df.iloc[NIM_Terpilih])\n",
    "    for i in range (1) :\n",
    "        Waktu = %timeit Binary_Searching(NIM,NIM_Random)"
   ]
  },
  {
   "cell_type": "markdown",
   "id": "8fa8de96",
   "metadata": {},
   "source": [
    "# Cara Lain Untuk Mencari Time Excution"
   ]
  },
  {
   "cell_type": "code",
   "execution_count": 11,
   "id": "8eaf4624",
   "metadata": {},
   "outputs": [
    {
     "name": "stdout",
     "output_type": "stream",
     "text": [
      "NIM                      1206210001\n",
      "Nama    Tarisma Dwi Putri Alifianti\n",
      "Umur                             18\n",
      "IPK                            3.55\n",
      "Name: 0, dtype: object\n",
      "NIM                 1206210017\n",
      "Nama    Inge Faradila Efaranti\n",
      "Umur                        19\n",
      "IPK                       3.47\n",
      "Name: 16, dtype: object\n",
      "NIM               1206210009\n",
      "Nama    Rizal Rahman Rizkika\n",
      "Umur                      19\n",
      "IPK                     3.57\n",
      "Name: 8, dtype: object\n",
      "NIM                 1206210004\n",
      "Nama    Thesion Marta Sianipar\n",
      "Umur                        19\n",
      "IPK                       3.97\n",
      "Name: 3, dtype: object\n",
      "NIM                      1206210001\n",
      "Nama    Tarisma Dwi Putri Alifianti\n",
      "Umur                             18\n",
      "IPK                            3.55\n",
      "Name: 0, dtype: object\n",
      "The time of execution of above program is : 0.0052728000000001884\n"
     ]
    }
   ],
   "source": [
    "\n",
    "# program to compute the time of\n",
    "# execution of any python code using timit\n",
    " \n",
    "# importing the required module\n",
    "import timeit\n",
    " \n",
    "# code snippet to be executed only once\n",
    "mysetup = \"from math import sqrt\"\n",
    " \n",
    "# code snippet whose execution time\n",
    "# is to be measured\n",
    "mycode = '''\n",
    "import pandas as pd\n",
    "import numpy as np\n",
    "\n",
    "Data_Mahasiswa ={'NIM':[1206210001,1206210002,1206210003,1206210004,1206210005,\n",
    "             1206210006,1206210007,1206210008,1206210009,1206210010,\n",
    "             1206210011,1206210012,1206210013,1206210014,1206210015,\n",
    "             1206210016,1206210017,1206210018,1206210019,1206210020,\n",
    "             1206210021,1206210022,1206210023],\n",
    "      'Nama':['Tarisma Dwi Putri Alifianti','Irma Octavia Chaniago','Ayudya Nur Rahmadina',\n",
    "              'Thesion Marta Sianipar','Rahmat Sigit Hidayat','Farhan Nanda Prihamudi',\n",
    "              'Fikrie Hartanta Sembiring','Muhammad Sirojul Muttaqin','Rizal Rahman Rizkika',\n",
    "              'Halim Arif Cahyono','Rendika Nurhartanto Suharto','Senna Yoga Abira',\n",
    "              'Angel Tarigan','Ryanta Meylinda Savira','Miranthy Pramita Ningtyas',\n",
    "              'Avriono Aritonang','Inge Faradila Efaranti','Winalda Risky Febriyanti',\n",
    "              'Ananda Taqhsya Dwiyana','Astikhatul Mufaidah','Dida Ardzis Hanana',\n",
    "              'Annas Thasya Haafizhah Salsabiila','Febrian Farda Hasdikiyah'],\n",
    "      'Umur':[18, 19, 19, 19 ,18, 20, 18, 19, 19, 20,\n",
    "              17, 19, 19, 20 ,20, 19, 19, 20, 19, 18,\n",
    "              18, 19, 19],\n",
    "      'IPK':[3.55, 3.37, 3.85, 3.97 ,3.85, 3.55, 3.77, 3.80, 3.57 ,3.65,\n",
    "             3.65, 3.30, 3.80, 3.55 ,3.25, 3.35, 3.47, 3.65, 3.55 ,3.65,\n",
    "             3.15, 3.45, 3.50,]\n",
    "           }\n",
    "df = pd.DataFrame(Data_Mahasiswa)\n",
    "NIM = np.array(df['NIM'])\n",
    "\n",
    "def Linear_Searching(Data, x):\n",
    "    n = len(Data)\n",
    "    for i in range(n):\n",
    "        if (Data[i] == x):\n",
    "            return i\n",
    "    return -1\n",
    "\n",
    "for i in range(5):\n",
    "    NIM_Random = np.random.randint(1206210001,1206210024)\n",
    "    NIM_Terpilih = Linear_Searching(NIM,NIM_Random)\n",
    "    if NIM_Terpilih != -1 :\n",
    "        print(df.iloc[NIM_Terpilih])\n",
    "'''\n",
    " \n",
    "# timeit statement\n",
    "print (\"The time of execution of above program is :\",\n",
    "       timeit.timeit(setup = mysetup,\n",
    "                    stmt = mycode,\n",
    "                    number = 1,))"
   ]
  },
  {
   "cell_type": "code",
   "execution_count": 12,
   "id": "f529ddd7",
   "metadata": {},
   "outputs": [
    {
     "name": "stdout",
     "output_type": "stream",
     "text": [
      "The time of execution of above program is : 27.985584497451782\n"
     ]
    }
   ],
   "source": [
    "# program to compute the time\n",
    "# of execution of any python code\n",
    "import time\n",
    " \n",
    "# we initialize the variable start\n",
    "# to store the starting time of\n",
    "# execution of program\n",
    "start = time.time()\n",
    " \n",
    "# we can take any program but for\n",
    "# example we have taken the below\n",
    "# program\n",
    "a = 0\n",
    "for i in range(10000000):\n",
    "    a += (i**100)\n",
    " \n",
    "# now we have initialized the variable\n",
    "# end to store the ending time after\n",
    "# execution of program\n",
    "end = time.time()\n",
    " \n",
    "# difference of start and end variables\n",
    "# gives the time of execution of the\n",
    "# program in between\n",
    "print(\"The time of execution of above program is :\", end-start)"
   ]
  },
  {
   "cell_type": "code",
   "execution_count": 13,
   "id": "e5d3f994",
   "metadata": {},
   "outputs": [
    {
     "name": "stdout",
     "output_type": "stream",
     "text": [
      "The time of execution of above program is : 0.0010130000000003747\n"
     ]
    }
   ],
   "source": [
    "\n",
    "# program to compute the time of\n",
    "# execution of any python code using timit\n",
    " \n",
    "# importing the required module\n",
    "import timeit\n",
    " \n",
    "# code snippet to be executed only once\n",
    "mysetup = \"from math import sqrt\"\n",
    " \n",
    "# code snippet whose execution time\n",
    "# is to be measured\n",
    "mycode = '''\n",
    "def example():\n",
    "    mylist = []\n",
    "    for x in range(100):\n",
    "        mylist.append(sqrt(x))\n",
    "'''\n",
    " \n",
    "# timeit statement\n",
    "print (\"The time of execution of above program is :\",\n",
    "       timeit.timeit(setup = mysetup,\n",
    "                    stmt = mycode,\n",
    "                    number = 10000))"
   ]
  },
  {
   "cell_type": "code",
   "execution_count": 14,
   "id": "c6e55627",
   "metadata": {},
   "outputs": [
    {
     "data": {
      "text/plain": [
       "0.28497909999998683"
      ]
     },
     "execution_count": 14,
     "metadata": {},
     "output_type": "execute_result"
    }
   ],
   "source": [
    "from timeit import timeit\n",
    "timeit(\"\"\"\n",
    "import pandas as pd\n",
    "import numpy as np\n",
    "\"\"\")"
   ]
  },
  {
   "cell_type": "code",
   "execution_count": null,
   "id": "755f150f",
   "metadata": {},
   "outputs": [],
   "source": []
  },
  {
   "cell_type": "code",
   "execution_count": null,
   "id": "d4e155a1",
   "metadata": {},
   "outputs": [],
   "source": []
  },
  {
   "cell_type": "code",
   "execution_count": null,
   "id": "43704b60",
   "metadata": {},
   "outputs": [],
   "source": []
  }
 ],
 "metadata": {
  "kernelspec": {
   "display_name": "Python 3 (ipykernel)",
   "language": "python",
   "name": "python3"
  },
  "language_info": {
   "codemirror_mode": {
    "name": "ipython",
    "version": 3
   },
   "file_extension": ".py",
   "mimetype": "text/x-python",
   "name": "python",
   "nbconvert_exporter": "python",
   "pygments_lexer": "ipython3",
   "version": "3.8.12"
  }
 },
 "nbformat": 4,
 "nbformat_minor": 5
}

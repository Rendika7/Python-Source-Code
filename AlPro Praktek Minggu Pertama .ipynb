{
 "cells": [
  {
   "cell_type": "code",
   "execution_count": null,
   "id": "1aadf726",
   "metadata": {},
   "outputs": [],
   "source": [
    "#Luas Persegi\n",
    "def Luas_Persegi():\n",
    "    SisiPersegi = int(input('Masukkan Sisi : '))\n",
    "    LuasPersegi = SisiPersegi*SisiPersegi\n",
    "    print(LuasPersegi)"
   ]
  },
  {
   "cell_type": "code",
   "execution_count": null,
   "id": "4e6dbc03",
   "metadata": {},
   "outputs": [],
   "source": [
    "#Keliling Persegi\n",
    "def Keliling_Persegi():\n",
    "    PanjangSisi = int(input(\"Masukkan Panjang : \"))\n",
    "    KelilingPersegi = 4*PanjangSisi\n",
    "    print(KelilingPersegi)"
   ]
  },
  {
   "cell_type": "code",
   "execution_count": null,
   "id": "d6d15714",
   "metadata": {},
   "outputs": [],
   "source": [
    "input(\"Pilih Keliling_Persegi atau Luas_Persegi : \")\n",
    "\n",
    "if input == Keliling_Persegi:\n",
    "    def Keliling_Persegi()\n",
    "    else:\n",
    "        def Luas_Persegi()"
   ]
  },
  {
   "cell_type": "code",
   "execution_count": null,
   "id": "88f09d5d",
   "metadata": {},
   "outputs": [],
   "source": [
    "Keliling_Persegi()"
   ]
  },
  {
   "cell_type": "code",
   "execution_count": null,
   "id": "8b7ffd69",
   "metadata": {},
   "outputs": [],
   "source": [
    "Luas_Persegi()"
   ]
  }
 ],
 "metadata": {
  "kernelspec": {
   "display_name": "Python 3",
   "language": "python",
   "name": "python3"
  },
  "language_info": {
   "codemirror_mode": {
    "name": "ipython",
    "version": 3
   },
   "file_extension": ".py",
   "mimetype": "text/x-python",
   "name": "python",
   "nbconvert_exporter": "python",
   "pygments_lexer": "ipython3",
   "version": "3.8.8"
  }
 },
 "nbformat": 4,
 "nbformat_minor": 5
}

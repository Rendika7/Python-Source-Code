{
 "cells": [
  {
   "cell_type": "code",
   "execution_count": 34,
   "id": "2bf1921e",
   "metadata": {},
   "outputs": [
    {
     "name": "stdout",
     "output_type": "stream",
     "text": [
      "No  \tNama  \t \t \t \tNim\n",
      "1  \tAmalia Nur Alifah  \t \t20940044\n",
      "2  \tRendika Nurhartanto Suharto  \t1206210011\n"
     ]
    }
   ],
   "source": [
    "print('No ',\"\\t\",end=\"\")\n",
    "print(\"Nama \",\"\\t\",\"\\t\",\"\\t\",\"\\t\", end=\"\")\n",
    "print(\"Nim\")\n",
    "\n",
    "print('1 ',\"\\t\",end=\"\")\n",
    "print(\"Amalia Nur Alifah \",\"\\t\",\"\\t\", end=\"\")\n",
    "print(\"20940044\")\n",
    "\n",
    "print('2 ',\"\\t\", end=\"\")\n",
    "print(\"Rendika Nurhartanto Suharto \",\"\\t\",end=\"\")\n",
    "print(\"1206210011\")"
   ]
  },
  {
   "cell_type": "code",
   "execution_count": 37,
   "id": "332d564c",
   "metadata": {},
   "outputs": [
    {
     "data": {
      "text/plain": [
       "True"
      ]
     },
     "execution_count": 37,
     "metadata": {},
     "output_type": "execute_result"
    }
   ],
   "source": [
    "a = \"\"                                     \n",
    "type(a)\n",
    "bool(a)"
   ]
  },
  {
   "cell_type": "code",
   "execution_count": 46,
   "id": "984980dd",
   "metadata": {},
   "outputs": [],
   "source": [
    "a = 9 // 2 #Bernilai Floor\n",
    "b = 11//3 "
   ]
  },
  {
   "cell_type": "code",
   "execution_count": 47,
   "id": "ca69f37c",
   "metadata": {},
   "outputs": [
    {
     "name": "stdout",
     "output_type": "stream",
     "text": [
      "4 3\n"
     ]
    }
   ],
   "source": [
    "print (a,b)"
   ]
  },
  {
   "cell_type": "code",
   "execution_count": 51,
   "id": "41f26f25",
   "metadata": {},
   "outputs": [
    {
     "data": {
      "text/plain": [
       "int"
      ]
     },
     "execution_count": 51,
     "metadata": {},
     "output_type": "execute_result"
    }
   ],
   "source": [
    "a = 100\n",
    "a = int()\n",
    "type(a)"
   ]
  },
  {
   "cell_type": "code",
   "execution_count": null,
   "id": "6575dd86",
   "metadata": {},
   "outputs": [],
   "source": [
    "Nama_1 = input('Masukkan Nama Orang 1 : ')\n",
    "Umur_2 = int(input('Masukkan Umur Orang 1 : '))\n",
    "Nama_1 = input('Masukkan Nama Orang 2 : ')\n",
    "Umur_2 = int(input('Masukkan Umur Orang 2 : '))\n",
    "Selisih = Umur_1 - Umur_2\n",
    "print (\"Selisih umur\", Nama_1,\" dan \", Nama_2, \"adalah \",abs (Selisih))"
   ]
  },
  {
   "cell_type": "code",
   "execution_count": null,
   "id": "a65dcfbd",
   "metadata": {},
   "outputs": [],
   "source": []
  }
 ],
 "metadata": {
  "kernelspec": {
   "display_name": "Python 3",
   "language": "python",
   "name": "python3"
  },
  "language_info": {
   "codemirror_mode": {
    "name": "ipython",
    "version": 3
   },
   "file_extension": ".py",
   "mimetype": "text/x-python",
   "name": "python",
   "nbconvert_exporter": "python",
   "pygments_lexer": "ipython3",
   "version": "3.8.8"
  }
 },
 "nbformat": 4,
 "nbformat_minor": 5
}

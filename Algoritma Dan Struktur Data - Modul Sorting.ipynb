{
 "cells": [
  {
   "cell_type": "code",
   "execution_count": 2,
   "id": "372220b0",
   "metadata": {},
   "outputs": [
    {
     "name": "stdout",
     "output_type": "stream",
     "text": [
      "['Rendika', 'Nurhartanto', 'Suharto', 1206210011]\n"
     ]
    }
   ],
   "source": [
    "Contoh_List = [\"Rendika\",\"Nurhartanto\",\"Suharto\",1206210011]\n",
    "print(Contoh_List)"
   ]
  },
  {
   "cell_type": "code",
   "execution_count": 15,
   "id": "890aabf8",
   "metadata": {},
   "outputs": [
    {
     "name": "stdout",
     "output_type": "stream",
     "text": [
      "array('i', [1206210011, 22, 10, 2003])\n"
     ]
    }
   ],
   "source": [
    "import array as arr\n",
    "Contoh_Array = arr.array ('i', [1206210011,22,10,2003])\n",
    "print(Contoh_Array)"
   ]
  },
  {
   "cell_type": "code",
   "execution_count": 12,
   "id": "2dd46eda",
   "metadata": {},
   "outputs": [
    {
     "name": "stdout",
     "output_type": "stream",
     "text": [
      "[1 2 3 4 5]\n"
     ]
    }
   ],
   "source": [
    "import numpy as np\n",
    "Contoh_Array_2 = np.array([1,2,3,4,5])\n",
    "print(Contoh_Array_2)"
   ]
  },
  {
   "cell_type": "code",
   "execution_count": 30,
   "id": "c8a53dd1",
   "metadata": {},
   "outputs": [
    {
     "data": {
      "text/html": [
       "<div>\n",
       "<style scoped>\n",
       "    .dataframe tbody tr th:only-of-type {\n",
       "        vertical-align: middle;\n",
       "    }\n",
       "\n",
       "    .dataframe tbody tr th {\n",
       "        vertical-align: top;\n",
       "    }\n",
       "\n",
       "    .dataframe thead th {\n",
       "        text-align: right;\n",
       "    }\n",
       "</style>\n",
       "<table border=\"1\" class=\"dataframe\">\n",
       "  <thead>\n",
       "    <tr style=\"text-align: right;\">\n",
       "      <th></th>\n",
       "      <th>Nama</th>\n",
       "      <th>Sex</th>\n",
       "      <th>Status</th>\n",
       "    </tr>\n",
       "  </thead>\n",
       "  <tbody>\n",
       "    <tr>\n",
       "      <th>One</th>\n",
       "      <td>Rendika</td>\n",
       "      <td>Laki-laki</td>\n",
       "      <td>Menikah</td>\n",
       "    </tr>\n",
       "    <tr>\n",
       "      <th>Two</th>\n",
       "      <td>Bae Suzy</td>\n",
       "      <td>Perempuan</td>\n",
       "      <td>Menikah</td>\n",
       "    </tr>\n",
       "    <tr>\n",
       "      <th>Three</th>\n",
       "      <td>Shin Min A</td>\n",
       "      <td>Perempuan</td>\n",
       "      <td>Single</td>\n",
       "    </tr>\n",
       "    <tr>\n",
       "      <th>Four</th>\n",
       "      <td>Song Hye Kyo</td>\n",
       "      <td>Perempuan</td>\n",
       "      <td>Single</td>\n",
       "    </tr>\n",
       "  </tbody>\n",
       "</table>\n",
       "</div>"
      ],
      "text/plain": [
       "               Nama        Sex   Status\n",
       "One         Rendika  Laki-laki  Menikah\n",
       "Two        Bae Suzy  Perempuan  Menikah\n",
       "Three    Shin Min A  Perempuan   Single\n",
       "Four   Song Hye Kyo  Perempuan   Single"
      ]
     },
     "execution_count": 30,
     "metadata": {},
     "output_type": "execute_result"
    }
   ],
   "source": [
    "import pandas as pd\n",
    "Dict = {'Nama' : ['Rendika', 'Bae Suzy', 'Shin Min A', 'Song Hye Kyo'], \n",
    "        'Sex' : ['Laki-laki','Perempuan','Perempuan','Perempuan'], \n",
    "        'Status' : ['Menikah','Menikah','Single','Single']}\n",
    "\n",
    "df = pd.DataFrame(Dict,index = [\"One\",\"Two\",\"Three\",\"Four\"])\n",
    "df"
   ]
  },
  {
   "cell_type": "code",
   "execution_count": 7,
   "id": "40ac98aa",
   "metadata": {},
   "outputs": [
    {
     "data": {
      "text/plain": [
       "[1, 2, 3, 4, 5, 6]"
      ]
     },
     "execution_count": 7,
     "metadata": {},
     "output_type": "execute_result"
    }
   ],
   "source": [
    "def SelectionSort(data):\n",
    "  n=len(data)\n",
    "  for i in range(n-1):\n",
    "    minValueIndex=i\n",
    "\n",
    "    for j in range(i+1, n):\n",
    "      if data[j]<data[minValueIndex]:\n",
    "        minValueIndex=j\n",
    "\n",
    "    if minValueIndex != i :\n",
    "      temp=data[i]\n",
    "      data[i]=data[minValueIndex]\n",
    "      data[minValueIndex]=temp\n",
    "  return data\n",
    "\n",
    "List = [5,2,4,6,1,3]\n",
    "SelectionSort(List)"
   ]
  },
  {
   "cell_type": "code",
   "execution_count": 16,
   "id": "3c131e69",
   "metadata": {},
   "outputs": [
    {
     "name": "stdout",
     "output_type": "stream",
     "text": [
      "[1, 3, 5, 6, 2, 4, 7, 8]\n"
     ]
    }
   ],
   "source": [
    "def MergeSort(Data):\n",
    "  if len(Data)>1:\n",
    "    mid = len(Data)//2\n",
    "    lefthalf = Data[:mid]\n",
    "    righthalf = Data[mid:]\n",
    "    mergeSort(lefthalf)\n",
    "    mergeSort(righthalf)\n",
    "    i=j=k=0\n",
    "    while i<len(lefthalf) and j<len(righthalf):\n",
    "      if lefthalf[i]<righthalf[i]:\n",
    "        Data[k] = lefthalf[i]\n",
    "        i=i+1\n",
    "      else:\n",
    "        Data[k]=righthalf[j]\n",
    "        j=j+1\n",
    "      k=k+1\n",
    "    while i < len(lefthalf):\n",
    "      Data[k]=lefthalf[i]\n",
    "      i = i+1\n",
    "      k = k+1\n",
    "    while j<len(righthalf):\n",
    "      Data[k]=righthalf[j]\n",
    "      j = j+1\n",
    "      k=k+1\n",
    "\n",
    "Data=[6,5,3,1,8,7,2,4]\n",
    "mergeSort(Data)\n",
    "print(Data)"
   ]
  },
  {
   "cell_type": "code",
   "execution_count": 12,
   "id": "0dc45abf",
   "metadata": {},
   "outputs": [
    {
     "name": "stdout",
     "output_type": "stream",
     "text": [
      "Sorted:\n",
      "[10, 14, 19, 26, 27, 31, 33, 35, 42, 44]\n"
     ]
    }
   ],
   "source": [
    "def Partition(Data, low, high):\n",
    "  i = (low-1)\n",
    "  pivot = Data[high]\n",
    "\n",
    "  for j in range(low, high):\n",
    "    if Data[j] <= pivot:\n",
    "      i += 1\n",
    "      Data[i], Data[j] = Data[j], Data[i]\n",
    "  Data[i+1], Data[high] = Data[high], Data[i+1]\n",
    "  return (i+1)\n",
    "\n",
    "def QuickSort(Data,low,high):\n",
    "  if len(Data) == 1:\n",
    "    return Data\n",
    "  if low < high:\n",
    "    pi = Partition(Data,low,high)\n",
    "    QuickSort(Data,low,pi-1)\n",
    "    QuickSort(Data,pi+1,high)\n",
    "\n",
    "Data = [35, 33, 42, 10, 14, 19, 27, 44, 26, 31]\n",
    "n = len(Data)\n",
    "QuickSort(Data,0,n-1)\n",
    "print(\"Sorted:\")\n",
    "print(Data)"
   ]
  },
  {
   "cell_type": "code",
   "execution_count": null,
   "id": "5bdcf433",
   "metadata": {},
   "outputs": [],
   "source": []
  }
 ],
 "metadata": {
  "kernelspec": {
   "display_name": "Python 3 (ipykernel)",
   "language": "python",
   "name": "python3"
  },
  "language_info": {
   "codemirror_mode": {
    "name": "ipython",
    "version": 3
   },
   "file_extension": ".py",
   "mimetype": "text/x-python",
   "name": "python",
   "nbconvert_exporter": "python",
   "pygments_lexer": "ipython3",
   "version": "3.8.12"
  }
 },
 "nbformat": 4,
 "nbformat_minor": 5
}

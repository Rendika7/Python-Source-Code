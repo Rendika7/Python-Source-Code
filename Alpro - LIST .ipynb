{
 "cells": [
  {
   "cell_type": "code",
   "execution_count": 4,
   "id": "828e8929",
   "metadata": {},
   "outputs": [
    {
     "name": "stdout",
     "output_type": "stream",
     "text": [
      "['Rendika', 'Irma', 'Thesi', 'Sigit']\n"
     ]
    }
   ],
   "source": [
    "#List\n",
    "\n",
    "MyList = [\"Rendika\", \"Irma\", \"Thesi\", \"Sigit\"]\n",
    "print (MyList)"
   ]
  },
  {
   "cell_type": "code",
   "execution_count": 5,
   "id": "795c4fc2",
   "metadata": {},
   "outputs": [],
   "source": [
    "#List - Append\n",
    "\n",
    "MyList.append (\"Mahasiswa - Lama\")"
   ]
  },
  {
   "cell_type": "code",
   "execution_count": 7,
   "id": "4cf23607",
   "metadata": {},
   "outputs": [
    {
     "name": "stdout",
     "output_type": "stream",
     "text": [
      "['Rendika', 'Irma', 'Thesi', 'Sigit', 'Mahasiswa - Lama']\n"
     ]
    }
   ],
   "source": [
    "print(MyList)"
   ]
  },
  {
   "cell_type": "code",
   "execution_count": 8,
   "id": "93c52e86",
   "metadata": {},
   "outputs": [],
   "source": [
    "#Mengubah Isi List\n",
    "\n",
    "MyList[4] = \"Mahasiswa - Baru\""
   ]
  },
  {
   "cell_type": "code",
   "execution_count": 9,
   "id": "28c18abc",
   "metadata": {},
   "outputs": [
    {
     "name": "stdout",
     "output_type": "stream",
     "text": [
      "['Rendika', 'Irma', 'Thesi', 'Sigit', 'Mahasiswa - Baru']\n"
     ]
    }
   ],
   "source": [
    "print(MyList)"
   ]
  },
  {
   "cell_type": "code",
   "execution_count": 10,
   "id": "ceb31102",
   "metadata": {},
   "outputs": [],
   "source": [
    "MyTuple = (\"Madura\", \"Medan\" ,\"Lupa\",\"Surabaya\")"
   ]
  },
  {
   "cell_type": "code",
   "execution_count": 11,
   "id": "5910db0d",
   "metadata": {},
   "outputs": [],
   "source": [
    "MyList.append(MyTuple)"
   ]
  },
  {
   "cell_type": "code",
   "execution_count": 13,
   "id": "6e0c9b13",
   "metadata": {},
   "outputs": [
    {
     "name": "stdout",
     "output_type": "stream",
     "text": [
      "['Rendika', 'Irma', 'Thesi', 'Sigit', 'Mahasiswa - Baru', ('Madura', 'Medan', 'Lupa', 'Surabaya')]\n"
     ]
    }
   ],
   "source": [
    "print(MyList)"
   ]
  },
  {
   "cell_type": "code",
   "execution_count": 25,
   "id": "f82ff307",
   "metadata": {},
   "outputs": [
    {
     "name": "stdout",
     "output_type": "stream",
     "text": [
      "False\n",
      "True\n",
      "True\n",
      "False\n"
     ]
    }
   ],
   "source": [
    "#AND\n",
    "print (True and True and False)\n",
    "\n",
    "#OR\n",
    "print (False or True or False)\n",
    "\n",
    "#NOT\n",
    "print (not False)\n",
    "\n",
    "print (not True)"
   ]
  },
  {
   "cell_type": "code",
   "execution_count": 28,
   "id": "50e24225",
   "metadata": {},
   "outputs": [
    {
     "name": "stdout",
     "output_type": "stream",
     "text": [
      "5\n"
     ]
    }
   ],
   "source": [
    "a = 2\n",
    "a +=3\n",
    "print (a)"
   ]
  },
  {
   "cell_type": "code",
   "execution_count": 38,
   "id": "524a1dfe",
   "metadata": {},
   "outputs": [
    {
     "name": "stdout",
     "output_type": "stream",
     "text": [
      "Cowok\n",
      "Cewek\n",
      "Cowok\n",
      "Cewek\n",
      "Cewek\n"
     ]
    }
   ],
   "source": [
    "#Dictionary\n",
    "\n",
    "Dict_1 = {\"Rendika\": \"Cowok\", \"Thesi\" : \"Cewek\", \"Sigit\" : \"Cowok\", \"Irma\" : \"Cewek\", \"Alda\" : \"Cewek\"}\n",
    "print(Dict_1[\"Rendika\"])\n",
    "print(Dict_1[\"Thesi\"])\n",
    "print(Dict_1[\"Sigit\"])\n",
    "print(Dict_1[\"Irma\"])\n",
    "print(Dict_1[\"Alda\"])"
   ]
  },
  {
   "cell_type": "code",
   "execution_count": null,
   "id": "2994e287",
   "metadata": {},
   "outputs": [],
   "source": []
  }
 ],
 "metadata": {
  "kernelspec": {
   "display_name": "Python 3",
   "language": "python",
   "name": "python3"
  },
  "language_info": {
   "codemirror_mode": {
    "name": "ipython",
    "version": 3
   },
   "file_extension": ".py",
   "mimetype": "text/x-python",
   "name": "python",
   "nbconvert_exporter": "python",
   "pygments_lexer": "ipython3",
   "version": "3.8.8"
  }
 },
 "nbformat": 4,
 "nbformat_minor": 5
}

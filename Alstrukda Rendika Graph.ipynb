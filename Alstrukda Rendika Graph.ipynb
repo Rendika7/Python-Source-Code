{
 "cells": [
  {
   "cell_type": "markdown",
   "id": "d6c8cc13",
   "metadata": {},
   "source": [
    "# Make Dictionary For The Route Of City"
   ]
  },
  {
   "cell_type": "code",
   "execution_count": 1,
   "id": "8ed46cf1",
   "metadata": {},
   "outputs": [],
   "source": [
    "GRAPH = {\n",
    "    \"A\" : {\n",
    "        \"B\" : 100000,\n",
    "        \"C\" : 150000,\n",
    "        \"F\" : 50000\n",
    "    },\n",
    "    \"B\" : {\n",
    "        \"C\" : 70000\n",
    "    },\n",
    "    \"C\" : {\n",
    "        \"D\" : 70000,\n",
    "        \"F\" : 100000\n",
    "    },\n",
    "    \"D\" : {\n",
    "        \"E\" : 70000\n",
    "    },\n",
    "    \"F\" : {\n",
    "        \"D\" : 50000\n",
    "    },\n",
    "    \"E\" : {\n",
    "        \"F\" : 13000\n",
    "    }\n",
    "}"
   ]
  },
  {
   "cell_type": "markdown",
   "id": "a42c83a0",
   "metadata": {},
   "source": [
    "# Make Function Needed"
   ]
  },
  {
   "cell_type": "code",
   "execution_count": 2,
   "id": "bb84a3c0",
   "metadata": {},
   "outputs": [],
   "source": [
    "def AllRoute(Graph, First, Last, Path=[]):\n",
    "    Path = Path + [First]\n",
    "    if First == Last:\n",
    "        return [Path]\n",
    "    if not First in Graph:\n",
    "        return []\n",
    "    Paths=[]\n",
    "    for Node in Graph[First]:\n",
    "        if not Node in Path:\n",
    "            Newpaths = AllRoute(Graph, Node, Last, Path)\n",
    "            for Newpath in Newpaths:\n",
    "                Paths.append(Newpath)\n",
    "    return Paths\n",
    "\n",
    "def TotalPrice(Data):\n",
    "    Price=[]\n",
    "    for i in range(len(Data)-1):\n",
    "        Price.append(GRAPH[Data[i]][Data[i+1]])\n",
    "    Total=0\n",
    "    for i in Price:\n",
    "        Total+=i\n",
    "    return Total\n",
    "\n",
    "def ShowRute(Data,a,b):\n",
    "    print('\\nRESULT','--'*10,\n",
    "          '\\n\\n Cheapest route found from the city',\n",
    "          a,'to',b,'is :')\n",
    "    for i in range(len(Data)-1):\n",
    "        print('City',Data[i],\"---> \",end='')\n",
    "    print('City',Data[len(Data)-1])\n",
    "    print('-'*70)\n",
    "\n",
    "def Cheapest(Rute):\n",
    "    print('='*30,'RUTE GENERATOR IS RUNNING','='*30,'\\n')\n",
    "    Asal=input('Please enter your hometown : ')\n",
    "    Tujuan=input('Please enter the destination city : ')\n",
    "    Cheapest=[]\n",
    "    RutePrice={}\n",
    "    if len(AllRoute(Rute,Asal,Tujuan)) == 0:\n",
    "        print(\"\\n!!! Sorry, route not found !!!\\n\")\n",
    "    else:\n",
    "        for i in AllRoute(Rute,Asal,Tujuan):\n",
    "            RutePrice[TotalPrice(i)]=i\n",
    "            Cheapest.append(TotalPrice(i))\n",
    "        Cheapest.sort()\n",
    "        ShowRute(RutePrice[Cheapest[0]], Asal, Tujuan)\n",
    "        print('Dengan total harga tiket sejumlah RP.', Cheapest[0])\n",
    "\n"
   ]
  },
  {
   "cell_type": "code",
   "execution_count": 3,
   "id": "c576962d",
   "metadata": {},
   "outputs": [
    {
     "name": "stdout",
     "output_type": "stream",
     "text": [
      "============================== RUTE GENERATOR IS RUNNING ============================== \n",
      "\n",
      "Please enter your hometown : A\n",
      "Please enter the destination city : E\n",
      "\n",
      "RESULT -------------------- \n",
      "\n",
      " Cheapest route found from the city A to E is :\n",
      "City A ---> City F ---> City D ---> City E\n",
      "----------------------------------------------------------------------\n",
      "Dengan total harga tiket sejumlah RP. 170000\n",
      "Do you want to find another route?? : [Y/N] \n",
      "N\n",
      "\n",
      "\n",
      " ありがとう、素敵な旅を(Arigatō, sutekina tabi o)\n"
     ]
    }
   ],
   "source": [
    "while True:\n",
    "    Cheapest(GRAPH)\n",
    "    Looping =input('Do you want to find another route?? : [Y/N] \\n')\n",
    "    if Looping != 'Y' or 'y':\n",
    "        print('\\n\\n ありがとう、素敵な旅を(Arigatō, sutekina tabi o)')\n",
    "        break"
   ]
  },
  {
   "cell_type": "code",
   "execution_count": null,
   "id": "82de9f31",
   "metadata": {},
   "outputs": [],
   "source": []
  }
 ],
 "metadata": {
  "kernelspec": {
   "display_name": "Python 3 (ipykernel)",
   "language": "python",
   "name": "python3"
  },
  "language_info": {
   "codemirror_mode": {
    "name": "ipython",
    "version": 3
   },
   "file_extension": ".py",
   "mimetype": "text/x-python",
   "name": "python",
   "nbconvert_exporter": "python",
   "pygments_lexer": "ipython3",
   "version": "3.8.12"
  }
 },
 "nbformat": 4,
 "nbformat_minor": 5
}

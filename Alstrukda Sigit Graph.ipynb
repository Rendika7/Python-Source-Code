{
 "cells": [
  {
   "cell_type": "markdown",
   "id": "919c329f",
   "metadata": {},
   "source": [
    "# DEKLARASI FUNGSI"
   ]
  },
  {
   "cell_type": "markdown",
   "id": "90f2d3f3",
   "metadata": {},
   "source": [
    "Mendeklarasi fungsi yang akan digunakan pada program terlebih dahulu,\n",
    "mulai dari fungsi untuk mencari semua kemungkinan rute; fungsi untuk mencari total harga per rute; dan fungsi utama sekaligus fungsi untuk mencari rute dengan harga termurah"
   ]
  },
  {
   "cell_type": "code",
   "execution_count": 1,
   "id": "bb84a3c0",
   "metadata": {},
   "outputs": [],
   "source": [
    "def allroute(graf,awal,akhir,path=[]):\n",
    "    path=path+[awal]\n",
    "    if awal==akhir:\n",
    "        return [path]\n",
    "    if not awal in graf:\n",
    "        return []\n",
    "    paths=[]\n",
    "    for node in graf[awal]:\n",
    "        if not node in path:\n",
    "            newpaths=allroute(graf,node,akhir,path)\n",
    "            for newpath in newpaths:\n",
    "                paths.append(newpath)\n",
    "    return paths\n",
    "\n",
    "def totalharga(data):\n",
    "    harga=[]\n",
    "    for i in range(len(data)-1):\n",
    "        harga.append(rute[data[i]][data[i+1]])\n",
    "    total=0\n",
    "    for i in harga:\n",
    "        total+=i\n",
    "    return total\n",
    "\n",
    "def showrute(data,a,b):\n",
    "    print('\\nRESULT','> >'*10,\n",
    "          '\\n\\nRute termurah yang ditemukan dari Kota',\n",
    "          a,'ke Kota',b,'adalah :')\n",
    "    for i in range(len(data)-1):\n",
    "        print('Kota',data[i],\">>> \",end='')\n",
    "    print('Kota',data[len(data)-1])\n",
    "    print('-'*70)\n",
    "\n",
    "def carimurah(rute):\n",
    "    print('='*30,'CHEAPEST ROUTE SEEKER','='*30,'\\n')\n",
    "    asal=input('Silahkan masukkan kota asal : ')\n",
    "    tujuan=input('Silahkan masukkan kota tujuan : ')\n",
    "    murah=[]\n",
    "    hargarute={}\n",
    "    if len(allroute(rute,asal,tujuan))==0:\n",
    "        print(\"\\nxx Maaf, rute tidak ditemukan xx\\n\")\n",
    "    else:\n",
    "        for i in allroute(rute,asal,tujuan):\n",
    "            hargarute[totalharga(i)]=i\n",
    "            murah.append(totalharga(i))\n",
    "        murah.sort()\n",
    "        showrute(hargarute[murah[0]],asal,tujuan)\n",
    "        print('Dengan total harga tiket sejumlah RP',murah[0])\n",
    "\n"
   ]
  },
  {
   "cell_type": "markdown",
   "id": "9f500bf8",
   "metadata": {},
   "source": [
    "# DEKLARASI DICTIONARY"
   ]
  },
  {
   "cell_type": "markdown",
   "id": "00626f77",
   "metadata": {},
   "source": [
    "Mendeklarasikan tabel rute dan harganya"
   ]
  },
  {
   "cell_type": "code",
   "execution_count": 2,
   "id": "8ed46cf1",
   "metadata": {},
   "outputs": [],
   "source": [
    "rute={'A':{'B':100000,\n",
    "                  'C':150000,\n",
    "                  'F':50000},\n",
    "             'B':{'C':70000},\n",
    "             'C':{'D':70000,\n",
    "                  'F':100000},\n",
    "             'D':{'E':70000},\n",
    "             'E':{'F':50000},\n",
    "             'F':{'D':13000}}"
   ]
  },
  {
   "cell_type": "markdown",
   "id": "63ff303e",
   "metadata": {},
   "source": [
    "# PROGRAM UTAMA"
   ]
  },
  {
   "cell_type": "markdown",
   "id": "57bdd50e",
   "metadata": {},
   "source": [
    "Berisi pemanggilan fungsi utama. Input user dan output dari program akan muncul pada bagian ini."
   ]
  },
  {
   "cell_type": "code",
   "execution_count": 3,
   "id": "c576962d",
   "metadata": {},
   "outputs": [
    {
     "name": "stdout",
     "output_type": "stream",
     "text": [
      "============================== CHEAPEST ROUTE SEEKER ============================== \n",
      "\n",
      "Silahkan masukkan kota asal : E\n",
      "Silahkan masukkan kota tujuan : A\n",
      "\n",
      "xx Maaf, rute tidak ditemukan xx\n",
      "\n",
      "Apakah anda ingin mencari rute lain?? : [Y/N] \n",
      "Y\n",
      "============================== CHEAPEST ROUTE SEEKER ============================== \n",
      "\n",
      "Silahkan masukkan kota asal : A\n",
      "Silahkan masukkan kota tujuan : E\n",
      "\n",
      "RESULT > >> >> >> >> >> >> >> >> >> > \n",
      "\n",
      "Rute termurah yang ditemukan dari Kota A ke Kota E adalah :\n",
      "Kota A >>> Kota F >>> Kota D >>> Kota E\n",
      "----------------------------------------------------------------------\n",
      "Dengan total harga tiket sejumlah RP 133000\n",
      "Apakah anda ingin mencari rute lain?? : [Y/N] \n",
      "N\n",
      "\n",
      "\n",
      "     Merci beaucoup, Have a nice trip !   \n"
     ]
    }
   ],
   "source": [
    "while True:\n",
    "    carimurah(rute)\n",
    "    loop=input('Apakah anda ingin mencari rute lain?? : [Y/N] \\n')\n",
    "    if loop!='Y':\n",
    "        print('\\n\\n     Merci beaucoup, Have a nice trip !   ')\n",
    "        break"
   ]
  },
  {
   "cell_type": "code",
   "execution_count": null,
   "id": "c3d3023f",
   "metadata": {},
   "outputs": [],
   "source": []
  }
 ],
 "metadata": {
  "kernelspec": {
   "display_name": "Python 3 (ipykernel)",
   "language": "python",
   "name": "python3"
  },
  "language_info": {
   "codemirror_mode": {
    "name": "ipython",
    "version": 3
   },
   "file_extension": ".py",
   "mimetype": "text/x-python",
   "name": "python",
   "nbconvert_exporter": "python",
   "pygments_lexer": "ipython3",
   "version": "3.8.12"
  }
 },
 "nbformat": 4,
 "nbformat_minor": 5
}

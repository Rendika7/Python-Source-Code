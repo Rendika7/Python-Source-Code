{
 "cells": [
  {
   "cell_type": "markdown",
   "id": "bac10a73",
   "metadata": {},
   "source": [
    "# PERPANGKATAN [REKURSIF]"
   ]
  },
  {
   "cell_type": "code",
   "execution_count": 19,
   "id": "787007a6",
   "metadata": {},
   "outputs": [
    {
     "ename": "NameError",
     "evalue": "name 'X' is not defined",
     "output_type": "error",
     "traceback": [
      "\u001b[1;31m---------------------------------------------------------------------------\u001b[0m",
      "\u001b[1;31mNameError\u001b[0m                                 Traceback (most recent call last)",
      "Input \u001b[1;32mIn [19]\u001b[0m, in \u001b[0;36m<cell line: 14>\u001b[1;34m()\u001b[0m\n\u001b[0;32m     11\u001b[0m         \u001b[38;5;28;01mreturn\u001b[39;00m X\n\u001b[0;32m     13\u001b[0m Hasil_Pangkat \u001b[38;5;241m=\u001b[39m Perpangkatan(\u001b[38;5;241m4\u001b[39m,\u001b[38;5;241m5\u001b[39m)\n\u001b[1;32m---> 14\u001b[0m \u001b[38;5;28mprint\u001b[39m(\u001b[38;5;124mf\u001b[39m\u001b[38;5;124m\"\u001b[39m\u001b[38;5;124mHasil dari \u001b[39m\u001b[38;5;132;01m{\u001b[39;00mX\u001b[38;5;132;01m}\u001b[39;00m\u001b[38;5;124m pangkat \u001b[39m\u001b[38;5;132;01m{\u001b[39;00mn\u001b[38;5;132;01m}\u001b[39;00m\u001b[38;5;124m adalah \u001b[39m\u001b[38;5;132;01m{\u001b[39;00mHasil_Pangkat\u001b[38;5;132;01m}\u001b[39;00m\u001b[38;5;124m\"\u001b[39m)\n",
      "\u001b[1;31mNameError\u001b[0m: name 'X' is not defined"
     ]
    }
   ],
   "source": [
    "# semua bilangan yang dipangkatkan dengan 0 akan menghasilkan angka 1. Dan jika 0 dipangkatkan dengan bilangan apapun, hasilnya akan tetap 0.\n",
    "\n",
    "def Perpangkatan (X, n) :\n",
    "    if n > 1 :\n",
    "        return X * Perpangkatan (X, n - 1)\n",
    "    elif X == 0 :\n",
    "        return 0\n",
    "    elif n == 0 :\n",
    "        return 1\n",
    "    else :\n",
    "        return X\n",
    "X = int(input(\"Masukkan Angka Basis :\"))\n",
    "Hasil_Pangkat = Perpangkatan(4,5)\n",
    "print(f\"Hasil dari {X} pangkat {n} adalah {Hasil_Pangkat}\")"
   ]
  },
  {
   "cell_type": "code",
   "execution_count": null,
   "id": "f1ce527a",
   "metadata": {},
   "outputs": [],
   "source": []
  }
 ],
 "metadata": {
  "kernelspec": {
   "display_name": "Python 3 (ipykernel)",
   "language": "python",
   "name": "python3"
  },
  "language_info": {
   "codemirror_mode": {
    "name": "ipython",
    "version": 3
   },
   "file_extension": ".py",
   "mimetype": "text/x-python",
   "name": "python",
   "nbconvert_exporter": "python",
   "pygments_lexer": "ipython3",
   "version": "3.8.12"
  }
 },
 "nbformat": 4,
 "nbformat_minor": 5
}

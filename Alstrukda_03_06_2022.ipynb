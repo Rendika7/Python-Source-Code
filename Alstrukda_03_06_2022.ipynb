{
  "nbformat": 4,
  "nbformat_minor": 0,
  "metadata": {
    "colab": {
      "provenance": [],
      "collapsed_sections": []
    },
    "kernelspec": {
      "name": "python3",
      "display_name": "Python 3"
    },
    "language_info": {
      "name": "python"
    }
  },
  "cells": [
    {
      "cell_type": "code",
      "execution_count": null,
      "metadata": {
        "colab": {
          "base_uri": "https://localhost:8080/"
        },
        "id": "V9L_cF_8aGpG",
        "outputId": "e045b847-cc07-48a9-e8dd-373e247be550"
      },
      "outputs": [
        {
          "output_type": "stream",
          "name": "stdout",
          "text": [
            "Masukkan Speed Power Anda :100\n",
            "Masukkan Jumlah Nos Yang Anda Inginkan :5\n",
            "Masukkan Keinginanmu :Melaju\n",
            "Kecepetan Awal saat Melaju 100\n"
          ]
        }
      ],
      "source": [
        "Speed = int(input(\"Masukkan Speed Power Anda :\"))\n",
        "Nos = int(input(\"Masukkan Jumlah Nos Yang Anda Inginkan :\"))\n",
        "\n",
        "class Mobil_Balap :\n",
        "  def __init__(self, Speed, Nos) :\n",
        "    self.Speed = Speed\n",
        "    self.Nos = Nos\n",
        "\n",
        "  def doNos(self) :\n",
        "    print(self.Speed + 40, \"KM/jam\")\n",
        "    print(self.Nos - 1)\n",
        "  def doMelaju(self) :\n",
        "    print(\"Kecepetan Awal saat Melaju\",self.Speed)\n",
        "\n",
        "Mobilku = Mobil_Balap(Speed, Nos)\n",
        "Keinginan = input(\"Masukkan Keinginanmu :\")\n",
        "\n",
        "if Keinginan == \"Melaju\" :\n",
        "  Mobilku.doMelaju()\n",
        "elif Keinginan == \"Nos\" :\n",
        "  Mobilku.doNos()\n"
      ]
    },
    {
      "cell_type": "code",
      "source": [
        "Speed = int(input(\"Masukkan Speed Power Anda :\"))\n",
        "Nos = int(input(\"Masukkan Jumlah Nos Yang Anda Inginkan :\"))\n",
        "\n",
        "class Mobil_Balap :\n",
        "  def __init__(self, Speed, Nos) :\n",
        "    self.Speed = Speed\n",
        "    self.Nos = Nos\n",
        "\n",
        "  def doNos(self) :\n",
        "    print(self.Speed + 40, \"KM/jam\")\n",
        "    print(self.Nos - 1)\n",
        "  def doMelaju(self) :\n",
        "    print(\"Kecepetan Awal saat Melaju\",self.Speed)\n",
        "\n",
        "Mobilku = Mobil_Balap(Speed, Nos)\n",
        "Keinginan = input(\"Masukkan Keinginanmu :\")\n",
        "\n",
        "if Keinginan == \"Melaju\" :\n",
        "  Mobilku.doMelaju()\n",
        "elif Keinginan == \"Nos\" :\n",
        "  Mobilku.doNos()\n"
      ],
      "metadata": {
        "id": "-BDCaNz3gNow",
        "colab": {
          "base_uri": "https://localhost:8080/"
        },
        "outputId": "97a6aca1-5e07-4f59-8e8c-89899128cbe4"
      },
      "execution_count": null,
      "outputs": [
        {
          "output_type": "stream",
          "name": "stdout",
          "text": [
            "Masukkan Speed Power Anda :100\n",
            "Masukkan Jumlah Nos Yang Anda Inginkan :4\n",
            "Masukkan Keinginanmu :Nos\n",
            "140 KM/jam\n",
            "3\n"
          ]
        },
        {
          "output_type": "execute_result",
          "data": {
            "text/plain": [
              "4"
            ]
          },
          "metadata": {},
          "execution_count": 20
        }
      ]
    },
    {
      "cell_type": "code",
      "source": [],
      "metadata": {
        "id": "WunKlzO5peK1"
      },
      "execution_count": null,
      "outputs": []
    }
  ]
}
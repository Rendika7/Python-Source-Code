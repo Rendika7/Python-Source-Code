{
  "nbformat": 4,
  "nbformat_minor": 0,
  "metadata": {
    "colab": {
      "provenance": [],
      "collapsed_sections": []
    },
    "kernelspec": {
      "name": "python3",
      "display_name": "Python 3"
    },
    "language_info": {
      "name": "python"
    }
  },
  "cells": [
    {
      "cell_type": "code",
      "execution_count": null,
      "metadata": {
        "colab": {
          "base_uri": "https://localhost:8080/"
        },
        "id": "1iiU-85aNQh3",
        "outputId": "759452d9-a4a2-4542-c72a-6ff20653b4df"
      },
      "outputs": [
        {
          "output_type": "stream",
          "name": "stdout",
          "text": [
            "2\n"
          ]
        }
      ],
      "source": [
        "def factorial(num):\n",
        "  if num == 0 or num == 1 :\n",
        "    return 1\n",
        "  else : return num * factorial(num-1)\n",
        "\n",
        "print(factorial(2))"
      ]
    },
    {
      "cell_type": "code",
      "source": [
        "boxes = []\n",
        "List1 = [\"Box1\",\"box2\",\"box3\"],[\"Box4\",\"box5\",\"box6\"]\n",
        "boxes.append(List1)\n",
        "boxes.pop()"
      ],
      "metadata": {
        "colab": {
          "base_uri": "https://localhost:8080/"
        },
        "id": "XJu7YX5iNkaN",
        "outputId": "719bb8a0-b036-4f31-92a6-a2fd2c7b62eb"
      },
      "execution_count": null,
      "outputs": [
        {
          "output_type": "execute_result",
          "data": {
            "text/plain": [
              "(['Box1', 'box2', 'box3'], ['Box4', 'box5', 'box6'])"
            ]
          },
          "metadata": {},
          "execution_count": 11
        }
      ]
    },
    {
      "cell_type": "code",
      "source": [
        "def push(data,item) :\n",
        "  data.append(item)\n",
        "  print(data)\n",
        "\n",
        "def pop(data):\n",
        "  data.pop()\n",
        "  print(data)\n",
        "def isEmpty(data):\n",
        "  if len(data) == 0 :\n",
        "    print(True)\n",
        "  else :\n",
        "    print(False)\n",
        "def peek(data):\n",
        "    print(data[-1])\n",
        "\n",
        "data = [1,2,3,4,5]\n",
        "isEmpty(data)\n",
        "push(data,1)\n",
        "pop(data)\n",
        "peek(data)"
      ],
      "metadata": {
        "colab": {
          "base_uri": "https://localhost:8080/"
        },
        "id": "lKs2Pi-FUZaB",
        "outputId": "69b33b19-f224-477b-f562-a78c544c1fb1"
      },
      "execution_count": null,
      "outputs": [
        {
          "output_type": "stream",
          "name": "stdout",
          "text": [
            "False\n",
            "[1, 2, 3, 4, 5, 1]\n",
            "[1, 2, 3, 4, 5]\n",
            "5\n"
          ]
        }
      ]
    },
    {
      "cell_type": "code",
      "source": [],
      "metadata": {
        "id": "T7_JtTDWYbRG"
      },
      "execution_count": null,
      "outputs": []
    }
  ]
}
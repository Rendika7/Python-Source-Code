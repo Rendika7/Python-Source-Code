{
 "cells": [
  {
   "cell_type": "code",
   "execution_count": null,
   "id": "f6627409",
   "metadata": {},
   "outputs": [],
   "source": [
    "User = input(\"Masukkan Pengguna : \")\n",
    "Sandi = input(\"Masukkan Sandi : \")"
   ]
  },
  {
   "cell_type": "code",
   "execution_count": null,
   "id": "6ed88de2",
   "metadata": {},
   "outputs": [],
   "source": [
    "if Sandi == \"Rendika\" :\n",
    "    print(\"Selamat Datang\", User)\n",
    "    if User == \"Admin\" :\n",
    "        print(\"Anda Masuk Sebagai Admin Rendika\")\n",
    "    else :\n",
    "        print(\"Anda Masuk Sebagai Member Baru\")\n",
    "else :\n",
    "    print(\"Maaf, Sandi yang anda masukkan salah\")"
   ]
  },
  {
   "cell_type": "code",
   "execution_count": null,
   "id": "f7ec001c",
   "metadata": {},
   "outputs": [],
   "source": [
    "bil1 = int(input(\"Masukkan Bilangan Perama : \"))\n",
    "bil2 = int(input(\"Masukkan Bilangan Kedua : \"))\n",
    "kali = bil1 * bil2\n",
    "\n",
    "if kali > 10 :\n",
    "    print(\"Bilangan Lebih Besar dari 10\")\n",
    "    if kali % 2 ==0 :\n",
    "        print(\"Bilangan Genap\")\n",
    "    else :\n",
    "        print(\"Bilangan Ganji\")\n",
    "elif kali > 20 :\n",
    "    print(\"Bilangan Lebih Besar dari 20\")\n",
    "    if kali % 2 ==0 :\n",
    "        print(\"Bilangan Genap\")\n",
    "    else :\n",
    "        print(\"Bilangan Ganji\")\n",
    "else :\n",
    "    print(\"Bilangan Kurang dari 10\")\n",
    "    if kali % 2 ==0 :\n",
    "        print(\"Bilangan Genap\")\n",
    "    else :\n",
    "        print(\"Bilangan Ganji\")"
   ]
  },
  {
   "cell_type": "code",
   "execution_count": null,
   "id": "597111fb",
   "metadata": {},
   "outputs": [],
   "source": [
    "prod = input (\"Masukkan Prodi (DS/TI/SI): \")\n",
    "Th = int(input(\"Masukkan Tahun Angkatan (2018/2019/2020/2021): \"))\n",
    "\n",
    "if prod == \"TI\" :\n",
    "    print(\"Anda memasukkan \", prod,\"Adalah Prodi Teknik Informatika\")\n",
    "    if Th == 2018 :\n",
    "        print(\"Angkatan Pertama\")\n",
    "    elif Th == 2019 :\n",
    "        print(\"Angkatan Kedua\")\n",
    "    elif Th == 2020 :\n",
    "        print(\"Angkatan Ketiga\")\n",
    "    else :\n",
    "        print(\"Angkatan Keempat\")\n",
    "elif prod == \"SI\" :\n",
    "    print(\"Anda memasukkan \", prod,\"Adalah Prodi Sistem Informasi\")\n",
    "    if Th == 2018 :\n",
    "        print(\"Angkatan Pertama\")\n",
    "    elif Th == 2019 :\n",
    "        print(\"Angkatan Kedua\")\n",
    "    elif Th == 2020 :\n",
    "        print(\"Angkatan Ketiga\")\n",
    "    else :\n",
    "        print(\"Angkatan Keempat\")\n",
    "elif prod == \"DS\" :\n",
    "    print(\"Anda memasukkan \", prod,\"Adalah Prodi Sistem Informasi\")\n",
    "    if Th == 2021 :\n",
    "        print(\"Angkatan Pertama\")\n",
    "    else :\n",
    "        print(\"Angkatan Tidak Diketahui\")\n",
    "else :\n",
    "    print(\"Anda Tidak Memasukkan Prodi yang benar\")\n",
    "        "
   ]
  }
 ],
 "metadata": {
  "kernelspec": {
   "display_name": "Python 3",
   "language": "python",
   "name": "python3"
  },
  "language_info": {
   "codemirror_mode": {
    "name": "ipython",
    "version": 3
   },
   "file_extension": ".py",
   "mimetype": "text/x-python",
   "name": "python",
   "nbconvert_exporter": "python",
   "pygments_lexer": "ipython3",
   "version": "3.8.8"
  }
 },
 "nbformat": 4,
 "nbformat_minor": 5
}

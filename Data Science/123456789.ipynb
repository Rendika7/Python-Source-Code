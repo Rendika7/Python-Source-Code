{
 "cells": [
  {
   "cell_type": "code",
   "execution_count": 3,
   "id": "6c546aba",
   "metadata": {},
   "outputs": [],
   "source": [
    "from bs4 import BeautifulSoup\n",
    "import pandas as pd\n",
    "import numpy as np\n",
    "import requests"
   ]
  },
  {
   "cell_type": "code",
   "execution_count": 4,
   "id": "109b0ff1",
   "metadata": {},
   "outputs": [],
   "source": [
    "url = \"https://www.skysports.com/premier-league-table\"\n",
    "r = requests.get(url)\n",
    "soup = BeautifulSoup(r.text, \"html.parser\")"
   ]
  },
  {
   "cell_type": "code",
   "execution_count": 8,
   "id": "706f1631",
   "metadata": {},
   "outputs": [
    {
     "name": "stdout",
     "output_type": "stream",
     "text": [
      "\n",
      "Manchester City\n",
      "\n",
      "\n",
      "Liverpool\n",
      "\n",
      "\n",
      "Chelsea\n",
      "\n",
      "\n",
      "West Ham United\n",
      "\n",
      "\n",
      "Manchester United\n",
      "\n",
      "\n",
      "Arsenal\n",
      "\n",
      "\n",
      "Tottenham Hotspur\n",
      "\n",
      "\n",
      "Wolverhampton Wanderers\n",
      "\n",
      "\n",
      "Brighton and Hove Albion\n",
      "\n",
      "\n",
      "Southampton\n",
      "\n",
      "\n",
      "Aston Villa\n",
      "\n",
      "\n",
      "Leicester City\n",
      "\n",
      "\n",
      "Crystal Palace\n",
      "\n",
      "\n",
      "Brentford\n",
      "\n",
      "\n",
      "Leeds United\n",
      "\n",
      "\n",
      "Everton\n",
      "\n",
      "\n",
      "Newcastle United\n",
      "\n",
      "\n",
      "Norwich City\n",
      "\n",
      "\n",
      "Watford\n",
      "\n",
      "\n",
      "Burnley\n",
      "\n"
     ]
    }
   ],
   "source": [
    "standing = soup.find('tbody')\n",
    "for i in standing.find_all('tr'):\n",
    "    nama = i.find('td', class_=\"standing-table__cell standing-table__cell--name\").text\n",
    "    print(nama)"
   ]
  },
  {
   "cell_type": "code",
   "execution_count": 11,
   "id": "c1322778",
   "metadata": {},
   "outputs": [
    {
     "name": "stdout",
     "output_type": "stream",
     "text": [
      "Masukkan Nama: slmls\n",
      "Masukkan jabatan: lmslm\n",
      "masukkan gaji: 48023\n",
      "pegawai dengan nama slmls dan jabatan lmslm dengan gaji 48023 harus membayar pajak sebesar 4802.3\n"
     ]
    }
   ],
   "source": [
    "nama = input(\"Masukkan Nama: \")\n",
    "jabatan = input(\"Masukkan jabatan: \")\n",
    "gaji = int(input(\"masukkan gaji: \"))\n",
    "pajak = gaji *(10/100)\n",
    "print(\"pegawai dengan nama\", nama, \"dan jabatan\", jabatan,\"dengan gaji\", gaji, \"harus membayar pajak sebesar\", pajak )"
   ]
  },
  {
   "cell_type": "code",
   "execution_count": null,
   "id": "958eaa7a",
   "metadata": {},
   "outputs": [],
   "source": []
  },
  {
   "cell_type": "code",
   "execution_count": null,
   "id": "64b10fa1",
   "metadata": {},
   "outputs": [],
   "source": []
  },
  {
   "cell_type": "code",
   "execution_count": null,
   "id": "73c2be93",
   "metadata": {},
   "outputs": [],
   "source": []
  },
  {
   "cell_type": "code",
   "execution_count": 16,
   "id": "167cf536",
   "metadata": {
    "scrolled": true
   },
   "outputs": [
    {
     "name": "stdout",
     "output_type": "stream",
     "text": [
      "total belanja Rp.99000\n",
      "anda dapat diskon 5%: 4950.0\n",
      "Total yang harus dibayar Rp. 94050.0\n"
     ]
    }
   ],
   "source": [
    "total = int(input(\"total belanja Rp.\"))\n",
    "if 90000 < total < 100000:\n",
    "    diskon = total * (5/100)\n",
    "    print(\"anda dapat diskon 5%:\", diskon)\n",
    "    bayar = total - diskon\n",
    "    print(\"Total yang harus dibayar Rp.\", bayar)\n",
    "elif total > 100000:\n",
    "    diskon = total * (10/100)\n",
    "    print(\"anda mendapat diskon 10%:\", diskon)\n",
    "    bayar = total - diskon\n",
    "    print(\"Total yang harus dibayar Rp.\", bayar)\n",
    "else:\n",
    "    print(\"anda tidak mendapatkan diskon\")\n"
   ]
  },
  {
   "cell_type": "code",
   "execution_count": null,
   "id": "7ccb3f33",
   "metadata": {},
   "outputs": [],
   "source": []
  }
 ],
 "metadata": {
  "kernelspec": {
   "display_name": "Python 3 (ipykernel)",
   "language": "python",
   "name": "python3"
  },
  "language_info": {
   "codemirror_mode": {
    "name": "ipython",
    "version": 3
   },
   "file_extension": ".py",
   "mimetype": "text/x-python",
   "name": "python",
   "nbconvert_exporter": "python",
   "pygments_lexer": "ipython3",
   "version": "3.8.12"
  }
 },
 "nbformat": 4,
 "nbformat_minor": 5
}

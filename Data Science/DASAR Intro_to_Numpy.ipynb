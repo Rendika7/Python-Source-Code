{
 "cells": [
  {
   "cell_type": "markdown",
   "metadata": {
    "id": "8_sx-BfsgpVD"
   },
   "source": [
    "# **Apa itu numpy?**\n",
    "1.   Numpy adalah sebuah library python yang bekerja dengan array\n",
    "\n",
    "2.   Numpy juga bisa bekerja dengan aljabar linier, matrix dan transformasi integral\n"
   ]
  },
  {
   "cell_type": "markdown",
   "metadata": {
    "id": "FkWGaFtNiHFe"
   },
   "source": [
    "# **Kenapa menggunakan numpy?**\n",
    "\n",
    "\n",
    "1.   Numpy bertujuan untuk menyediakan objek array yang 50x lebih cepat dari list pada python\n",
    "\n",
    "2.   Objek array di NumPy disebut dengan ndarray, ndarray\n",
    "menyediakan banyak fungsi pendukung yang membuat pekerjaan dengan ndarray menjadi sangat mudah\n"
   ]
  },
  {
   "cell_type": "markdown",
   "metadata": {
    "id": "DTxjEhKJjitw"
   },
   "source": [
    "### **Install Numpy**"
   ]
  },
  {
   "cell_type": "code",
   "execution_count": null,
   "metadata": {
    "id": "BU55ziG7T8oW"
   },
   "outputs": [],
   "source": [
    "!pip install numpy"
   ]
  },
  {
   "cell_type": "markdown",
   "metadata": {
    "id": "kurlmfGljoOI"
   },
   "source": [
    "### **Panggil package numpynya**"
   ]
  },
  {
   "cell_type": "code",
   "execution_count": 2,
   "metadata": {
    "colab": {
     "base_uri": "https://localhost:8080/"
    },
    "id": "im7tINhVT2Vh",
    "outputId": "74668feb-5bef-4fb8-9b12-38d12ba713e5"
   },
   "outputs": [
    {
     "name": "stdout",
     "output_type": "stream",
     "text": [
      "[1 2 3 4 5]\n"
     ]
    }
   ],
   "source": [
    "import numpy as np\n",
    "\n",
    "a= np.array([1,2,3,4,5])\n",
    "print(a)"
   ]
  },
  {
   "cell_type": "markdown",
   "metadata": {
    "id": "GdozNdnFj9yC"
   },
   "source": [
    "### **Cek versi package numpy**"
   ]
  },
  {
   "cell_type": "code",
   "execution_count": 3,
   "metadata": {
    "colab": {
     "base_uri": "https://localhost:8080/"
    },
    "id": "34OV18hPjTeG",
    "outputId": "e6908c5d-a919-4cfe-9b5f-63f57c11c844"
   },
   "outputs": [
    {
     "name": "stdout",
     "output_type": "stream",
     "text": [
      "1.21.6\n"
     ]
    }
   ],
   "source": [
    "print(np.__version__)"
   ]
  },
  {
   "cell_type": "markdown",
   "metadata": {
    "id": "DKd4lqBzkO2u"
   },
   "source": [
    "### **Cek tipe data dari numpy array**"
   ]
  },
  {
   "cell_type": "code",
   "execution_count": 4,
   "metadata": {
    "colab": {
     "base_uri": "https://localhost:8080/"
    },
    "id": "fmEmt1_9kOdW",
    "outputId": "b5cbde91-7c25-4a33-94fc-0157021791cd"
   },
   "outputs": [
    {
     "name": "stdout",
     "output_type": "stream",
     "text": [
      "<class 'numpy.ndarray'>\n"
     ]
    }
   ],
   "source": [
    "a= np.array([1,2,3,4,5])\n",
    "print(type(a))"
   ]
  }
 ],
 "metadata": {
  "colab": {
   "collapsed_sections": [
    "kurlmfGljoOI",
    "GdozNdnFj9yC",
    "DKd4lqBzkO2u"
   ],
   "name": "Intro to Numpy.ipynb",
   "provenance": []
  },
  "kernelspec": {
   "display_name": "Python 3 (ipykernel)",
   "language": "python",
   "name": "python3"
  },
  "language_info": {
   "codemirror_mode": {
    "name": "ipython",
    "version": 3
   },
   "file_extension": ".py",
   "mimetype": "text/x-python",
   "name": "python",
   "nbconvert_exporter": "python",
   "pygments_lexer": "ipython3",
   "version": "3.8.12"
  }
 },
 "nbformat": 4,
 "nbformat_minor": 1
}

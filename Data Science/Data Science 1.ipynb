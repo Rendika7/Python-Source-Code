{
 "cells": [
  {
   "cell_type": "markdown",
   "id": "ed5fa936",
   "metadata": {
    "slideshow": {
     "slide_type": "slide"
    }
   },
   "source": [
    "# Belajar Data Sience"
   ]
  },
  {
   "cell_type": "code",
   "execution_count": 5,
   "id": "f96c539f",
   "metadata": {
    "slideshow": {
     "slide_type": "subslide"
    }
   },
   "outputs": [
    {
     "name": "stdout",
     "output_type": "stream",
     "text": [
      "Hello World\n"
     ]
    }
   ],
   "source": [
    "print('Hello World')"
   ]
  },
  {
   "cell_type": "markdown",
   "id": "c9625156",
   "metadata": {
    "slideshow": {
     "slide_type": "slide"
    }
   },
   "source": [
    "### Membuat Data Terstruktur Menggunakan 3 Cara"
   ]
  },
  {
   "cell_type": "code",
   "execution_count": 6,
   "id": "093fdb98",
   "metadata": {
    "slideshow": {
     "slide_type": "subslide"
    }
   },
   "outputs": [],
   "source": [
    "import pandas as pd"
   ]
  },
  {
   "cell_type": "code",
   "execution_count": 7,
   "id": "2b65732c",
   "metadata": {
    "slideshow": {
     "slide_type": "subslide"
    }
   },
   "outputs": [],
   "source": [
    "isi = {'Nama' : ['Rendika', 'Bae Suzy', 'Jordi', 'Melvern'], 'sex' : ['Laki-laki','Perempuan','Laki-laki','Laki-Laki'], 'status' : ['Menikah','Single','Menikah','Single'], 'UTS' : [100,99,97,95], 'UAS' : [99,98,96,94]}"
   ]
  },
  {
   "cell_type": "code",
   "execution_count": 8,
   "id": "32db98d0",
   "metadata": {},
   "outputs": [],
   "source": [
    "df = pd.DataFrame(data = isi)\n"
   ]
  },
  {
   "cell_type": "code",
   "execution_count": 9,
   "id": "6af1c743",
   "metadata": {},
   "outputs": [
    {
     "name": "stdout",
     "output_type": "stream",
     "text": [
      "       Nama        sex   status  UTS  UAS\n",
      "0   Rendika  Laki-laki  Menikah  100   99\n",
      "1  Bae Suzy  Perempuan   Single   99   98\n",
      "2     Jordi  Laki-laki  Menikah   97   96\n",
      "3   Melvern  Laki-Laki   Single   95   94\n"
     ]
    }
   ],
   "source": [
    "print(df)"
   ]
  },
  {
   "cell_type": "code",
   "execution_count": 10,
   "id": "ceb408b0",
   "metadata": {
    "scrolled": true,
    "slideshow": {
     "slide_type": "subslide"
    }
   },
   "outputs": [
    {
     "name": "stdout",
     "output_type": "stream",
     "text": [
      "       Nama        sex   status  UTS  UAS\n",
      "0   Rendika  Laki-laki  Menikah  100   99\n",
      "1  Bae Suzy  Perempuan   Single   99   98\n",
      "2     Jordi  Laki-laki  Menikah   97   96\n",
      "3   Melvern  Laki-Laki   Single   95   94\n"
     ]
    }
   ],
   "source": [
    "df = pd.DataFrame(data = isi)\n",
    "print (df)"
   ]
  },
  {
   "cell_type": "code",
   "execution_count": 11,
   "id": "bbcae82c",
   "metadata": {
    "slideshow": {
     "slide_type": "subslide"
    }
   },
   "outputs": [
    {
     "name": "stdout",
     "output_type": "stream",
     "text": [
      "       Nama  Umur        Sex   Status  UTS  UAS\n",
      "0   Rendika    27  Laki-Laki  Menikah  100   99\n",
      "1  Bae Suzy    23  Perempuan  Menikah   99   98\n",
      "2     Jordi    29  Laki-Laki   Single   97   96\n",
      "3   Melvern    30  Laki-Laki   Single   95   94\n"
     ]
    }
   ],
   "source": [
    "data= pd.read_csv('C:/Users/rendi/Pictures/Institut Teknologi Telkom Surabaya/Belajar Coding/Data Frame 1.csv', header = 0)\n",
    "print(data)"
   ]
  },
  {
   "cell_type": "code",
   "execution_count": 12,
   "id": "c85b73f5",
   "metadata": {
    "slideshow": {
     "slide_type": "subslide"
    }
   },
   "outputs": [
    {
     "name": "stdout",
     "output_type": "stream",
     "text": [
      "0           Sleman\n",
      "1    Korea Selatan\n",
      "2            Bogor\n",
      "3       Bojonegoro\n",
      "dtype: object\n"
     ]
    }
   ],
   "source": [
    "Nama = pd.Series (['Rendika', 'Bae Suzy', 'Jordi', 'Melvern'])\n",
    "Asal = pd.Series (['Sleman', 'Korea Selatan', 'Bogor', 'Bojonegoro'])\n",
    "UTS = ([100,99,97,95])\n",
    "UAS = ([99,98,96,94])\n",
    "print(Asal)"
   ]
  },
  {
   "cell_type": "code",
   "execution_count": 13,
   "id": "91172e3a",
   "metadata": {},
   "outputs": [
    {
     "name": "stdout",
     "output_type": "stream",
     "text": [
      "0     Rendika\n",
      "1    Bae Suzy\n",
      "2       Jordi\n",
      "3     Melvern\n",
      "dtype: object\n"
     ]
    }
   ],
   "source": [
    "print(Nama)"
   ]
  },
  {
   "cell_type": "code",
   "execution_count": 14,
   "id": "fff0e24a",
   "metadata": {},
   "outputs": [
    {
     "name": "stdout",
     "output_type": "stream",
     "text": [
      "[100, 99, 97, 95]\n"
     ]
    }
   ],
   "source": [
    "print(UTS)"
   ]
  },
  {
   "cell_type": "markdown",
   "id": "be35fc69",
   "metadata": {
    "slideshow": {
     "slide_type": "slide"
    }
   },
   "source": [
    "### Olah Data - Pengoprasian Pola Bilangan Pada Data"
   ]
  },
  {
   "cell_type": "markdown",
   "id": "b01d0277",
   "metadata": {
    "slideshow": {
     "slide_type": "subslide"
    }
   },
   "source": [
    "#### Mean Sum "
   ]
  },
  {
   "cell_type": "code",
   "execution_count": 15,
   "id": "79da5681",
   "metadata": {
    "slideshow": {
     "slide_type": "subslide"
    }
   },
   "outputs": [
    {
     "name": "stdout",
     "output_type": "stream",
     "text": [
      "       Nama        sex   status  UTS  UAS  RataNilai\n",
      "0   Rendika  Laki-laki  Menikah  100   99       99.5\n",
      "1  Bae Suzy  Perempuan   Single   99   98       98.5\n",
      "2     Jordi  Laki-laki  Menikah   97   96       96.5\n",
      "3   Melvern  Laki-Laki   Single   95   94       94.5\n"
     ]
    }
   ],
   "source": [
    "df['RataNilai'] = df.mean(axis = 1)\n",
    "print (df)"
   ]
  },
  {
   "cell_type": "code",
   "execution_count": 16,
   "id": "9a764a52",
   "metadata": {
    "slideshow": {
     "slide_type": "subslide"
    }
   },
   "outputs": [
    {
     "data": {
      "text/plain": [
       "0    298.5\n",
       "1    295.5\n",
       "2    289.5\n",
       "3    283.5\n",
       "dtype: float64"
      ]
     },
     "execution_count": 16,
     "metadata": {},
     "output_type": "execute_result"
    }
   ],
   "source": [
    "df.sum(axis = 1)"
   ]
  },
  {
   "cell_type": "code",
   "execution_count": 17,
   "id": "6677901e",
   "metadata": {
    "slideshow": {
     "slide_type": "subslide"
    }
   },
   "outputs": [
    {
     "data": {
      "text/plain": [
       "Nama                  RendikaBae SuzyJordiMelvern\n",
       "sex          Laki-lakiPerempuanLaki-lakiLaki-Laki\n",
       "status                 MenikahSingleMenikahSingle\n",
       "UTS                                           391\n",
       "UAS                                           387\n",
       "RataNilai                                   389.0\n",
       "dtype: object"
      ]
     },
     "execution_count": 17,
     "metadata": {},
     "output_type": "execute_result"
    }
   ],
   "source": [
    "df.sum(axis=0)"
   ]
  },
  {
   "cell_type": "markdown",
   "id": "d46348ee",
   "metadata": {
    "slideshow": {
     "slide_type": "slide"
    }
   },
   "source": [
    "## Menghapus Kolom"
   ]
  },
  {
   "cell_type": "markdown",
   "id": "4dd09846",
   "metadata": {
    "slideshow": {
     "slide_type": "subslide"
    }
   },
   "source": [
    "#### Syntaks = del ab ['Nama Kolom Yang Mau Dihapuskan']"
   ]
  },
  {
   "cell_type": "markdown",
   "id": "c936e831",
   "metadata": {
    "slideshow": {
     "slide_type": "slide"
    }
   },
   "source": [
    "## Ambil Data Perkolom"
   ]
  },
  {
   "cell_type": "code",
   "execution_count": 18,
   "id": "f9562772",
   "metadata": {
    "slideshow": {
     "slide_type": "subslide"
    }
   },
   "outputs": [
    {
     "name": "stdout",
     "output_type": "stream",
     "text": [
      "       Nama        sex   status  UTS  UAS  RataNilai\n",
      "0   Rendika  Laki-laki  Menikah  100   99       99.5\n",
      "1  Bae Suzy  Perempuan   Single   99   98       98.5\n",
      "2     Jordi  Laki-laki  Menikah   97   96       96.5\n",
      "3   Melvern  Laki-Laki   Single   95   94       94.5\n"
     ]
    }
   ],
   "source": [
    "print (df)"
   ]
  },
  {
   "cell_type": "code",
   "execution_count": 19,
   "id": "e2ba4492",
   "metadata": {
    "slideshow": {
     "slide_type": "subslide"
    }
   },
   "outputs": [
    {
     "data": {
      "text/plain": [
       "0     Rendika\n",
       "1    Bae Suzy\n",
       "2       Jordi\n",
       "3     Melvern\n",
       "Name: Nama, dtype: object"
      ]
     },
     "execution_count": 19,
     "metadata": {},
     "output_type": "execute_result"
    }
   ],
   "source": [
    "df.Nama"
   ]
  },
  {
   "cell_type": "code",
   "execution_count": 20,
   "id": "4ec65562",
   "metadata": {
    "slideshow": {
     "slide_type": "subslide"
    }
   },
   "outputs": [
    {
     "data": {
      "text/plain": [
       "0    99.5\n",
       "1    98.5\n",
       "2    96.5\n",
       "3    94.5\n",
       "Name: RataNilai, dtype: float64"
      ]
     },
     "execution_count": 20,
     "metadata": {},
     "output_type": "execute_result"
    }
   ],
   "source": [
    "df.RataNilai"
   ]
  },
  {
   "cell_type": "markdown",
   "id": "c6e587d2",
   "metadata": {
    "slideshow": {
     "slide_type": "slide"
    }
   },
   "source": [
    "## Mengganti Data"
   ]
  },
  {
   "cell_type": "code",
   "execution_count": 21,
   "id": "7f99dcae",
   "metadata": {
    "slideshow": {
     "slide_type": "subslide"
    }
   },
   "outputs": [
    {
     "name": "stdout",
     "output_type": "stream",
     "text": [
      "       Nama        sex   status  UTS  UAS  RataNilai\n",
      "0   Rendika  Laki-laki  Menikah  100   99       99.5\n",
      "1  Bae Suzy  Perempuan   Single   99   98       98.5\n",
      "2    Naruto  Laki-laki  Menikah   97   96       96.5\n",
      "3   Melvern  Laki-Laki   Single   95   94       94.5\n"
     ]
    }
   ],
   "source": [
    "df = df.replace('Jordi','Naruto')\n",
    "print (df)"
   ]
  },
  {
   "cell_type": "code",
   "execution_count": 22,
   "id": "08e1bfcf",
   "metadata": {
    "slideshow": {
     "slide_type": "subslide"
    }
   },
   "outputs": [
    {
     "name": "stdout",
     "output_type": "stream",
     "text": [
      "       Nama        sex   status  UTS  UAS  RataNilai\n",
      "0   Rendika  Laki-laki  Menikah  100   99       99.5\n",
      "1  Bae Suzy  Perempuan   Single   99   98       98.5\n",
      "2    Naruto  Laki-laki  Menikah   97   96       96.5\n",
      "3    Sasuke  Laki-Laki   Single   95   98       94.5\n"
     ]
    }
   ],
   "source": [
    "df = df.replace({'Melvern' : 'Sasuke', 94 : 98})\n",
    "print (df)"
   ]
  },
  {
   "cell_type": "code",
   "execution_count": 23,
   "id": "d8661543",
   "metadata": {
    "slideshow": {
     "slide_type": "subslide"
    }
   },
   "outputs": [
    {
     "name": "stdout",
     "output_type": "stream",
     "text": [
      "       Nama        sex   status  UTS  UAS  RataNilai\n",
      "0   Rendika  Laki-laki  Menikah  100  100       99.5\n",
      "1  Bae Suzy  Perempuan   Single   99   98       98.5\n",
      "2    Naruto  Laki-laki  Menikah   97   96       96.5\n",
      "3    Sasuke  Laki-Laki   Single   95   98       94.5\n"
     ]
    }
   ],
   "source": [
    "df.loc[0,'UAS'] = 100\n",
    "print (df)"
   ]
  },
  {
   "cell_type": "code",
   "execution_count": 24,
   "id": "e3ed07e5",
   "metadata": {
    "slideshow": {
     "slide_type": "subslide"
    }
   },
   "outputs": [
    {
     "name": "stdout",
     "output_type": "stream",
     "text": [
      "       Nama        sex   status  UTS  UAS  RataNilai\n",
      "0   Rendika  Laki-laki  Menikah  100  100  99.833333\n",
      "1  Bae Suzy  Perempuan   Single   99   98  98.500000\n",
      "2    Naruto  Laki-laki  Menikah   97   96  96.500000\n",
      "3    Sasuke  Laki-Laki   Single   95   98  95.833333\n"
     ]
    }
   ],
   "source": [
    "df ['RataNilai'] = df.mean(axis = 1)\n",
    "print(df)"
   ]
  },
  {
   "cell_type": "markdown",
   "id": "3480eae3",
   "metadata": {
    "slideshow": {
     "slide_type": "slide"
    }
   },
   "source": [
    "## Cek Data Kosong"
   ]
  },
  {
   "cell_type": "code",
   "execution_count": 25,
   "id": "65a6e5f9",
   "metadata": {
    "scrolled": true,
    "slideshow": {
     "slide_type": "subslide"
    }
   },
   "outputs": [
    {
     "data": {
      "text/html": [
       "<div>\n",
       "<style scoped>\n",
       "    .dataframe tbody tr th:only-of-type {\n",
       "        vertical-align: middle;\n",
       "    }\n",
       "\n",
       "    .dataframe tbody tr th {\n",
       "        vertical-align: top;\n",
       "    }\n",
       "\n",
       "    .dataframe thead th {\n",
       "        text-align: right;\n",
       "    }\n",
       "</style>\n",
       "<table border=\"1\" class=\"dataframe\">\n",
       "  <thead>\n",
       "    <tr style=\"text-align: right;\">\n",
       "      <th></th>\n",
       "      <th>Nama</th>\n",
       "      <th>sex</th>\n",
       "      <th>status</th>\n",
       "      <th>UTS</th>\n",
       "      <th>UAS</th>\n",
       "      <th>RataNilai</th>\n",
       "    </tr>\n",
       "  </thead>\n",
       "  <tbody>\n",
       "    <tr>\n",
       "      <th>0</th>\n",
       "      <td>False</td>\n",
       "      <td>False</td>\n",
       "      <td>False</td>\n",
       "      <td>False</td>\n",
       "      <td>False</td>\n",
       "      <td>False</td>\n",
       "    </tr>\n",
       "    <tr>\n",
       "      <th>1</th>\n",
       "      <td>False</td>\n",
       "      <td>False</td>\n",
       "      <td>False</td>\n",
       "      <td>False</td>\n",
       "      <td>False</td>\n",
       "      <td>False</td>\n",
       "    </tr>\n",
       "    <tr>\n",
       "      <th>2</th>\n",
       "      <td>False</td>\n",
       "      <td>False</td>\n",
       "      <td>False</td>\n",
       "      <td>False</td>\n",
       "      <td>False</td>\n",
       "      <td>False</td>\n",
       "    </tr>\n",
       "    <tr>\n",
       "      <th>3</th>\n",
       "      <td>False</td>\n",
       "      <td>False</td>\n",
       "      <td>False</td>\n",
       "      <td>False</td>\n",
       "      <td>False</td>\n",
       "      <td>False</td>\n",
       "    </tr>\n",
       "  </tbody>\n",
       "</table>\n",
       "</div>"
      ],
      "text/plain": [
       "    Nama    sex  status    UTS    UAS  RataNilai\n",
       "0  False  False   False  False  False      False\n",
       "1  False  False   False  False  False      False\n",
       "2  False  False   False  False  False      False\n",
       "3  False  False   False  False  False      False"
      ]
     },
     "execution_count": 25,
     "metadata": {},
     "output_type": "execute_result"
    }
   ],
   "source": [
    "df.isnull()"
   ]
  },
  {
   "cell_type": "code",
   "execution_count": 26,
   "id": "609d5c07",
   "metadata": {
    "slideshow": {
     "slide_type": "subslide"
    }
   },
   "outputs": [
    {
     "data": {
      "text/html": [
       "<div>\n",
       "<style scoped>\n",
       "    .dataframe tbody tr th:only-of-type {\n",
       "        vertical-align: middle;\n",
       "    }\n",
       "\n",
       "    .dataframe tbody tr th {\n",
       "        vertical-align: top;\n",
       "    }\n",
       "\n",
       "    .dataframe thead th {\n",
       "        text-align: right;\n",
       "    }\n",
       "</style>\n",
       "<table border=\"1\" class=\"dataframe\">\n",
       "  <thead>\n",
       "    <tr style=\"text-align: right;\">\n",
       "      <th></th>\n",
       "      <th>Nama</th>\n",
       "      <th>sex</th>\n",
       "      <th>status</th>\n",
       "      <th>UTS</th>\n",
       "      <th>UAS</th>\n",
       "      <th>RataNilai</th>\n",
       "    </tr>\n",
       "  </thead>\n",
       "  <tbody>\n",
       "    <tr>\n",
       "      <th>0</th>\n",
       "      <td>True</td>\n",
       "      <td>True</td>\n",
       "      <td>True</td>\n",
       "      <td>True</td>\n",
       "      <td>True</td>\n",
       "      <td>True</td>\n",
       "    </tr>\n",
       "    <tr>\n",
       "      <th>1</th>\n",
       "      <td>True</td>\n",
       "      <td>True</td>\n",
       "      <td>True</td>\n",
       "      <td>True</td>\n",
       "      <td>True</td>\n",
       "      <td>True</td>\n",
       "    </tr>\n",
       "    <tr>\n",
       "      <th>2</th>\n",
       "      <td>True</td>\n",
       "      <td>True</td>\n",
       "      <td>True</td>\n",
       "      <td>True</td>\n",
       "      <td>True</td>\n",
       "      <td>True</td>\n",
       "    </tr>\n",
       "    <tr>\n",
       "      <th>3</th>\n",
       "      <td>True</td>\n",
       "      <td>True</td>\n",
       "      <td>True</td>\n",
       "      <td>True</td>\n",
       "      <td>True</td>\n",
       "      <td>True</td>\n",
       "    </tr>\n",
       "  </tbody>\n",
       "</table>\n",
       "</div>"
      ],
      "text/plain": [
       "   Nama   sex  status   UTS   UAS  RataNilai\n",
       "0  True  True    True  True  True       True\n",
       "1  True  True    True  True  True       True\n",
       "2  True  True    True  True  True       True\n",
       "3  True  True    True  True  True       True"
      ]
     },
     "execution_count": 26,
     "metadata": {},
     "output_type": "execute_result"
    }
   ],
   "source": [
    "df.notnull()"
   ]
  },
  {
   "cell_type": "code",
   "execution_count": 27,
   "id": "e00dcab6",
   "metadata": {
    "slideshow": {
     "slide_type": "subslide"
    }
   },
   "outputs": [
    {
     "name": "stdout",
     "output_type": "stream",
     "text": [
      "       Nama        sex   status  UTS    UAS  RataNilai\n",
      "0   Rendika  Laki-laki  Menikah  100  100.0  99.833333\n",
      "1  Bae Suzy  Perempuan   Single   99   98.0  98.500000\n",
      "2    Naruto  Laki-laki  Menikah   97    NaN  96.500000\n",
      "3    Sasuke  Laki-Laki   Single   95   98.0  95.833333\n"
     ]
    }
   ],
   "source": [
    "df.loc[2,'UAS'] = None\n",
    "print (df)"
   ]
  },
  {
   "cell_type": "code",
   "execution_count": 28,
   "id": "9ada3194",
   "metadata": {
    "slideshow": {
     "slide_type": "subslide"
    }
   },
   "outputs": [
    {
     "data": {
      "text/html": [
       "<div>\n",
       "<style scoped>\n",
       "    .dataframe tbody tr th:only-of-type {\n",
       "        vertical-align: middle;\n",
       "    }\n",
       "\n",
       "    .dataframe tbody tr th {\n",
       "        vertical-align: top;\n",
       "    }\n",
       "\n",
       "    .dataframe thead th {\n",
       "        text-align: right;\n",
       "    }\n",
       "</style>\n",
       "<table border=\"1\" class=\"dataframe\">\n",
       "  <thead>\n",
       "    <tr style=\"text-align: right;\">\n",
       "      <th></th>\n",
       "      <th>Nama</th>\n",
       "      <th>sex</th>\n",
       "      <th>status</th>\n",
       "      <th>UTS</th>\n",
       "      <th>UAS</th>\n",
       "      <th>RataNilai</th>\n",
       "    </tr>\n",
       "  </thead>\n",
       "  <tbody>\n",
       "    <tr>\n",
       "      <th>0</th>\n",
       "      <td>True</td>\n",
       "      <td>True</td>\n",
       "      <td>True</td>\n",
       "      <td>True</td>\n",
       "      <td>True</td>\n",
       "      <td>True</td>\n",
       "    </tr>\n",
       "    <tr>\n",
       "      <th>1</th>\n",
       "      <td>True</td>\n",
       "      <td>True</td>\n",
       "      <td>True</td>\n",
       "      <td>True</td>\n",
       "      <td>True</td>\n",
       "      <td>True</td>\n",
       "    </tr>\n",
       "    <tr>\n",
       "      <th>2</th>\n",
       "      <td>True</td>\n",
       "      <td>True</td>\n",
       "      <td>True</td>\n",
       "      <td>True</td>\n",
       "      <td>False</td>\n",
       "      <td>True</td>\n",
       "    </tr>\n",
       "    <tr>\n",
       "      <th>3</th>\n",
       "      <td>True</td>\n",
       "      <td>True</td>\n",
       "      <td>True</td>\n",
       "      <td>True</td>\n",
       "      <td>True</td>\n",
       "      <td>True</td>\n",
       "    </tr>\n",
       "  </tbody>\n",
       "</table>\n",
       "</div>"
      ],
      "text/plain": [
       "   Nama   sex  status   UTS    UAS  RataNilai\n",
       "0  True  True    True  True   True       True\n",
       "1  True  True    True  True   True       True\n",
       "2  True  True    True  True  False       True\n",
       "3  True  True    True  True   True       True"
      ]
     },
     "execution_count": 28,
     "metadata": {},
     "output_type": "execute_result"
    }
   ],
   "source": [
    "df.notnull()"
   ]
  },
  {
   "cell_type": "code",
   "execution_count": 29,
   "id": "54b4e70f",
   "metadata": {
    "slideshow": {
     "slide_type": "subslide"
    }
   },
   "outputs": [
    {
     "name": "stdout",
     "output_type": "stream",
     "text": [
      "         Nama        sex   status  UTS    UAS  RataNilai\n",
      "0     Rendika  Laki-laki  Menikah  100  100.0  99.833333\n",
      "1    Bae Suzy  Perempuan   Single   99   98.0  98.500000\n",
      "2      Naruto  Laki-laki  Menikah   97    NaN  96.500000\n",
      "3  Lee Min Ho  Laki-Laki   Single   95   98.0  95.833333\n"
     ]
    }
   ],
   "source": [
    "df = df.replace ({'Rapmon':'Ji Chang Wook','Sasuke':'Lee Min Ho'})\n",
    "print(df)"
   ]
  },
  {
   "cell_type": "markdown",
   "id": "5ab7b9bf",
   "metadata": {
    "slideshow": {
     "slide_type": "slide"
    }
   },
   "source": [
    "\n",
    "## Penangan Data Kosong"
   ]
  },
  {
   "cell_type": "code",
   "execution_count": 30,
   "id": "4e2a826a",
   "metadata": {
    "slideshow": {
     "slide_type": "subslide"
    }
   },
   "outputs": [
    {
     "data": {
      "text/html": [
       "<div>\n",
       "<style scoped>\n",
       "    .dataframe tbody tr th:only-of-type {\n",
       "        vertical-align: middle;\n",
       "    }\n",
       "\n",
       "    .dataframe tbody tr th {\n",
       "        vertical-align: top;\n",
       "    }\n",
       "\n",
       "    .dataframe thead th {\n",
       "        text-align: right;\n",
       "    }\n",
       "</style>\n",
       "<table border=\"1\" class=\"dataframe\">\n",
       "  <thead>\n",
       "    <tr style=\"text-align: right;\">\n",
       "      <th></th>\n",
       "      <th>Nama</th>\n",
       "      <th>sex</th>\n",
       "      <th>status</th>\n",
       "      <th>UTS</th>\n",
       "      <th>UAS</th>\n",
       "      <th>RataNilai</th>\n",
       "    </tr>\n",
       "  </thead>\n",
       "  <tbody>\n",
       "    <tr>\n",
       "      <th>0</th>\n",
       "      <td>Rendika</td>\n",
       "      <td>Laki-laki</td>\n",
       "      <td>Menikah</td>\n",
       "      <td>100</td>\n",
       "      <td>100.0</td>\n",
       "      <td>99.833333</td>\n",
       "    </tr>\n",
       "    <tr>\n",
       "      <th>1</th>\n",
       "      <td>Bae Suzy</td>\n",
       "      <td>Perempuan</td>\n",
       "      <td>Single</td>\n",
       "      <td>99</td>\n",
       "      <td>98.0</td>\n",
       "      <td>98.500000</td>\n",
       "    </tr>\n",
       "    <tr>\n",
       "      <th>2</th>\n",
       "      <td>Naruto</td>\n",
       "      <td>Laki-laki</td>\n",
       "      <td>Menikah</td>\n",
       "      <td>97</td>\n",
       "      <td>0.0</td>\n",
       "      <td>96.500000</td>\n",
       "    </tr>\n",
       "    <tr>\n",
       "      <th>3</th>\n",
       "      <td>Lee Min Ho</td>\n",
       "      <td>Laki-Laki</td>\n",
       "      <td>Single</td>\n",
       "      <td>95</td>\n",
       "      <td>98.0</td>\n",
       "      <td>95.833333</td>\n",
       "    </tr>\n",
       "  </tbody>\n",
       "</table>\n",
       "</div>"
      ],
      "text/plain": [
       "         Nama        sex   status  UTS    UAS  RataNilai\n",
       "0     Rendika  Laki-laki  Menikah  100  100.0  99.833333\n",
       "1    Bae Suzy  Perempuan   Single   99   98.0  98.500000\n",
       "2      Naruto  Laki-laki  Menikah   97    0.0  96.500000\n",
       "3  Lee Min Ho  Laki-Laki   Single   95   98.0  95.833333"
      ]
     },
     "execution_count": 30,
     "metadata": {},
     "output_type": "execute_result"
    }
   ],
   "source": [
    "df.fillna(0)"
   ]
  },
  {
   "cell_type": "code",
   "execution_count": 31,
   "id": "a3f86888",
   "metadata": {
    "slideshow": {
     "slide_type": "subslide"
    }
   },
   "outputs": [
    {
     "data": {
      "text/html": [
       "<div>\n",
       "<style scoped>\n",
       "    .dataframe tbody tr th:only-of-type {\n",
       "        vertical-align: middle;\n",
       "    }\n",
       "\n",
       "    .dataframe tbody tr th {\n",
       "        vertical-align: top;\n",
       "    }\n",
       "\n",
       "    .dataframe thead th {\n",
       "        text-align: right;\n",
       "    }\n",
       "</style>\n",
       "<table border=\"1\" class=\"dataframe\">\n",
       "  <thead>\n",
       "    <tr style=\"text-align: right;\">\n",
       "      <th></th>\n",
       "      <th>Nama</th>\n",
       "      <th>sex</th>\n",
       "      <th>status</th>\n",
       "      <th>UTS</th>\n",
       "      <th>UAS</th>\n",
       "      <th>RataNilai</th>\n",
       "    </tr>\n",
       "  </thead>\n",
       "  <tbody>\n",
       "    <tr>\n",
       "      <th>0</th>\n",
       "      <td>Rendika</td>\n",
       "      <td>Laki-laki</td>\n",
       "      <td>Menikah</td>\n",
       "      <td>100</td>\n",
       "      <td>100.0</td>\n",
       "      <td>99.833333</td>\n",
       "    </tr>\n",
       "    <tr>\n",
       "      <th>1</th>\n",
       "      <td>Bae Suzy</td>\n",
       "      <td>Perempuan</td>\n",
       "      <td>Single</td>\n",
       "      <td>99</td>\n",
       "      <td>98.0</td>\n",
       "      <td>98.500000</td>\n",
       "    </tr>\n",
       "    <tr>\n",
       "      <th>3</th>\n",
       "      <td>Lee Min Ho</td>\n",
       "      <td>Laki-Laki</td>\n",
       "      <td>Single</td>\n",
       "      <td>95</td>\n",
       "      <td>98.0</td>\n",
       "      <td>95.833333</td>\n",
       "    </tr>\n",
       "  </tbody>\n",
       "</table>\n",
       "</div>"
      ],
      "text/plain": [
       "         Nama        sex   status  UTS    UAS  RataNilai\n",
       "0     Rendika  Laki-laki  Menikah  100  100.0  99.833333\n",
       "1    Bae Suzy  Perempuan   Single   99   98.0  98.500000\n",
       "3  Lee Min Ho  Laki-Laki   Single   95   98.0  95.833333"
      ]
     },
     "execution_count": 31,
     "metadata": {},
     "output_type": "execute_result"
    }
   ],
   "source": [
    "df.dropna()"
   ]
  },
  {
   "cell_type": "code",
   "execution_count": 32,
   "id": "c5b7016f",
   "metadata": {
    "slideshow": {
     "slide_type": "subslide"
    }
   },
   "outputs": [
    {
     "data": {
      "text/html": [
       "<div>\n",
       "<style scoped>\n",
       "    .dataframe tbody tr th:only-of-type {\n",
       "        vertical-align: middle;\n",
       "    }\n",
       "\n",
       "    .dataframe tbody tr th {\n",
       "        vertical-align: top;\n",
       "    }\n",
       "\n",
       "    .dataframe thead th {\n",
       "        text-align: right;\n",
       "    }\n",
       "</style>\n",
       "<table border=\"1\" class=\"dataframe\">\n",
       "  <thead>\n",
       "    <tr style=\"text-align: right;\">\n",
       "      <th></th>\n",
       "      <th>Nama</th>\n",
       "      <th>sex</th>\n",
       "      <th>status</th>\n",
       "      <th>UTS</th>\n",
       "      <th>UAS</th>\n",
       "      <th>RataNilai</th>\n",
       "    </tr>\n",
       "  </thead>\n",
       "  <tbody>\n",
       "    <tr>\n",
       "      <th>0</th>\n",
       "      <td>Rendika</td>\n",
       "      <td>Laki-laki</td>\n",
       "      <td>Menikah</td>\n",
       "      <td>100</td>\n",
       "      <td>100.000000</td>\n",
       "      <td>99.833333</td>\n",
       "    </tr>\n",
       "    <tr>\n",
       "      <th>1</th>\n",
       "      <td>Bae Suzy</td>\n",
       "      <td>Perempuan</td>\n",
       "      <td>Single</td>\n",
       "      <td>99</td>\n",
       "      <td>98.000000</td>\n",
       "      <td>98.500000</td>\n",
       "    </tr>\n",
       "    <tr>\n",
       "      <th>2</th>\n",
       "      <td>Naruto</td>\n",
       "      <td>Laki-laki</td>\n",
       "      <td>Menikah</td>\n",
       "      <td>97</td>\n",
       "      <td>98.666667</td>\n",
       "      <td>96.500000</td>\n",
       "    </tr>\n",
       "    <tr>\n",
       "      <th>3</th>\n",
       "      <td>Lee Min Ho</td>\n",
       "      <td>Laki-Laki</td>\n",
       "      <td>Single</td>\n",
       "      <td>95</td>\n",
       "      <td>98.000000</td>\n",
       "      <td>95.833333</td>\n",
       "    </tr>\n",
       "  </tbody>\n",
       "</table>\n",
       "</div>"
      ],
      "text/plain": [
       "         Nama        sex   status  UTS         UAS  RataNilai\n",
       "0     Rendika  Laki-laki  Menikah  100  100.000000  99.833333\n",
       "1    Bae Suzy  Perempuan   Single   99   98.000000  98.500000\n",
       "2      Naruto  Laki-laki  Menikah   97   98.666667  96.500000\n",
       "3  Lee Min Ho  Laki-Laki   Single   95   98.000000  95.833333"
      ]
     },
     "execution_count": 32,
     "metadata": {},
     "output_type": "execute_result"
    }
   ],
   "source": [
    "df.fillna(df.UAS.mean(axis=0))"
   ]
  },
  {
   "cell_type": "markdown",
   "id": "ffe0edd9",
   "metadata": {
    "slideshow": {
     "slide_type": "slide"
    }
   },
   "source": [
    "# Bikin Data Orang Terfavorite Di Dunia VersiKu (coba coba)"
   ]
  },
  {
   "cell_type": "code",
   "execution_count": 33,
   "id": "82a9c97b",
   "metadata": {
    "slideshow": {
     "slide_type": "subslide"
    }
   },
   "outputs": [],
   "source": [
    "people = {'Nama' : ['bae suzy','Dwayne Johnson','Lebron James','Ji Chang Wook','Cristiano Ronaldo'], 'Age' : [26,49,36,34,36], 'Height' : [168,196,206,182,187], ' Jenis Kelamin' : ['Perempuan','Laki-Laki','Laki-Laki','Laki-Laki','Laki-Laki'], 'Pekerjaan' : ['Aktris','Aktor','Pemain NBA','Aktor','Pemain Bola']}"
   ]
  },
  {
   "cell_type": "code",
   "execution_count": 34,
   "id": "ebf7556c",
   "metadata": {
    "slideshow": {
     "slide_type": "subslide"
    }
   },
   "outputs": [
    {
     "name": "stdout",
     "output_type": "stream",
     "text": [
      "                Nama  Age  Height  Jenis Kelamin    Pekerjaan\n",
      "0           bae suzy   26     168      Perempuan       Aktris\n",
      "1     Dwayne Johnson   49     196      Laki-Laki        Aktor\n",
      "2       Lebron James   36     206      Laki-Laki   Pemain NBA\n",
      "3      Ji Chang Wook   34     182      Laki-Laki        Aktor\n",
      "4  Cristiano Ronaldo   36     187      Laki-Laki  Pemain Bola\n"
     ]
    }
   ],
   "source": [
    "ab = pd.DataFrame(data = people)\n",
    "print (ab)"
   ]
  },
  {
   "cell_type": "code",
   "execution_count": 35,
   "id": "f435cd6a",
   "metadata": {
    "slideshow": {
     "slide_type": "subslide"
    }
   },
   "outputs": [
    {
     "name": "stdout",
     "output_type": "stream",
     "text": [
      "                Nama  Age  Height  Jenis Kelamin    Pekerjaan  Status\n",
      "0           bae suzy   26     168      Perempuan       Aktris  Single\n",
      "1     Dwayne Johnson   49     196      Laki-Laki        Aktor   Taken\n",
      "2       Lebron James   36     206      Laki-Laki   Pemain NBA   Taken\n",
      "3      Ji Chang Wook   34     182      Laki-Laki        Aktor  Single\n",
      "4  Cristiano Ronaldo   36     187      Laki-Laki  Pemain Bola   Taken\n"
     ]
    }
   ],
   "source": [
    "ab['Status'] = ['Single','Taken','Taken','Single','Taken']\n",
    "print (ab)"
   ]
  },
  {
   "cell_type": "code",
   "execution_count": 36,
   "id": "d42e46cd",
   "metadata": {
    "slideshow": {
     "slide_type": "subslide"
    }
   },
   "outputs": [
    {
     "data": {
      "text/html": [
       "<div>\n",
       "<style scoped>\n",
       "    .dataframe tbody tr th:only-of-type {\n",
       "        vertical-align: middle;\n",
       "    }\n",
       "\n",
       "    .dataframe tbody tr th {\n",
       "        vertical-align: top;\n",
       "    }\n",
       "\n",
       "    .dataframe thead th {\n",
       "        text-align: right;\n",
       "    }\n",
       "</style>\n",
       "<table border=\"1\" class=\"dataframe\">\n",
       "  <thead>\n",
       "    <tr style=\"text-align: right;\">\n",
       "      <th></th>\n",
       "      <th>Nama</th>\n",
       "      <th>Age</th>\n",
       "      <th>Height</th>\n",
       "      <th>Jenis Kelamin</th>\n",
       "      <th>Pekerjaan</th>\n",
       "      <th>Status</th>\n",
       "    </tr>\n",
       "  </thead>\n",
       "  <tbody>\n",
       "    <tr>\n",
       "      <th>0</th>\n",
       "      <td>False</td>\n",
       "      <td>False</td>\n",
       "      <td>False</td>\n",
       "      <td>False</td>\n",
       "      <td>False</td>\n",
       "      <td>False</td>\n",
       "    </tr>\n",
       "    <tr>\n",
       "      <th>1</th>\n",
       "      <td>False</td>\n",
       "      <td>False</td>\n",
       "      <td>False</td>\n",
       "      <td>False</td>\n",
       "      <td>False</td>\n",
       "      <td>False</td>\n",
       "    </tr>\n",
       "    <tr>\n",
       "      <th>2</th>\n",
       "      <td>False</td>\n",
       "      <td>False</td>\n",
       "      <td>False</td>\n",
       "      <td>False</td>\n",
       "      <td>False</td>\n",
       "      <td>False</td>\n",
       "    </tr>\n",
       "    <tr>\n",
       "      <th>3</th>\n",
       "      <td>False</td>\n",
       "      <td>False</td>\n",
       "      <td>False</td>\n",
       "      <td>False</td>\n",
       "      <td>False</td>\n",
       "      <td>False</td>\n",
       "    </tr>\n",
       "    <tr>\n",
       "      <th>4</th>\n",
       "      <td>False</td>\n",
       "      <td>False</td>\n",
       "      <td>False</td>\n",
       "      <td>False</td>\n",
       "      <td>False</td>\n",
       "      <td>False</td>\n",
       "    </tr>\n",
       "  </tbody>\n",
       "</table>\n",
       "</div>"
      ],
      "text/plain": [
       "    Nama    Age  Height   Jenis Kelamin  Pekerjaan  Status\n",
       "0  False  False   False           False      False   False\n",
       "1  False  False   False           False      False   False\n",
       "2  False  False   False           False      False   False\n",
       "3  False  False   False           False      False   False\n",
       "4  False  False   False           False      False   False"
      ]
     },
     "execution_count": 36,
     "metadata": {},
     "output_type": "execute_result"
    }
   ],
   "source": [
    "ab.isnull()"
   ]
  },
  {
   "cell_type": "code",
   "execution_count": 37,
   "id": "daebda86",
   "metadata": {
    "slideshow": {
     "slide_type": "subslide"
    }
   },
   "outputs": [
    {
     "data": {
      "text/html": [
       "<div>\n",
       "<style scoped>\n",
       "    .dataframe tbody tr th:only-of-type {\n",
       "        vertical-align: middle;\n",
       "    }\n",
       "\n",
       "    .dataframe tbody tr th {\n",
       "        vertical-align: top;\n",
       "    }\n",
       "\n",
       "    .dataframe thead th {\n",
       "        text-align: right;\n",
       "    }\n",
       "</style>\n",
       "<table border=\"1\" class=\"dataframe\">\n",
       "  <thead>\n",
       "    <tr style=\"text-align: right;\">\n",
       "      <th></th>\n",
       "      <th>Nama</th>\n",
       "      <th>Age</th>\n",
       "      <th>Height</th>\n",
       "      <th>Jenis Kelamin</th>\n",
       "      <th>Pekerjaan</th>\n",
       "      <th>Status</th>\n",
       "    </tr>\n",
       "  </thead>\n",
       "  <tbody>\n",
       "    <tr>\n",
       "      <th>0</th>\n",
       "      <td>True</td>\n",
       "      <td>True</td>\n",
       "      <td>True</td>\n",
       "      <td>True</td>\n",
       "      <td>True</td>\n",
       "      <td>True</td>\n",
       "    </tr>\n",
       "    <tr>\n",
       "      <th>1</th>\n",
       "      <td>True</td>\n",
       "      <td>True</td>\n",
       "      <td>True</td>\n",
       "      <td>True</td>\n",
       "      <td>True</td>\n",
       "      <td>True</td>\n",
       "    </tr>\n",
       "    <tr>\n",
       "      <th>2</th>\n",
       "      <td>True</td>\n",
       "      <td>True</td>\n",
       "      <td>True</td>\n",
       "      <td>True</td>\n",
       "      <td>True</td>\n",
       "      <td>True</td>\n",
       "    </tr>\n",
       "    <tr>\n",
       "      <th>3</th>\n",
       "      <td>True</td>\n",
       "      <td>True</td>\n",
       "      <td>True</td>\n",
       "      <td>True</td>\n",
       "      <td>True</td>\n",
       "      <td>True</td>\n",
       "    </tr>\n",
       "    <tr>\n",
       "      <th>4</th>\n",
       "      <td>True</td>\n",
       "      <td>True</td>\n",
       "      <td>True</td>\n",
       "      <td>True</td>\n",
       "      <td>True</td>\n",
       "      <td>True</td>\n",
       "    </tr>\n",
       "  </tbody>\n",
       "</table>\n",
       "</div>"
      ],
      "text/plain": [
       "   Nama   Age  Height   Jenis Kelamin  Pekerjaan  Status\n",
       "0  True  True    True            True       True    True\n",
       "1  True  True    True            True       True    True\n",
       "2  True  True    True            True       True    True\n",
       "3  True  True    True            True       True    True\n",
       "4  True  True    True            True       True    True"
      ]
     },
     "execution_count": 37,
     "metadata": {},
     "output_type": "execute_result"
    }
   ],
   "source": [
    "ab.notnull()"
   ]
  },
  {
   "cell_type": "code",
   "execution_count": 38,
   "id": "cccc3eca",
   "metadata": {
    "slideshow": {
     "slide_type": "subslide"
    }
   },
   "outputs": [
    {
     "name": "stdout",
     "output_type": "stream",
     "text": [
      "                Nama  Age  Height  Jenis Kelamin    Pekerjaan  Status\n",
      "0           bae suzy   26     168      Perempuan       Aktris  Single\n",
      "1     Dwayne Johnson   49     196      Laki-Laki        Aktor   Taken\n",
      "2       Lebron James   36     206      Laki-Laki   Pemain NBA   Taken\n",
      "3      Ji Chang Wook   34     182      Laki-Laki        Aktor  Single\n",
      "4  Cristiano Ronaldo   36     185      Laki-Laki  Pemain Bola   Taken\n"
     ]
    }
   ],
   "source": [
    "ab.loc[4,'Height'] = 185\n",
    "print (ab)"
   ]
  },
  {
   "cell_type": "code",
   "execution_count": 39,
   "id": "49f030f8",
   "metadata": {
    "slideshow": {
     "slide_type": "subslide"
    }
   },
   "outputs": [
    {
     "data": {
      "text/html": [
       "<div>\n",
       "<style scoped>\n",
       "    .dataframe tbody tr th:only-of-type {\n",
       "        vertical-align: middle;\n",
       "    }\n",
       "\n",
       "    .dataframe tbody tr th {\n",
       "        vertical-align: top;\n",
       "    }\n",
       "\n",
       "    .dataframe thead th {\n",
       "        text-align: right;\n",
       "    }\n",
       "</style>\n",
       "<table border=\"1\" class=\"dataframe\">\n",
       "  <thead>\n",
       "    <tr style=\"text-align: right;\">\n",
       "      <th></th>\n",
       "      <th>0</th>\n",
       "      <th>1</th>\n",
       "      <th>2</th>\n",
       "      <th>3</th>\n",
       "      <th>4</th>\n",
       "    </tr>\n",
       "  </thead>\n",
       "  <tbody>\n",
       "    <tr>\n",
       "      <th>Nama</th>\n",
       "      <td>bae suzy</td>\n",
       "      <td>Dwayne Johnson</td>\n",
       "      <td>Lebron James</td>\n",
       "      <td>Ji Chang Wook</td>\n",
       "      <td>Cristiano Ronaldo</td>\n",
       "    </tr>\n",
       "    <tr>\n",
       "      <th>Age</th>\n",
       "      <td>26</td>\n",
       "      <td>49</td>\n",
       "      <td>36</td>\n",
       "      <td>34</td>\n",
       "      <td>36</td>\n",
       "    </tr>\n",
       "    <tr>\n",
       "      <th>Height</th>\n",
       "      <td>168</td>\n",
       "      <td>196</td>\n",
       "      <td>206</td>\n",
       "      <td>182</td>\n",
       "      <td>185</td>\n",
       "    </tr>\n",
       "    <tr>\n",
       "      <th>Jenis Kelamin</th>\n",
       "      <td>Perempuan</td>\n",
       "      <td>Laki-Laki</td>\n",
       "      <td>Laki-Laki</td>\n",
       "      <td>Laki-Laki</td>\n",
       "      <td>Laki-Laki</td>\n",
       "    </tr>\n",
       "    <tr>\n",
       "      <th>Pekerjaan</th>\n",
       "      <td>Aktris</td>\n",
       "      <td>Aktor</td>\n",
       "      <td>Pemain NBA</td>\n",
       "      <td>Aktor</td>\n",
       "      <td>Pemain Bola</td>\n",
       "    </tr>\n",
       "    <tr>\n",
       "      <th>Status</th>\n",
       "      <td>Single</td>\n",
       "      <td>Taken</td>\n",
       "      <td>Taken</td>\n",
       "      <td>Single</td>\n",
       "      <td>Taken</td>\n",
       "    </tr>\n",
       "  </tbody>\n",
       "</table>\n",
       "</div>"
      ],
      "text/plain": [
       "                        0               1             2              3  \\\n",
       "Nama             bae suzy  Dwayne Johnson  Lebron James  Ji Chang Wook   \n",
       "Age                    26              49            36             34   \n",
       "Height                168             196           206            182   \n",
       " Jenis Kelamin  Perempuan       Laki-Laki     Laki-Laki      Laki-Laki   \n",
       "Pekerjaan          Aktris           Aktor    Pemain NBA          Aktor   \n",
       "Status             Single           Taken         Taken         Single   \n",
       "\n",
       "                                4  \n",
       "Nama            Cristiano Ronaldo  \n",
       "Age                            36  \n",
       "Height                        185  \n",
       " Jenis Kelamin          Laki-Laki  \n",
       "Pekerjaan             Pemain Bola  \n",
       "Status                      Taken  "
      ]
     },
     "execution_count": 39,
     "metadata": {},
     "output_type": "execute_result"
    }
   ],
   "source": [
    "ab.T"
   ]
  },
  {
   "cell_type": "code",
   "execution_count": 40,
   "id": "fdd47062",
   "metadata": {
    "slideshow": {
     "slide_type": "subslide"
    }
   },
   "outputs": [
    {
     "name": "stdout",
     "output_type": "stream",
     "text": [
      "                Nama  Age  Height  Jenis Kelamin    Pekerjaan  Status\n",
      "0           bae suzy   26     168      Perempuan       Aktris  Single\n",
      "1     Dwayne Johnson   49     196      Laki-Laki        Aktor   Taken\n",
      "2       Lebron James   36     206      Laki-Laki   Pemain NBA   Taken\n",
      "3      Ji Chang Wook   34     182      Laki-Laki        Aktor  Single\n",
      "4  Cristiano Ronaldo   36     185      Laki-Laki  Pemain Bola   Taken\n"
     ]
    }
   ],
   "source": [
    "print(ab)"
   ]
  },
  {
   "cell_type": "code",
   "execution_count": 41,
   "id": "2874e2b5",
   "metadata": {
    "slideshow": {
     "slide_type": "subslide"
    }
   },
   "outputs": [
    {
     "name": "stdout",
     "output_type": "stream",
     "text": [
      "                Nama  Age  Height  Jenis Kelamin    Pekerjaan  Status\n",
      "0           bae suzy   26     168         Wanita       Aktris  Single\n",
      "1     Dwayne Johnson   49     196           Pria        Aktor   Taken\n",
      "2       Lebron James   36     206           Pria   Pemain NBA   Taken\n",
      "3      Ji Chang Wook   34     182           Pria        Aktor  Single\n",
      "4  Cristiano Ronaldo   36     185           Pria  Pemain Bola   Taken\n"
     ]
    }
   ],
   "source": [
    "ab = ab.replace({'Perempuan' : 'Wanita', 'Laki-Laki' : 'Pria'})\n",
    "print(ab)"
   ]
  },
  {
   "cell_type": "code",
   "execution_count": 42,
   "id": "a0b2d724",
   "metadata": {
    "slideshow": {
     "slide_type": "subslide"
    }
   },
   "outputs": [
    {
     "name": "stdout",
     "output_type": "stream",
     "text": [
      "                Nama  Age  Height  Jenis Kelamin    Pekerjaan  Status\n",
      "0           bae suzy   26     168         Wanita       Aktris    None\n",
      "1     Dwayne Johnson   49     196           Pria        Aktor   Taken\n",
      "2       Lebron James   36     206           Pria   Pemain NBA   Taken\n",
      "3      Ji Chang Wook   34     182           Pria        Aktor  Single\n",
      "4  Cristiano Ronaldo   36     185           Pria  Pemain Bola   Taken\n"
     ]
    }
   ],
   "source": [
    "ab.loc[0,'Status'] = None\n",
    "print(ab)"
   ]
  },
  {
   "cell_type": "code",
   "execution_count": 43,
   "id": "33c98708",
   "metadata": {
    "slideshow": {
     "slide_type": "subslide"
    }
   },
   "outputs": [
    {
     "name": "stdout",
     "output_type": "stream",
     "text": [
      "                Nama  Age  Height  Jenis Kelamin    Pekerjaan  Status    Agama\n",
      "0           bae suzy   26     168         Wanita       Aktris    None   Buddha\n",
      "1     Dwayne Johnson   49     196           Pria        Aktor   Taken  kristen\n",
      "2       Lebron James   36     206           Pria   Pemain NBA   Taken  Katotik\n",
      "3      Ji Chang Wook   34     182           Pria        Aktor  Single   Buddha\n",
      "4  Cristiano Ronaldo   36     185           Pria  Pemain Bola   Taken  Kristen\n"
     ]
    }
   ],
   "source": [
    "ab['Agama'] = ['Buddha','kristen','Katotik','Buddha','Kristen']\n",
    "print(ab)"
   ]
  },
  {
   "cell_type": "code",
   "execution_count": 44,
   "id": "79265c02",
   "metadata": {
    "slideshow": {
     "slide_type": "subslide"
    }
   },
   "outputs": [
    {
     "name": "stdout",
     "output_type": "stream",
     "text": [
      "                Nama  Age  Height  Jenis Kelamin    Pekerjaan  Status  \\\n",
      "0           bae suzy   26     168         Wanita       Aktris    None   \n",
      "1     Dwayne Johnson   49     196           Pria        Aktor   Taken   \n",
      "2       Lebron James   36     206           Pria   Pemain NBA   Taken   \n",
      "3      Ji Chang Wook   34     182           Pria        Aktor  Single   \n",
      "4  Cristiano Ronaldo   36     185           Pria  Pemain Bola   Taken   \n",
      "\n",
      "     Agama     Net Worth  \n",
      "0   Buddha   $30 million  \n",
      "1  kristen  $400 million  \n",
      "2  Katotik  $850 million  \n",
      "3   Buddha   $ 5 million  \n",
      "4  Kristen    $1 billion  \n"
     ]
    }
   ],
   "source": [
    "ab['Net Worth'] = ['$30 million','$400 million','$850 million','$ 5 million','$1 billion']\n",
    "print (ab)"
   ]
  },
  {
   "cell_type": "code",
   "execution_count": 45,
   "id": "979b011d",
   "metadata": {
    "slideshow": {
     "slide_type": "subslide"
    }
   },
   "outputs": [
    {
     "name": "stdout",
     "output_type": "stream",
     "text": [
      "                Nama  Age  Height  Jenis Kelamin    Pekerjaan  Status  \\\n",
      "0           bae suzy   26     168         Wanita       Aktris    None   \n",
      "1     Dwayne Johnson   49     196           Pria        Aktor   Taken   \n",
      "2       Lebron James   36     206           Pria   Pemain NBA   Taken   \n",
      "3      Ji Chang Wook   34     182           Pria        Aktor  Single   \n",
      "4  Cristiano Ronaldo   36     185           Pria  Pemain Bola   Taken   \n",
      "\n",
      "     Agama     Net Worth  \n",
      "0   Buddha   $30 million  \n",
      "1  kristen  $400 million  \n",
      "2  Katotik  $850 million  \n",
      "3   Buddha   $ 5 million  \n",
      "4  Kristen    $1 billion  \n"
     ]
    }
   ],
   "source": [
    "print (ab)"
   ]
  },
  {
   "cell_type": "code",
   "execution_count": 46,
   "id": "bdbce405",
   "metadata": {
    "slideshow": {
     "slide_type": "subslide"
    }
   },
   "outputs": [
    {
     "name": "stdout",
     "output_type": "stream",
     "text": [
      "                Nama  Age  Height  Jenis Kelamin    Pekerjaan  Status  \\\n",
      "0           bae suzy   26     168         Wanita       Aktris    None   \n",
      "1     Dwayne Johnson   49     196           Pria        Aktor   Taken   \n",
      "2       Lebron James   36     206           Pria   Pemain NBA   Taken   \n",
      "3      Ji Chang Wook   34     182           Pria        Aktor  Single   \n",
      "4  Cristiano Ronaldo   36     185           Pria  Pemain Bola   Taken   \n",
      "\n",
      "     Agama     Net Worth  \n",
      "0   Buddha   $30 million  \n",
      "1  kristen  $400 million  \n",
      "2  Katotik  $850 million  \n",
      "3   Buddha   $ 5 million  \n",
      "4  Kristen    $1 billion  \n"
     ]
    }
   ],
   "source": [
    "print(ab)"
   ]
  },
  {
   "cell_type": "code",
   "execution_count": 47,
   "id": "4ff2df68",
   "metadata": {
    "slideshow": {
     "slide_type": "subslide"
    }
   },
   "outputs": [
    {
     "name": "stdout",
     "output_type": "stream",
     "text": [
      "                Nama  Age  Height  Jenis Kelamin    Pekerjaan  Status  \\\n",
      "0           bae suzy   26     168         Wanita       Aktris    None   \n",
      "1     Dwayne Johnson   49     196           Pria        Aktor   Taken   \n",
      "2       Lebron James   36     206           Pria   Pemain NBA   Taken   \n",
      "3      Ji Chang Wook   34     182           Pria        Aktor  Single   \n",
      "4  Cristiano Ronaldo   36     185           Pria  Pemain Bola   Taken   \n",
      "\n",
      "     Agama     Net Worth          State  \n",
      "0   Buddha   $30 million  Korea Selatan  \n",
      "1  kristen  $400 million        America  \n",
      "2  Katotik  $850 million        America  \n",
      "3   Buddha   $ 5 million  Korea Selatan  \n",
      "4  Kristen    $1 billion        Spanyol  \n"
     ]
    }
   ],
   "source": [
    "ab['State'] = ['Korea Selatan','America','America','Korea Selatan','Spanyol']\n",
    "print (ab)"
   ]
  },
  {
   "cell_type": "code",
   "execution_count": 48,
   "id": "dc1f0a8c",
   "metadata": {
    "slideshow": {
     "slide_type": "subslide"
    }
   },
   "outputs": [
    {
     "data": {
      "text/html": [
       "<div>\n",
       "<style scoped>\n",
       "    .dataframe tbody tr th:only-of-type {\n",
       "        vertical-align: middle;\n",
       "    }\n",
       "\n",
       "    .dataframe tbody tr th {\n",
       "        vertical-align: top;\n",
       "    }\n",
       "\n",
       "    .dataframe thead th {\n",
       "        text-align: right;\n",
       "    }\n",
       "</style>\n",
       "<table border=\"1\" class=\"dataframe\">\n",
       "  <thead>\n",
       "    <tr style=\"text-align: right;\">\n",
       "      <th></th>\n",
       "      <th>Nama</th>\n",
       "      <th>Age</th>\n",
       "      <th>Height</th>\n",
       "      <th>Jenis Kelamin</th>\n",
       "      <th>Pekerjaan</th>\n",
       "      <th>Status</th>\n",
       "      <th>Agama</th>\n",
       "      <th>Net Worth</th>\n",
       "      <th>State</th>\n",
       "    </tr>\n",
       "  </thead>\n",
       "  <tbody>\n",
       "    <tr>\n",
       "      <th>0</th>\n",
       "      <td>False</td>\n",
       "      <td>False</td>\n",
       "      <td>False</td>\n",
       "      <td>False</td>\n",
       "      <td>False</td>\n",
       "      <td>True</td>\n",
       "      <td>False</td>\n",
       "      <td>False</td>\n",
       "      <td>False</td>\n",
       "    </tr>\n",
       "    <tr>\n",
       "      <th>1</th>\n",
       "      <td>False</td>\n",
       "      <td>False</td>\n",
       "      <td>False</td>\n",
       "      <td>False</td>\n",
       "      <td>False</td>\n",
       "      <td>False</td>\n",
       "      <td>False</td>\n",
       "      <td>False</td>\n",
       "      <td>False</td>\n",
       "    </tr>\n",
       "    <tr>\n",
       "      <th>2</th>\n",
       "      <td>False</td>\n",
       "      <td>False</td>\n",
       "      <td>False</td>\n",
       "      <td>False</td>\n",
       "      <td>False</td>\n",
       "      <td>False</td>\n",
       "      <td>False</td>\n",
       "      <td>False</td>\n",
       "      <td>False</td>\n",
       "    </tr>\n",
       "    <tr>\n",
       "      <th>3</th>\n",
       "      <td>False</td>\n",
       "      <td>False</td>\n",
       "      <td>False</td>\n",
       "      <td>False</td>\n",
       "      <td>False</td>\n",
       "      <td>False</td>\n",
       "      <td>False</td>\n",
       "      <td>False</td>\n",
       "      <td>False</td>\n",
       "    </tr>\n",
       "    <tr>\n",
       "      <th>4</th>\n",
       "      <td>False</td>\n",
       "      <td>False</td>\n",
       "      <td>False</td>\n",
       "      <td>False</td>\n",
       "      <td>False</td>\n",
       "      <td>False</td>\n",
       "      <td>False</td>\n",
       "      <td>False</td>\n",
       "      <td>False</td>\n",
       "    </tr>\n",
       "  </tbody>\n",
       "</table>\n",
       "</div>"
      ],
      "text/plain": [
       "    Nama    Age  Height   Jenis Kelamin  Pekerjaan  Status  Agama  Net Worth  \\\n",
       "0  False  False   False           False      False    True  False      False   \n",
       "1  False  False   False           False      False   False  False      False   \n",
       "2  False  False   False           False      False   False  False      False   \n",
       "3  False  False   False           False      False   False  False      False   \n",
       "4  False  False   False           False      False   False  False      False   \n",
       "\n",
       "   State  \n",
       "0  False  \n",
       "1  False  \n",
       "2  False  \n",
       "3  False  \n",
       "4  False  "
      ]
     },
     "execution_count": 48,
     "metadata": {},
     "output_type": "execute_result"
    }
   ],
   "source": [
    "ab.isnull()"
   ]
  },
  {
   "cell_type": "code",
   "execution_count": 49,
   "id": "11e2281e",
   "metadata": {
    "slideshow": {
     "slide_type": "subslide"
    }
   },
   "outputs": [
    {
     "data": {
      "text/html": [
       "<div>\n",
       "<style scoped>\n",
       "    .dataframe tbody tr th:only-of-type {\n",
       "        vertical-align: middle;\n",
       "    }\n",
       "\n",
       "    .dataframe tbody tr th {\n",
       "        vertical-align: top;\n",
       "    }\n",
       "\n",
       "    .dataframe thead th {\n",
       "        text-align: right;\n",
       "    }\n",
       "</style>\n",
       "<table border=\"1\" class=\"dataframe\">\n",
       "  <thead>\n",
       "    <tr style=\"text-align: right;\">\n",
       "      <th></th>\n",
       "      <th>Nama</th>\n",
       "      <th>Age</th>\n",
       "      <th>Height</th>\n",
       "      <th>Jenis Kelamin</th>\n",
       "      <th>Pekerjaan</th>\n",
       "      <th>Status</th>\n",
       "      <th>Agama</th>\n",
       "      <th>Net Worth</th>\n",
       "      <th>State</th>\n",
       "    </tr>\n",
       "  </thead>\n",
       "  <tbody>\n",
       "    <tr>\n",
       "      <th>1</th>\n",
       "      <td>Dwayne Johnson</td>\n",
       "      <td>49</td>\n",
       "      <td>196</td>\n",
       "      <td>Pria</td>\n",
       "      <td>Aktor</td>\n",
       "      <td>Taken</td>\n",
       "      <td>kristen</td>\n",
       "      <td>$400 million</td>\n",
       "      <td>America</td>\n",
       "    </tr>\n",
       "    <tr>\n",
       "      <th>2</th>\n",
       "      <td>Lebron James</td>\n",
       "      <td>36</td>\n",
       "      <td>206</td>\n",
       "      <td>Pria</td>\n",
       "      <td>Pemain NBA</td>\n",
       "      <td>Taken</td>\n",
       "      <td>Katotik</td>\n",
       "      <td>$850 million</td>\n",
       "      <td>America</td>\n",
       "    </tr>\n",
       "    <tr>\n",
       "      <th>3</th>\n",
       "      <td>Ji Chang Wook</td>\n",
       "      <td>34</td>\n",
       "      <td>182</td>\n",
       "      <td>Pria</td>\n",
       "      <td>Aktor</td>\n",
       "      <td>Single</td>\n",
       "      <td>Buddha</td>\n",
       "      <td>$ 5 million</td>\n",
       "      <td>Korea Selatan</td>\n",
       "    </tr>\n",
       "    <tr>\n",
       "      <th>4</th>\n",
       "      <td>Cristiano Ronaldo</td>\n",
       "      <td>36</td>\n",
       "      <td>185</td>\n",
       "      <td>Pria</td>\n",
       "      <td>Pemain Bola</td>\n",
       "      <td>Taken</td>\n",
       "      <td>Kristen</td>\n",
       "      <td>$1 billion</td>\n",
       "      <td>Spanyol</td>\n",
       "    </tr>\n",
       "  </tbody>\n",
       "</table>\n",
       "</div>"
      ],
      "text/plain": [
       "                Nama  Age  Height  Jenis Kelamin    Pekerjaan  Status  \\\n",
       "1     Dwayne Johnson   49     196           Pria        Aktor   Taken   \n",
       "2       Lebron James   36     206           Pria   Pemain NBA   Taken   \n",
       "3      Ji Chang Wook   34     182           Pria        Aktor  Single   \n",
       "4  Cristiano Ronaldo   36     185           Pria  Pemain Bola   Taken   \n",
       "\n",
       "     Agama     Net Worth          State  \n",
       "1  kristen  $400 million        America  \n",
       "2  Katotik  $850 million        America  \n",
       "3   Buddha   $ 5 million  Korea Selatan  \n",
       "4  Kristen    $1 billion        Spanyol  "
      ]
     },
     "execution_count": 49,
     "metadata": {},
     "output_type": "execute_result"
    }
   ],
   "source": [
    "ab.dropna()"
   ]
  },
  {
   "cell_type": "code",
   "execution_count": 50,
   "id": "e8399995",
   "metadata": {
    "slideshow": {
     "slide_type": "subslide"
    }
   },
   "outputs": [
    {
     "name": "stdout",
     "output_type": "stream",
     "text": [
      "                Nama  Age  Height  Jenis Kelamin    Pekerjaan  Status  \\\n",
      "0           bae suzy   26     168         Wanita       Aktris    None   \n",
      "1     Dwayne Johnson   49     196           Pria        Aktor   Taken   \n",
      "2       Lebron James   36     206           Pria   Pemain NBA   Taken   \n",
      "3      Ji Chang Wook   34     182           Pria        Aktor  Single   \n",
      "4  Cristiano Ronaldo   36     185           Pria  Pemain Bola   Taken   \n",
      "\n",
      "     Agama     Net Worth          State  \n",
      "0   Buddha   $30 million  Korea Selatan  \n",
      "1  kristen  $400 million        America  \n",
      "2  Katotik  $850 million        America  \n",
      "3   Buddha   $ 5 million  Korea Selatan  \n",
      "4  Kristen    $1 billion        Spanyol  \n"
     ]
    }
   ],
   "source": [
    "print(ab)"
   ]
  },
  {
   "cell_type": "code",
   "execution_count": 51,
   "id": "80c6098d",
   "metadata": {
    "slideshow": {
     "slide_type": "subslide"
    }
   },
   "outputs": [
    {
     "data": {
      "text/plain": [
       "0    194\n",
       "1    245\n",
       "2    242\n",
       "3    216\n",
       "4    221\n",
       "dtype: int64"
      ]
     },
     "execution_count": 51,
     "metadata": {},
     "output_type": "execute_result"
    }
   ],
   "source": [
    "ab.sum(axis=1)"
   ]
  },
  {
   "cell_type": "code",
   "execution_count": 52,
   "id": "92e85659",
   "metadata": {},
   "outputs": [
    {
     "data": {
      "text/plain": [
       "array(['Aktris', 'Aktor', 'Pemain NBA', 'Pemain Bola'], dtype=object)"
      ]
     },
     "execution_count": 52,
     "metadata": {},
     "output_type": "execute_result"
    }
   ],
   "source": [
    "ab['Pekerjaan'].unique()"
   ]
  },
  {
   "cell_type": "code",
   "execution_count": 53,
   "id": "9db1b127",
   "metadata": {},
   "outputs": [
    {
     "data": {
      "text/plain": [
       "(5, 9)"
      ]
     },
     "execution_count": 53,
     "metadata": {},
     "output_type": "execute_result"
    }
   ],
   "source": [
    "ab.shape"
   ]
  },
  {
   "cell_type": "code",
   "execution_count": 54,
   "id": "883af555",
   "metadata": {},
   "outputs": [
    {
     "name": "stdout",
     "output_type": "stream",
     "text": [
      "<class 'pandas.core.frame.DataFrame'>\n",
      "RangeIndex: 5 entries, 0 to 4\n",
      "Data columns (total 9 columns):\n",
      " #   Column          Non-Null Count  Dtype \n",
      "---  ------          --------------  ----- \n",
      " 0   Nama            5 non-null      object\n",
      " 1   Age             5 non-null      int64 \n",
      " 2   Height          5 non-null      int64 \n",
      " 3    Jenis Kelamin  5 non-null      object\n",
      " 4   Pekerjaan       5 non-null      object\n",
      " 5   Status          4 non-null      object\n",
      " 6   Agama           5 non-null      object\n",
      " 7   Net Worth       5 non-null      object\n",
      " 8   State           5 non-null      object\n",
      "dtypes: int64(2), object(7)\n",
      "memory usage: 488.0+ bytes\n"
     ]
    }
   ],
   "source": [
    "ab.info()"
   ]
  },
  {
   "cell_type": "code",
   "execution_count": 55,
   "id": "bfa2ea57",
   "metadata": {},
   "outputs": [
    {
     "data": {
      "text/html": [
       "<div>\n",
       "<style scoped>\n",
       "    .dataframe tbody tr th:only-of-type {\n",
       "        vertical-align: middle;\n",
       "    }\n",
       "\n",
       "    .dataframe tbody tr th {\n",
       "        vertical-align: top;\n",
       "    }\n",
       "\n",
       "    .dataframe thead th {\n",
       "        text-align: right;\n",
       "    }\n",
       "</style>\n",
       "<table border=\"1\" class=\"dataframe\">\n",
       "  <thead>\n",
       "    <tr style=\"text-align: right;\">\n",
       "      <th></th>\n",
       "      <th>Age</th>\n",
       "      <th>Height</th>\n",
       "    </tr>\n",
       "  </thead>\n",
       "  <tbody>\n",
       "    <tr>\n",
       "      <th>count</th>\n",
       "      <td>5.000000</td>\n",
       "      <td>5.00000</td>\n",
       "    </tr>\n",
       "    <tr>\n",
       "      <th>mean</th>\n",
       "      <td>36.200000</td>\n",
       "      <td>187.40000</td>\n",
       "    </tr>\n",
       "    <tr>\n",
       "      <th>std</th>\n",
       "      <td>8.258329</td>\n",
       "      <td>14.41527</td>\n",
       "    </tr>\n",
       "    <tr>\n",
       "      <th>min</th>\n",
       "      <td>26.000000</td>\n",
       "      <td>168.00000</td>\n",
       "    </tr>\n",
       "    <tr>\n",
       "      <th>25%</th>\n",
       "      <td>34.000000</td>\n",
       "      <td>182.00000</td>\n",
       "    </tr>\n",
       "    <tr>\n",
       "      <th>50%</th>\n",
       "      <td>36.000000</td>\n",
       "      <td>185.00000</td>\n",
       "    </tr>\n",
       "    <tr>\n",
       "      <th>75%</th>\n",
       "      <td>36.000000</td>\n",
       "      <td>196.00000</td>\n",
       "    </tr>\n",
       "    <tr>\n",
       "      <th>max</th>\n",
       "      <td>49.000000</td>\n",
       "      <td>206.00000</td>\n",
       "    </tr>\n",
       "  </tbody>\n",
       "</table>\n",
       "</div>"
      ],
      "text/plain": [
       "             Age     Height\n",
       "count   5.000000    5.00000\n",
       "mean   36.200000  187.40000\n",
       "std     8.258329   14.41527\n",
       "min    26.000000  168.00000\n",
       "25%    34.000000  182.00000\n",
       "50%    36.000000  185.00000\n",
       "75%    36.000000  196.00000\n",
       "max    49.000000  206.00000"
      ]
     },
     "execution_count": 55,
     "metadata": {},
     "output_type": "execute_result"
    }
   ],
   "source": [
    "ab.describe()"
   ]
  },
  {
   "cell_type": "code",
   "execution_count": 56,
   "id": "3b37d33c",
   "metadata": {},
   "outputs": [
    {
     "data": {
      "text/html": [
       "<div>\n",
       "<style scoped>\n",
       "    .dataframe tbody tr th:only-of-type {\n",
       "        vertical-align: middle;\n",
       "    }\n",
       "\n",
       "    .dataframe tbody tr th {\n",
       "        vertical-align: top;\n",
       "    }\n",
       "\n",
       "    .dataframe thead th {\n",
       "        text-align: right;\n",
       "    }\n",
       "</style>\n",
       "<table border=\"1\" class=\"dataframe\">\n",
       "  <thead>\n",
       "    <tr style=\"text-align: right;\">\n",
       "      <th></th>\n",
       "      <th>Nama</th>\n",
       "      <th>Age</th>\n",
       "      <th>Height</th>\n",
       "      <th>Jenis Kelamin</th>\n",
       "      <th>Pekerjaan</th>\n",
       "      <th>Status</th>\n",
       "      <th>Agama</th>\n",
       "      <th>Net Worth</th>\n",
       "      <th>State</th>\n",
       "    </tr>\n",
       "  </thead>\n",
       "  <tbody>\n",
       "    <tr>\n",
       "      <th>0</th>\n",
       "      <td>bae suzy</td>\n",
       "      <td>26</td>\n",
       "      <td>168</td>\n",
       "      <td>Wanita</td>\n",
       "      <td>Aktris</td>\n",
       "      <td>None</td>\n",
       "      <td>Buddha</td>\n",
       "      <td>$30 million</td>\n",
       "      <td>Korea Selatan</td>\n",
       "    </tr>\n",
       "    <tr>\n",
       "      <th>1</th>\n",
       "      <td>Dwayne Johnson</td>\n",
       "      <td>49</td>\n",
       "      <td>196</td>\n",
       "      <td>Pria</td>\n",
       "      <td>Aktor</td>\n",
       "      <td>Taken</td>\n",
       "      <td>kristen</td>\n",
       "      <td>$400 million</td>\n",
       "      <td>America</td>\n",
       "    </tr>\n",
       "    <tr>\n",
       "      <th>2</th>\n",
       "      <td>Lebron James</td>\n",
       "      <td>36</td>\n",
       "      <td>206</td>\n",
       "      <td>Pria</td>\n",
       "      <td>Pemain NBA</td>\n",
       "      <td>Taken</td>\n",
       "      <td>Katotik</td>\n",
       "      <td>$850 million</td>\n",
       "      <td>America</td>\n",
       "    </tr>\n",
       "    <tr>\n",
       "      <th>3</th>\n",
       "      <td>Ji Chang Wook</td>\n",
       "      <td>34</td>\n",
       "      <td>182</td>\n",
       "      <td>Pria</td>\n",
       "      <td>Aktor</td>\n",
       "      <td>Single</td>\n",
       "      <td>Buddha</td>\n",
       "      <td>$ 5 million</td>\n",
       "      <td>Korea Selatan</td>\n",
       "    </tr>\n",
       "    <tr>\n",
       "      <th>4</th>\n",
       "      <td>Cristiano Ronaldo</td>\n",
       "      <td>36</td>\n",
       "      <td>185</td>\n",
       "      <td>Pria</td>\n",
       "      <td>Pemain Bola</td>\n",
       "      <td>Taken</td>\n",
       "      <td>Kristen</td>\n",
       "      <td>$1 billion</td>\n",
       "      <td>Spanyol</td>\n",
       "    </tr>\n",
       "  </tbody>\n",
       "</table>\n",
       "</div>"
      ],
      "text/plain": [
       "                Nama  Age  Height  Jenis Kelamin    Pekerjaan  Status  \\\n",
       "0           bae suzy   26     168         Wanita       Aktris    None   \n",
       "1     Dwayne Johnson   49     196           Pria        Aktor   Taken   \n",
       "2       Lebron James   36     206           Pria   Pemain NBA   Taken   \n",
       "3      Ji Chang Wook   34     182           Pria        Aktor  Single   \n",
       "4  Cristiano Ronaldo   36     185           Pria  Pemain Bola   Taken   \n",
       "\n",
       "     Agama     Net Worth          State  \n",
       "0   Buddha   $30 million  Korea Selatan  \n",
       "1  kristen  $400 million        America  \n",
       "2  Katotik  $850 million        America  \n",
       "3   Buddha   $ 5 million  Korea Selatan  \n",
       "4  Kristen    $1 billion        Spanyol  "
      ]
     },
     "execution_count": 56,
     "metadata": {},
     "output_type": "execute_result"
    }
   ],
   "source": [
    "ab.head()"
   ]
  },
  {
   "cell_type": "code",
   "execution_count": 57,
   "id": "ddc39f0f",
   "metadata": {},
   "outputs": [
    {
     "name": "stdout",
     "output_type": "stream",
     "text": [
      " Volume in drive C is Windows\n",
      " Volume Serial Number is 4A44-3A12\n",
      "\n",
      " Directory of C:\\Users\\rendi\\ITTS DATA SCIENCE\n",
      "\n",
      "22/11/2021  23:08    <DIR>          .\n",
      "17/11/2021  03:49    <DIR>          ..\n",
      "22/11/2021  23:00    <DIR>          .ipynb_checkpoints\n",
      "21/10/2021  13:14             4.164 Alpro - LIST .ipynb\n",
      "14/10/2021  16:43             1.774 AlPro Praktek Minggu Pertama .ipynb\n",
      "18/10/2021  09:55             3.037 AlPro Teori 1.ipynb\n",
      "28/10/2021  13:06             3.500 CONTOH IF NESTED.ipynb\n",
      "22/11/2021  23:07            26.279 Data Science 1.ipynb\n",
      "12/09/2021  03:00    <DIR>          dolanan-data-main\n",
      "18/09/2021  08:51    <DIR>          dolanan-data-main Complete\n",
      "08/11/2021  10:13             8.330 Function 1.ipynb\n",
      "11/11/2021  13:19             3.728 Function Kodingan Kak Naufal.ipynb\n",
      "11/11/2021  15:16             3.645 Kalkulator Function Lengkap.ipynb\n",
      "21/10/2021  15:01             5.087 Kalkulator.ipynb\n",
      "04/11/2021  16:06             7.494 Kumpulan Tugas W - 5 Anak- Anak.ipynb\n",
      "21/11/2021  13:00             4.676 Membuat Segitiga Dari Range Python.ipynb\n",
      "25/10/2021  09:58             8.528 Percabangan IF ELSE ELIF.ipynb\n",
      "01/11/2021  11:19            11.415 Perulangan For.ipynb\n",
      "28/10/2021  14:43             6.174 Praktikum W-4 IF NESTED.ipynb\n",
      "18/10/2021  10:32             1.050 Tugas Alpro Slisih Umur Mutlak Version.ipynb\n",
      "01/11/2021  13:23             2.252 Tugas Alpro Week 5 Perulangan.ipynb\n",
      "04/11/2021  15:03             1.754 TUGAS FIBNACCI & DERET ANGKA SEGITIGA.ipynb\n",
      "04/11/2021  15:02             5.784 TUGAS PRAKTIKUM W - 5.ipynb\n",
      "18/11/2021  14:13             6.150 Untitled.ipynb\n",
      "22/11/2021  23:08            10.207 Untitled1.ipynb\n",
      "              20 File(s)        125.028 bytes\n",
      "               5 Dir(s)  57.408.688.128 bytes free\n"
     ]
    }
   ],
   "source": [
    "!dir"
   ]
  },
  {
   "cell_type": "code",
   "execution_count": 58,
   "id": "a4215ff4",
   "metadata": {},
   "outputs": [
    {
     "data": {
      "text/html": [
       "<div>\n",
       "<style scoped>\n",
       "    .dataframe tbody tr th:only-of-type {\n",
       "        vertical-align: middle;\n",
       "    }\n",
       "\n",
       "    .dataframe tbody tr th {\n",
       "        vertical-align: top;\n",
       "    }\n",
       "\n",
       "    .dataframe thead th {\n",
       "        text-align: right;\n",
       "    }\n",
       "</style>\n",
       "<table border=\"1\" class=\"dataframe\">\n",
       "  <thead>\n",
       "    <tr style=\"text-align: right;\">\n",
       "      <th></th>\n",
       "      <th>Nama</th>\n",
       "      <th>Age</th>\n",
       "      <th>Height</th>\n",
       "      <th>Jenis Kelamin</th>\n",
       "      <th>Pekerjaan</th>\n",
       "      <th>Status</th>\n",
       "      <th>Agama</th>\n",
       "      <th>Net Worth</th>\n",
       "      <th>State</th>\n",
       "    </tr>\n",
       "  </thead>\n",
       "  <tbody>\n",
       "    <tr>\n",
       "      <th>0</th>\n",
       "      <td>bae suzy</td>\n",
       "      <td>26</td>\n",
       "      <td>168</td>\n",
       "      <td>Wanita</td>\n",
       "      <td>Aktris</td>\n",
       "      <td>None</td>\n",
       "      <td>Buddha</td>\n",
       "      <td>$30 million</td>\n",
       "      <td>Korea Selatan</td>\n",
       "    </tr>\n",
       "    <tr>\n",
       "      <th>1</th>\n",
       "      <td>Dwayne Johnson</td>\n",
       "      <td>49</td>\n",
       "      <td>196</td>\n",
       "      <td>Pria</td>\n",
       "      <td>Aktor</td>\n",
       "      <td>Taken</td>\n",
       "      <td>kristen</td>\n",
       "      <td>$400 million</td>\n",
       "      <td>America</td>\n",
       "    </tr>\n",
       "    <tr>\n",
       "      <th>3</th>\n",
       "      <td>Ji Chang Wook</td>\n",
       "      <td>34</td>\n",
       "      <td>182</td>\n",
       "      <td>Pria</td>\n",
       "      <td>Aktor</td>\n",
       "      <td>Single</td>\n",
       "      <td>Buddha</td>\n",
       "      <td>$ 5 million</td>\n",
       "      <td>Korea Selatan</td>\n",
       "    </tr>\n",
       "    <tr>\n",
       "      <th>4</th>\n",
       "      <td>Cristiano Ronaldo</td>\n",
       "      <td>36</td>\n",
       "      <td>185</td>\n",
       "      <td>Pria</td>\n",
       "      <td>Pemain Bola</td>\n",
       "      <td>Taken</td>\n",
       "      <td>Kristen</td>\n",
       "      <td>$1 billion</td>\n",
       "      <td>Spanyol</td>\n",
       "    </tr>\n",
       "  </tbody>\n",
       "</table>\n",
       "</div>"
      ],
      "text/plain": [
       "                Nama  Age  Height  Jenis Kelamin    Pekerjaan  Status  \\\n",
       "0           bae suzy   26     168         Wanita       Aktris    None   \n",
       "1     Dwayne Johnson   49     196           Pria        Aktor   Taken   \n",
       "3      Ji Chang Wook   34     182           Pria        Aktor  Single   \n",
       "4  Cristiano Ronaldo   36     185           Pria  Pemain Bola   Taken   \n",
       "\n",
       "     Agama     Net Worth          State  \n",
       "0   Buddha   $30 million  Korea Selatan  \n",
       "1  kristen  $400 million        America  \n",
       "3   Buddha   $ 5 million  Korea Selatan  \n",
       "4  Kristen    $1 billion        Spanyol  "
      ]
     },
     "execution_count": 58,
     "metadata": {},
     "output_type": "execute_result"
    }
   ],
   "source": [
    "ab.iloc[[0,1,3,4], :]"
   ]
  },
  {
   "cell_type": "code",
   "execution_count": 59,
   "id": "02a09371",
   "metadata": {},
   "outputs": [
    {
     "data": {
      "text/plain": [
       "Nama              0\n",
       "Age               0\n",
       "Height            0\n",
       " Jenis Kelamin    0\n",
       "Pekerjaan         0\n",
       "Status            1\n",
       "Agama             0\n",
       "Net Worth         0\n",
       "State             0\n",
       "dtype: int64"
      ]
     },
     "execution_count": 59,
     "metadata": {},
     "output_type": "execute_result"
    }
   ],
   "source": [
    "ab.isnull().sum()"
   ]
  },
  {
   "cell_type": "code",
   "execution_count": 60,
   "id": "5cc2a58a",
   "metadata": {},
   "outputs": [
    {
     "data": {
      "text/plain": [
       "0    1\n",
       "1    0\n",
       "2    0\n",
       "3    0\n",
       "4    0\n",
       "dtype: int64"
      ]
     },
     "execution_count": 60,
     "metadata": {},
     "output_type": "execute_result"
    }
   ],
   "source": [
    "ab.isnull().sum(axis=1)"
   ]
  },
  {
   "cell_type": "code",
   "execution_count": 61,
   "id": "3ae6b04d",
   "metadata": {},
   "outputs": [
    {
     "data": {
      "text/plain": [
       "1"
      ]
     },
     "execution_count": 61,
     "metadata": {},
     "output_type": "execute_result"
    }
   ],
   "source": [
    "(ab.isnull().sum()).sum()"
   ]
  },
  {
   "cell_type": "markdown",
   "id": "e2acfbe3",
   "metadata": {
    "slideshow": {
     "slide_type": "slide"
    }
   },
   "source": [
    "# Coba Coba Buat Yang Lain"
   ]
  },
  {
   "cell_type": "code",
   "execution_count": null,
   "id": "1e4b71d0",
   "metadata": {
    "slideshow": {
     "slide_type": "subslide"
    }
   },
   "outputs": [],
   "source": []
  }
 ],
 "metadata": {
  "celltoolbar": "Slideshow",
  "kernelspec": {
   "display_name": "Python 3 (ipykernel)",
   "language": "python",
   "name": "python3"
  },
  "language_info": {
   "codemirror_mode": {
    "name": "ipython",
    "version": 3
   },
   "file_extension": ".py",
   "mimetype": "text/x-python",
   "name": "python",
   "nbconvert_exporter": "python",
   "pygments_lexer": "ipython3",
   "version": "3.8.12"
  }
 },
 "nbformat": 4,
 "nbformat_minor": 5
}

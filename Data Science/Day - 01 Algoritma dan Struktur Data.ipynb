{
 "cells": [
  {
   "cell_type": "code",
   "execution_count": null,
   "id": "6af1e9a8",
   "metadata": {},
   "outputs": [],
   "source": [
    "angka = int(input(\"Masukkan angka yang diminta : \"))\n",
    "\n",
    "for i in range (angka) :\n",
    "  print(i+1)"
   ]
  },
  {
   "cell_type": "code",
   "execution_count": null,
   "id": "5ade9a23",
   "metadata": {},
   "outputs": [],
   "source": [
    "Harga = int(input (\"Total Harga :\"))\n",
    "TotalBayar = int(input (\"Uang Bayar :\"))\n",
    "Hasil = Harga - TotalBayar\n",
    "print(\"Sisa uang anda adalah : \", Hasil)"
   ]
  },
  {
   "cell_type": "code",
   "execution_count": null,
   "id": "e6b55f58",
   "metadata": {},
   "outputs": [],
   "source": [
    "Alas = int(input (\"Masukkan Alas Segitiga : \"))\n",
    "Tinggi = int(input (\"Masukkan Tinggi Segitiga : \"))\n",
    "\n",
    "Luas = 1/2 * abs(Alas) * abs(Tinggi)\n",
    "print (Luas)"
   ]
  },
  {
   "cell_type": "code",
   "execution_count": null,
   "id": "be3718eb",
   "metadata": {},
   "outputs": [],
   "source": [
    "NamaTeman = [\"Rendika\",\"Halim\",\"Sigit\",\"Pikrie\"]\n",
    "print(NamaTeman[2])\n",
    "\n",
    "for i in (NamaTeman) :\n",
    "    print(i)\n",
    "\n",
    "len(NamaTeman)"
   ]
  },
  {
   "cell_type": "code",
   "execution_count": null,
   "id": "3405eedd",
   "metadata": {},
   "outputs": [],
   "source": [
    "nama = []\n",
    "BanyakTeman = int(input(\"Masukkan Banyak Teman :\"))\n",
    "for i in range (BanyakTeman) :\n",
    "    Nama = input(\"Masukkan Nama Teman :\")\n",
    "    nama.append(Nama)\n",
    "    \n",
    "print(nama)"
   ]
  },
  {
   "cell_type": "code",
   "execution_count": null,
   "id": "d16d5c6f",
   "metadata": {},
   "outputs": [],
   "source": [
    "Nama = input(\"Masukkan Nama Anda :\")\n",
    "Jabatan = input(\"Masukkan Jabatan Anda :\")\n",
    "Gaji = int(input(\"Masukkan Gaji Anda :\"))\n",
    "Pajak = 10/100\n",
    "\n",
    "print(\"Pegawai dengan nama\", Nama,\"dan jabatan\", Jabatan)\n",
    "\n",
    "BesarPajak = Gaji * Pajak\n",
    "GajiYangHarusDibayar = Gaji - BesarPajak\n",
    "\n",
    "print(\"dengan gaji\", Gaji, \"harus membayar pajak sebesar\", GajiYangHarusDibayar)"
   ]
  },
  {
   "cell_type": "code",
   "execution_count": null,
   "id": "859502fc",
   "metadata": {},
   "outputs": [],
   "source": [
    "Nama = input(\"Masukkan Nama ANDA : \")\n",
    "Nilai = int(input(\"Masukkan Nilai Anda : \"))\n",
    "\n",
    "if Nilai > 100 :\n",
    "    print(\"ANDA ADALAH DEWA\")\n",
    "elif 100 > Nilai > 0:\n",
    "    print(Nama, \"ANDA BUTUH BELAJAR LAGI\")\n",
    "else :\n",
    "    print(Nama, \"ANDA BODOH DARI SANANYA\")"
   ]
  },
  {
   "cell_type": "code",
   "execution_count": null,
   "id": "3f478c56",
   "metadata": {},
   "outputs": [],
   "source": [
    "NamaPembeli = input(\"Masukkan Nama Anda : \")\n",
    "TotalBelanja = int(input(\"Masukkan Total Belanja Anda : \"))\n",
    "NamaToko = \"TOKO BAROKAH\"\n",
    "Diskon1 = TotalBelanja*5/100\n",
    "Diskon2 = TotalBelanja*10/100\n",
    "\n",
    "if 100000 > TotalBelanja >= 90000 :\n",
    "    Pembayaran = TotalBelanja - Diskon1\n",
    "    print(NamaPembeli, \"Anda melakukan pembelian sebesar\", TotalBelanja, \"Total Pembayaran Anda setelah dipotong diskon adalah :\", Pembayaran, \"dan Selamat berbelanja kembali di\", NamaToko)\n",
    "elif TotalBelanja >= 100000 :\n",
    "    Pembayaran = TotalBelanja - Diskon2\n",
    "    print(NamaPembeli, \"Anda melakukan pembelian sebesar\", TotalBelanja, \"Total Pembayaran Anda setelah dipotong diskon adalah :\", Pembayaran, \"dan Selamat berbelanja kembali di\", NamaToko)\n",
    "else :\n",
    "    Pembayaran = TotalBelanja\n",
    "    print(NamaPembeli, \"Anda melakukan pembelian sebesar\", TotalBelanja, \"Anda tidak mendapat potongan harga\", \"dan Selamat berbelanja kembali di\", NamaToko)"
   ]
  },
  {
   "cell_type": "code",
   "execution_count": null,
   "id": "8069fbe7",
   "metadata": {},
   "outputs": [],
   "source": []
  }
 ],
 "metadata": {
  "kernelspec": {
   "display_name": "Python 3",
   "language": "python",
   "name": "python3"
  },
  "language_info": {
   "codemirror_mode": {
    "name": "ipython",
    "version": 3
   },
   "file_extension": ".py",
   "mimetype": "text/x-python",
   "name": "python",
   "nbconvert_exporter": "python",
   "pygments_lexer": "ipython3",
   "version": "3.8.8"
  }
 },
 "nbformat": 4,
 "nbformat_minor": 5
}

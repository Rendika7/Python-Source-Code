{
 "cells": [
  {
   "cell_type": "code",
   "execution_count": 1,
   "id": "fe86aa3e",
   "metadata": {},
   "outputs": [],
   "source": [
    "import numpy as np"
   ]
  },
  {
   "cell_type": "code",
   "execution_count": 2,
   "id": "6c9f97a5",
   "metadata": {},
   "outputs": [
    {
     "name": "stdout",
     "output_type": "stream",
     "text": [
      "1.22.3\n"
     ]
    }
   ],
   "source": [
    "print(np.__version__)"
   ]
  },
  {
   "cell_type": "code",
   "execution_count": 3,
   "id": "3b023243",
   "metadata": {},
   "outputs": [],
   "source": [
    "a = np.array([1,2,3,4,5])"
   ]
  },
  {
   "cell_type": "code",
   "execution_count": 4,
   "id": "5fc6cab2",
   "metadata": {},
   "outputs": [
    {
     "name": "stdout",
     "output_type": "stream",
     "text": [
      "[1 2 3 4 5]\n"
     ]
    }
   ],
   "source": [
    "print(a)"
   ]
  },
  {
   "cell_type": "code",
   "execution_count": 5,
   "id": "f723a7ef",
   "metadata": {},
   "outputs": [
    {
     "name": "stdout",
     "output_type": "stream",
     "text": [
      "<class 'numpy.ndarray'>\n"
     ]
    }
   ],
   "source": [
    "print(type(a))"
   ]
  },
  {
   "cell_type": "code",
   "execution_count": 6,
   "id": "4ee71f21",
   "metadata": {},
   "outputs": [],
   "source": [
    "b = np.array([[1,2,3],[6,7,8],[11,12,13]])"
   ]
  },
  {
   "cell_type": "code",
   "execution_count": 7,
   "id": "c176c208",
   "metadata": {},
   "outputs": [
    {
     "data": {
      "text/plain": [
       "array([[ 1,  2,  3],\n",
       "       [ 6,  7,  8],\n",
       "       [11, 12, 13]])"
      ]
     },
     "execution_count": 7,
     "metadata": {},
     "output_type": "execute_result"
    }
   ],
   "source": [
    "b"
   ]
  },
  {
   "cell_type": "code",
   "execution_count": 8,
   "id": "1f03616f",
   "metadata": {},
   "outputs": [
    {
     "name": "stdout",
     "output_type": "stream",
     "text": [
      "<class 'numpy.ndarray'>\n"
     ]
    }
   ],
   "source": [
    "print(type(b))"
   ]
  },
  {
   "cell_type": "code",
   "execution_count": 16,
   "id": "bc4923c0",
   "metadata": {},
   "outputs": [],
   "source": [
    "c = np.array([[1,2],[5,6],[9,10],[12,13]])"
   ]
  },
  {
   "cell_type": "code",
   "execution_count": 17,
   "id": "716d0ef8",
   "metadata": {},
   "outputs": [
    {
     "name": "stdout",
     "output_type": "stream",
     "text": [
      "[[ 1  2]\n",
      " [ 5  6]\n",
      " [ 9 10]\n",
      " [12 13]]\n"
     ]
    }
   ],
   "source": [
    "print(c)"
   ]
  },
  {
   "cell_type": "code",
   "execution_count": 18,
   "id": "51591ee1",
   "metadata": {},
   "outputs": [],
   "source": [
    "c = c.astype(\"f\")"
   ]
  },
  {
   "cell_type": "code",
   "execution_count": 19,
   "id": "b28faa7b",
   "metadata": {},
   "outputs": [
    {
     "name": "stdout",
     "output_type": "stream",
     "text": [
      "[[ 1.  2.]\n",
      " [ 5.  6.]\n",
      " [ 9. 10.]\n",
      " [12. 13.]]\n"
     ]
    }
   ],
   "source": [
    "print(c)"
   ]
  },
  {
   "cell_type": "code",
   "execution_count": 31,
   "id": "9ca6c80f",
   "metadata": {},
   "outputs": [
    {
     "name": "stdout",
     "output_type": "stream",
     "text": [
      "[[[ 1  2  3]\n",
      "  [ 4  5  6]]\n",
      "\n",
      " [[ 7  8  9]\n",
      "  [10 11 12]]]\n"
     ]
    }
   ],
   "source": [
    "d = np.array([[[1,2,3],[4,5,6]],[[7,8,9],[10,11,12]]])\n",
    "print(d)"
   ]
  },
  {
   "cell_type": "code",
   "execution_count": 32,
   "id": "69000631",
   "metadata": {},
   "outputs": [
    {
     "name": "stdout",
     "output_type": "stream",
     "text": [
      "7\n"
     ]
    }
   ],
   "source": [
    "print(d[1,0,0])"
   ]
  },
  {
   "cell_type": "code",
   "execution_count": 23,
   "id": "5a802058",
   "metadata": {},
   "outputs": [
    {
     "name": "stdout",
     "output_type": "stream",
     "text": [
      "int32\n",
      "int32\n",
      "float32\n"
     ]
    }
   ],
   "source": [
    "print(a.dtype)\n",
    "print(b.dtype)\n",
    "print(c.dtype)"
   ]
  },
  {
   "cell_type": "code",
   "execution_count": 35,
   "id": "bcb740ef",
   "metadata": {},
   "outputs": [
    {
     "name": "stdout",
     "output_type": "stream",
     "text": [
      "[[ 1.  2.  5.  6.]\n",
      " [ 9. 10. 12. 13.]]\n"
     ]
    }
   ],
   "source": [
    "print(c.reshape(2,4))"
   ]
  },
  {
   "cell_type": "code",
   "execution_count": 33,
   "id": "e2add025",
   "metadata": {},
   "outputs": [
    {
     "name": "stdout",
     "output_type": "stream",
     "text": [
      "(5,)\n",
      "(3, 3)\n",
      "(4, 2)\n",
      "(2, 2, 3)\n"
     ]
    }
   ],
   "source": [
    "print(a.shape)\n",
    "print(b.shape)\n",
    "print(c.shape)\n",
    "print(d.shape)"
   ]
  },
  {
   "cell_type": "code",
   "execution_count": 38,
   "id": "c035f42b",
   "metadata": {},
   "outputs": [
    {
     "name": "stdout",
     "output_type": "stream",
     "text": [
      "[[[ 1  2  3]\n",
      "  [ 4  5  6]]\n",
      "\n",
      " [[ 7  8  9]\n",
      "  [10 11 12]]]\n"
     ]
    }
   ],
   "source": [
    "print(d)"
   ]
  },
  {
   "cell_type": "code",
   "execution_count": 44,
   "id": "e1718cdc",
   "metadata": {},
   "outputs": [
    {
     "name": "stdout",
     "output_type": "stream",
     "text": [
      "1\n",
      "2\n",
      "3\n",
      "4\n",
      "5\n",
      "6\n",
      "7\n",
      "8\n",
      "9\n",
      "10\n",
      "11\n",
      "12\n"
     ]
    }
   ],
   "source": [
    "#Iterasi 3 Dimensi\n",
    "\n",
    "for i in d :\n",
    "    for y in i :\n",
    "        for x in y :\n",
    "            print(x)"
   ]
  },
  {
   "cell_type": "code",
   "execution_count": 55,
   "id": "138c724c",
   "metadata": {},
   "outputs": [
    {
     "name": "stdout",
     "output_type": "stream",
     "text": [
      "1\n",
      "2\n",
      "3\n",
      "4\n",
      "5\n",
      "6\n",
      "7\n",
      "8\n",
      "9\n",
      "10\n",
      "11\n",
      "12\n"
     ]
    }
   ],
   "source": [
    "#Iterasi 3 Dimensi dengan np.nditer(array)\n",
    "\n",
    "for x in np.nditer(d) :\n",
    "    print(x)"
   ]
  },
  {
   "cell_type": "code",
   "execution_count": 45,
   "id": "c3bbd706",
   "metadata": {},
   "outputs": [
    {
     "name": "stdout",
     "output_type": "stream",
     "text": [
      "1.0\n",
      "2.0\n",
      "5.0\n",
      "6.0\n",
      "9.0\n",
      "10.0\n",
      "12.0\n",
      "13.0\n"
     ]
    }
   ],
   "source": [
    "#Iterasi 2 Dimensi\n",
    "\n",
    "for i in c :\n",
    "    for y in i :\n",
    "        print(y)"
   ]
  },
  {
   "cell_type": "code",
   "execution_count": 58,
   "id": "291abbf8",
   "metadata": {},
   "outputs": [
    {
     "name": "stdout",
     "output_type": "stream",
     "text": [
      "1.0\n",
      "2.0\n",
      "5.0\n",
      "6.0\n",
      "9.0\n",
      "10.0\n",
      "12.0\n",
      "13.0\n"
     ]
    }
   ],
   "source": [
    "#Iterasi 2 Dimensi menggunakan np.nditer(array)\n",
    "\n",
    "for x in np.nditer(c) :\n",
    "    print(x)"
   ]
  },
  {
   "cell_type": "code",
   "execution_count": 64,
   "id": "e6cd9f7c",
   "metadata": {},
   "outputs": [
    {
     "name": "stdout",
     "output_type": "stream",
     "text": [
      "1\n",
      "3\n",
      "6\n",
      "10\n",
      "15\n"
     ]
    }
   ],
   "source": [
    "# Membuat iterasi untuk bilangan aritmatika\n",
    "x = 0\n",
    "for i in (a) :\n",
    "    x = x + i\n",
    "    print(x)"
   ]
  },
  {
   "cell_type": "code",
   "execution_count": 73,
   "id": "057a207a",
   "metadata": {},
   "outputs": [
    {
     "data": {
      "text/plain": [
       "array([[ 1,  2],\n",
       "       [ 3,  4],\n",
       "       [ 5,  6],\n",
       "       [ 7,  8],\n",
       "       [ 9, 10],\n",
       "       [11, 12],\n",
       "       [13, 14],\n",
       "       [15, 16]])"
      ]
     },
     "execution_count": 73,
     "metadata": {},
     "output_type": "execute_result"
    }
   ],
   "source": [
    "#Concatenate in numpy\n",
    "\n",
    "List1 = np.array([1,2,3,4,5])\n",
    "List2 = np.array([6,7,8,9,10])\n",
    "List3 = np.array([[1,2],[3,4],[5,6],[7,8]])\n",
    "List4 = np.array([[9,10],[11,12],[13,14],[15,16]])\n",
    "np.concatenate((List1,List2))\n",
    "np.concatenate((List3,List4))"
   ]
  },
  {
   "cell_type": "code",
   "execution_count": 77,
   "id": "2d894d38",
   "metadata": {},
   "outputs": [
    {
     "name": "stdout",
     "output_type": "stream",
     "text": [
      "[array([1, 2, 3]), array([4, 5, 6]), array([7, 8, 9])]\n"
     ]
    }
   ],
   "source": [
    "#Split in array Numpy\n",
    "List6 = np.array([1,2,3,4,5,6,7,8,9])\n",
    "print(np.array_split(List6,3))"
   ]
  },
  {
   "cell_type": "code",
   "execution_count": 81,
   "id": "16c20dc5",
   "metadata": {},
   "outputs": [
    {
     "name": "stdout",
     "output_type": "stream",
     "text": [
      "(array([1], dtype=int64),)\n"
     ]
    }
   ],
   "source": [
    "#Where di Numpy\n",
    "\n",
    "List8 = np.array([1,2,3,4,5,6,7])\n",
    "\n",
    "print(np.where(List8 == 2))"
   ]
  },
  {
   "cell_type": "code",
   "execution_count": 93,
   "id": "b5c7fd59",
   "metadata": {},
   "outputs": [
    {
     "name": "stdout",
     "output_type": "stream",
     "text": [
      "[0 1 2 3 4 5 6 8]\n",
      "[8 6 5 4 3 2 1 0]\n"
     ]
    }
   ],
   "source": [
    "#Sort in Numpy\n",
    "\n",
    "List7 = np.array([1,2,4,5,6,0,8,3])\n",
    "print(np.sort(List7))   #Ascending\n",
    "print(np.sort(List7)[::-1])   #Discending"
   ]
  },
  {
   "cell_type": "code",
   "execution_count": 98,
   "id": "3b7343b7",
   "metadata": {},
   "outputs": [
    {
     "name": "stdout",
     "output_type": "stream",
     "text": [
      "[1 3 4]\n"
     ]
    }
   ],
   "source": [
    "# Yang bernilai True akan di tampilkan, namun yang bernilai False akan tidak ditampilkan\n",
    "\n",
    "List9 = np.array([1,2,3,4,5])\n",
    "Index = np.array([True,False,True,True,False])\n",
    "print(List9[Index])"
   ]
  },
  {
   "cell_type": "code",
   "execution_count": 137,
   "id": "5b0c3242",
   "metadata": {},
   "outputs": [
    {
     "name": "stdout",
     "output_type": "stream",
     "text": [
      "[2 3 4 5]\n"
     ]
    }
   ],
   "source": [
    "#Slicing 1 dimensi\n",
    "List10 = np.array([1,2,3,4,5,6,7])\n",
    "print(List10[1:5])  # Slicing ini index terakhir dikurangi 1 maka, index 1 sampai 4 saja yang diambil. bukan sampai 5"
   ]
  },
  {
   "cell_type": "code",
   "execution_count": 136,
   "id": "78c4ca37",
   "metadata": {},
   "outputs": [
    {
     "name": "stdout",
     "output_type": "stream",
     "text": [
      "[[1]\n",
      " [4]\n",
      " [7]]\n"
     ]
    }
   ],
   "source": [
    "#Slicing 2 Dimensi\n",
    "\n",
    "List11 = np.array([[1,2,3],[4,5,6],[7,8,9]])\n",
    "print(List11[0:,0:1])"
   ]
  },
  {
   "cell_type": "code",
   "execution_count": null,
   "id": "fe628dd7",
   "metadata": {},
   "outputs": [],
   "source": []
  }
 ],
 "metadata": {
  "kernelspec": {
   "display_name": "Python 3 (ipykernel)",
   "language": "python",
   "name": "python3"
  },
  "language_info": {
   "codemirror_mode": {
    "name": "ipython",
    "version": 3
   },
   "file_extension": ".py",
   "mimetype": "text/x-python",
   "name": "python",
   "nbconvert_exporter": "python",
   "pygments_lexer": "ipython3",
   "version": "3.8.12"
  }
 },
 "nbformat": 4,
 "nbformat_minor": 5
}

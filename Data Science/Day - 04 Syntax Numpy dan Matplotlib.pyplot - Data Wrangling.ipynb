{
 "cells": [
  {
   "cell_type": "code",
   "execution_count": 1,
   "id": "8cef6c52",
   "metadata": {},
   "outputs": [],
   "source": [
    "import numpy as np"
   ]
  },
  {
   "cell_type": "code",
   "execution_count": 2,
   "id": "ebca9888",
   "metadata": {},
   "outputs": [
    {
     "name": "stdout",
     "output_type": "stream",
     "text": [
      "[ 7  9 11 13 15]\n"
     ]
    }
   ],
   "source": [
    "x = np.array([1,2,3,4,5])\n",
    "y = np.array([6,7,8,9,10])\n",
    "\n",
    "\n",
    "for i, j in zip(x,y) :\n",
    "    z = np.add(x,y)\n",
    "print(z)"
   ]
  },
  {
   "cell_type": "code",
   "execution_count": 3,
   "id": "ae60dcc3",
   "metadata": {},
   "outputs": [
    {
     "name": "stdout",
     "output_type": "stream",
     "text": [
      "[12 15 18]\n"
     ]
    },
    {
     "data": {
      "text/plain": [
       "[1, 2, 3, 4, 5, 6, 7, 8, 9, 10, 11, 12]"
      ]
     },
     "execution_count": 3,
     "metadata": {},
     "output_type": "execute_result"
    }
   ],
   "source": [
    "def Penjumlahan (x,y,z) :\n",
    "    r = x + y + z\n",
    "    return r\n",
    "PENJUMLAHAN = np.frompyfunc(Penjumlahan, 3, 1)\n",
    "print(PENJUMLAHAN([1,2,3],[4,5,6],[7,8,9]))\n",
    "\n",
    "List1 = [1,2,3,4]\n",
    "List2 = [5,6,7,8]\n",
    "List3 = [9,10,11,12]\n",
    "Penjumlahan (List1,List2,List3)"
   ]
  },
  {
   "cell_type": "code",
   "execution_count": 4,
   "id": "3333dffd",
   "metadata": {},
   "outputs": [
    {
     "name": "stdout",
     "output_type": "stream",
     "text": [
      "ADD IN NUMPY [ 7  9 11 13 15]\n",
      "SUBSTRACT IN NUMPY [-5 -5 -5 -5 -5]\n",
      "MULTIPLY IN NUMPY [ 6 14 24 36 50]\n",
      "DIVIDE IN NUMPY [0.16666667 0.28571429 0.375      0.44444444 0.5       ]\n",
      "POWER IN NUMPY [      1     128    6561  262144 9765625]\n",
      "MODULUS IN NUMPY [1 2 3 4 5]\n",
      "DIVMOD IN NUMPY (array([0, 0, 0, 0, 0], dtype=int32), array([1, 2, 3, 4, 5], dtype=int32))\n",
      "ABSOLUTE IN NUMPY [1 2 3 4 5]\n"
     ]
    }
   ],
   "source": [
    "a = np.array([1,2,3,4,5])\n",
    "b = np.array([6,7,8,9,10])\n",
    "\n",
    "print(\"ADD IN NUMPY\",np.add(a,b))\n",
    "print(\"SUBSTRACT IN NUMPY\",np.subtract(a,b))\n",
    "print(\"MULTIPLY IN NUMPY\",np.multiply(a,b))\n",
    "print(\"DIVIDE IN NUMPY\",np.divide(a,b))\n",
    "print(\"POWER IN NUMPY\",np.power(a,b))\n",
    "print(\"MODULUS IN NUMPY\",np.mod(a,b))\n",
    "print(\"DIVMOD IN NUMPY\",np.divmod(a,b))\n",
    "print(\"ABSOLUTE IN NUMPY\",np.abs(a,b))\n",
    "\n",
    "# Kalau skalar kita bisa menggunakan kayak biasanya, namun kalau vektor kita harus menggunakan numpy"
   ]
  },
  {
   "cell_type": "code",
   "execution_count": 5,
   "id": "9617c624",
   "metadata": {},
   "outputs": [
    {
     "name": "stdout",
     "output_type": "stream",
     "text": [
      "TRUNC IN NUMPY [1. 1. 1. 1.]\n",
      "FIX IN NUMPY [1. 1. 1. 1.]\n",
      "AROUND IN NUMPY [1. 1. 1. 2.]\n",
      "FLOOR IN NUMPY [1. 1. 1. 1.]\n",
      "CEIL IN NUMPY [2. 2. 2. 2.]\n"
     ]
    }
   ],
   "source": [
    "c = np.array([1.43,1.378,1.1,1.6])\n",
    "\n",
    "print(\"TRUNC IN NUMPY\",np.trunc(c))\n",
    "print(\"FIX IN NUMPY\",np.fix(c))\n",
    "print(\"AROUND IN NUMPY\",np.around(c))\n",
    "print(\"FLOOR IN NUMPY\",np.floor(c))\n",
    "print(\"CEIL IN NUMPY\",np.ceil(c))"
   ]
  },
  {
   "cell_type": "code",
   "execution_count": 6,
   "id": "cafa7cbb",
   "metadata": {},
   "outputs": [
    {
     "name": "stdout",
     "output_type": "stream",
     "text": [
      "Masukkan Angka Yang Ingin Di Logaritmakan : 100\n",
      "6.643856189774724\n",
      "[0.         1.         1.5849625  2.         2.32192809 2.5849625\n",
      " 2.80735492 3.         3.169925  ]\n"
     ]
    }
   ],
   "source": [
    "L = int(input(\"Masukkan Angka Yang Ingin Di Logaritmakan : \"))\n",
    "X = np.arange(1,10)\n",
    "print(np.log2(L))\n",
    "print(np.log2(X))\n",
    "\n",
    "# logaritma dengan base 2 yaitu log2() dan ada juga dengan base 10 yaitu log10()"
   ]
  },
  {
   "cell_type": "code",
   "execution_count": 7,
   "id": "91687b9c",
   "metadata": {},
   "outputs": [
    {
     "name": "stdout",
     "output_type": "stream",
     "text": [
      "120\n",
      "[  120 30240]\n"
     ]
    }
   ],
   "source": [
    "x = np.array([1,2,3,4,5])\n",
    "y = np.array([6,7,8,9,10])\n",
    "\n",
    "# menjumlahkan per array yaitu x dan y lalu hasilnya dijadikan ke dalam vektor yaitu [HASIL X  HASIL Y]\n",
    "print(np.prod(x))\n",
    "print(np.prod([x,y],axis=1))"
   ]
  },
  {
   "cell_type": "code",
   "execution_count": 8,
   "id": "863228c6",
   "metadata": {},
   "outputs": [
    {
     "name": "stdout",
     "output_type": "stream",
     "text": [
      "[    6    42   336  3024 30240]\n"
     ]
    }
   ],
   "source": [
    "y = np.array([6,7,8,9,10])\n",
    "\n",
    "print(np.cumprod(y))"
   ]
  },
  {
   "cell_type": "code",
   "execution_count": 9,
   "id": "48dd9c9a",
   "metadata": {},
   "outputs": [
    {
     "name": "stdout",
     "output_type": "stream",
     "text": [
      "[1 2 3 4 5]\n",
      "[0 0 0]\n",
      "[0 0 0]\n"
     ]
    }
   ],
   "source": [
    "x = np.array([1,2,3,4,5])\n",
    "\n",
    "x1 = np.diff(x) # cara ,menurunkan dua kali dengan lama\n",
    "print(x)\n",
    "print(np.diff(x1))\n",
    "\n",
    "print(np.diff(x,2)) # cara menurunkan dua kali dengan cepat"
   ]
  },
  {
   "cell_type": "code",
   "execution_count": 10,
   "id": "ecd856f3",
   "metadata": {},
   "outputs": [
    {
     "name": "stdout",
     "output_type": "stream",
     "text": [
      "3.141592653589793\n",
      "-1.0\n",
      "1.2246467991473532e-16\n"
     ]
    }
   ],
   "source": [
    "import math\n",
    "pi = np.pi\n",
    "print(pi)\n",
    "print(np.cos(pi))\n",
    "print(np.sin(pi))"
   ]
  },
  {
   "cell_type": "code",
   "execution_count": 11,
   "id": "e34ea35f",
   "metadata": {},
   "outputs": [
    {
     "name": "stdout",
     "output_type": "stream",
     "text": [
      "['Jakarta' 'Malang' 'Surabaya']\n",
      "['1' '2' '3' '4' '5' '6' '7' 'Apel' 'Jeruk' 'Makanan' 'Mangga']\n",
      "['1' '3' '5' 'Jeruk' 'Makanan']\n"
     ]
    }
   ],
   "source": [
    "Kota = np.array([\"Surabaya\", \"Jakarta\", \"Malang\", \"Surabaya\", \"Malang\"])\n",
    "print(np.unique(Kota)) # untuk mencari nilai uniq dari suatu list\n",
    "\n",
    "g = np.array([1,2,3,4,5,\"Makanan\",\"Mangga\",\"Jeruk\"])\n",
    "f = np.array([1,3,5,6,7,\"Jeruk\",\"Apel\",\"Makanan\"])\n",
    "\n",
    "print(np.union1d(g,f)) # untuk mencari nilai uniqe-nya dan juga menggabungkannya menjadi 1 list\n",
    "\n",
    "print(np.intersect1d(g,f)) #ini untuk menampilkan yang beda diantara kedua arraynya"
   ]
  },
  {
   "cell_type": "code",
   "execution_count": 12,
   "id": "f760fd58",
   "metadata": {},
   "outputs": [
    {
     "name": "stdout",
     "output_type": "stream",
     "text": [
      "18\n",
      "[0.7867984  0.78789363 0.75051896 0.33605047 0.89384306 0.84324645\n",
      " 0.59267672 0.98568701 0.69901377 0.0473961 ]\n",
      "[5 3]\n"
     ]
    }
   ],
   "source": [
    "from numpy import random\n",
    "\n",
    "j = np.array ([3,4,5,6,7])\n",
    "print(random.randint(0,100))\n",
    "print(random.rand(10))\n",
    "print(random.choice(j,size = 2))"
   ]
  },
  {
   "cell_type": "code",
   "execution_count": 13,
   "id": "07ea5665",
   "metadata": {},
   "outputs": [
    {
     "name": "stdout",
     "output_type": "stream",
     "text": [
      "[3 1 5 4 3 2 6 5 1 4]\n",
      "['ANGKA' 'ANGKA' 'GAMBAR' 'ANGKA' 'ANGKA' 'ANGKA' 'ANGKA' 'GAMBAR'\n",
      " 'GAMBAR' 'GAMBAR' 'ANGKA' 'ANGKA' 'ANGKA' 'ANGKA' 'GAMBAR' 'GAMBAR'\n",
      " 'ANGKA' 'ANGKA' 'ANGKA' 'ANGKA']\n"
     ]
    }
   ],
   "source": [
    "x = random.choice([1,2,3,4,5,6],p=[1/6,1/6,1/6,1/6,1/6,1/6], size = 10)\n",
    "print(x) # probabilitas mata dadu\n",
    "\n",
    "Y = random.choice(['ANGKA','GAMBAR'], p= [1/2,1/2], size = 20)\n",
    "print(Y)\n",
    "# 1/6 ini bukan nilai fix, jadi tidak ada yang pasti. bisa jadi meski kemungkinan 1/6 tidak akan keluar sama sekali angka yang berprobabilitas tersebut. jadi semuanya tidak dapat diprediksikan"
   ]
  },
  {
   "cell_type": "code",
   "execution_count": 14,
   "id": "04d51224",
   "metadata": {},
   "outputs": [
    {
     "name": "stdout",
     "output_type": "stream",
     "text": [
      "None\n",
      "['Irma' 'Sigit' 'Rendika' 'Thesion' 'Pikrie' 'Nanda']\n"
     ]
    }
   ],
   "source": [
    "Acak = np.array([\"Rendika\",\"Sigit\",\"Thesion\",\"Pikrie\",\"Nanda\",\"Irma\"])\n",
    "\n",
    "print(random.shuffle(Acak))\n",
    "print(random.permutation(Acak))"
   ]
  },
  {
   "cell_type": "code",
   "execution_count": 15,
   "id": "52aea73f",
   "metadata": {},
   "outputs": [],
   "source": [
    "# sns.displot([0,1,2,3,4,5]),hist = False - digunakan untuk menghilangkan si biru2 di grafik"
   ]
  },
  {
   "cell_type": "code",
   "execution_count": 16,
   "id": "d457071f",
   "metadata": {},
   "outputs": [
    {
     "name": "stderr",
     "output_type": "stream",
     "text": [
      "C:\\Users\\rendi\\anaconda3\\lib\\site-packages\\seaborn\\distributions.py:2557: FutureWarning: `distplot` is a deprecated function and will be removed in a future version. Please adapt your code to use either `displot` (a figure-level function with similar flexibility) or `kdeplot` (an axes-level function for kernel density plots).\n",
      "  warnings.warn(msg, FutureWarning)\n"
     ]
    },
    {
     "data": {
      "image/png": "[encoded data removed]",
      "text/plain": [
       "<Figure size 432x288 with 1 Axes>"
      ]
     },
     "metadata": {
      "needs_background": "light"
     },
     "output_type": "display_data"
    }
   ],
   "source": [
    "import matplotlib.pyplot as plt\n",
    "import seaborn as sns\n",
    "sns.distplot([0,1,2,3,4,5],hist=False)\n",
    "plt.show()"
   ]
  },
  {
   "cell_type": "code",
   "execution_count": 17,
   "id": "d6db35fe",
   "metadata": {},
   "outputs": [
    {
     "name": "stderr",
     "output_type": "stream",
     "text": [
      "C:\\Users\\rendi\\anaconda3\\lib\\site-packages\\seaborn\\distributions.py:2557: FutureWarning: `distplot` is a deprecated function and will be removed in a future version. Please adapt your code to use either `displot` (a figure-level function with similar flexibility) or `histplot` (an axes-level function for histograms).\n",
      "  warnings.warn(msg, FutureWarning)\n"
     ]
    },
    {
     "data": {
      "image/png": "[encoded data removed]",
      "text/plain": [
       "<Figure size 432x288 with 1 Axes>"
      ]
     },
     "metadata": {
      "needs_background": "light"
     },
     "output_type": "display_data"
    }
   ],
   "source": [
    "# random.normal(loc)\n",
    "# random.normal(scale)\n",
    "# random.normal(size = (2,3))\n",
    "\n",
    "sns.distplot(random.normal(size = 1000))\n",
    "plt.show()"
   ]
  },
  {
   "cell_type": "code",
   "execution_count": null,
   "id": "c99b918b",
   "metadata": {},
   "outputs": [],
   "source": []
  }
 ],
 "metadata": {
  "kernelspec": {
   "display_name": "Python 3 (ipykernel)",
   "language": "python",
   "name": "python3"
  },
  "language_info": {
   "codemirror_mode": {
    "name": "ipython",
    "version": 3
   },
   "file_extension": ".py",
   "mimetype": "text/x-python",
   "name": "python",
   "nbconvert_exporter": "python",
   "pygments_lexer": "ipython3",
   "version": "3.8.12"
  }
 },
 "nbformat": 4,
 "nbformat_minor": 5
}

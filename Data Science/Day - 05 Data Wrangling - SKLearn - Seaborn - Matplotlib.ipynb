{
 "cells": [
  {
   "cell_type": "code",
   "execution_count": 7,
   "id": "fa519f79",
   "metadata": {},
   "outputs": [
    {
     "name": "stdout",
     "output_type": "stream",
     "text": [
      "[[1 1 1]\n",
      " [1 1 1]\n",
      " [1 1 1]]\n"
     ]
    }
   ],
   "source": [
    "import numpy as np\n",
    "x=np.ones((3,3),int)\n",
    "print(x)"
   ]
  },
  {
   "cell_type": "code",
   "execution_count": 11,
   "id": "7dd64dd1",
   "metadata": {},
   "outputs": [
    {
     "name": "stdout",
     "output_type": "stream",
     "text": [
      "[[1. 0. 0. 0. 0.]\n",
      " [0. 1. 0. 0. 0.]\n",
      " [0. 0. 1. 0. 0.]\n",
      " [0. 0. 0. 1. 0.]\n",
      " [0. 0. 0. 0. 1.]]\n"
     ]
    }
   ],
   "source": [
    "x = np.identity(5)\n",
    "print(x)"
   ]
  },
  {
   "cell_type": "code",
   "execution_count": 20,
   "id": "169f0bd5",
   "metadata": {},
   "outputs": [
    {
     "name": "stdout",
     "output_type": "stream",
     "text": [
      "[0 2 4 6 8]\n"
     ]
    }
   ],
   "source": [
    "x = np.arange(0,10,2) #start, stop, num\n",
    "print(x)"
   ]
  },
  {
   "cell_type": "code",
   "execution_count": 25,
   "id": "95921b96",
   "metadata": {},
   "outputs": [
    {
     "name": "stdout",
     "output_type": "stream",
     "text": [
      "[ 0. 10.]\n",
      "[ 0. 20.]\n"
     ]
    }
   ],
   "source": [
    "x = np.linspace(0,20,2,False) #start,stop,num,boolean\n",
    "y = np.linspace(0,20,2,True)\n",
    "print(x)\n",
    "print(y)"
   ]
  },
  {
   "cell_type": "code",
   "execution_count": 33,
   "id": "938a24af",
   "metadata": {},
   "outputs": [],
   "source": [
    "# from __future__ import division\n",
    " \n",
    "# import numpy as np\n",
    " \n",
    "# m = 480\n",
    "# n = 320\n",
    " \n",
    "# s = 300  # Scale.\n",
    "# x = np.linspace(-m / s, m / s, num=m).reshape((1, m))\n",
    "# y = np.linspace(-n / s, n / s, num=n).reshape((n, 1))\n",
    "# Z = np.tile(x, (n, 1)) + 1j * np.tile(y, (1, m))\n",
    "\n",
    "# C = np.full((n, m), -0.4 + 0.6j)\n",
    "# M = np.full((n, m), True, dtype=bool)\n",
    "# for i in range(256):\n",
    "#     Z[M] = Z[M] * Z[M] + C[M]\n",
    "#     M[np.abs(Z) > 2] = False\n",
    "\n",
    "# C = np.full((n, m), -0.4 + 0.6j)\n",
    "# M = np.full((n, m), True, dtype=bool)\n",
    "# N = np.zeros((n, m))\n",
    "# for i in range(256):\n",
    "#     Z[M] = Z[M] * Z[M] + C[M]\n",
    "#     M[np.abs(Z) > 2] = False\n",
    "#     N[M] = i"
   ]
  },
  {
   "cell_type": "code",
   "execution_count": 58,
   "id": "1fcfd810",
   "metadata": {},
   "outputs": [
    {
     "name": "stdout",
     "output_type": "stream",
     "text": [
      "[[21 75 59 ... 55 33 92]\n",
      " [81 38 70 ... 68 78 94]\n",
      " [38 68 91 ... 50 79 86]\n",
      " ...\n",
      " [97 93  0 ... 45  2 75]\n",
      " [59 32 77 ... 58 94 55]\n",
      " [93 93 59 ... 87 31 44]]\n",
      "[21 75 59 ... 87 31 44]\n"
     ]
    }
   ],
   "source": [
    "import numpy as np\n",
    "Random_Matrix = np.random.randint(0,100,size=(100,100))\n",
    "print(Random_Matrix)\n",
    "Random_Matrix = Random_Matrix.reshape(10000,)\n",
    "print(Random_Matrix)"
   ]
  },
  {
   "cell_type": "code",
   "execution_count": 69,
   "id": "b99040cd",
   "metadata": {},
   "outputs": [
    {
     "data": {
      "text/plain": [
       "49.6834"
      ]
     },
     "execution_count": 69,
     "metadata": {},
     "output_type": "execute_result"
    }
   ],
   "source": [
    "np.average(Random_Matrix)\n",
    "np.mean(Random_Matrix)"
   ]
  },
  {
   "cell_type": "code",
   "execution_count": 70,
   "id": "35f2e99b",
   "metadata": {},
   "outputs": [
    {
     "name": "stderr",
     "output_type": "stream",
     "text": [
      "C:\\Users\\rendi\\anaconda3\\lib\\site-packages\\seaborn\\distributions.py:2557: FutureWarning: `distplot` is a deprecated function and will be removed in a future version. Please adapt your code to use either `displot` (a figure-level function with similar flexibility) or `kdeplot` (an axes-level function for kernel density plots).\n",
      "  warnings.warn(msg, FutureWarning)\n"
     ]
    },
    {
     "data": {
      "image/png": "[encoded data removed]",
      "text/plain": [
       "<Figure size 432x288 with 1 Axes>"
      ]
     },
     "metadata": {
      "needs_background": "light"
     },
     "output_type": "display_data"
    }
   ],
   "source": [
    "import matplotlib.pyplot as plt\n",
    "import seaborn as sns\n",
    "sns.distplot(Random_Matrix,hist=False)\n",
    "plt.show()"
   ]
  },
  {
   "cell_type": "code",
   "execution_count": 71,
   "id": "d04651bf",
   "metadata": {},
   "outputs": [
    {
     "name": "stderr",
     "output_type": "stream",
     "text": [
      "C:\\Users\\rendi\\anaconda3\\lib\\site-packages\\seaborn\\distributions.py:2557: FutureWarning: `distplot` is a deprecated function and will be removed in a future version. Please adapt your code to use either `displot` (a figure-level function with similar flexibility) or `histplot` (an axes-level function for histograms).\n",
      "  warnings.warn(msg, FutureWarning)\n"
     ]
    },
    {
     "data": {
      "image/png": "[encoded data removed]",
      "text/plain": [
       "<Figure size 432x288 with 1 Axes>"
      ]
     },
     "metadata": {
      "needs_background": "light"
     },
     "output_type": "display_data"
    }
   ],
   "source": [
    "import matplotlib.pyplot as plt\n",
    "import seaborn as sns\n",
    "sns.distplot(Random_Matrix,hist=True)\n",
    "plt.show()"
   ]
  },
  {
   "cell_type": "code",
   "execution_count": 112,
   "id": "ed5b7e8a",
   "metadata": {},
   "outputs": [
    {
     "name": "stdout",
     "output_type": "stream",
     "text": [
      "[[ 6.42151202  2.99992255  5.40577966  8.50268243  7.26539726  8.04859195\n",
      "   2.51883277  8.83483004  9.53124157  6.11749451  9.87548164  5.6687132\n",
      "   2.83948368  3.58393824 10.73722355  5.82550223 10.11588341  1.29960351\n",
      "   8.61330148  6.5360052 ]\n",
      " [ 6.60098188  3.60818846  9.62609575  5.33351925  5.01783427  3.55658721\n",
      "   3.06211476  3.10425083  2.61178018  5.16002886  5.35967258  3.66154859\n",
      "   3.38566588  7.6505708   4.56925909  4.44555014  4.3976368   2.03040084\n",
      "  10.06400181  1.03071279]\n",
      " [ 1.57965523  3.10592233  8.70070129  4.8560668   2.75178435  4.12271953\n",
      "   3.39328988  4.41943456  8.33999621  3.13666531  9.81554823  5.72973592\n",
      "   1.45121758  1.80235895  8.0600288   2.05828377  3.39097223  6.44413231\n",
      "   4.86744917  4.9230686 ]\n",
      " [ 5.85721478  7.87400544  5.85669958  8.1115253   7.42295613  3.63074971\n",
      "   1.09282541  7.48881196  6.39301828  2.29235111  8.21840237 10.74687236\n",
      "   6.15698558  5.97938548  6.83873376  7.11907172  3.66537561  2.83968895\n",
      "   8.68060376  8.67227955]\n",
      " [ 9.98030538  7.76419705  8.33595977  7.24792991  6.40394361  5.77908045\n",
      "   7.98860967  1.71417725 10.94385568  3.22250437  9.27531775  3.66371315\n",
      "  10.11449776  1.4912263   2.25955049  4.81746288  1.08006539  9.46015988\n",
      "   5.69853007  5.80848945]\n",
      " [ 1.17697624  6.92071645 10.83770688  2.23935927  1.31238656  8.3263391\n",
      "   7.91977839  6.67871677  9.47424097  7.37599456  8.68954216  5.94741962\n",
      "  10.24967779  3.10377126  7.41892194  1.80648201  6.34486529  6.48076781\n",
      "   8.1874429   4.15080328]\n",
      " [10.21105205  2.58409353  3.70818715  8.97721101  8.95569048  9.40765879\n",
      "   5.37298353  5.27601947  4.07132264  8.14101291  1.82694832  9.1540507\n",
      "   3.6318636   4.74186802  9.82523549  6.78066818  2.51934694  5.65021532\n",
      "   7.54817501  3.62962786]\n",
      " [ 6.54138623  6.3461998   7.12651163  7.16424436  6.59755467  8.59942813\n",
      "   1.3404298   8.53418402  9.91439092  2.16341184  5.02121341  1.12259198\n",
      "   5.50271368 10.32983492  8.92112192  8.05982275  9.31111424 10.95456129\n",
      "   8.22659905  5.99053852]\n",
      " [ 1.74138957  6.77634554  2.52765624  8.6163676   6.93643205  5.04518197\n",
      "   1.95381331  7.66707976  2.04634789  2.27828325  3.96772084  9.77445541\n",
      "   6.0897631   1.7143965   5.79162835  4.16507164  8.10707577  6.19859002\n",
      "   6.83352336  5.73599741]\n",
      " [ 1.56578044  3.04333839  1.89265224  6.70047952  5.00848229  1.02393712\n",
      "   4.11368844  8.78944651  6.40266001  9.19062136 10.37331004  6.65783107\n",
      "  10.0100597   2.24866912  7.39119754 10.81816308  7.63962263  9.3545035\n",
      "  10.97665656  2.68487304]]\n",
      "[6.42151202 2.99992255 5.40577966 8.50268243 7.26539726]\n"
     ]
    }
   ],
   "source": [
    "import random\n",
    "Random_Matrix = np.random.rand(10,20)*10\n",
    "\n",
    "Homogen_Matrix = np.ones((10,20))\n",
    "\n",
    "Jumlah = Random_Matrix + Homogen_Matrix\n",
    "print(Jumlah)\n",
    "\n",
    "Slicing = Jumlah[0,0:5]\n",
    "print(Slicing)\n",
    "\n",
    "# np.add(Random_Matrix,Homogen_Matrix)\n",
    "\n",
    "# np.subtract(Random_Matrix,Homogen_Matrix)\n",
    "\n",
    "# Pengurangan = Random_Matrix - Homogen_Matrix\n",
    "# print(Pengurangan)"
   ]
  },
  {
   "cell_type": "code",
   "execution_count": 113,
   "id": "c27fd764",
   "metadata": {},
   "outputs": [
    {
     "name": "stdout",
     "output_type": "stream",
     "text": [
      "(442, 10)\n",
      "(442,)\n",
      "[[ 0.03807591  0.05068012  0.06169621 ... -0.00259226  0.01990842\n",
      "  -0.01764613]\n",
      " [-0.00188202 -0.04464164 -0.05147406 ... -0.03949338 -0.06832974\n",
      "  -0.09220405]\n",
      " [ 0.08529891  0.05068012  0.04445121 ... -0.00259226  0.00286377\n",
      "  -0.02593034]\n",
      " ...\n",
      " [ 0.04170844  0.05068012 -0.01590626 ... -0.01107952 -0.04687948\n",
      "   0.01549073]\n",
      " [-0.04547248 -0.04464164  0.03906215 ...  0.02655962  0.04452837\n",
      "  -0.02593034]\n",
      " [-0.04547248 -0.04464164 -0.0730303  ... -0.03949338 -0.00421986\n",
      "   0.00306441]]\n",
      "Rata2 Dx kolom ke- 0 \n",
      " -3.6396225400041895e-16\n",
      "Rata2 Dx kolom ke- 1 \n",
      " 1.309912460049817e-16\n",
      "Rata2 Dx kolom ke- 2 \n",
      " -8.013951493363262e-16\n",
      "Rata2 Dx kolom ke- 3 \n",
      " 1.2898179256674614e-16\n",
      "Rata2 Dx kolom ke- 4 \n",
      " -9.042540472060098e-17\n",
      "Rata2 Dx kolom ke- 5 \n",
      " 1.3011211012575365e-16\n",
      "Rata2 Dx kolom ke- 6 \n",
      " -4.563971121592555e-16\n",
      "Rata2 Dx kolom ke- 7 \n",
      " 3.8631742350078977e-16\n",
      "Rata2 Dx kolom ke- 8 \n",
      " -3.848103334221131e-16\n",
      "Rata2 Dx kolom ke- 9 \n",
      " -3.39848812741592e-16\n",
      "Rata2 Dy\n",
      " 152.13348416289594\n"
     ]
    },
    {
     "data": {
      "image/png": "[encoded data removed]",
      "text/plain": [
       "<Figure size 432x288 with 1 Axes>"
      ]
     },
     "metadata": {
      "needs_background": "light"
     },
     "output_type": "display_data"
    }
   ],
   "source": [
    "from sklearn import datasets\n",
    "dx,dy=datasets.load_diabetes(return_X_y=True)\n",
    "print(np.shape(dx))\n",
    "print(np.shape(dy))\n",
    "print(dx)\n",
    "for i in range(10):\n",
    "    cdx=np.array(dx[:,i])\n",
    "    m=np.mean(cdx)\n",
    "    print(\"Rata2 Dx kolom ke-\",i,\"\\n\",m)\n",
    "print(\"Rata2 Dy\\n\",np.mean(dy))\n",
    "cd4=np.array(dx[:,3])\n",
    "plt.scatter(cd4,dy,color=\"magenta\")\n",
    "plt.show()"
   ]
  },
  {
   "cell_type": "code",
   "execution_count": null,
   "id": "7a1be361",
   "metadata": {},
   "outputs": [],
   "source": []
  }
 ],
 "metadata": {
  "kernelspec": {
   "display_name": "Python 3 (ipykernel)",
   "language": "python",
   "name": "python3"
  },
  "language_info": {
   "codemirror_mode": {
    "name": "ipython",
    "version": 3
   },
   "file_extension": ".py",
   "mimetype": "text/x-python",
   "name": "python",
   "nbconvert_exporter": "python",
   "pygments_lexer": "ipython3",
   "version": "3.8.12"
  }
 },
 "nbformat": 4,
 "nbformat_minor": 5
}

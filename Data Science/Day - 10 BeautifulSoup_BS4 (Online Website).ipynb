{
 "cells": [
  {
   "cell_type": "code",
   "execution_count": 10,
   "id": "77c0398a",
   "metadata": {},
   "outputs": [],
   "source": [
    "import requests #harus import req library biar bisa mengambil data dari web online\n",
    "from bs4 import BeautifulSoup"
   ]
  },
  {
   "cell_type": "markdown",
   "id": "b475102b",
   "metadata": {},
   "source": [
    "replace(\" \",\"\") digunakan buat menghilangkan spasi yang banyak ketika kita print data yang ingin dicari menggunakan |variabelnya.find(\"tag html nya\", class_=\"class nya\").text| biar lebih rapi saja. (\" \",\"\") pasangan petik pertama itu untuk spasinya, dan pasangan petik kedua itu untuk peggantinya. mau diganti ke apapun bisa"
   ]
  },
  {
   "cell_type": "code",
   "execution_count": 8,
   "id": "d4066ce0",
   "metadata": {},
   "outputs": [],
   "source": [
    "html_text = requests.get(\"https://www.timesjobs.com/candidate/job-search.html?searchType=personalizedSearch&from=submit&txtKeywords=python&txtLocation=\").text\n",
    "soup = BeautifulSoup(html_text,\"lxml\")\n",
    "jobs = soup.find_all(\"li\",class_=\"clearfix job-bx wht-shd-bx\")\n",
    "for job in jobs :\n",
    "    published_day = job.find(\"span\", class_=\"sim-posted\").span.text\n",
    "    if \"few\" in published_day :\n",
    "        company_name = job.find(\"h3\",class_=\"joblist-comp-name\").text.replace(\" \",\"\")\n",
    "        skills = job.find(\"span\",class_=\"srp-skills\").text.replace(\" \",\"\")\n",
    "\n",
    "#         print(f'''\n",
    "#         Company Name : {company_name}\n",
    "#         Required Skills : {skills}\n",
    "#         ''')\n",
    "#         print(\"\")"
   ]
  },
  {
   "cell_type": "code",
   "execution_count": 47,
   "id": "be80ccf2",
   "metadata": {},
   "outputs": [
    {
     "name": "stdout",
     "output_type": "stream",
     "text": [
      "Faculty & Staff\n",
      "Our Lecturers\n",
      "Bernadus Anggo Seno Aji, S.Kom., M.Kom.\n",
      "Amalia Nur Alifah, S.Si., M.Si. \n",
      "Helisyah Nur Fadhilah, S.Si., M.Mat.\n",
      "Moh. Hamim Zajuli Al Faroby, S.Si., M.Mat.\n",
      "Rifdatun Ni’mah, S.Si., M.Si.\n",
      "Regita Putri Permata, S.Stat., M.Stat.\n"
     ]
    }
   ],
   "source": [
    "from bs4 import BeautifulSoup\n",
    "import requests\n",
    "\n",
    "DataSains = requests.get(\"https://ds.ittelkom-sby.ac.id/faculty-and-staff/\").text\n",
    "\n",
    "soup = BeautifulSoup(DataSains,\"lxml\")\n",
    "# print(soup.prettify())\n",
    "\n",
    "title = soup.find(\"h1\",class_=\"page-title\").text\n",
    "print(title)\n",
    "\n",
    "keterangan = soup.find(\"h2\",class_=\"ugb-heading__title\").text\n",
    "print(keterangan)\n",
    "\n",
    "nama_dosen = soup.find_all(\"h2\",class_=\"qubely-block-text-title\")\n",
    "# print(nama_dosen[3].text)\n",
    "\n",
    "panjang = 0\n",
    "while panjang < 1 :\n",
    "    for i in range (len(nama_dosen)) :\n",
    "        print(nama_dosen[i].text)\n",
    "        i += 1\n",
    "    panjang += 1"
   ]
  },
  {
   "cell_type": "code",
   "execution_count": null,
   "id": "604eef60",
   "metadata": {},
   "outputs": [],
   "source": []
  }
 ],
 "metadata": {
  "kernelspec": {
   "display_name": "Python 3 (ipykernel)",
   "language": "python",
   "name": "python3"
  },
  "language_info": {
   "codemirror_mode": {
    "name": "ipython",
    "version": 3
   },
   "file_extension": ".py",
   "mimetype": "text/x-python",
   "name": "python",
   "nbconvert_exporter": "python",
   "pygments_lexer": "ipython3",
   "version": "3.8.12"
  }
 },
 "nbformat": 4,
 "nbformat_minor": 5
}

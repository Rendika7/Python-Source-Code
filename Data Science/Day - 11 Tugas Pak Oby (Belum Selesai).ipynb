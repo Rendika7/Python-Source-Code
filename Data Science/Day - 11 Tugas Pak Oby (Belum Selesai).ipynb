{
 "cells": [
  {
   "cell_type": "code",
   "execution_count": 6,
   "id": "e6501d7d",
   "metadata": {},
   "outputs": [],
   "source": [
    "import requests #harus import req library biar bisa mengambil data dari web online\n",
    "from bs4 import BeautifulSoup\n",
    "import numpy as np\n",
    "import pandas as pd"
   ]
  },
  {
   "cell_type": "code",
   "execution_count": 29,
   "id": "fe58c349",
   "metadata": {},
   "outputs": [],
   "source": [
    "html_text = requests.get(\"https://www.bola.com/pages/medali-olimpiade-tokyo\").text\n",
    "soup = BeautifulSoup(html_text,\"lxml\")\n",
    "Medali = soup.find_all(\"body\")\n",
    "Jumlah = soup.find_all(\"table\", class_=\"medali-olimpiade__table\")"
   ]
  },
  {
   "cell_type": "code",
   "execution_count": null,
   "id": "ea10381c",
   "metadata": {},
   "outputs": [],
   "source": []
  }
 ],
 "metadata": {
  "kernelspec": {
   "display_name": "Python 3 (ipykernel)",
   "language": "python",
   "name": "python3"
  },
  "language_info": {
   "codemirror_mode": {
    "name": "ipython",
    "version": 3
   },
   "file_extension": ".py",
   "mimetype": "text/x-python",
   "name": "python",
   "nbconvert_exporter": "python",
   "pygments_lexer": "ipython3",
   "version": "3.8.12"
  }
 },
 "nbformat": 4,
 "nbformat_minor": 5
}

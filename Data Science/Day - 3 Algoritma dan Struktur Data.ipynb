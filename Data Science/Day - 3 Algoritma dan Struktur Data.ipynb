{
 "cells": [
  {
   "cell_type": "code",
   "execution_count": 5,
   "id": "f9a263b1",
   "metadata": {},
   "outputs": [
    {
     "name": "stdout",
     "output_type": "stream",
     "text": [
      "616 ns ± 29.9 ns per loop (mean ± std. dev. of 7 runs, 1,000,000 loops each)\n"
     ]
    }
   ],
   "source": [
    "\n",
    "List = [1,7,8,9,3,4,0]\n",
    "angka = 4\n",
    "def linear_search(arr,Item):\n",
    "  for i in range(len(arr)) :\n",
    "    if arr[i] == Item :\n",
    "      return i\n",
    "  return -1\n",
    "linear_search(List,angka)\n",
    "%timeit linear_search(List,angka)"
   ]
  },
  {
   "cell_type": "code",
   "execution_count": 2,
   "id": "867e3884",
   "metadata": {},
   "outputs": [
    {
     "name": "stdout",
     "output_type": "stream",
     "text": [
      "18.4 ns ± 0.151 ns per loop (mean ± std. dev. of 7 runs, 100,000,000 loops each)\n"
     ]
    }
   ],
   "source": [
    "def linear_search (list, item) :\n",
    "  i = 0\n",
    "  while list[i] != item:\n",
    "    i+=1\n",
    "  return i\n",
    "\n",
    "list1 = [1,7,8,9,3,4,0]\n",
    "item = 4\n",
    "linear_search(list1,item)\n",
    "\n",
    "%timeit linear_search\n"
   ]
  },
  {
   "cell_type": "code",
   "execution_count": 3,
   "id": "1013a21a",
   "metadata": {},
   "outputs": [
    {
     "ename": "TypeError",
     "evalue": "repeat() got an unexpected keyword argument 'n'",
     "output_type": "error",
     "traceback": [
      "\u001b[1;31m---------------------------------------------------------------------------\u001b[0m",
      "\u001b[1;31mTypeError\u001b[0m                                 Traceback (most recent call last)",
      "Input \u001b[1;32mIn [3]\u001b[0m, in \u001b[0;36m<cell line: 2>\u001b[1;34m()\u001b[0m\n\u001b[0;32m      1\u001b[0m \u001b[38;5;28;01mimport\u001b[39;00m \u001b[38;5;21;01mtimeit\u001b[39;00m\n\u001b[1;32m----> 2\u001b[0m reps \u001b[38;5;241m=\u001b[39m \u001b[43mtimeit\u001b[49m\u001b[38;5;241;43m.\u001b[39;49m\u001b[43mrepeat\u001b[49m\u001b[43m(\u001b[49m\u001b[43mrepeat\u001b[49m\u001b[38;5;241;43m=\u001b[39;49m\u001b[38;5;241;43m3\u001b[39;49m\u001b[43m,\u001b[49m\u001b[43m \u001b[49m\u001b[43mn\u001b[49m\u001b[38;5;241;43m=\u001b[39;49m\u001b[38;5;241;43m10000\u001b[39;49m\u001b[43m,\u001b[49m\n\u001b[0;32m      3\u001b[0m \u001b[43m                     \u001b[49m\u001b[43mstmt\u001b[49m\u001b[38;5;241;43m=\u001b[39;49m\u001b[38;5;124;43m\"\u001b[39;49m\u001b[38;5;124;43mnp.random.choice(a)\u001b[39;49m\u001b[38;5;124;43m\"\u001b[39;49m\u001b[43m,\u001b[49m\n\u001b[0;32m      4\u001b[0m \u001b[43m                     \u001b[49m\u001b[43msetup\u001b[49m\u001b[38;5;241;43m=\u001b[39;49m\u001b[38;5;124;43m\"\u001b[39;49m\u001b[38;5;124;43mimport numpy as np; a=[0,6,3,1,3,9,4,3,2,6]\u001b[39;49m\u001b[38;5;124;43m\"\u001b[39;49m\u001b[43m)\u001b[49m\n\u001b[0;32m      5\u001b[0m avg \u001b[38;5;241m=\u001b[39m np\u001b[38;5;241m.\u001b[39mmean(reps)\n",
      "\u001b[1;31mTypeError\u001b[0m: repeat() got an unexpected keyword argument 'n'"
     ]
    }
   ],
   "source": [
    "import timeit\n",
    "reps = timeit.repeat(repeat=3, n=10000,\n",
    "                     stmt=\"np.random.choice(a)\",\n",
    "                     setup=\"import numpy as np; a=[0,6,3,1,3,9,4,3,2,6]\")\n",
    "avg = np.mean(reps)"
   ]
  },
  {
   "cell_type": "code",
   "execution_count": null,
   "id": "98b11add",
   "metadata": {},
   "outputs": [],
   "source": [
    "import random\n",
    "\n",
    "AngkaRahasia = random.randint (0,100)\n",
    "print(\"=\"*40)\n",
    "print(\"Angka rahasia sudah tersimpan, silahkan coba menebak...\")\n",
    "print(\"=\"*40)\n",
    "\n",
    "print(\"=\"*40)\n",
    "print(\"Easy - Medium - Hard - Very Hard\")\n",
    "Level = input(\"Masukkan Level Yang Anda Inginkan : \")\n",
    "\n",
    "if Level == \"Easy\" :\n",
    "  BatasPercobaan = 10\n",
    "elif Level == \"Medium\" :\n",
    "  BatasPercobaan = 7\n",
    "elif Level == \"Hard\" :\n",
    "  BatasPercobaan = 5\n",
    "else :\n",
    "  BatasPercobaan = 3\n",
    "print(\"=\"*40)\n",
    "\n",
    "\n",
    "for i in range (BatasPercobaan) :\n",
    "  print(\"Kesempatan Menebak Anda adalah\", BatasPercobaan, \"Kali\")\n",
    "  Jawaban = int(input(\"Masukkan tebakan angka anda : \"))\n",
    "  if Jawaban == AngkaRahasia :\n",
    "    print(\"Selamat Tebakan Anda Benar...\")\n",
    "    break\n",
    "  else :\n",
    "    if Jawaban < AngkaRahasia :\n",
    "      print(\"Tebakanmu terlalu kecil\") \n",
    "    else :\n",
    "      print(\"Tebakanmu terlalu besar\")\n",
    "  i+=1\n",
    "else:\n",
    "  print(\"=\"*40)\n",
    "  print(\"Maaf Anda Sudah Melewati Batas Percobaan, Anda Gagal...\")\n",
    "  print(\"=\"*40)"
   ]
  },
  {
   "cell_type": "code",
   "execution_count": null,
   "id": "57f1d146",
   "metadata": {},
   "outputs": [],
   "source": [
    "def linear_search (list, item) :\n",
    "  i = 0\n",
    "  while list[i] != item:\n",
    "    i+=1\n",
    "  return i\n",
    "\n",
    "NIM = [2207023010,2207023020,2207023030,2207023040,2207023050,2207023060,2207023070,2207023080]\n",
    "Key = int(input(\"Masukkan NIM Anda : \"))\n",
    "X = linear_search(NIM,Key)\n",
    "\n",
    "if X == 0 :\n",
    "  print(\"Mulyadi 2.94\")\n",
    "  elif X == 1 :\n",
    "    print(\"Willy Johan 3.15\")\n",
    "  elif X == 2 :\n",
    "   print(\"Anthony Liberty 2.78\")\n",
    "  elif X == 3 :\n",
    "    print(\"Ferry Santoso 3.37\")\n",
    "  elif X == 4 :\n",
    "    print(\"Jaya Mulya 2.93\")\n",
    "  elif X == 5 :\n",
    "    print(\"Budi Santoso 3.01\")\n",
    "  elif X == 6 :\n",
    "    print(\"Indra Gunawan 3.56\")\n",
    "  elif X == 7 :\n",
    "    print(\"M. Rudito W 3.44\")\n",
    "  else :\n",
    "    print(\"NIM Yang Anda Masukkan Salah\")"
   ]
  },
  {
   "cell_type": "code",
   "execution_count": null,
   "id": "cc00396f",
   "metadata": {},
   "outputs": [],
   "source": [
    "import pandas as pd\n",
    "import numpy as np\n",
    "\n",
    "\n",
    "Data = {\"NIM\" : [2207023010,2207023020,2207023030,2207023040,2207023050,2207023060,2207023070,2207023080],\n",
    "        \"Nama\": [\"Mulyadi\",\"Willy Johan\",\"Anthony Liberty\",\"Ferry Santoso\",\"Jaya Mulya\",\"Budi Santoso\",\"Indra Gunawan\",\"M. Rudito\"],\n",
    "        \"IPK\" : [2.94,3.15,2.78,3.37,2.93,3.01,3.56,3.44]\n",
    "            }\n",
    "\n",
    "df = pd.DataFrame(Data)\n",
    "\n",
    "array = np.array(df[\"NIM\"])\n",
    "array\n",
    "\n",
    "def binary_search(arr, n):\n",
    "    Awal = 0\n",
    "    Akhir = len(arr) - 1\n",
    "    Tengah = 0\n",
    "    while Awal <= Akhir:\n",
    "        Tengah = (Akhir + Awal) // 2\n",
    "        if arr[Tengah] < n:\n",
    "            Awal = Tengah + 1\n",
    "        elif arr[Tengah] > n:\n",
    "            Akhir = Tengah - 1\n",
    "        else: \n",
    "            return Tengah\n",
    "    return -1\n",
    "\n",
    "NIM_Dicari = int(input(\"Masukkan NIM yang ingin dicari : \"))\n",
    "r = binary_search(array, NIM_Dicari)\n",
    "\n",
    "if r != -1:\n",
    "    print(df.iloc[r])\n",
    "else: \n",
    "    print(\"NIM is not present in DATA\")"
   ]
  }
 ],
 "metadata": {
  "kernelspec": {
   "display_name": "Python 3 (ipykernel)",
   "language": "python",
   "name": "python3"
  },
  "language_info": {
   "codemirror_mode": {
    "name": "ipython",
    "version": 3
   },
   "file_extension": ".py",
   "mimetype": "text/x-python",
   "name": "python",
   "nbconvert_exporter": "python",
   "pygments_lexer": "ipython3",
   "version": "3.8.12"
  }
 },
 "nbformat": 4,
 "nbformat_minor": 5
}

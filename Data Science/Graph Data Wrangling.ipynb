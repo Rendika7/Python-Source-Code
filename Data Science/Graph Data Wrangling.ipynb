{
 "cells": [
  {
   "cell_type": "code",
   "execution_count": 3,
   "id": "8e7032f8",
   "metadata": {},
   "outputs": [],
   "source": [
    "import numpy as np\n",
    "import pandas as pd"
   ]
  },
  {
   "cell_type": "code",
   "execution_count": 2,
   "id": "b80d940f",
   "metadata": {},
   "outputs": [],
   "source": [
    "GRAF = {\n",
    "    \"A\" : {\n",
    "        \"B\" : 100000,\n",
    "        \"C\" : 150000,\n",
    "        \"F\" : 50000\n",
    "    },\n",
    "    \"B\" : {\n",
    "        \"C\" : 70000\n",
    "    },\n",
    "    \"C\" : {\n",
    "        \"D\" : 70000,\n",
    "        \"F\" : 100000\n",
    "    },\n",
    "    \"D\" : {\n",
    "        \"E\" : 70000\n",
    "    },\n",
    "    \"F\" : {\n",
    "        \"D\" : 50000\n",
    "    },\n",
    "    \"E\" : {\n",
    "        \"F\" : 13000\n",
    "    }\n",
    "}"
   ]
  },
  {
   "cell_type": "code",
   "execution_count": 4,
   "id": "66b0488d",
   "metadata": {},
   "outputs": [
    {
     "name": "stdout",
     "output_type": "stream",
     "text": [
      "100000\n",
      "150000\n",
      "50000\n",
      "70000\n",
      "70000\n",
      "100000\n",
      "70000\n",
      "50000\n",
      "13000\n"
     ]
    },
    {
     "data": {
      "text/plain": [
       "100000"
      ]
     },
     "execution_count": 4,
     "metadata": {},
     "output_type": "execute_result"
    }
   ],
   "source": [
    "for i in GRAF.keys() :\n",
    "    kunci = GRAF[i].keys()\n",
    "    for y in kunci :\n",
    "        p = GRAF[i][y]\n",
    "        print(p)\n",
    "GRAF[\"A\"][\"B\"]"
   ]
  },
  {
   "cell_type": "code",
   "execution_count": 7,
   "id": "0c90cb93",
   "metadata": {},
   "outputs": [
    {
     "data": {
      "text/plain": [
       "['S']"
      ]
     },
     "execution_count": 7,
     "metadata": {},
     "output_type": "execute_result"
    }
   ],
   "source": [
    "Rend = []\n",
    "Rend + [\"S\"]"
   ]
  },
  {
   "cell_type": "code",
   "execution_count": 10,
   "id": "e0c4d6c0",
   "metadata": {},
   "outputs": [
    {
     "name": "stdout",
     "output_type": "stream",
     "text": [
      "B\n",
      "C\n",
      "F\n"
     ]
    }
   ],
   "source": [
    "for node in GRAF[\"A\"] :\n",
    "    print (node)"
   ]
  },
  {
   "cell_type": "code",
   "execution_count": 8,
   "id": "8d10922d",
   "metadata": {},
   "outputs": [
    {
     "name": "stdout",
     "output_type": "stream",
     "text": [
      "['A', 'B', 'C', 'D', 'E']\n"
     ]
    }
   ],
   "source": [
    "def find (graph, start, end, path = []) :\n",
    "    path = path + [start] #sama seperti append - fungsi dari syntax ini adalah menaruh nilai start ke dalam list kosong yaitu path = []\n",
    "    for node in graph[start] : #node berarti mengambil nilai key kedua dari suatu graph - GRAF[\"A\"] -> B C F\n",
    "        if not node in path : #jika node tidak ada dipath\n",
    "            newpath = find(graph, node, end, path)\n",
    "            if newpath:\n",
    "                return newpath\n",
    "    if start == end:\n",
    "        return path\n",
    "    if not start in graph:\n",
    "        return None\n",
    "    return None\n",
    "    \n",
    "print(find(GRAF, \"A\", \"E\"))"
   ]
  },
  {
   "cell_type": "code",
   "execution_count": null,
   "id": "a4b3d1dc",
   "metadata": {},
   "outputs": [],
   "source": []
  }
 ],
 "metadata": {
  "kernelspec": {
   "display_name": "Python 3 (ipykernel)",
   "language": "python",
   "name": "python3"
  },
  "language_info": {
   "codemirror_mode": {
    "name": "ipython",
    "version": 3
   },
   "file_extension": ".py",
   "mimetype": "text/x-python",
   "name": "python",
   "nbconvert_exporter": "python",
   "pygments_lexer": "ipython3",
   "version": "3.8.12"
  }
 },
 "nbformat": 4,
 "nbformat_minor": 5
}

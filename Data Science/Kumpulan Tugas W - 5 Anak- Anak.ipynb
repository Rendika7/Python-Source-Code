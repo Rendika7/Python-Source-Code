{
 "cells": [
  {
   "cell_type": "markdown",
   "id": "a64be602",
   "metadata": {},
   "source": [
    "# Kelompok 1"
   ]
  },
  {
   "cell_type": "code",
   "execution_count": 7,
   "id": "f58fe37f",
   "metadata": {},
   "outputs": [
    {
     "name": "stdout",
     "output_type": "stream",
     "text": [
      "Masukkan banyak bilangan : 5\n",
      "\n",
      "Bilangan 1 dipangkatkan 1 sama dengan 1\n",
      "Hasil merupakan bilangan genap\n",
      "\n",
      "Bilangan 2 dipangkatkan 2 sama dengan 4\n",
      "Hasil merupakan bilangan ganjil\n",
      "\n",
      "Bilangan 3 dipangkatkan 3 sama dengan 27\n",
      "Hasil merupakan bilangan genap\n",
      "\n",
      "Bilangan 4 dipangkatkan 4 sama dengan 256\n",
      "Hasil merupakan bilangan ganjil\n",
      "\n",
      "Bilangan 5 dipangkatkan 5 sama dengan 3125\n",
      "Hasil merupakan bilangan genap\n",
      "\n"
     ]
    }
   ],
   "source": [
    "n = int(input(\"Masukkan banyak bilangan : \"))\n",
    "x=1\n",
    "print()\n",
    "while x <= n :\n",
    "  print('Bilangan', x, 'dipangkatkan', x, 'sama dengan', x**x)\n",
    "  x+=1\n",
    "  if (x**x)%2 == 0:\n",
    "    print(\"Hasil merupakan bilangan genap\")\n",
    "    print()\n",
    "  else:\n",
    "    print(\"Hasil merupakan bilangan ganjil\")\n",
    "    print()"
   ]
  },
  {
   "cell_type": "code",
   "execution_count": null,
   "id": "571e9dfd",
   "metadata": {},
   "outputs": [],
   "source": [
    "for number in range (1,((int(input(\"Masukkan banyak bilangan : \")))+1)) :\n",
    "  print(\"Bilangan\", number, \"dipangkatkan\", number, \"sama dengan\", number**number )\n",
    "  if (number**number)%2 == 0:\n",
    "    print(\"Hasil merupakan bilangan genap\")\n",
    "    print()\n",
    "  else:\n",
    "    print(\"Hasil merupakan bilangan ganjil\")\n",
    "    print()"
   ]
  },
  {
   "cell_type": "markdown",
   "id": "79f8cc70",
   "metadata": {},
   "source": [
    "# Kelompok 2"
   ]
  },
  {
   "cell_type": "code",
   "execution_count": null,
   "id": "4b6f3298",
   "metadata": {},
   "outputs": [],
   "source": [
    "username_1 = \"admin\"\n",
    "password_1 = \"admin\"\n",
    "\n",
    "i = 4\n",
    "while i > 0  :\n",
    "    username = input(\"masukkan username = \")\n",
    "    password = input(\"masukkan password = \")\n",
    "    if username==username_1 and password==password_1 :\n",
    "        print(\"anda berhasil login\")\n",
    "        print( )\n",
    "        break\n",
    "    else :\n",
    "        i -= 1 # i = i - 1\n",
    "        print(\"input salah, sisa percobaan tinggal \", i)\n",
    "        print( )\n",
    "        if i == 1 :\n",
    "            print(\"Ayo meski sudah 3x tetap semangat\")\n",
    "            print( )"
   ]
  },
  {
   "cell_type": "code",
   "execution_count": null,
   "id": "58de03c5",
   "metadata": {},
   "outputs": [],
   "source": []
  },
  {
   "cell_type": "markdown",
   "id": "59daf95f",
   "metadata": {},
   "source": [
    "# Kelompok 3"
   ]
  },
  {
   "cell_type": "code",
   "execution_count": null,
   "id": "6c5a9596",
   "metadata": {},
   "outputs": [],
   "source": [
    "F = 0 \n",
    "R = 0\n",
    "\n",
    "while(F<212 and R<80):\n",
    "    C = int(input(\"Masukkan Suhu Yang diinginkan : \"))\n",
    "    F = (9/5) * C + 32\n",
    "    R = (4/5) * C\n",
    "    print(C, \"Celcius ke Fahrenheit =\", F)\n",
    "    print(C, \"Celcius ke Reamur adalah =\", R)"
   ]
  },
  {
   "cell_type": "code",
   "execution_count": 12,
   "id": "fde4a106",
   "metadata": {},
   "outputs": [
    {
     "ename": "TypeError",
     "evalue": "range expected 1 argument, got 0",
     "output_type": "error",
     "traceback": [
      "\u001b[1;31m---------------------------------------------------------------------------\u001b[0m",
      "\u001b[1;31mTypeError\u001b[0m                                 Traceback (most recent call last)",
      "\u001b[1;32m<ipython-input-12-69bef2bf8874>\u001b[0m in \u001b[0;36m<module>\u001b[1;34m\u001b[0m\n\u001b[0;32m      2\u001b[0m \u001b[0mR\u001b[0m \u001b[1;33m=\u001b[0m \u001b[1;36m0\u001b[0m\u001b[1;33m\u001b[0m\u001b[1;33m\u001b[0m\u001b[0m\n\u001b[0;32m      3\u001b[0m \u001b[1;33m\u001b[0m\u001b[0m\n\u001b[1;32m----> 4\u001b[1;33m \u001b[1;32mfor\u001b[0m \u001b[0mx\u001b[0m \u001b[1;32min\u001b[0m \u001b[0mrange\u001b[0m\u001b[1;33m(\u001b[0m\u001b[1;33m)\u001b[0m\u001b[1;33m:\u001b[0m\u001b[1;33m\u001b[0m\u001b[1;33m\u001b[0m\u001b[0m\n\u001b[0m\u001b[0;32m      5\u001b[0m     \u001b[0mC\u001b[0m \u001b[1;33m=\u001b[0m \u001b[0mint\u001b[0m\u001b[1;33m(\u001b[0m\u001b[0minput\u001b[0m\u001b[1;33m(\u001b[0m\u001b[1;34m\"Masukkan Suhu Yang diinginkan : \"\u001b[0m\u001b[1;33m)\u001b[0m\u001b[1;33m)\u001b[0m\u001b[1;33m\u001b[0m\u001b[1;33m\u001b[0m\u001b[0m\n\u001b[0;32m      6\u001b[0m     \u001b[0mF\u001b[0m \u001b[1;33m=\u001b[0m \u001b[1;33m(\u001b[0m\u001b[1;36m9\u001b[0m\u001b[1;33m/\u001b[0m\u001b[1;36m5\u001b[0m\u001b[1;33m)\u001b[0m \u001b[1;33m*\u001b[0m \u001b[0mC\u001b[0m \u001b[1;33m+\u001b[0m \u001b[1;36m32\u001b[0m\u001b[1;33m\u001b[0m\u001b[1;33m\u001b[0m\u001b[0m\n",
      "\u001b[1;31mTypeError\u001b[0m: range expected 1 argument, got 0"
     ]
    }
   ],
   "source": [
    "F = 0 \n",
    "R = 0\n",
    "\n",
    "for x in range():\n",
    "    C = int(input(\"Masukkan Suhu Yang diinginkan : \"))\n",
    "    F = (9/5) * C + 32\n",
    "    R = (4/5) * C\n",
    "    print(C, \"Celcius ke Fahrenheit =\", F)\n",
    "    print(C, \"Celcius ke Reamur adalah =\", R)"
   ]
  },
  {
   "cell_type": "markdown",
   "id": "81671736",
   "metadata": {},
   "source": [
    "# Kelompok 4"
   ]
  },
  {
   "cell_type": "code",
   "execution_count": 5,
   "id": "de5fabdf",
   "metadata": {},
   "outputs": [
    {
     "name": "stdout",
     "output_type": "stream",
     "text": [
      "masukkan angka : 3\n",
      "1 ^ 1 = 1\n",
      "1 ^ 2 = 1\n",
      "1 ^ 3 = 1\n",
      "\n",
      "2 ^ 1 = 2\n",
      "2 ^ 2 = 4\n",
      "2 ^ 3 = 8\n",
      "\n",
      "3 ^ 1 = 3\n",
      "3 ^ 2 = 9\n",
      "3 ^ 3 = 27\n",
      "\n"
     ]
    }
   ],
   "source": [
    "n= int(input(\"masukkan angka : \"))\n",
    "\n",
    "for x in range (1, n+1) :\n",
    "    for y in range(1, n+1):\n",
    "        print('{} ^ {} = {}'.format(x,y,x**y) )\n",
    "    print()\n"
   ]
  },
  {
   "cell_type": "code",
   "execution_count": 6,
   "id": "de532a53",
   "metadata": {},
   "outputs": [
    {
     "name": "stdout",
     "output_type": "stream",
     "text": [
      "masukkan angka : 3\n",
      "Bilangan 3 dipangkatkan 3 adalah 27\n",
      "Bilangan 2 dipangkatkan 2 adalah 4\n",
      "Bilangan 1 dipangkatkan 1 adalah 1\n"
     ]
    }
   ],
   "source": [
    "n= int(input(\"masukkan angka : \"))\n",
    "\n",
    "while (0<n<6):\n",
    "    print(\"Bilangan\", n, \"dipangkatkan\", n,\"adalah\", n**n)\n",
    "    n -= 1"
   ]
  },
  {
   "cell_type": "code",
   "execution_count": null,
   "id": "73626081",
   "metadata": {},
   "outputs": [],
   "source": []
  }
 ],
 "metadata": {
  "kernelspec": {
   "display_name": "Python 3",
   "language": "python",
   "name": "python3"
  },
  "language_info": {
   "codemirror_mode": {
    "name": "ipython",
    "version": 3
   },
   "file_extension": ".py",
   "mimetype": "text/x-python",
   "name": "python",
   "nbconvert_exporter": "python",
   "pygments_lexer": "ipython3",
   "version": "3.8.8"
  }
 },
 "nbformat": 4,
 "nbformat_minor": 5
}

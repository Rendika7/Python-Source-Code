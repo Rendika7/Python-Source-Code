{
 "cells": [
  {
   "cell_type": "markdown",
   "id": "16ed7f5a",
   "metadata": {},
   "source": [
    "# Array"
   ]
  },
  {
   "cell_type": "code",
   "execution_count": 3,
   "id": "e4c82b57",
   "metadata": {},
   "outputs": [
    {
     "name": "stdout",
     "output_type": "stream",
     "text": [
      "Masukkan batasan Array : 5\n",
      "Masukkan Angka Yang Ingin Ditambahkan Ke Dalam Array : 1\n",
      "Masukkan Angka Yang Ingin Ditambahkan Ke Dalam Array : 1\n",
      "Masukkan Angka Yang Ingin Ditambahkan Ke Dalam Array : 1\n",
      "Masukkan Angka Yang Ingin Ditambahkan Ke Dalam Array : 2\n",
      "Masukkan Angka Yang Ingin Ditambahkan Ke Dalam Array : 3\n",
      "array('i', [1, 1, 1, 2, 3])\n"
     ]
    }
   ],
   "source": [
    "import array as arr\n",
    "\n",
    "Batasan = int(input(\"Masukkan batasan Array : \"))\n",
    "Array_1 = arr.array(\"i\",[])\n",
    "\n",
    "for i in range(Batasan) :\n",
    "        A = int(input(\"Masukkan Angka Yang Ingin Ditambahkan Ke Dalam Array : \"))\n",
    "        Array_1.append(A)\n",
    "print(Array_1)"
   ]
  },
  {
   "cell_type": "code",
   "execution_count": 55,
   "id": "640de3fb",
   "metadata": {},
   "outputs": [
    {
     "name": "stdout",
     "output_type": "stream",
     "text": [
      "Array Setelah di Extend : array('i', [1, 2, 3, 4, 5, 6, 7, 8, 9, 10])\n",
      "Array Setelah di Append : array('i', [1, 2, 3, 4, 5, 6, 7, 8, 9, 10, 11, 12])\n"
     ]
    }
   ],
   "source": [
    "import array as arr\n",
    "\n",
    "Array_1 = arr.array(\"i\",[1,2,3,4,5])\n",
    "Another_Array = arr.array(\"i\",[6,7,8,9,10])\n",
    "\n",
    "Array_1.extend(Another_Array)\n",
    "print(\"Array Setelah di Extend :\",Array_1)\n",
    "\n",
    "Array_1.append(11)\n",
    "Array_1.append(12)\n",
    "print(\"Array Setelah di Append :\",Array_1)"
   ]
  },
  {
   "cell_type": "code",
   "execution_count": 2,
   "id": "4e528067",
   "metadata": {},
   "outputs": [
    {
     "name": "stdout",
     "output_type": "stream",
     "text": [
      "Array Setelah Mengurangi Anggotanya : array('i', [2, 3, 4, 5, 6, 7, 8, 9, 10])\n"
     ]
    }
   ],
   "source": [
    "import array as arr\n",
    "\n",
    "Array_1 = arr.array(\"i\",[1,2,3,4,5,6,7,8,9,10,11,12])\n",
    "\n",
    "del Array_1 [0] #Menggunakan Index dari Array\n",
    "Array_1.remove(11)\n",
    "Array_1.remove(12)\n",
    "print(\"Array Setelah Mengurangi Anggotanya :\",Array_1)"
   ]
  },
  {
   "cell_type": "code",
   "execution_count": 50,
   "id": "dcffa8f1",
   "metadata": {},
   "outputs": [
    {
     "ename": "NameError",
     "evalue": "name 'Array_1' is not defined",
     "output_type": "error",
     "traceback": [
      "\u001b[1;31m---------------------------------------------------------------------------\u001b[0m",
      "\u001b[1;31mNameError\u001b[0m                                 Traceback (most recent call last)",
      "\u001b[1;32m<ipython-input-50-dc1ea9b29be1>\u001b[0m in \u001b[0;36m<module>\u001b[1;34m\u001b[0m\n\u001b[0;32m      4\u001b[0m \u001b[1;33m\u001b[0m\u001b[0m\n\u001b[0;32m      5\u001b[0m \u001b[1;32mdel\u001b[0m \u001b[0mArray_1\u001b[0m\u001b[1;33m\u001b[0m\u001b[1;33m\u001b[0m\u001b[0m\n\u001b[1;32m----> 6\u001b[1;33m \u001b[0mprint\u001b[0m\u001b[1;33m(\u001b[0m\u001b[0mArray_1\u001b[0m\u001b[1;33m)\u001b[0m\u001b[1;33m\u001b[0m\u001b[1;33m\u001b[0m\u001b[0m\n\u001b[0m",
      "\u001b[1;31mNameError\u001b[0m: name 'Array_1' is not defined"
     ]
    }
   ],
   "source": [
    "import array as arr\n",
    "\n",
    "Array_1 = arr.array(\"i\",[2,3,4,5,6,7,8,9,10])\n",
    "\n",
    "del Array_1\n",
    "print(Array_1)\n",
    "#Muncul eror karena array telah di hapus secara keseluruhan"
   ]
  },
  {
   "cell_type": "code",
   "execution_count": 86,
   "id": "946a92cc",
   "metadata": {},
   "outputs": [
    {
     "name": "stdout",
     "output_type": "stream",
     "text": [
      "Array Sebelum di Copy : [10 20 30 40 50 60 70]\n",
      "Array Sesudah di Copy : [10 20 30 40 50 60 70]\n"
     ]
    }
   ],
   "source": [
    "from numpy import *\n",
    "\n",
    "Array_2 = array([10,20,30,40,50,60,70])\n",
    "# |New_Array_2 = Array_2.copy()| Array tidak punya attribute copy\n",
    "print(\"Array Sebelum di Copy :\",Array_2)\n",
    "New_Array = Array_2.copy()\n",
    "print(\"Array Sesudah di Copy :\",New_Array)"
   ]
  },
  {
   "cell_type": "markdown",
   "id": "7ec176c3",
   "metadata": {},
   "source": [
    "# List"
   ]
  },
  {
   "cell_type": "code",
   "execution_count": 88,
   "id": "25a15db8",
   "metadata": {},
   "outputs": [
    {
     "name": "stdout",
     "output_type": "stream",
     "text": [
      "masukkan batasan list : 2\n",
      "masukkan anggota: 1\n",
      "masukkan anggota: 2\n",
      "[1, 2]\n"
     ]
    }
   ],
   "source": [
    "batasan = int(input(\"masukkan batasan list : \"))\n",
    "List = []\n",
    "for i in range(batasan):\n",
    "    a = int(input(\"masukkan anggota: \"))\n",
    "    List.append(a)\n",
    "print(List)"
   ]
  },
  {
   "cell_type": "code",
   "execution_count": 96,
   "id": "63948f93",
   "metadata": {},
   "outputs": [
    {
     "name": "stdout",
     "output_type": "stream",
     "text": [
      "Menggunakan Append : ['Tokyo', 'Nairobi', 'Berlin', 'Oslo', 'Moskow']\n",
      "Menggunakan Extend : ['Tokyo', 'Nairobi', 'Berlin', 'Oslo', 'Moskow', 'Rio', 'Denver', 'Helsinki']\n"
     ]
    }
   ],
   "source": [
    "Kota = [\"Tokyo\", \"Nairobi\", \"Berlin\"]\n",
    "\n",
    "Kota.append(\"Oslo\")\n",
    "Kota.append(\"Moskow\")\n",
    "print(\"Menggunakan Append :\",Kota)\n",
    "\n",
    "Kota.extend([\"Rio\", \"Denver\", \"Helsinki\"])\n",
    "print(\"Menggunakan Extend :\",Kota)"
   ]
  },
  {
   "cell_type": "code",
   "execution_count": 106,
   "id": "4adae5da",
   "metadata": {},
   "outputs": [
    {
     "name": "stdout",
     "output_type": "stream",
     "text": [
      "Mengurangi Anggota Menggunakan Remove : ['Luksemburg', 'Swiss', 'Irlandia', 'Norwegia', 'Amerika', 'Denmark', 'Surabaya', 'Bali']\n",
      "Mengurangi Anggota Menggunakan Del : ['Luksemburg', 'Swiss', 'Irlandia', 'Norwegia', 'Amerika', 'Denmark']\n"
     ]
    }
   ],
   "source": [
    "Negara = [\"Luksemburg\",\"Swiss\",\"Irlandia\",\"Norwegia\",\"Amerika\",\"Denmark\",\"Surabaya\",\"Pamekasan\",\"Semarang\",\"Bali\"]\n",
    "\n",
    "Negara.remove(\"Pamekasan\")\n",
    "Negara.remove(\"Semarang\")\n",
    "print(\"Mengurangi Anggota Menggunakan Remove :\", Negara)\n",
    "\n",
    "del Negara[7]\n",
    "del Negara[6]\n",
    "print(\"Mengurangi Anggota Menggunakan Del :\", Negara)"
   ]
  },
  {
   "cell_type": "code",
   "execution_count": 107,
   "id": "208bb6de",
   "metadata": {},
   "outputs": [
    {
     "name": "stdout",
     "output_type": "stream",
     "text": [
      "[]\n"
     ]
    }
   ],
   "source": [
    "Hari = [\"Senin\",\"Selasa\",\"Rabu\",\"Kamis\",\"Jum'at\",\"Sabtu\",\"Minggu\"]\n",
    "\n",
    "Hari.clear() #Clear Menghapus Semua Isi Dari Suatu List\n",
    "print(Hari)"
   ]
  },
  {
   "cell_type": "code",
   "execution_count": 131,
   "id": "26722e7c",
   "metadata": {},
   "outputs": [
    {
     "name": "stdout",
     "output_type": "stream",
     "text": [
      "Saya belajar tentang ['Alpro', 'Pengantar Sains Data', 'Kalkulus', 'Literasi TIK'] Di perkuliahan \n",
      "\n",
      "Saya Suka Dengan Pelajaran ['Alpro', 'Pengantar Sains Data', 'Kalkulus', 'Literasi TIK']\n"
     ]
    }
   ],
   "source": [
    "MatKul = [\"Alpro\", \"Pengantar Sains Data\", \"Kalkulus\", \"Literasi TIK\"]  #Old List\n",
    "\n",
    "Belajar = MatKul.copy()  #New List\n",
    "print(\"Saya belajar tentang\", MatKul, \"Di perkuliahan \\n\")\n",
    "print(\"Saya Suka Dengan Pelajaran\", Belajar)"
   ]
  },
  {
   "cell_type": "markdown",
   "id": "743849a5",
   "metadata": {},
   "source": [
    "# Dict"
   ]
  },
  {
   "cell_type": "code",
   "execution_count": 122,
   "id": "e772cc5c",
   "metadata": {},
   "outputs": [
    {
     "name": "stdout",
     "output_type": "stream",
     "text": [
      "Masukkan ingin berapa item di dalam Dictonary :2\n",
      "Isikan input dengan contoh : | User Admin | (Menggunakan Spasi Untuk Split)Nama Rendika\n",
      "Isikan input dengan contoh : | User Admin | (Menggunakan Spasi Untuk Split)Gender Pria\n",
      "{'Nama': 'Rendika', 'Gender': 'Pria'}\n",
      "Rendika\n"
     ]
    }
   ],
   "source": [
    "Jumlah = int(input(\"Masukkan ingin berapa item di dalam Dictonary :\"))\n",
    "dict_1 ={}  \n",
    "\n",
    "for i in range(Jumlah):        \n",
    "    Item = input(\"Isikan input dengan contoh : | User Admin | (Menggunakan Spasi Untuk Split)\").split()     \n",
    "    dict_1[Item[0]] = Item[1] #assign item pertama sebagai key dan item kedua sebagai Value pada Dictionary\n",
    "\n",
    "print(dict_1)\n",
    "print(dict_1[\"Nama\"])"
   ]
  },
  {
   "cell_type": "code",
   "execution_count": 129,
   "id": "6e18bae1",
   "metadata": {},
   "outputs": [
    {
     "name": "stdout",
     "output_type": "stream",
     "text": [
      "Dictionary Setelah Ditambahkan : {'Nama': 'Rendika', 'Gender': 'Pria', 'Umur': 18, 'Hoby': 'Tidur'}\n"
     ]
    }
   ],
   "source": [
    "Dictionary = {\"Nama\":\"Rendika\",\"Gender\":\"Pria\"}\n",
    "\n",
    "Dictionary[\"Umur\"] = 18\n",
    "Dictionary[\"Hoby\"] = \"Tidur\"\n",
    "\n",
    "print(\"Dictionary Setelah Ditambahkan :\",Dictionary)"
   ]
  },
  {
   "cell_type": "code",
   "execution_count": 128,
   "id": "82840ae9",
   "metadata": {},
   "outputs": [
    {
     "name": "stdout",
     "output_type": "stream",
     "text": [
      "Menguragi Dictionary Menggunakan del : {'Nama': 'Rendika', 'Gender': 'Pria', 'Umur': 18}\n"
     ]
    }
   ],
   "source": [
    "Dictionary_2 = {'Nama': 'Rendika', 'Gender': 'Pria', 'Umur': 18, 'Hoby': 'Tidur'}\n",
    "\n",
    "del Dictionary_2[\"Hoby\"]\n",
    "print(\"Menguragi Dictionary Menggunakan Del :\",Dictionary_2)"
   ]
  },
  {
   "cell_type": "code",
   "execution_count": 133,
   "id": "3a9af964",
   "metadata": {},
   "outputs": [
    {
     "name": "stdout",
     "output_type": "stream",
     "text": [
      "Menghapus Semua Item Didalam Dictionary : {} {}\n"
     ]
    }
   ],
   "source": [
    "Dictionary = {\"Nama\":\"Rendika\",\"Gender\":\"Pria\"}\n",
    "Dictionary_2 = {'Nama': 'Rendika', 'Gender': 'Pria', 'Umur': 18, 'Hoby': 'Tidur'}\n",
    "\n",
    "Dictionary.clear()\n",
    "Dictionary_2.clear()\n",
    "\n",
    "print(\"Menghapus Semua Item Didalam Dictionary :\",Dictionary,Dictionary_2)"
   ]
  },
  {
   "cell_type": "code",
   "execution_count": 137,
   "id": "7d9a3c92",
   "metadata": {},
   "outputs": [
    {
     "name": "stdout",
     "output_type": "stream",
     "text": [
      "Elon Musk\n",
      "Jeff Bezos\n",
      "Bill Gates\n"
     ]
    }
   ],
   "source": [
    "Orang_Terkaya_Didunia = {1:\"Elon Musk\",2:\"Jeff Bezos\",3:\"Bill Gates\"}\n",
    "Kaya_Banget = Orang_Terkaya_Didunia.copy()\n",
    "\n",
    "print(Kaya_Banget[1])\n",
    "print(Kaya_Banget[2])\n",
    "print(Kaya_Banget[3])"
   ]
  },
  {
   "cell_type": "markdown",
   "id": "e4d70187",
   "metadata": {},
   "source": [
    "# Set"
   ]
  },
  {
   "cell_type": "code",
   "execution_count": 18,
   "id": "813655e3",
   "metadata": {},
   "outputs": [
    {
     "name": "stdout",
     "output_type": "stream",
     "text": [
      "Berapa Panjang Set Yang Kamu Inginkan :4\n",
      "Masukkan Item Yang ingin Ditambahkan Kedalam Set :Rendika\n",
      "Masukkan Item Yang ingin Ditambahkan Kedalam Set :Nurhartanto\n",
      "Masukkan Item Yang ingin Ditambahkan Kedalam Set :Suharto\n",
      "Masukkan Item Yang ingin Ditambahkan Kedalam Set :1206210011\n",
      "{'1206210011', 'Nurhartanto', 'Suharto', 'Rendika'}\n",
      "\n",
      " ------------------ \n",
      "\n",
      "Masukkan Item Yang Ingin Anda Tambahkan :Rendika Nurhartanto Suharto 1206210011\n",
      "{'1206210011', 'Nurhartanto', 'Suharto', 'Rendika'}\n"
     ]
    }
   ],
   "source": [
    "Set_1 = set(())\n",
    "A = int(input(\"Berapa Panjang Set Yang Kamu Inginkan :\"))\n",
    "\n",
    "for i in range(A) :\n",
    "    B = input(\"Masukkan Item Yang ingin Ditambahkan Kedalam Set :\")\n",
    "    Set_1.add(B)\n",
    "\n",
    "print(Set_1)\n",
    "\n",
    "print(\"\\n------------------\\n\")\n",
    "\n",
    "Item_1 = input(\"Masukkan Item Yang Ingin Anda Tambahkan :\").split()\n",
    "Set_1 = set(Item_1)\n",
    "print(Set_1)"
   ]
  },
  {
   "cell_type": "code",
   "execution_count": 28,
   "id": "61df2e4b",
   "metadata": {},
   "outputs": [
    {
     "name": "stdout",
     "output_type": "stream",
     "text": [
      "Menambah str(Rambutan) Kedalam Set : {'Rambutan', 'Pisang', 'Semangka', 'Apel'}\n",
      "Menambah item dari variabel Minuman kedalam set Buah : {'Jus', 'Rambutan', 'Es Jeruk', 'Semangka', 'Pisang', 'Es Teh', 'Apel'}\n"
     ]
    }
   ],
   "source": [
    "Buah = {\"Apel\", \"Pisang\", \"Semangka\"}\n",
    "Minuman = [\"Jus\",\"Es Teh\",\"Es Jeruk\"]\n",
    "\n",
    "Buah.add(\"Rambutan\")\n",
    "print(\"Menambah str(Rambutan) Kedalam Set :\",Buah)\n",
    "\n",
    "Buah.update(Minuman)\n",
    "print(\"Menambah item dari variabel Minuman kedalam set Buah :\",Buah)"
   ]
  },
  {
   "cell_type": "code",
   "execution_count": 30,
   "id": "a1908711",
   "metadata": {},
   "outputs": [
    {
     "name": "stdout",
     "output_type": "stream",
     "text": [
      "Mengurangi Item Yang Ada Didalam Set : {'Semangka', 'Apel'}\n",
      "Mengurangi Item Yang Ada Didalam Set : ['Jus', 'Es Teh']\n"
     ]
    }
   ],
   "source": [
    "Buah = {\"Apel\", \"Pisang\", \"Semangka\"}\n",
    "Minuman = [\"Jus\",\"Es Teh\",\"Es Jeruk\"]\n",
    "\n",
    "Buah.remove(\"Pisang\")\n",
    "Minuman.pop()  #Menurangi Item yang berada pada indeks terakhir\n",
    "print(\"Mengurangi Item Yang Ada Didalam Set :\",Buah)\n",
    "print(\"Mengurangi Item Yang Ada Didalam Set :\",Minuman)"
   ]
  },
  {
   "cell_type": "code",
   "execution_count": 36,
   "id": "c3c462bd",
   "metadata": {},
   "outputs": [
    {
     "name": "stdout",
     "output_type": "stream",
     "text": [
      "set() set()\n"
     ]
    }
   ],
   "source": [
    "Buah = {\"Apel\", \"Pisang\", \"Semangka\"}\n",
    "Minuman = {\"Jus\",\"Es Teh\",\"Es Jeruk\"}\n",
    "\n",
    "Buah.clear()\n",
    "Minuman.clear()\n",
    "\n",
    "print(Buah,Minuman)"
   ]
  },
  {
   "cell_type": "code",
   "execution_count": 39,
   "id": "21de6f96",
   "metadata": {},
   "outputs": [
    {
     "name": "stdout",
     "output_type": "stream",
     "text": [
      "My Favorite Food Is {'Bubur', 'Nasi Goreng', 'Rendang'}\n"
     ]
    }
   ],
   "source": [
    "Makanan = {\"Bubur\", \"Rendang\", \"Nasi Goreng\"}\n",
    "Food = Makanan.copy()\n",
    "print(\"My Favorite Food Is\",Food)"
   ]
  },
  {
   "cell_type": "markdown",
   "id": "c742dbeb",
   "metadata": {},
   "source": [
    "# Tuple"
   ]
  },
  {
   "cell_type": "code",
   "execution_count": null,
   "id": "4b0976e8",
   "metadata": {},
   "outputs": [],
   "source": [
    "Tuple_1 = ()\n",
    "L = list(Tuple_1)\n",
    "X = input(\"Masukkan Item Yang Diinginkan (Antar Item Dipisahkan Dengan Tanda Koma(,)) :\")\n",
    "L.append(X)\n",
    "\n",
    "print(tuple(L))"
   ]
  },
  {
   "cell_type": "code",
   "execution_count": 58,
   "id": "b46e0368",
   "metadata": {},
   "outputs": [
    {
     "name": "stdout",
     "output_type": "stream",
     "text": [
      "('Iron-man', 'Thor', 'Spiderman', 'Hulk', 'Hawkeye', 'Captain Amerika')\n"
     ]
    }
   ],
   "source": [
    "Avangers = (\"Iron-man\", \"Thor\", \"Spiderman\")\n",
    "y = (\"Hulk\",\"Hawkeye\",\"Captain Amerika\")\n",
    "Avangers += y\n",
    "\n",
    "print(Avangers)"
   ]
  },
  {
   "cell_type": "code",
   "execution_count": 73,
   "id": "befee81a",
   "metadata": {},
   "outputs": [
    {
     "name": "stdout",
     "output_type": "stream",
     "text": [
      "('Iron-man', 'Thor', 'Spiderman', 'Hulk', 'Hawkeye', 'Captain Amerika')\n"
     ]
    }
   ],
   "source": [
    "Avangers = ('Iron-man', 'Thor', 'Spiderman', 'Hulk', 'Hawkeye', 'Captain Amerika', 'Rendika', 1206210011)\n",
    "Marvel = list(Avangers)\n",
    "Marvel.remove(\"Rendika\")\n",
    "Marvel.remove(1206210011)\n",
    "\n",
    "print(tuple(Marvel))"
   ]
  },
  {
   "cell_type": "code",
   "execution_count": 74,
   "id": "ebc9edf5",
   "metadata": {},
   "outputs": [
    {
     "name": "stdout",
     "output_type": "stream",
     "text": [
      "()\n"
     ]
    }
   ],
   "source": [
    "Avangers = ('Iron-man', 'Thor', 'Spiderman', 'Hulk', 'Hawkeye', 'Captain Amerika', 'Rendika', 1206210011)\n",
    "Marvel = list(Avangers)\n",
    "Marvel.clear()\n",
    "\n",
    "print(tuple(Marvel))"
   ]
  },
  {
   "cell_type": "code",
   "execution_count": 75,
   "id": "98ef362e",
   "metadata": {},
   "outputs": [
    {
     "name": "stdout",
     "output_type": "stream",
     "text": [
      "Saya Sangat Mengidolakan : ['Iron-man', 'Thor', 'Spiderman', 'Hulk', 'Hawkeye', 'Captain Amerika', 'Rendika', 1206210011]\n"
     ]
    }
   ],
   "source": [
    "Avangers = ('Iron-man', 'Thor', 'Spiderman', 'Hulk', 'Hawkeye', 'Captain Amerika', 'Rendika', 1206210011)\n",
    "Marvel = list(Avangers)\n",
    "SuperHero = Marvel.copy()\n",
    "\n",
    "print(\"Saya Sangat Mengidolakan :\",SuperHero)"
   ]
  }
 ],
 "metadata": {
  "kernelspec": {
   "display_name": "Python 3 (ipykernel)",
   "language": "python",
   "name": "python3"
  },
  "language_info": {
   "codemirror_mode": {
    "name": "ipython",
    "version": 3
   },
   "file_extension": ".py",
   "mimetype": "text/x-python",
   "name": "python",
   "nbconvert_exporter": "python",
   "pygments_lexer": "ipython3",
   "version": "3.8.12"
  }
 },
 "nbformat": 4,
 "nbformat_minor": 5
}

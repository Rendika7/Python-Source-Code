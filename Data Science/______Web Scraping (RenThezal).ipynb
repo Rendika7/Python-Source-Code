{
 "cells": [
  {
   "cell_type": "code",
   "execution_count": 2,
   "id": "bb1d558f",
   "metadata": {},
   "outputs": [],
   "source": [
    "# url_1 = 'https://www.imdb.com/search/title/?groups=top_1000&sort=user_rating,desc&count=100&start='+str(i)+'&ref_=adv_next'"
   ]
  },
  {
   "cell_type": "code",
   "execution_count": 8,
   "id": "bc0b4931",
   "metadata": {},
   "outputs": [],
   "source": [
    "import requests\n",
    "import pandas as pd\n",
    "from bs4 import BeautifulSoup\n",
    "\n",
    "movie_titles = []\n",
    "movie_year_tagss = []\n",
    "movie_rating_tagss = []\n",
    "movie_duration = []\n",
    "movie_certification = []\n",
    "movie_genre_tagss = []\n",
    "movie_url_tagss = []\n",
    "\n",
    "    # TODO - add comments\n",
    "for i in range(1,2000,100):\n",
    "\n",
    "    url_2 = 'https://www.imdb.com/search/title/?release_date=2020-11-11,2022-07-21&count=100&start='+str(i)+'&ref_=adv_nxt'\n",
    "        \n",
    "    response = requests.get(url_2)\n",
    "    doc = BeautifulSoup(response.text, 'html.parser')\n",
    "    \n",
    "    selection_class=\"lister-item-header\"\n",
    "    movie_title_tags=doc.find_all('h3',{'class':selection_class})\n",
    "    for tag in movie_title_tags:\n",
    "        title = tag.find('a').text\n",
    "        movie_titles.append(title)\n",
    "        \n",
    "    year_selector = \"lister-item-year text-muted unbold\"           \n",
    "    movie_year_tags=doc.find_all('span',{'class':year_selector})\n",
    "    for tag in movie_year_tags:\n",
    "        movie_year_tagss.append(tag.get_text().strip()[1:5])\n",
    "    \n",
    "    rating_selector=\"inline-block ratings-imdb-rating\"            \n",
    "    movie_rating_tags=doc.find_all('div',{'class':rating_selector})\n",
    "    for tag in movie_rating_tags:\n",
    "        rating = tag.get_text().strip()\n",
    "        if rating :\n",
    "            movie_rating_tagss.append(rating)\n",
    "        else :\n",
    "            movie_rating_tagss.append(\"NA\")\n",
    "    selection_class=\"runtime\"\n",
    "    movie_duration_tags=doc.find_all('span',{'class':selection_class})\n",
    "    for tag in movie_duration_tags:\n",
    "        duration = tag.text[:-4]\n",
    "        if duration:\n",
    "            movie_duration.append(duration)\n",
    "        else:\n",
    "            movie_duration.append('NA')\n",
    "            \n",
    "    selection_class=\"lister-item-content\"\n",
    "    movie_details_tags = doc.find_all('div',{'class':selection_class})\n",
    "    for detail_tag in movie_details_tags:\n",
    "        certification_tag = detail_tag.find('span',{'class':'certificate'})\n",
    "        if certification_tag:\n",
    "            movie_certification.append(certification_tag.text)\n",
    "        else:\n",
    "            movie_certification.append('NA')   \n",
    "    \n",
    "    genre_selector=\"genre\"            \n",
    "    movie_genre_tags=doc.find_all('span',{'class':genre_selector})\n",
    "    for tag in movie_genre_tags:\n",
    "        movie_genre_tagss.append(tag.get_text().strip())\n",
    "    \n",
    "    url_selector=\"lister-item-header\"           \n",
    "    movie_url_tags=doc.find_all('h3',{'class':url_selector})\n",
    "    base_url = 'https://www.imdb.com/'\n",
    "    for tag in movie_url_tags:\n",
    "        movie_url_tagss.append('https://www.imdb.com/' + tag.find('a')['href'])\n",
    "    \n",
    "# movie_titles\n",
    "# movie_year_tagss\n",
    "# movie_rating_tagss\n",
    "# movie_duration\n",
    "# movie_certification\n",
    "# movie_genre_tagss\n",
    "# movie_url_tagss"
   ]
  },
  {
   "cell_type": "code",
   "execution_count": 9,
   "id": "bd44a414",
   "metadata": {},
   "outputs": [],
   "source": [
    "pd.set_option(\"display.max_row\", None)"
   ]
  },
  {
   "cell_type": "code",
   "execution_count": 10,
   "id": "e2d305be",
   "metadata": {},
   "outputs": [
    {
     "name": "stdout",
     "output_type": "stream",
     "text": [
      "2000\n",
      "<class 'list'>\n",
      "2003\n",
      "<class 'list'>\n",
      "1987\n",
      "<class 'list'>\n",
      "1784\n",
      "<class 'list'>\n",
      "2000\n",
      "<class 'list'>\n",
      "1993\n",
      "<class 'list'>\n",
      "2000\n",
      "<class 'list'>\n"
     ]
    }
   ],
   "source": [
    "Kolom = [movie_titles,movie_year_tagss,movie_rating_tagss,movie_duration,movie_certification,movie_genre_tagss,movie_url_tagss]\n",
    "\n",
    "for i in Kolom :\n",
    "    print(len(i))\n",
    "    print(type(i))\n",
    "#   print(i)"
   ]
  },
  {
   "cell_type": "code",
   "execution_count": 13,
   "id": "653c8b89",
   "metadata": {},
   "outputs": [
    {
     "name": "stderr",
     "output_type": "stream",
     "text": [
      "C:\\Users\\rendi\\AppData\\Local\\Temp\\ipykernel_17604\\1914946622.py:3: VisibleDeprecationWarning: Creating an ndarray from ragged nested sequences (which is a list-or-tuple of lists-or-tuples-or ndarrays with different lengths or shapes) is deprecated. If you meant to do this, you must specify 'dtype=object' when creating the ndarray.\n",
      "  df = pd.DataFrame(np.array([movie_titles,movie_year_tagss,movie_rating_tagss,movie_duration,movie_certification,movie_genre_tagss,movie_url_tagss]), index = ['Title', 'Year', 'Rating', 'Duration', 'Certification', 'Genre', 'URL'])\n"
     ]
    },
    {
     "data": {
      "text/html": [
       "<div>\n",
       "<style scoped>\n",
       "    .dataframe tbody tr th:only-of-type {\n",
       "        vertical-align: middle;\n",
       "    }\n",
       "\n",
       "    .dataframe tbody tr th {\n",
       "        vertical-align: top;\n",
       "    }\n",
       "\n",
       "    .dataframe thead th {\n",
       "        text-align: right;\n",
       "    }\n",
       "</style>\n",
       "<table border=\"1\" class=\"dataframe\">\n",
       "  <thead>\n",
       "    <tr style=\"text-align: right;\">\n",
       "      <th></th>\n",
       "      <th>Title</th>\n",
       "      <th>Year</th>\n",
       "      <th>Rating</th>\n",
       "      <th>Duration</th>\n",
       "      <th>Certification</th>\n",
       "      <th>Genre</th>\n",
       "      <th>URL</th>\n",
       "    </tr>\n",
       "  </thead>\n",
       "  <tbody>\n",
       "    <tr>\n",
       "      <th>0</th>\n",
       "      <td>[Thor: Love and Thunder, The Terminal List, Re...</td>\n",
       "      <td>[2022, 2022, 2022, 2022, 2022, 2022, 2021, 202...</td>\n",
       "      <td>[6.8, 8.1, 3.7, 8.3, 6.2, 8.6, 7.1, 7.1, 8.1, ...</td>\n",
       "      <td>[118, 55, 60, 60, 130, 103, 115, 30, 61, 159, ...</td>\n",
       "      <td>[13+, 18+, 18+, 21, 13+, SU, 17+, 7+, 17+, NA,...</td>\n",
       "      <td>[Action, Adventure, Comedy, Action, Drama, Thr...</td>\n",
       "      <td>[https://www.imdb.com//title/tt10648342/, http...</td>\n",
       "    </tr>\n",
       "  </tbody>\n",
       "</table>\n",
       "</div>"
      ],
      "text/plain": [
       "                                               Title  \\\n",
       "0  [Thor: Love and Thunder, The Terminal List, Re...   \n",
       "\n",
       "                                                Year  \\\n",
       "0  [2022, 2022, 2022, 2022, 2022, 2022, 2021, 202...   \n",
       "\n",
       "                                              Rating  \\\n",
       "0  [6.8, 8.1, 3.7, 8.3, 6.2, 8.6, 7.1, 7.1, 8.1, ...   \n",
       "\n",
       "                                            Duration  \\\n",
       "0  [118, 55, 60, 60, 130, 103, 115, 30, 61, 159, ...   \n",
       "\n",
       "                                       Certification  \\\n",
       "0  [13+, 18+, 18+, 21, 13+, SU, 17+, 7+, 17+, NA,...   \n",
       "\n",
       "                                               Genre  \\\n",
       "0  [Action, Adventure, Comedy, Action, Drama, Thr...   \n",
       "\n",
       "                                                 URL  \n",
       "0  [https://www.imdb.com//title/tt10648342/, http...  "
      ]
     },
     "execution_count": 13,
     "metadata": {},
     "output_type": "execute_result"
    }
   ],
   "source": [
    "import numpy as np\n",
    "import pandas as pd\n",
    "df = pd.DataFrame(np.array([movie_titles,movie_year_tagss,movie_rating_tagss,movie_duration,movie_certification,movie_genre_tagss,movie_url_tagss]), index = ['Title', 'Year', 'Rating', 'Duration', 'Certification', 'Genre', 'URL'])\n",
    "df.T"
   ]
  },
  {
   "cell_type": "code",
   "execution_count": 7,
   "id": "535ef2c6",
   "metadata": {},
   "outputs": [
    {
     "ename": "ValueError",
     "evalue": "All arrays must be of the same length",
     "output_type": "error",
     "traceback": [
      "\u001b[1;31m---------------------------------------------------------------------------\u001b[0m",
      "\u001b[1;31mValueError\u001b[0m                                Traceback (most recent call last)",
      "Input \u001b[1;32mIn [7]\u001b[0m, in \u001b[0;36m<cell line: 9>\u001b[1;34m()\u001b[0m\n\u001b[0;32m      1\u001b[0m Data \u001b[38;5;241m=\u001b[39m {\u001b[38;5;124m'\u001b[39m\u001b[38;5;124mTitle\u001b[39m\u001b[38;5;124m'\u001b[39m : movie_titles,\n\u001b[0;32m      2\u001b[0m         \u001b[38;5;124m'\u001b[39m\u001b[38;5;124mYear\u001b[39m\u001b[38;5;124m'\u001b[39m : movie_year_tagss,\n\u001b[0;32m      3\u001b[0m        \u001b[38;5;124m'\u001b[39m\u001b[38;5;124mRating\u001b[39m\u001b[38;5;124m'\u001b[39m : movie_rating_tagss,\n\u001b[1;32m   (...)\u001b[0m\n\u001b[0;32m      6\u001b[0m        \u001b[38;5;124m'\u001b[39m\u001b[38;5;124mGenre\u001b[39m\u001b[38;5;124m'\u001b[39m : movie_genre_tagss,\n\u001b[0;32m      7\u001b[0m        \u001b[38;5;124m'\u001b[39m\u001b[38;5;124mURL\u001b[39m\u001b[38;5;124m'\u001b[39m : movie_url_tagss}\n\u001b[1;32m----> 9\u001b[0m df \u001b[38;5;241m=\u001b[39m \u001b[43mpd\u001b[49m\u001b[38;5;241;43m.\u001b[39;49m\u001b[43mDataFrame\u001b[49m\u001b[43m(\u001b[49m\u001b[43mData\u001b[49m\u001b[43m)\u001b[49m\n\u001b[0;32m     10\u001b[0m df\n",
      "File \u001b[1;32m~\\anaconda3\\lib\\site-packages\\pandas\\core\\frame.py:636\u001b[0m, in \u001b[0;36mDataFrame.__init__\u001b[1;34m(self, data, index, columns, dtype, copy)\u001b[0m\n\u001b[0;32m    630\u001b[0m     mgr \u001b[38;5;241m=\u001b[39m \u001b[38;5;28mself\u001b[39m\u001b[38;5;241m.\u001b[39m_init_mgr(\n\u001b[0;32m    631\u001b[0m         data, axes\u001b[38;5;241m=\u001b[39m{\u001b[38;5;124m\"\u001b[39m\u001b[38;5;124mindex\u001b[39m\u001b[38;5;124m\"\u001b[39m: index, \u001b[38;5;124m\"\u001b[39m\u001b[38;5;124mcolumns\u001b[39m\u001b[38;5;124m\"\u001b[39m: columns}, dtype\u001b[38;5;241m=\u001b[39mdtype, copy\u001b[38;5;241m=\u001b[39mcopy\n\u001b[0;32m    632\u001b[0m     )\n\u001b[0;32m    634\u001b[0m \u001b[38;5;28;01melif\u001b[39;00m \u001b[38;5;28misinstance\u001b[39m(data, \u001b[38;5;28mdict\u001b[39m):\n\u001b[0;32m    635\u001b[0m     \u001b[38;5;66;03m# GH#38939 de facto copy defaults to False only in non-dict cases\u001b[39;00m\n\u001b[1;32m--> 636\u001b[0m     mgr \u001b[38;5;241m=\u001b[39m \u001b[43mdict_to_mgr\u001b[49m\u001b[43m(\u001b[49m\u001b[43mdata\u001b[49m\u001b[43m,\u001b[49m\u001b[43m \u001b[49m\u001b[43mindex\u001b[49m\u001b[43m,\u001b[49m\u001b[43m \u001b[49m\u001b[43mcolumns\u001b[49m\u001b[43m,\u001b[49m\u001b[43m \u001b[49m\u001b[43mdtype\u001b[49m\u001b[38;5;241;43m=\u001b[39;49m\u001b[43mdtype\u001b[49m\u001b[43m,\u001b[49m\u001b[43m \u001b[49m\u001b[43mcopy\u001b[49m\u001b[38;5;241;43m=\u001b[39;49m\u001b[43mcopy\u001b[49m\u001b[43m,\u001b[49m\u001b[43m \u001b[49m\u001b[43mtyp\u001b[49m\u001b[38;5;241;43m=\u001b[39;49m\u001b[43mmanager\u001b[49m\u001b[43m)\u001b[49m\n\u001b[0;32m    637\u001b[0m \u001b[38;5;28;01melif\u001b[39;00m \u001b[38;5;28misinstance\u001b[39m(data, ma\u001b[38;5;241m.\u001b[39mMaskedArray):\n\u001b[0;32m    638\u001b[0m     \u001b[38;5;28;01mimport\u001b[39;00m \u001b[38;5;21;01mnumpy\u001b[39;00m\u001b[38;5;21;01m.\u001b[39;00m\u001b[38;5;21;01mma\u001b[39;00m\u001b[38;5;21;01m.\u001b[39;00m\u001b[38;5;21;01mmrecords\u001b[39;00m \u001b[38;5;28;01mas\u001b[39;00m \u001b[38;5;21;01mmrecords\u001b[39;00m\n",
      "File \u001b[1;32m~\\anaconda3\\lib\\site-packages\\pandas\\core\\internals\\construction.py:502\u001b[0m, in \u001b[0;36mdict_to_mgr\u001b[1;34m(data, index, columns, dtype, typ, copy)\u001b[0m\n\u001b[0;32m    494\u001b[0m     arrays \u001b[38;5;241m=\u001b[39m [\n\u001b[0;32m    495\u001b[0m         x\n\u001b[0;32m    496\u001b[0m         \u001b[38;5;28;01mif\u001b[39;00m \u001b[38;5;129;01mnot\u001b[39;00m \u001b[38;5;28mhasattr\u001b[39m(x, \u001b[38;5;124m\"\u001b[39m\u001b[38;5;124mdtype\u001b[39m\u001b[38;5;124m\"\u001b[39m) \u001b[38;5;129;01mor\u001b[39;00m \u001b[38;5;129;01mnot\u001b[39;00m \u001b[38;5;28misinstance\u001b[39m(x\u001b[38;5;241m.\u001b[39mdtype, ExtensionDtype)\n\u001b[0;32m    497\u001b[0m         \u001b[38;5;28;01melse\u001b[39;00m x\u001b[38;5;241m.\u001b[39mcopy()\n\u001b[0;32m    498\u001b[0m         \u001b[38;5;28;01mfor\u001b[39;00m x \u001b[38;5;129;01min\u001b[39;00m arrays\n\u001b[0;32m    499\u001b[0m     ]\n\u001b[0;32m    500\u001b[0m     \u001b[38;5;66;03m# TODO: can we get rid of the dt64tz special case above?\u001b[39;00m\n\u001b[1;32m--> 502\u001b[0m \u001b[38;5;28;01mreturn\u001b[39;00m \u001b[43marrays_to_mgr\u001b[49m\u001b[43m(\u001b[49m\u001b[43marrays\u001b[49m\u001b[43m,\u001b[49m\u001b[43m \u001b[49m\u001b[43mcolumns\u001b[49m\u001b[43m,\u001b[49m\u001b[43m \u001b[49m\u001b[43mindex\u001b[49m\u001b[43m,\u001b[49m\u001b[43m \u001b[49m\u001b[43mdtype\u001b[49m\u001b[38;5;241;43m=\u001b[39;49m\u001b[43mdtype\u001b[49m\u001b[43m,\u001b[49m\u001b[43m \u001b[49m\u001b[43mtyp\u001b[49m\u001b[38;5;241;43m=\u001b[39;49m\u001b[43mtyp\u001b[49m\u001b[43m,\u001b[49m\u001b[43m \u001b[49m\u001b[43mconsolidate\u001b[49m\u001b[38;5;241;43m=\u001b[39;49m\u001b[43mcopy\u001b[49m\u001b[43m)\u001b[49m\n",
      "File \u001b[1;32m~\\anaconda3\\lib\\site-packages\\pandas\\core\\internals\\construction.py:120\u001b[0m, in \u001b[0;36marrays_to_mgr\u001b[1;34m(arrays, columns, index, dtype, verify_integrity, typ, consolidate)\u001b[0m\n\u001b[0;32m    117\u001b[0m \u001b[38;5;28;01mif\u001b[39;00m verify_integrity:\n\u001b[0;32m    118\u001b[0m     \u001b[38;5;66;03m# figure out the index, if necessary\u001b[39;00m\n\u001b[0;32m    119\u001b[0m     \u001b[38;5;28;01mif\u001b[39;00m index \u001b[38;5;129;01mis\u001b[39;00m \u001b[38;5;28;01mNone\u001b[39;00m:\n\u001b[1;32m--> 120\u001b[0m         index \u001b[38;5;241m=\u001b[39m \u001b[43m_extract_index\u001b[49m\u001b[43m(\u001b[49m\u001b[43marrays\u001b[49m\u001b[43m)\u001b[49m\n\u001b[0;32m    121\u001b[0m     \u001b[38;5;28;01melse\u001b[39;00m:\n\u001b[0;32m    122\u001b[0m         index \u001b[38;5;241m=\u001b[39m ensure_index(index)\n",
      "File \u001b[1;32m~\\anaconda3\\lib\\site-packages\\pandas\\core\\internals\\construction.py:674\u001b[0m, in \u001b[0;36m_extract_index\u001b[1;34m(data)\u001b[0m\n\u001b[0;32m    672\u001b[0m lengths \u001b[38;5;241m=\u001b[39m \u001b[38;5;28mlist\u001b[39m(\u001b[38;5;28mset\u001b[39m(raw_lengths))\n\u001b[0;32m    673\u001b[0m \u001b[38;5;28;01mif\u001b[39;00m \u001b[38;5;28mlen\u001b[39m(lengths) \u001b[38;5;241m>\u001b[39m \u001b[38;5;241m1\u001b[39m:\n\u001b[1;32m--> 674\u001b[0m     \u001b[38;5;28;01mraise\u001b[39;00m \u001b[38;5;167;01mValueError\u001b[39;00m(\u001b[38;5;124m\"\u001b[39m\u001b[38;5;124mAll arrays must be of the same length\u001b[39m\u001b[38;5;124m\"\u001b[39m)\n\u001b[0;32m    676\u001b[0m \u001b[38;5;28;01mif\u001b[39;00m have_dicts:\n\u001b[0;32m    677\u001b[0m     \u001b[38;5;28;01mraise\u001b[39;00m \u001b[38;5;167;01mValueError\u001b[39;00m(\n\u001b[0;32m    678\u001b[0m         \u001b[38;5;124m\"\u001b[39m\u001b[38;5;124mMixing dicts with non-Series may lead to ambiguous ordering.\u001b[39m\u001b[38;5;124m\"\u001b[39m\n\u001b[0;32m    679\u001b[0m     )\n",
      "\u001b[1;31mValueError\u001b[0m: All arrays must be of the same length"
     ]
    }
   ],
   "source": [
    "Data = {'Title' : movie_titles,\n",
    "        'Year' : movie_year_tagss,\n",
    "       'Rating' : movie_rating_tagss,\n",
    "       'Duration' : movie_duration,\n",
    "       'Certification' : movie_certification,\n",
    "       'Genre' : movie_genre_tagss,\n",
    "       'URL' : movie_url_tagss}\n",
    "\n",
    "df = pd.DataFrame(Data)\n",
    "df"
   ]
  },
  {
   "cell_type": "code",
   "execution_count": null,
   "id": "a6377783",
   "metadata": {},
   "outputs": [],
   "source": [
    "for i in range(1,10000,100):   \n",
    "    print(i)"
   ]
  }
 ],
 "metadata": {
  "kernelspec": {
   "display_name": "Python 3 (ipykernel)",
   "language": "python",
   "name": "python3"
  },
  "language_info": {
   "codemirror_mode": {
    "name": "ipython",
    "version": 3
   },
   "file_extension": ".py",
   "mimetype": "text/x-python",
   "name": "python",
   "nbconvert_exporter": "python",
   "pygments_lexer": "ipython3",
   "version": "3.8.12"
  }
 },
 "nbformat": 4,
 "nbformat_minor": 5
}

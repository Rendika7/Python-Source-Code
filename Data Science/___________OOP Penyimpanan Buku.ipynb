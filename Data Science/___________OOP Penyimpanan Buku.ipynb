{
 "cells": [
  {
   "cell_type": "code",
   "execution_count": 1,
   "id": "45af6448",
   "metadata": {},
   "outputs": [
    {
     "name": "stdout",
     "output_type": "stream",
     "text": [
      "menu:\n",
      "1. list data\n",
      "2. tambah data\n",
      "3. jumlah data\n",
      "4. selesai cok\n",
      "|NO.\t|  \tJudul\t| \tPenulis\t| \tPenerbit\t| \tGenre\t|\n",
      "masukan pilihan: 1\n",
      "Empty DataFrame\n",
      "Columns: [no., judul]\n",
      "Index: []\n",
      "masukan pilihan: 2\n"
     ]
    },
    {
     "ename": "KeyboardInterrupt",
     "evalue": "Interrupted by user",
     "output_type": "error",
     "traceback": [
      "\u001b[1;31m---------------------------------------------------------------------------\u001b[0m",
      "\u001b[1;31mKeyboardInterrupt\u001b[0m                         Traceback (most recent call last)",
      "Input \u001b[1;32mIn [1]\u001b[0m, in \u001b[0;36m<cell line: 47>\u001b[1;34m()\u001b[0m\n\u001b[0;32m     55\u001b[0m     book\u001b[38;5;241m.\u001b[39mtampil()\n\u001b[0;32m     56\u001b[0m \u001b[38;5;28;01melif\u001b[39;00m ho \u001b[38;5;241m==\u001b[39m \u001b[38;5;241m2\u001b[39m:\n\u001b[1;32m---> 57\u001b[0m     \u001b[43mbook\u001b[49m\u001b[38;5;241;43m.\u001b[39;49m\u001b[43mtambah\u001b[49m\u001b[43m(\u001b[49m\u001b[43m)\u001b[49m\n\u001b[0;32m     58\u001b[0m \u001b[38;5;28;01melif\u001b[39;00m ho \u001b[38;5;241m==\u001b[39m \u001b[38;5;241m3\u001b[39m:\n\u001b[0;32m     59\u001b[0m     book\u001b[38;5;241m.\u001b[39mjumlah()\n",
      "Input \u001b[1;32mIn [1]\u001b[0m, in \u001b[0;36mbuku.tambah\u001b[1;34m(self)\u001b[0m\n\u001b[0;32m     14\u001b[0m \u001b[38;5;28;01mdef\u001b[39;00m \u001b[38;5;21mtambah\u001b[39m(\u001b[38;5;28mself\u001b[39m):\n\u001b[0;32m     15\u001b[0m     no \u001b[38;5;241m=\u001b[39m \u001b[38;5;241m0\u001b[39m\n\u001b[1;32m---> 16\u001b[0m     p \u001b[38;5;241m=\u001b[39m \u001b[38;5;28mint\u001b[39m(\u001b[38;5;28;43minput\u001b[39;49m\u001b[43m(\u001b[49m\u001b[38;5;124;43m\"\u001b[39;49m\u001b[38;5;124;43mtambah berapa buku: \u001b[39;49m\u001b[38;5;124;43m\"\u001b[39;49m\u001b[43m)\u001b[49m)\n\u001b[0;32m     17\u001b[0m     \u001b[38;5;28;01mfor\u001b[39;00m i \u001b[38;5;129;01min\u001b[39;00m \u001b[38;5;28mrange\u001b[39m(p):\n\u001b[0;32m     18\u001b[0m         no \u001b[38;5;241m+\u001b[39m\u001b[38;5;241m=\u001b[39m \u001b[38;5;241m1\u001b[39m\n",
      "File \u001b[1;32m~\\anaconda3\\lib\\site-packages\\ipykernel\\kernelbase.py:1075\u001b[0m, in \u001b[0;36mKernel.raw_input\u001b[1;34m(self, prompt)\u001b[0m\n\u001b[0;32m   1071\u001b[0m \u001b[38;5;28;01mif\u001b[39;00m \u001b[38;5;129;01mnot\u001b[39;00m \u001b[38;5;28mself\u001b[39m\u001b[38;5;241m.\u001b[39m_allow_stdin:\n\u001b[0;32m   1072\u001b[0m     \u001b[38;5;28;01mraise\u001b[39;00m StdinNotImplementedError(\n\u001b[0;32m   1073\u001b[0m         \u001b[38;5;124m\"\u001b[39m\u001b[38;5;124mraw_input was called, but this frontend does not support input requests.\u001b[39m\u001b[38;5;124m\"\u001b[39m\n\u001b[0;32m   1074\u001b[0m     )\n\u001b[1;32m-> 1075\u001b[0m \u001b[38;5;28;01mreturn\u001b[39;00m \u001b[38;5;28;43mself\u001b[39;49m\u001b[38;5;241;43m.\u001b[39;49m\u001b[43m_input_request\u001b[49m\u001b[43m(\u001b[49m\n\u001b[0;32m   1076\u001b[0m \u001b[43m    \u001b[49m\u001b[38;5;28;43mstr\u001b[39;49m\u001b[43m(\u001b[49m\u001b[43mprompt\u001b[49m\u001b[43m)\u001b[49m\u001b[43m,\u001b[49m\n\u001b[0;32m   1077\u001b[0m \u001b[43m    \u001b[49m\u001b[38;5;28;43mself\u001b[39;49m\u001b[38;5;241;43m.\u001b[39;49m\u001b[43m_parent_ident\u001b[49m\u001b[43m[\u001b[49m\u001b[38;5;124;43m\"\u001b[39;49m\u001b[38;5;124;43mshell\u001b[39;49m\u001b[38;5;124;43m\"\u001b[39;49m\u001b[43m]\u001b[49m\u001b[43m,\u001b[49m\n\u001b[0;32m   1078\u001b[0m \u001b[43m    \u001b[49m\u001b[38;5;28;43mself\u001b[39;49m\u001b[38;5;241;43m.\u001b[39;49m\u001b[43mget_parent\u001b[49m\u001b[43m(\u001b[49m\u001b[38;5;124;43m\"\u001b[39;49m\u001b[38;5;124;43mshell\u001b[39;49m\u001b[38;5;124;43m\"\u001b[39;49m\u001b[43m)\u001b[49m\u001b[43m,\u001b[49m\n\u001b[0;32m   1079\u001b[0m \u001b[43m    \u001b[49m\u001b[43mpassword\u001b[49m\u001b[38;5;241;43m=\u001b[39;49m\u001b[38;5;28;43;01mFalse\u001b[39;49;00m\u001b[43m,\u001b[49m\n\u001b[0;32m   1080\u001b[0m \u001b[43m\u001b[49m\u001b[43m)\u001b[49m\n",
      "File \u001b[1;32m~\\anaconda3\\lib\\site-packages\\ipykernel\\kernelbase.py:1120\u001b[0m, in \u001b[0;36mKernel._input_request\u001b[1;34m(self, prompt, ident, parent, password)\u001b[0m\n\u001b[0;32m   1117\u001b[0m             \u001b[38;5;28;01mbreak\u001b[39;00m\n\u001b[0;32m   1118\u001b[0m \u001b[38;5;28;01mexcept\u001b[39;00m \u001b[38;5;167;01mKeyboardInterrupt\u001b[39;00m:\n\u001b[0;32m   1119\u001b[0m     \u001b[38;5;66;03m# re-raise KeyboardInterrupt, to truncate traceback\u001b[39;00m\n\u001b[1;32m-> 1120\u001b[0m     \u001b[38;5;28;01mraise\u001b[39;00m \u001b[38;5;167;01mKeyboardInterrupt\u001b[39;00m(\u001b[38;5;124m\"\u001b[39m\u001b[38;5;124mInterrupted by user\u001b[39m\u001b[38;5;124m\"\u001b[39m) \u001b[38;5;28;01mfrom\u001b[39;00m \u001b[38;5;28mNone\u001b[39m\n\u001b[0;32m   1121\u001b[0m \u001b[38;5;28;01mexcept\u001b[39;00m \u001b[38;5;167;01mException\u001b[39;00m:\n\u001b[0;32m   1122\u001b[0m     \u001b[38;5;28mself\u001b[39m\u001b[38;5;241m.\u001b[39mlog\u001b[38;5;241m.\u001b[39mwarning(\u001b[38;5;124m\"\u001b[39m\u001b[38;5;124mInvalid Message:\u001b[39m\u001b[38;5;124m\"\u001b[39m, exc_info\u001b[38;5;241m=\u001b[39m\u001b[38;5;28;01mTrue\u001b[39;00m)\n",
      "\u001b[1;31mKeyboardInterrupt\u001b[0m: Interrupted by user"
     ]
    }
   ],
   "source": [
    "import pandas as pd\n",
    "\n",
    "class buku :\n",
    "    def __init__ (self):\n",
    "        self.no = []\n",
    "        self.judul = []\n",
    "        self.penulis = []\n",
    "        self.penerbit = []\n",
    "        self.genre = []\n",
    "#     def data(self):\n",
    "#         print('|NO.\\t| ', '\\tJudul\\t|', '\\tPenulis\\t|', '\\tPenerbit\\t|','\\tGenre\\t|' )\n",
    "    def jumlah(self):\n",
    "            print(len(self.judul))\n",
    "    def tambah(self):\n",
    "        no = 0\n",
    "        p = int(input(\"tambah berapa buku: \"))\n",
    "        for i in range(p):\n",
    "            no += 1\n",
    "            judul = input('Judul: ')\n",
    "            penulis = input('penulis: ')\n",
    "            penerbit = input('penerbit: ')\n",
    "            genre = input('genre: ')\n",
    "            self.no.append(no)\n",
    "            self.judul.append(judul)\n",
    "            self.penulis.append(penulis)\n",
    "            self.penerbit.append(penerbit)\n",
    "            self.genre.append(genre)\n",
    "            print(self.no)\n",
    "            x = pd.Series(self.no)\n",
    "            y = pd.Series(self.judul)\n",
    "            z = pd.Series(self.penulis)\n",
    "            r = pd.Series(self.penerbit)\n",
    "            p = pd.Series(self.genre)\n",
    "            df = pd.DataFrame([x,y,z,r,p], index = (\"No\",'Judul',\"Penulis\",\"Penerbit\",\"genre\")).T\n",
    "            print(df)\n",
    "    def tampil(self):\n",
    "        contol = {'no.': self.no, 'judul': self.judul}\n",
    "        print(pd.DataFrame(contol))\n",
    "book = buku()\n",
    "k = 0\n",
    "print('menu:')\n",
    "print('1. list data')\n",
    "print('2. tambah data')\n",
    "print('3. jumlah data')\n",
    "print('4. selesai cok')\n",
    "print('|NO.\\t| ', '\\tJudul\\t|', '\\tPenulis\\t|', '\\tPenerbit\\t|','\\tGenre\\t|')\n",
    "while k == 0:\n",
    "#     print('menu:')\n",
    "#     print('1. list data')\n",
    "#     print('2. tambah data')\n",
    "#     print('3. jumlah data')\n",
    "#     print('4. selesai cok')\n",
    "    ho = int(input(\"masukan pilihan: \"))\n",
    "    if ho == 1:\n",
    "        book.tampil()\n",
    "    elif ho == 2:\n",
    "        book.tambah()\n",
    "    elif ho == 3:\n",
    "        book.jumlah()\n",
    "    elif ho == 4:\n",
    "        break\n",
    "    else :\n",
    "        print(\"Ga ada kontol\")"
   ]
  },
  {
   "cell_type": "code",
   "execution_count": null,
   "id": "1f8f1abb",
   "metadata": {},
   "outputs": [],
   "source": []
  }
 ],
 "metadata": {
  "kernelspec": {
   "display_name": "Python 3 (ipykernel)",
   "language": "python",
   "name": "python3"
  },
  "language_info": {
   "codemirror_mode": {
    "name": "ipython",
    "version": 3
   },
   "file_extension": ".py",
   "mimetype": "text/x-python",
   "name": "python",
   "nbconvert_exporter": "python",
   "pygments_lexer": "ipython3",
   "version": "3.8.12"
  }
 },
 "nbformat": 4,
 "nbformat_minor": 5
}

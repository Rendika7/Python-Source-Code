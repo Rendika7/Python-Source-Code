{
  "nbformat": 4,
  "nbformat_minor": 0,
  "metadata": {
    "colab": {
      "provenance": [],
      "collapsed_sections": []
    },
    "kernelspec": {
      "name": "python3",
      "display_name": "Python 3"
    },
    "language_info": {
      "name": "python"
    }
  },
  "cells": [
    {
      "cell_type": "code",
      "execution_count": null,
      "metadata": {
        "id": "Q7D6t2UVwQPZ"
      },
      "outputs": [],
      "source": [
        "angka = int(input(\"Masukkan angka yang diminta : \"))\n",
        "\n",
        "for i in range (angka) :\n",
        "  print(i+1)"
      ]
    },
    {
      "cell_type": "code",
      "source": [
        "Harga = int(input (\"Total Harga :\"))\n",
        "TotalBayar = int(input (\"Uang Bayar :\"))\n",
        "Hasil = Harga - TotalBayar\n",
        "print(\"Sisa uang anda adalah : \", Hasil)"
      ],
      "metadata": {
        "id": "dUPuTZT0wTCy"
      },
      "execution_count": null,
      "outputs": []
    },
    {
      "cell_type": "code",
      "source": [
        "Alas = int(input (\"Masukkan Alas Segitiga : \"))\n",
        "Tinggi = int(input (\"Masukkan Tinggi Segitiga : \"))\n",
        "\n",
        "Luas = 1/2 * abs(Alas) * abs(Tinggi)\n",
        "print (Luas)"
      ],
      "metadata": {
        "id": "8ioFE6qwwU6a"
      },
      "execution_count": null,
      "outputs": []
    },
    {
      "cell_type": "code",
      "source": [
        "NamaTeman = [\"Rendika\",\"Halim\",\"Sigit\",\"Pikrie\"]\n",
        "print(NamaTeman[2])\n",
        "\n",
        "for i in (NamaTeman) :\n",
        "    print(i)\n",
        "\n",
        "len(NamaTeman)"
      ],
      "metadata": {
        "id": "8BaBYd8fwWiZ"
      },
      "execution_count": null,
      "outputs": []
    },
    {
      "cell_type": "code",
      "source": [
        "nama = []\n",
        "BanyakTeman = int(input(\"Masukkan Banyak Teman :\"))\n",
        "for i in range (BanyakTeman) :\n",
        "    Nama = input(\"Masukkan Nama Teman :\")\n",
        "    nama.append(Nama)\n",
        "    \n",
        "print(nama)"
      ],
      "metadata": {
        "id": "Vr1ZzAO9wYJZ"
      },
      "execution_count": null,
      "outputs": []
    },
    {
      "cell_type": "code",
      "source": [
        "Nama = input(\"Masukkan Nama Anda :\")\n",
        "Jabatan = input(\"Masukkan Jabatan Anda :\")\n",
        "Gaji = int(input(\"Masukkan Gaji Anda :\"))\n",
        "Pajak = 10/100\n",
        "\n",
        "print(\"Pegawai dengan nama\", Nama,\"dan jabatan\", Jabatan)\n",
        "\n",
        "BesarPajak = Gaji * Pajak\n",
        "GajiYangHarusDibayar = Gaji - BesarPajak\n",
        "\n",
        "print(\"dengan gaji\", Gaji, \"harus membayar pajak sebesar\", GajiYangHarusDibayar)"
      ],
      "metadata": {
        "id": "z6CTJorcwZ7j"
      },
      "execution_count": null,
      "outputs": []
    },
    {
      "cell_type": "code",
      "source": [
        "Nama = input(\"Masukkan Nama ANDA : \")\n",
        "Nilai = int(input(\"Masukkan Nilai Anda : \"))\n",
        "\n",
        "if Nilai > 100 :\n",
        "    print(\"ANDA ADALAH DEWA\")\n",
        "elif 100 > Nilai > 0:\n",
        "    print(Nama, \"ANDA BUTUH BELAJAR LAGI\")\n",
        "else :\n",
        "    print(Nama, \"ANDA BODOH DARI SANANYA\")"
      ],
      "metadata": {
        "id": "ffpi_zsxwblR"
      },
      "execution_count": null,
      "outputs": []
    },
    {
      "cell_type": "code",
      "source": [
        "NamaPembeli = input(\"Masukkan Nama Anda : \")\n",
        "TotalBelanja = int(input(\"Masukkan Total Belanja Anda : \"))\n",
        "NamaToko = \"TOKO BAROKAH\"\n",
        "Diskon1 = TotalBelanja*5/100\n",
        "Diskon2 = TotalBelanja*10/100\n",
        "\n",
        "if 100000 > TotalBelanja >= 90000 :\n",
        "    Pembayaran = TotalBelanja - Diskon1\n",
        "    print(NamaPembeli, \"Anda melakukan pembelian sebesar\", TotalBelanja, \"Total Pembayaran Anda setelah dipotong diskon adalah :\", Pembayaran, \"dan Selamat berbelanja kembali di\", NamaToko)\n",
        "elif TotalBelanja >= 100000 :\n",
        "    Pembayaran = TotalBelanja - Diskon2\n",
        "    print(NamaPembeli, \"Anda melakukan pembelian sebesar\", TotalBelanja, \"Total Pembayaran Anda setelah dipotong diskon adalah :\", Pembayaran, \"dan Selamat berbelanja kembali di\", NamaToko)\n",
        "else :\n",
        "    Pembayaran = TotalBelanja\n",
        "    print(NamaPembeli, \"Anda melakukan pembelian sebesar\", TotalBelanja, \"Anda tidak mendapat potongan harga\", \"dan Selamat berbelanja kembali di\", NamaToko)"
      ],
      "metadata": {
        "id": "W6p0NEoQwd25"
      },
      "execution_count": null,
      "outputs": []
    }
  ]
}
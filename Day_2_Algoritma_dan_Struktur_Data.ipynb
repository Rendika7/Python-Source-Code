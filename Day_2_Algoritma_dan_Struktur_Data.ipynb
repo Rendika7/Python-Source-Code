{
  "nbformat": 4,
  "nbformat_minor": 0,
  "metadata": {
    "colab": {
      "provenance": [],
      "collapsed_sections": []
    },
    "kernelspec": {
      "name": "python3",
      "display_name": "Python 3"
    },
    "language_info": {
      "name": "python"
    }
  },
  "cells": [
    {
      "cell_type": "code",
      "execution_count": null,
      "metadata": {
        "id": "onVV-RXC2GZC"
      },
      "outputs": [],
      "source": [
        "import numpy as np\n",
        "import panda as pd"
      ]
    },
    {
      "cell_type": "code",
      "source": [
        "def binary_search(arr, n):\n",
        "    Awal = 0\n",
        "    Akhir = len(arr) - 1\n",
        "    Tengah = 0\n",
        "    while Awal <= Akhir:\n",
        "        Tengah = (Akhir + Awal) // 2\n",
        "        if arr[Tengah] < n:\n",
        "            Awal = Tengah + 1\n",
        "        elif arr[Tengah] > n:\n",
        "            Akhir = Tengah - 1\n",
        "        else: \n",
        "            print(Tengah)\n",
        "            return Tengah\n",
        "            \n",
        "    return -1\n",
        "arr = [4, 7, 9, 16, 20]\n",
        "Data_Dicari = int(input(\"Masukkan angka yang ingin dicari : \"))\n",
        "r = binary_search(arr, Data_Dicari)\n",
        "if r != -1:\n",
        "    print(\"Element found at index\", str(r))\n",
        "else: \n",
        "    print(\"Element is not present in array\")"
      ],
      "metadata": {
        "colab": {
          "base_uri": "https://localhost:8080/"
        },
        "id": "ODApV3Y75ZGs",
        "outputId": "bb0d92a8-fd16-4031-d8dc-65effe879e8e"
      },
      "execution_count": null,
      "outputs": [
        {
          "output_type": "stream",
          "name": "stdout",
          "text": [
            "Masukkan angka yang ingin dicari : 7\n",
            "1\n",
            "Element found at index 1\n"
          ]
        }
      ]
    },
    {
      "cell_type": "code",
      "source": [
        "def binary_search(data, item) :\n",
        "  b_bawah = 0\n",
        "  b_atas = len(data) - 1\n",
        "  \n",
        "  while b_bawah<= b_atas:\n",
        "    tengah = (b_atas + b_bawah) // 2\n",
        "    tebakan = data [tengah]\n",
        "\n",
        "    if tebakan == item :\n",
        "      return tengah\n",
        "    elif tebakan > item :\n",
        "        b_atas = tengah - 1\n",
        "    else : \n",
        "          b_bawah = tengah +1\n",
        "  return None\n",
        "\n",
        "list_angka = [4, 7, 9, 16, 20]\n",
        "r = binary_search(list_angka, 7)\n",
        "\n",
        "\n",
        "if r != None:\n",
        "    print(\"Element found at index\", str(r))\n",
        "else: \n",
        "    print(\"Element is not present in array\")\n",
        "\n"
      ],
      "metadata": {
        "id": "rS4sTzEY5aEa",
        "colab": {
          "base_uri": "https://localhost:8080/"
        },
        "outputId": "23a4faf5-3bf0-4fa8-94d3-44d792aba15f"
      },
      "execution_count": null,
      "outputs": [
        {
          "output_type": "stream",
          "name": "stdout",
          "text": [
            "Element found at index 1\n"
          ]
        }
      ]
    },
    {
      "cell_type": "code",
      "source": [],
      "metadata": {
        "id": "r8oOgrsQ8HGV"
      },
      "execution_count": null,
      "outputs": []
    }
  ]
}
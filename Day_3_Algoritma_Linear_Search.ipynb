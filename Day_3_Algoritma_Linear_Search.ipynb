{
  "nbformat": 4,
  "nbformat_minor": 0,
  "metadata": {
    "colab": {
      "provenance": [],
      "collapsed_sections": []
    },
    "kernelspec": {
      "name": "python3",
      "display_name": "Python 3"
    },
    "language_info": {
      "name": "python"
    }
  },
  "cells": [
    {
      "cell_type": "code",
      "execution_count": null,
      "metadata": {
        "id": "0bKW3JQFYpTI",
        "colab": {
          "base_uri": "https://localhost:8080/"
        },
        "outputId": "b82605a9-ec00-426a-f794-18285c761188"
      },
      "outputs": [
        {
          "output_type": "stream",
          "name": "stdout",
          "text": [
            "10000000 loops, best of 5: 31.9 ns per loop\n"
          ]
        }
      ],
      "source": [
        "import timeit\n",
        "List = [1,7,8,9,3,4,0]\n",
        "angka = 4\n",
        "def linear_search(arr,angka):\n",
        "  for i in range(len(arr)) :\n",
        "    if arr[i] == angka :\n",
        "      return i\n",
        "  return -1\n",
        "linear_search(List,angka)\n",
        "\n",
        "%timeit linear_search"
      ]
    },
    {
      "cell_type": "code",
      "source": [
        "def linear_search (list, item) :\n",
        "  i = 0\n",
        "  while list[i] != item:\n",
        "    i+=1\n",
        "  return i\n",
        "\n",
        "list1 = [1,7,8,9,3,4,0]\n",
        "item = 4\n",
        "linear_search(list1,item)\n",
        "\n",
        "%timeit linear_search"
      ],
      "metadata": {
        "colab": {
          "base_uri": "https://localhost:8080/"
        },
        "id": "SrtnKI7EaEuf",
        "outputId": "709d6631-13e7-45e8-ac41-db90c35f5ecc"
      },
      "execution_count": null,
      "outputs": [
        {
          "output_type": "stream",
          "name": "stdout",
          "text": [
            "10000000 loops, best of 5: 31.9 ns per loop\n"
          ]
        }
      ]
    },
    {
      "cell_type": "code",
      "source": [
        "import random\n",
        "\n",
        "AngkaRahasia = random.randint (0,100)\n",
        "print(\"=\"*40)\n",
        "print(\"Angka rahasia sudah tersimpan, silahkan coba menebak...\")\n",
        "print(\"=\"*40)\n",
        "\n",
        "print(\"=\"*40)\n",
        "print(\"Easy - Medium - Hard - Very Hard\")\n",
        "Level = input(\"Masukkan Level Yang Anda Inginkan : \")\n",
        "\n",
        "if Level == \"Easy\" :\n",
        "  BatasPercobaan = 10\n",
        "elif Level == \"Medium\" :\n",
        "  BatasPercobaan = 7\n",
        "elif Level == \"Hard\" :\n",
        "  BatasPercobaan = 5\n",
        "else :\n",
        "  BatasPercobaan = 3\n",
        "print(\"=\"*40)\n",
        "\n",
        "\n",
        "for i in range (BatasPercobaan) :\n",
        "  print(\"Kesempatan Menebak Anda adalah\", BatasPercobaan, \"Kali\")\n",
        "  Jawaban = int(input(\"Masukkan tebakan angka anda : \"))\n",
        "  if Jawaban == AngkaRahasia :\n",
        "    print(\"Selamat Tebakan Anda Benar...\")\n",
        "    break\n",
        "  else :\n",
        "    if Jawaban < AngkaRahasia :\n",
        "      print(\"Tebakanmu terlalu kecil\") \n",
        "    else :\n",
        "      print(\"Tebakanmu terlalu besar\")\n",
        "  i+=1\n",
        "else:\n",
        "  print(\"=\"*40)\n",
        "  print(\"Maaf Anda Sudah Melewati Batas Percobaan, Anda Gagal...\")\n",
        "  print(\"=\"*40) \n"
      ],
      "metadata": {
        "colab": {
          "base_uri": "https://localhost:8080/",
          "height": 745
        },
        "id": "P8XkJf9NbO-F",
        "outputId": "78241908-91cc-4fca-bb30-1f01121c2261"
      },
      "execution_count": null,
      "outputs": [
        {
          "metadata": {
            "tags": null
          },
          "name": "stdout",
          "output_type": "stream",
          "text": [
            "========================================\n",
            "Angka rahasia sudah tersimpan, silahkan coba menebak...\n",
            "========================================\n",
            "========================================\n",
            "Easy - Medium - Hard - Very Hard\n",
            "========================================\n",
            "Kesempatan Menebak Anda adalah 10 Kali\n",
            "Tebakanmu terlalu besar\n",
            "========================================\n",
            "Maaf Anda Sudah Melewati Batas Percobaan, Anda Gagal...\n",
            "========================================\n",
            "Kesempatan Menebak Anda adalah 10 Kali\n"
          ]
        },
        {
          "output_type": "error",
          "ename": "KeyboardInterrupt",
          "evalue": "ignored",
          "traceback": [
            "\u001b[0;31m---------------------------------------------------------------------------\u001b[0m",
            "\u001b[0;31mKeyboardInterrupt\u001b[0m                         Traceback (most recent call last)",
            "\u001b[0;32m/usr/local/lib/python3.7/dist-packages/ipykernel/kernelbase.py\u001b[0m in \u001b[0;36m_input_request\u001b[0;34m(self, prompt, ident, parent, password)\u001b[0m\n\u001b[1;32m    728\u001b[0m             \u001b[0;32mtry\u001b[0m\u001b[0;34m:\u001b[0m\u001b[0;34m\u001b[0m\u001b[0;34m\u001b[0m\u001b[0m\n\u001b[0;32m--> 729\u001b[0;31m                 \u001b[0mident\u001b[0m\u001b[0;34m,\u001b[0m \u001b[0mreply\u001b[0m \u001b[0;34m=\u001b[0m \u001b[0mself\u001b[0m\u001b[0;34m.\u001b[0m\u001b[0msession\u001b[0m\u001b[0;34m.\u001b[0m\u001b[0mrecv\u001b[0m\u001b[0;34m(\u001b[0m\u001b[0mself\u001b[0m\u001b[0;34m.\u001b[0m\u001b[0mstdin_socket\u001b[0m\u001b[0;34m,\u001b[0m \u001b[0;36m0\u001b[0m\u001b[0;34m)\u001b[0m\u001b[0;34m\u001b[0m\u001b[0;34m\u001b[0m\u001b[0m\n\u001b[0m\u001b[1;32m    730\u001b[0m             \u001b[0;32mexcept\u001b[0m \u001b[0mException\u001b[0m\u001b[0;34m:\u001b[0m\u001b[0;34m\u001b[0m\u001b[0;34m\u001b[0m\u001b[0m\n",
            "\u001b[0;32m/usr/local/lib/python3.7/dist-packages/jupyter_client/session.py\u001b[0m in \u001b[0;36mrecv\u001b[0;34m(self, socket, mode, content, copy)\u001b[0m\n\u001b[1;32m    802\u001b[0m         \u001b[0;32mtry\u001b[0m\u001b[0;34m:\u001b[0m\u001b[0;34m\u001b[0m\u001b[0;34m\u001b[0m\u001b[0m\n\u001b[0;32m--> 803\u001b[0;31m             \u001b[0mmsg_list\u001b[0m \u001b[0;34m=\u001b[0m \u001b[0msocket\u001b[0m\u001b[0;34m.\u001b[0m\u001b[0mrecv_multipart\u001b[0m\u001b[0;34m(\u001b[0m\u001b[0mmode\u001b[0m\u001b[0;34m,\u001b[0m \u001b[0mcopy\u001b[0m\u001b[0;34m=\u001b[0m\u001b[0mcopy\u001b[0m\u001b[0;34m)\u001b[0m\u001b[0;34m\u001b[0m\u001b[0;34m\u001b[0m\u001b[0m\n\u001b[0m\u001b[1;32m    804\u001b[0m         \u001b[0;32mexcept\u001b[0m \u001b[0mzmq\u001b[0m\u001b[0;34m.\u001b[0m\u001b[0mZMQError\u001b[0m \u001b[0;32mas\u001b[0m \u001b[0me\u001b[0m\u001b[0;34m:\u001b[0m\u001b[0;34m\u001b[0m\u001b[0;34m\u001b[0m\u001b[0m\n",
            "\u001b[0;32m/usr/local/lib/python3.7/dist-packages/zmq/sugar/socket.py\u001b[0m in \u001b[0;36mrecv_multipart\u001b[0;34m(self, flags, copy, track)\u001b[0m\n\u001b[1;32m    624\u001b[0m         \"\"\"\n\u001b[0;32m--> 625\u001b[0;31m         \u001b[0mparts\u001b[0m \u001b[0;34m=\u001b[0m \u001b[0;34m[\u001b[0m\u001b[0mself\u001b[0m\u001b[0;34m.\u001b[0m\u001b[0mrecv\u001b[0m\u001b[0;34m(\u001b[0m\u001b[0mflags\u001b[0m\u001b[0;34m,\u001b[0m \u001b[0mcopy\u001b[0m\u001b[0;34m=\u001b[0m\u001b[0mcopy\u001b[0m\u001b[0;34m,\u001b[0m \u001b[0mtrack\u001b[0m\u001b[0;34m=\u001b[0m\u001b[0mtrack\u001b[0m\u001b[0;34m)\u001b[0m\u001b[0;34m]\u001b[0m\u001b[0;34m\u001b[0m\u001b[0;34m\u001b[0m\u001b[0m\n\u001b[0m\u001b[1;32m    626\u001b[0m         \u001b[0;31m# have first part already, only loop while more to receive\u001b[0m\u001b[0;34m\u001b[0m\u001b[0;34m\u001b[0m\u001b[0;34m\u001b[0m\u001b[0m\n",
            "\u001b[0;32mzmq/backend/cython/socket.pyx\u001b[0m in \u001b[0;36mzmq.backend.cython.socket.Socket.recv\u001b[0;34m()\u001b[0m\n",
            "\u001b[0;32mzmq/backend/cython/socket.pyx\u001b[0m in \u001b[0;36mzmq.backend.cython.socket.Socket.recv\u001b[0;34m()\u001b[0m\n",
            "\u001b[0;32mzmq/backend/cython/socket.pyx\u001b[0m in \u001b[0;36mzmq.backend.cython.socket._recv_copy\u001b[0;34m()\u001b[0m\n",
            "\u001b[0;32m/usr/local/lib/python3.7/dist-packages/zmq/backend/cython/checkrc.pxd\u001b[0m in \u001b[0;36mzmq.backend.cython.checkrc._check_rc\u001b[0;34m()\u001b[0m\n",
            "\u001b[0;31mKeyboardInterrupt\u001b[0m: ",
            "\nDuring handling of the above exception, another exception occurred:\n",
            "\u001b[0;31mKeyboardInterrupt\u001b[0m                         Traceback (most recent call last)",
            "\u001b[0;32m<ipython-input-75-e6cfbdc41f4a>\u001b[0m in \u001b[0;36m<module>\u001b[0;34m()\u001b[0m\n\u001b[1;32m     23\u001b[0m \u001b[0;32mfor\u001b[0m \u001b[0mi\u001b[0m \u001b[0;32min\u001b[0m \u001b[0mrange\u001b[0m \u001b[0;34m(\u001b[0m\u001b[0mBatasPercobaan\u001b[0m\u001b[0;34m)\u001b[0m \u001b[0;34m:\u001b[0m\u001b[0;34m\u001b[0m\u001b[0;34m\u001b[0m\u001b[0m\n\u001b[1;32m     24\u001b[0m   \u001b[0mprint\u001b[0m\u001b[0;34m(\u001b[0m\u001b[0;34m\"Kesempatan Menebak Anda adalah\"\u001b[0m\u001b[0;34m,\u001b[0m \u001b[0mBatasPercobaan\u001b[0m\u001b[0;34m,\u001b[0m \u001b[0;34m\"Kali\"\u001b[0m\u001b[0;34m)\u001b[0m\u001b[0;34m\u001b[0m\u001b[0;34m\u001b[0m\u001b[0m\n\u001b[0;32m---> 25\u001b[0;31m   \u001b[0mJawaban\u001b[0m \u001b[0;34m=\u001b[0m \u001b[0mint\u001b[0m\u001b[0;34m(\u001b[0m\u001b[0minput\u001b[0m\u001b[0;34m(\u001b[0m\u001b[0;34m\"Masukkan tebakan angka anda : \"\u001b[0m\u001b[0;34m)\u001b[0m\u001b[0;34m)\u001b[0m\u001b[0;34m\u001b[0m\u001b[0;34m\u001b[0m\u001b[0m\n\u001b[0m\u001b[1;32m     26\u001b[0m   \u001b[0;32mif\u001b[0m \u001b[0mJawaban\u001b[0m \u001b[0;34m==\u001b[0m \u001b[0mAngkaRahasia\u001b[0m \u001b[0;34m:\u001b[0m\u001b[0;34m\u001b[0m\u001b[0;34m\u001b[0m\u001b[0m\n\u001b[1;32m     27\u001b[0m     \u001b[0mprint\u001b[0m\u001b[0;34m(\u001b[0m\u001b[0;34m\"Selamat Tebakan Anda Benar...\"\u001b[0m\u001b[0;34m)\u001b[0m\u001b[0;34m\u001b[0m\u001b[0;34m\u001b[0m\u001b[0m\n",
            "\u001b[0;32m/usr/local/lib/python3.7/dist-packages/ipykernel/kernelbase.py\u001b[0m in \u001b[0;36mraw_input\u001b[0;34m(self, prompt)\u001b[0m\n\u001b[1;32m    702\u001b[0m             \u001b[0mself\u001b[0m\u001b[0;34m.\u001b[0m\u001b[0m_parent_ident\u001b[0m\u001b[0;34m,\u001b[0m\u001b[0;34m\u001b[0m\u001b[0;34m\u001b[0m\u001b[0m\n\u001b[1;32m    703\u001b[0m             \u001b[0mself\u001b[0m\u001b[0;34m.\u001b[0m\u001b[0m_parent_header\u001b[0m\u001b[0;34m,\u001b[0m\u001b[0;34m\u001b[0m\u001b[0;34m\u001b[0m\u001b[0m\n\u001b[0;32m--> 704\u001b[0;31m             \u001b[0mpassword\u001b[0m\u001b[0;34m=\u001b[0m\u001b[0;32mFalse\u001b[0m\u001b[0;34m,\u001b[0m\u001b[0;34m\u001b[0m\u001b[0;34m\u001b[0m\u001b[0m\n\u001b[0m\u001b[1;32m    705\u001b[0m         )\n\u001b[1;32m    706\u001b[0m \u001b[0;34m\u001b[0m\u001b[0m\n",
            "\u001b[0;32m/usr/local/lib/python3.7/dist-packages/ipykernel/kernelbase.py\u001b[0m in \u001b[0;36m_input_request\u001b[0;34m(self, prompt, ident, parent, password)\u001b[0m\n\u001b[1;32m    732\u001b[0m             \u001b[0;32mexcept\u001b[0m \u001b[0mKeyboardInterrupt\u001b[0m\u001b[0;34m:\u001b[0m\u001b[0;34m\u001b[0m\u001b[0;34m\u001b[0m\u001b[0m\n\u001b[1;32m    733\u001b[0m                 \u001b[0;31m# re-raise KeyboardInterrupt, to truncate traceback\u001b[0m\u001b[0;34m\u001b[0m\u001b[0;34m\u001b[0m\u001b[0;34m\u001b[0m\u001b[0m\n\u001b[0;32m--> 734\u001b[0;31m                 \u001b[0;32mraise\u001b[0m \u001b[0mKeyboardInterrupt\u001b[0m\u001b[0;34m\u001b[0m\u001b[0;34m\u001b[0m\u001b[0m\n\u001b[0m\u001b[1;32m    735\u001b[0m             \u001b[0;32melse\u001b[0m\u001b[0;34m:\u001b[0m\u001b[0;34m\u001b[0m\u001b[0;34m\u001b[0m\u001b[0m\n\u001b[1;32m    736\u001b[0m                 \u001b[0;32mbreak\u001b[0m\u001b[0;34m\u001b[0m\u001b[0;34m\u001b[0m\u001b[0m\n",
            "\u001b[0;31mKeyboardInterrupt\u001b[0m: "
          ]
        }
      ]
    },
    {
      "cell_type": "code",
      "source": [
        "def linear_search (list, item) :\n",
        "  i = 0\n",
        "  while list[i] != item:\n",
        "    i+=1\n",
        "  return i\n",
        "\n",
        "NIM = [2207023010,2207023020,2207023030,2207023040,2207023050,2207023060,2207023070,2207023080]\n",
        "Key = int(input(\"Masukkan NIM Anda : \"))\n",
        "X = linear_search(NIM,Key)\n",
        "\n",
        "if X == 0 :\n",
        "  print(\"Mulyadi 2.94\")\n",
        "  elif X == 1 :\n",
        "    print(\"Willy Johan 3.15\")\n",
        "  elif X == 2 :\n",
        "   print(\"Anthony Liberty 2.78\")\n",
        "  elif X == 3 :\n",
        "    print(\"Ferry Santoso 3.37\")\n",
        "  elif X == 4 :\n",
        "    print(\"Jaya Mulya 2.93\")\n",
        "  elif X == 5 :\n",
        "    print(\"Budi Santoso 3.01\")\n",
        "  elif X == 6 :\n",
        "    print(\"Indra Gunawan 3.56\")\n",
        "  elif X == 7 :\n",
        "    print(\"M. Rudito W 3.44\")\n",
        "  else :\n",
        "    print(\"NIM Yang Anda Masukkan Salah\")\n",
        "\n"
      ],
      "metadata": {
        "id": "BeEGlDLLgEn4"
      },
      "execution_count": null,
      "outputs": []
    },
    {
      "cell_type": "code",
      "source": [
        "import pandas as pd\n",
        "import numpy as np\n",
        "\n",
        "\n",
        "Data = {\"NIM\" : [2207023010,2207023020,2207023030,2207023040,2207023050,2207023060,2207023070,2207023080],\n",
        "        \"Nama\": [\"Mulyadi\",\"Willy Johan\",\"Anthony Liberty\",\"Ferry Santoso\",\"Jaya Mulya\",\"Budi Santoso\",\"Indra Gunawan\",\"M. Rudito\"],\n",
        "        \"IPK\" : [2.94,3.15,2.78,3.37,2.93,3.01,3.56,3.44]\n",
        "            }\n",
        "\n",
        "df = pd.DataFrame(Data)\n",
        "\n",
        "array = np.array(df[\"NIM\"])\n",
        "array\n",
        "\n",
        "def binary_search(arr, n):\n",
        "    Awal = 0\n",
        "    Akhir = len(arr) - 1\n",
        "    Tengah = 0\n",
        "    while Awal <= Akhir:\n",
        "        Tengah = (Akhir + Awal) // 2\n",
        "        if arr[Tengah] < n:\n",
        "            Awal = Tengah + 1\n",
        "        elif arr[Tengah] > n:\n",
        "            Akhir = Tengah - 1\n",
        "        else: \n",
        "            return Tengah\n",
        "    return -1\n",
        "\n",
        "NIM_Dicari = int(input(\"Masukkan NIM yang ingin dicari : \"))\n",
        "r = binary_search(array, NIM_Dicari)\n",
        "\n",
        "if r != -1:\n",
        "    print(df.iloc[r])\n",
        "else: \n",
        "    print(\"NIM is not present in DATA\")\n"
      ],
      "metadata": {
        "colab": {
          "base_uri": "https://localhost:8080/"
        },
        "id": "H4Y1tzsGlBDP",
        "outputId": "f15e235d-a4d5-40a6-b8bb-2325124f381a"
      },
      "execution_count": null,
      "outputs": [
        {
          "output_type": "stream",
          "name": "stdout",
          "text": [
            "Masukkan NIM yang ingin dicari : 2207023050\n",
            "NIM     2207023050\n",
            "Nama    Jaya Mulya\n",
            "IPK           2.93\n",
            "Name: 4, dtype: object\n"
          ]
        }
      ]
    },
    {
      "cell_type": "code",
      "source": [],
      "metadata": {
        "id": "Cj_rnGyulS6f"
      },
      "execution_count": null,
      "outputs": []
    }
  ]
}
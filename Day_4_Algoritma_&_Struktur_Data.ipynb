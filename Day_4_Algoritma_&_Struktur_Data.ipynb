{
  "nbformat": 4,
  "nbformat_minor": 0,
  "metadata": {
    "colab": {
      "provenance": [],
      "collapsed_sections": []
    },
    "kernelspec": {
      "name": "python3",
      "display_name": "Python 3"
    },
    "language_info": {
      "name": "python"
    }
  },
  "cells": [
    {
      "cell_type": "code",
      "execution_count": null,
      "metadata": {
        "colab": {
          "base_uri": "https://localhost:8080/"
        },
        "id": "lcDEObmOF7AX",
        "outputId": "d165133d-6f86-47d6-ff25-ab73398557dd"
      },
      "outputs": [
        {
          "output_type": "stream",
          "name": "stdout",
          "text": [
            "6\n"
          ]
        }
      ],
      "source": [
        "def linear_search(data,item) :\n",
        "  i = 0\n",
        "  while data[i] != item:\n",
        "    i+=1\n",
        "  return i\n",
        "\n",
        "nilai = linear_search([2,3,5,7,11,13,17,19,23],17)\n",
        "print(nilai)"
      ]
    },
    {
      "cell_type": "code",
      "source": [],
      "metadata": {
        "id": "YoouF_IMGxSQ"
      },
      "execution_count": null,
      "outputs": []
    }
  ]
}
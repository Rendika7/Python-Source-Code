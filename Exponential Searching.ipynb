{
 "cells": [
  {
   "cell_type": "markdown",
   "id": "4382d705",
   "metadata": {},
   "source": [
    "# Kelompok 2 - Exponential Searching"
   ]
  },
  {
   "cell_type": "code",
   "execution_count": null,
   "id": "c2b61125",
   "metadata": {},
   "outputs": [
    {
     "name": "stdout",
     "output_type": "stream",
     "text": [
      "Masukkan List Anda : 1X2X3X4X5X6X7X8\n",
      "Data = [1, 2, 3, 4, 5, 6, 7, 8] \n",
      "\n"
     ]
    }
   ],
   "source": [
    "Data=list(map(int, input(\"Masukkan List Anda : \").split(\"X\")))\n",
    "print(\"Data =\",Data,\"\\n\")\n",
    "Target=int(input(\"Masukkan Angka Yang Ingin Dicari : \"))\n",
    "\n",
    "#-------------------------------------------\n",
    "i = 1\n",
    "#Finding range for Exponential_Search\n",
    "while(i<len(Data) and Data[i]<=Target):\n",
    "        i = i * 2\n",
    "#-------------------------------------------\n",
    "def Exponential_Search(data_list,low,high,value):\n",
    "    if(high>= low):\n",
    "        mid=int(low + ( high-low )//2)\n",
    "#-------------------------------------------\n",
    "        if data_list[mid] == value:\n",
    "            return mid\n",
    "        if data_list[mid] > value:\n",
    "            return Exponential_Search(data_list,low,mid - 1,value)\n",
    "        else:\n",
    "            return Exponential_Search(data_list,mid + 1,high,value)\n",
    "#-------------------------------------------\n",
    "    if(high<low):\n",
    "        return -1\n",
    "    # call the Exponential_Search function for get a specified range\n",
    "index=Exponential_Search(Data,i/2,min(i,len(Data)),Target)\n",
    "#-------------------------------------------\n",
    "if(index==-1):\n",
    "    print(\"Item yang anda cari tidak ditemukan\")\n",
    "else:\n",
    "    print(\"Item yang anda cari ada di urutan ke -\",index +1,\"dalam list\")"
   ]
  },
  {
   "cell_type": "code",
   "execution_count": 5,
   "id": "8f8302cd",
   "metadata": {},
   "outputs": [
    {
     "ename": "SyntaxError",
     "evalue": "cannot assign to function call (<ipython-input-5-02ce90863ff7>, line 9)",
     "output_type": "error",
     "traceback": [
      "\u001b[1;36m  File \u001b[1;32m\"<ipython-input-5-02ce90863ff7>\"\u001b[1;36m, line \u001b[1;32m9\u001b[0m\n\u001b[1;33m    int(mid) = l + ( r-l ) / 2\u001b[0m\n\u001b[1;37m    ^\u001b[0m\n\u001b[1;31mSyntaxError\u001b[0m\u001b[1;31m:\u001b[0m cannot assign to function call\n"
     ]
    }
   ],
   "source": [
    "# Python program to find an element x\n",
    "# in a sorted array using Exponential Search\n",
    " \n",
    "# A recursive binary search function returns\n",
    "# location  of x in given array arr[l..r] is\n",
    "# present, otherwise -1\n",
    "def binarySearch( arr, l, r, x):\n",
    "    if r >= l:\n",
    "        mid = l + ( r-l ) / 2\n",
    "         \n",
    "        # If the element is present at\n",
    "        # the middle itself\n",
    "        if arr[mid] == x:\n",
    "            return mid\n",
    "         \n",
    "        # If the element is smaller than mid,\n",
    "        # then it can only be present in the\n",
    "        # left subarray\n",
    "        if arr[mid] > x:\n",
    "            return binarySearch(arr, l,\n",
    "                                mid - 1, x)\n",
    "         \n",
    "        # Else he element can only be\n",
    "        # present in the right\n",
    "        return binarySearch(arr, mid + 1, r, x)\n",
    "         \n",
    "    # We reach here if the element is not present\n",
    "    return -1\n",
    " \n",
    "# Returns the position of first\n",
    "# occurrence of x in array\n",
    "def exponentialSearch(arr, n, x):\n",
    "    # IF x is present at first\n",
    "    # location itself\n",
    "    if arr[0] == x:\n",
    "        return 0\n",
    "         \n",
    "    # Find range for binary search\n",
    "    # j by repeated doubling\n",
    "    i = 1\n",
    "    while i < n and arr[i] <= x:\n",
    "        i = i * 2\n",
    "     \n",
    "    # Call binary search for the found range\n",
    "    return binarySearch( arr, i / 2,\n",
    "                         min(i, n-1), x)\n",
    "     \n",
    " \n",
    "# Driver Code\n",
    "arr = [2, 3, 4, 10, 40]\n",
    "n = len(arr)\n",
    "x = 10\n",
    "result = exponentialSearch(arr, n, x)\n",
    "if result == -1:\n",
    "    print (\"Element not found in the array\")\n",
    "else:\n",
    "    print (\"Element is present at index %d\" %(result))\n",
    " \n",
    "# This code is contributed by Harshit Agrawal"
   ]
  },
  {
   "cell_type": "code",
   "execution_count": 15,
   "id": "cecb1784",
   "metadata": {},
   "outputs": [
    {
     "name": "stdout",
     "output_type": "stream",
     "text": [
      "Masukkan List Anda : 1 2 3 4 5 6 7 8\n",
      "Data = [1, 2, 3, 4, 5, 6, 7, 8] \n",
      "\n",
      "Masukkan Angka Yang Ingin Dicari : 9\n"
     ]
    },
    {
     "ename": "NameError",
     "evalue": "name 'binarySearch' is not defined",
     "output_type": "error",
     "traceback": [
      "\u001b[1;31m---------------------------------------------------------------------------\u001b[0m",
      "\u001b[1;31mNameError\u001b[0m                                 Traceback (most recent call last)",
      "\u001b[1;32m<ipython-input-15-d5a1aa460c12>\u001b[0m in \u001b[0;36m<module>\u001b[1;34m\u001b[0m\n\u001b[0;32m     23\u001b[0m         \u001b[1;32mreturn\u001b[0m \u001b[1;33m-\u001b[0m\u001b[1;36m1\u001b[0m\u001b[1;33m\u001b[0m\u001b[1;33m\u001b[0m\u001b[0m\n\u001b[0;32m     24\u001b[0m     \u001b[1;31m# call the Exponential_Search function for get a specified range\u001b[0m\u001b[1;33m\u001b[0m\u001b[1;33m\u001b[0m\u001b[1;33m\u001b[0m\u001b[0m\n\u001b[1;32m---> 25\u001b[1;33m \u001b[0mindex\u001b[0m\u001b[1;33m=\u001b[0m\u001b[0mExponential_Search\u001b[0m\u001b[1;33m(\u001b[0m\u001b[0mData\u001b[0m\u001b[1;33m,\u001b[0m\u001b[0mi\u001b[0m\u001b[1;33m/\u001b[0m\u001b[1;36m2\u001b[0m\u001b[1;33m,\u001b[0m\u001b[0mmin\u001b[0m\u001b[1;33m(\u001b[0m\u001b[0mi\u001b[0m\u001b[1;33m,\u001b[0m\u001b[0mlen\u001b[0m\u001b[1;33m(\u001b[0m\u001b[0mData\u001b[0m\u001b[1;33m)\u001b[0m\u001b[1;33m)\u001b[0m\u001b[1;33m,\u001b[0m\u001b[0mTarget\u001b[0m\u001b[1;33m)\u001b[0m\u001b[1;33m\u001b[0m\u001b[1;33m\u001b[0m\u001b[0m\n\u001b[0m\u001b[0;32m     26\u001b[0m \u001b[1;31m#-------------------------------------------\u001b[0m\u001b[1;33m\u001b[0m\u001b[1;33m\u001b[0m\u001b[1;33m\u001b[0m\u001b[0m\n\u001b[0;32m     27\u001b[0m \u001b[1;32mif\u001b[0m\u001b[1;33m(\u001b[0m\u001b[0mindex\u001b[0m\u001b[1;33m==\u001b[0m\u001b[1;33m-\u001b[0m\u001b[1;36m1\u001b[0m\u001b[1;33m)\u001b[0m\u001b[1;33m:\u001b[0m\u001b[1;33m\u001b[0m\u001b[1;33m\u001b[0m\u001b[0m\n",
      "\u001b[1;32m<ipython-input-15-d5a1aa460c12>\u001b[0m in \u001b[0;36mExponential_Search\u001b[1;34m(data_list, low, high, value)\u001b[0m\n\u001b[0;32m     18\u001b[0m             \u001b[0mprint\u001b[0m\u001b[1;33m(\u001b[0m\u001b[0mbinarySearch\u001b[0m\u001b[1;33m(\u001b[0m\u001b[0mdata_list\u001b[0m\u001b[1;33m,\u001b[0m\u001b[0mlow\u001b[0m\u001b[1;33m,\u001b[0m\u001b[0mmid\u001b[0m \u001b[1;33m-\u001b[0m \u001b[1;36m1\u001b[0m\u001b[1;33m,\u001b[0m\u001b[0mvalue\u001b[0m\u001b[1;33m)\u001b[0m\u001b[1;33m)\u001b[0m\u001b[1;33m\u001b[0m\u001b[1;33m\u001b[0m\u001b[0m\n\u001b[0;32m     19\u001b[0m         \u001b[1;32melse\u001b[0m\u001b[1;33m:\u001b[0m\u001b[1;33m\u001b[0m\u001b[1;33m\u001b[0m\u001b[0m\n\u001b[1;32m---> 20\u001b[1;33m             \u001b[0mprint\u001b[0m\u001b[1;33m(\u001b[0m\u001b[0mbinarySearch\u001b[0m\u001b[1;33m(\u001b[0m\u001b[0mdata_list\u001b[0m\u001b[1;33m,\u001b[0m\u001b[0mmid\u001b[0m \u001b[1;33m+\u001b[0m \u001b[1;36m1\u001b[0m\u001b[1;33m,\u001b[0m\u001b[0mhigh\u001b[0m\u001b[1;33m,\u001b[0m\u001b[0mvalue\u001b[0m\u001b[1;33m)\u001b[0m\u001b[1;33m)\u001b[0m\u001b[1;33m\u001b[0m\u001b[1;33m\u001b[0m\u001b[0m\n\u001b[0m\u001b[0;32m     21\u001b[0m \u001b[1;31m#-------------------------------------------\u001b[0m\u001b[1;33m\u001b[0m\u001b[1;33m\u001b[0m\u001b[1;33m\u001b[0m\u001b[0m\n\u001b[0;32m     22\u001b[0m     \u001b[1;32mif\u001b[0m\u001b[1;33m(\u001b[0m\u001b[0mhigh\u001b[0m\u001b[1;33m<\u001b[0m\u001b[0mlow\u001b[0m\u001b[1;33m)\u001b[0m\u001b[1;33m:\u001b[0m\u001b[1;33m\u001b[0m\u001b[1;33m\u001b[0m\u001b[0m\n",
      "\u001b[1;31mNameError\u001b[0m: name 'binarySearch' is not defined"
     ]
    }
   ],
   "source": [
    "Data=list(map(int, input(\"Masukkan List Anda : \").split()))\n",
    "print(\"Data =\",Data,\"\\n\")\n",
    "Target=int(input(\"Masukkan Angka Yang Ingin Dicari : \"))\n",
    "\n",
    "#-------------------------------------------\n",
    "i = 1\n",
    "#Finding range for Exponential_Search\n",
    "while(i<len(Data) and Data[i]<=Target):\n",
    "        i = i * 2\n",
    "#-------------------------------------------\n",
    "def Exponential_Search(data_list,low,high,value):\n",
    "    if(high>= low):\n",
    "        mid=int(low + ( high-low )//2)\n",
    "#-------------------------------------------\n",
    "        if data_list[mid] == value:\n",
    "            return mid\n",
    "        if data_list[mid] > value:\n",
    "            print(binarySearch(data_list,low,mid - 1,value))\n",
    "        else:\n",
    "            print(binarySearch(data_list,mid + 1,high,value))\n",
    "#-------------------------------------------\n",
    "    if(high<low):\n",
    "        return -1\n",
    "    # call the Exponential_Search function for get a specified range\n",
    "index=Exponential_Search(Data,i/2,min(i,len(Data)),Target)\n",
    "#-------------------------------------------\n",
    "if(index==-1):\n",
    "    print(\"Item yang anda cari tidak ditemukan\")\n",
    "else:\n",
    "    print(\"Item yang anda cari ada di urutan ke -\",str(index +1),\"dalam list\")"
   ]
  },
  {
   "cell_type": "code",
   "execution_count": null,
   "id": "2f0fb88f",
   "metadata": {},
   "outputs": [],
   "source": []
  }
 ],
 "metadata": {
  "kernelspec": {
   "display_name": "Python 3",
   "language": "python",
   "name": "python3"
  },
  "language_info": {
   "codemirror_mode": {
    "name": "ipython",
    "version": 3
   },
   "file_extension": ".py",
   "mimetype": "text/x-python",
   "name": "python",
   "nbconvert_exporter": "python",
   "pygments_lexer": "ipython3",
   "version": "3.8.8"
  }
 },
 "nbformat": 4,
 "nbformat_minor": 5
}

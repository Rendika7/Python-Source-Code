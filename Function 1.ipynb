{
 "cells": [
  {
   "cell_type": "code",
   "execution_count": 3,
   "id": "44a02ab7",
   "metadata": {},
   "outputs": [
    {
     "name": "stdout",
     "output_type": "stream",
     "text": [
      "Hello Rendika Selamat Pagi dan Selamat Belajar\n",
      "Hello Thesion Selamat Pagi dan Selamat Belajar\n",
      "Hello Sigit Selamat Pagi dan Selamat Belajar\n",
      "Hello Irma Selamat Pagi dan Selamat Belajar\n",
      "Hello Winalda Selamat Pagi dan Selamat Belajar\n"
     ]
    }
   ],
   "source": [
    "def Hello(Nama) :\n",
    "    print(\"Hello \" + Nama + \" Selamat Pagi dan Selamat Belajar\")\n",
    "    \n",
    "Hello(\"Rendika\")\n",
    "Hello(\"Thesion\")\n",
    "Hello(\"Sigit\")\n",
    "Hello(\"Irma\")\n",
    "Hello(\"Winalda\")"
   ]
  },
  {
   "cell_type": "code",
   "execution_count": 6,
   "id": "c4b7e00e",
   "metadata": {},
   "outputs": [
    {
     "name": "stdout",
     "output_type": "stream",
     "text": [
      "Selamat Tugas Rendika Nurhartanto Suharto Kalkulus Selesai\n",
      "Selamat Tugas Sigit Alogritma dan Pemrograman Belum Selesai\n"
     ]
    }
   ],
   "source": [
    "def Tugas(Nama,Pelajaran,Keterangan) :\n",
    "    print(\"Selamat Tugas\", Nama, Pelajaran, Keterangan)\n",
    "Tugas(\"Rendika Nurhartanto Suharto\", \"Kalkulus\", \"Selesai\")\n",
    "Tugas(\"Sigit\", \"Alogritma dan Pemrograman\", \"Belum Selesai\")"
   ]
  },
  {
   "cell_type": "code",
   "execution_count": 18,
   "id": "1fbb21a2",
   "metadata": {},
   "outputs": [
    {
     "name": "stdout",
     "output_type": "stream",
     "text": [
      "Siswa Termuda adalah Rendika\n",
      "Siswa Tertua adalah Thesion\n",
      "Siswa Tergokil adalah Sigit\n",
      "Siswa Perempuan adalah ('Irma', 'Thesion', 'Winalda')\n",
      "Siswa Yang Sudah Mengerjakan Tugas adalah ('Rendika', 'Irma', 'Winalda')\n"
     ]
    }
   ],
   "source": [
    "def Student(*Nama) :\n",
    "    print(\"Siswa Termuda adalah\", Nama[0]) #Index 0 (Tidak ada Minus Plus)\n",
    "    print(\"Siswa Tertua adalah\", Nama[3]) #Index 3 Dari Kiri\n",
    "    print(\"Siswa Tergokil adalah\", Nama[-4]) #Index 4 Dari Kanan\n",
    "    print(\"Siswa Perempuan adalah\", Nama[2:5]) #Dari Index 2 sampai 4\n",
    "    print(\"Siswa Yang Sudah Mengerjakan Tugas adalah\", Nama[0:5:2]) #Loncat 2\n",
    "    \n",
    "Student(\"Rendika\",\"Sigit\",\"Irma\",\"Thesion\",\"Winalda\")\n"
   ]
  },
  {
   "cell_type": "code",
   "execution_count": 21,
   "id": "9b35a019",
   "metadata": {},
   "outputs": [
    {
     "name": "stdout",
     "output_type": "stream",
     "text": [
      "Rendika Berumur 7\n",
      "Rendika Berumur 20\n"
     ]
    }
   ],
   "source": [
    "x = 20\n",
    "def Nilai() :\n",
    "    x = 7\n",
    "    print(\"Rendika Berumur\",x)\n",
    "Nilai()\n",
    "            #Jika diluar function maka assignment tidak dianggap\n",
    "print(\"Rendika Berumur\", x)"
   ]
  },
  {
   "cell_type": "code",
   "execution_count": 24,
   "id": "58a132ad",
   "metadata": {},
   "outputs": [
    {
     "name": "stdout",
     "output_type": "stream",
     "text": [
      "Rendika Berumur 7\n",
      "Rendika Berumur 7\n"
     ]
    }
   ],
   "source": [
    "x = 20\n",
    "def Nilai() :\n",
    "    global x\n",
    "    x = 7\n",
    "    print(\"Rendika Berumur\",x)\n",
    "Nilai()\n",
    "        #Jika diluar function maka assignment tidak dianggap\n",
    "        #Namun jika ingin tetap dianggap diluar function bisa kita pakai \"global x\"\n",
    "print(\"Rendika Berumur\", x)"
   ]
  },
  {
   "cell_type": "code",
   "execution_count": 29,
   "id": "aed5844b",
   "metadata": {},
   "outputs": [
    {
     "name": "stdout",
     "output_type": "stream",
     "text": [
      "49\n"
     ]
    }
   ],
   "source": [
    "def LuasPersegi(Sisi = 10) : #Meskipun di assignment di atas namun bisa diubah dari Parameter Functionnya\n",
    "    Luas = Sisi * Sisi\n",
    "    print(Luas)\n",
    "LuasPersegi(7)"
   ]
  },
  {
   "cell_type": "code",
   "execution_count": 99,
   "id": "1c0001f2",
   "metadata": {},
   "outputs": [
    {
     "name": "stdout",
     "output_type": "stream",
     "text": [
      "Rendika ANJAY Suharto\n"
     ]
    }
   ],
   "source": [
    "def Name(y = \"Rendika\", b = \"Nurhartanto\", c = \"Suharto\"):\n",
    "    print(y,b,c)\n",
    "    \n",
    "Name(b = \"ANJAY\")"
   ]
  },
  {
   "cell_type": "code",
   "execution_count": 55,
   "id": "f12842a9",
   "metadata": {},
   "outputs": [
    {
     "data": {
      "text/plain": [
       "100"
      ]
     },
     "execution_count": 55,
     "metadata": {},
     "output_type": "execute_result"
    }
   ],
   "source": [
    "def LuasPersegi(Sisi) :     #Return Untuk Mengembalikan Nilai Kedalam Function yang dipanggil\n",
    "    Luas = Sisi * Sisi\n",
    "    return Luas\n",
    "LuasPersegi(10)"
   ]
  },
  {
   "cell_type": "code",
   "execution_count": 63,
   "id": "47c3d1ff",
   "metadata": {},
   "outputs": [
    {
     "data": {
      "text/plain": [
       "70"
      ]
     },
     "execution_count": 63,
     "metadata": {},
     "output_type": "execute_result"
    }
   ],
   "source": [
    "def Max(x,y) :           #Return\n",
    "    if x>y :\n",
    "        return x\n",
    "    elif x == y :\n",
    "        return \"Bilangan Sama\"\n",
    "    else :\n",
    "        return y\n",
    "Max(10,70)"
   ]
  },
  {
   "cell_type": "code",
   "execution_count": 68,
   "id": "4a0b741e",
   "metadata": {},
   "outputs": [
    {
     "name": "stdout",
     "output_type": "stream",
     "text": [
      "70\n"
     ]
    },
    {
     "data": {
      "text/plain": [
       "7"
      ]
     },
     "execution_count": 68,
     "metadata": {},
     "output_type": "execute_result"
    }
   ],
   "source": [
    "def Max(x,y) :           \n",
    "    if x>y :\n",
    "        return x\n",
    "    elif x == y :\n",
    "        return \"Bilangan Sama\"\n",
    "    else :\n",
    "        return y\n",
    "Max(10,70)\n",
    "print(Max(10,70))\n",
    "\n",
    "\n",
    "def Min(a,b) :          \n",
    "    if a<b :\n",
    "        return a\n",
    "    elif a == b :\n",
    "        return \"Bilangan Sama\"\n",
    "    else :\n",
    "        return b\n",
    "Min(10,7)"
   ]
  },
  {
   "cell_type": "code",
   "execution_count": 77,
   "id": "61cdb774",
   "metadata": {},
   "outputs": [
    {
     "name": "stdout",
     "output_type": "stream",
     "text": [
      "120\n"
     ]
    }
   ],
   "source": [
    "def faktorial(n):       #Program Faktorial\n",
    "    if n == 0:\n",
    "        return 1\n",
    "    else:\n",
    "        return n * faktorial(n-1)\n",
    "\n",
    "print (faktorial(5))\n"
   ]
  },
  {
   "cell_type": "code",
   "execution_count": 85,
   "id": "6811257d",
   "metadata": {},
   "outputs": [
    {
     "name": "stdout",
     "output_type": "stream",
     "text": [
      "Masukkan nilai n: 5\n",
      "5! = 120\n",
      "5! = 120\n"
     ]
    }
   ],
   "source": [
    "n = int(input('Masukkan nilai n: '))    #Program Faktorial\n",
    "faktorial = 1\n",
    "\n",
    "for i in range(1, n + 1):\n",
    "  faktorial *= i\n",
    "\n",
    "\n",
    "print(f'{n}! = {faktorial}')\n",
    "\n",
    "print(str(n) +\"! =\", str(faktorial))"
   ]
  },
  {
   "cell_type": "code",
   "execution_count": 87,
   "id": "9b006148",
   "metadata": {},
   "outputs": [
    {
     "name": "stdout",
     "output_type": "stream",
     "text": [
      "Masukkan Angka : 5\n",
      "120\n"
     ]
    }
   ],
   "source": [
    "import math                              #Import Library Math \n",
    "Angka = int(input(\"Masukkan Angka : \"))\n",
    "Hasil = math.factorial(Angka)\n",
    "\n",
    "print(Hasil)"
   ]
  },
  {
   "cell_type": "code",
   "execution_count": null,
   "id": "f790cf6c",
   "metadata": {},
   "outputs": [],
   "source": []
  }
 ],
 "metadata": {
  "kernelspec": {
   "display_name": "Python 3",
   "language": "python",
   "name": "python3"
  },
  "language_info": {
   "codemirror_mode": {
    "name": "ipython",
    "version": 3
   },
   "file_extension": ".py",
   "mimetype": "text/x-python",
   "name": "python",
   "nbconvert_exporter": "python",
   "pygments_lexer": "ipython3",
   "version": "3.8.8"
  }
 },
 "nbformat": 4,
 "nbformat_minor": 5
}

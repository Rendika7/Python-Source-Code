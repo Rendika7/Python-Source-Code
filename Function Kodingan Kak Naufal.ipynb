{
 "cells": [
  {
   "cell_type": "code",
   "execution_count": 1,
   "metadata": {
    "id": "3ocpBfu2fCDw"
   },
   "outputs": [],
   "source": [
    "import pandas as pd\n",
    "import numpy as np"
   ]
  },
  {
   "cell_type": "code",
   "execution_count": 6,
   "metadata": {
    "colab": {
     "base_uri": "https://localhost:8080/"
    },
    "id": "e2PdojGgdk9d",
    "outputId": "b58d1101-8895-49c5-9006-5d792475abf6"
   },
   "outputs": [
    {
     "data": {
      "text/plain": [
       "8"
      ]
     },
     "execution_count": 6,
     "metadata": {},
     "output_type": "execute_result"
    }
   ],
   "source": [
    "def kurang(b, akhir=10):\n",
    "  return akhir-b\n",
    "kurang(2)"
   ]
  },
  {
   "cell_type": "code",
   "execution_count": 8,
   "metadata": {
    "colab": {
     "base_uri": "https://localhost:8080/"
    },
    "id": "aHvXUhoJWZ1X",
    "outputId": "76ea1aef-65d3-4858-a0cb-191d60efb76c"
   },
   "outputs": [
    {
     "name": "stdout",
     "output_type": "stream",
     "text": [
      "Masukkan User : admin\n",
      "Masukkan Sandi : admin\n",
      "\n",
      "Selamat datang  admin\n",
      "Masukkan 6 digit awal NIM : 120220\n",
      "\n",
      "Anda IT angkatan 2020\n",
      "\n",
      "\n",
      "Selamat!!!! Anda mendapatkan Akses\n",
      "\n",
      "<class 'pandas.core.frame.DataFrame'>\n",
      "RangeIndex: 3000 entries, 0 to 2999\n",
      "Data columns (total 9 columns):\n",
      " #   Column              Non-Null Count  Dtype  \n",
      "---  ------              --------------  -----  \n",
      " 0   longitude           3000 non-null   float64\n",
      " 1   latitude            3000 non-null   float64\n",
      " 2   housing_median_age  3000 non-null   float64\n",
      " 3   total_rooms         3000 non-null   float64\n",
      " 4   total_bedrooms      3000 non-null   float64\n",
      " 5   population          3000 non-null   float64\n",
      " 6   households          3000 non-null   float64\n",
      " 7   median_income       3000 non-null   float64\n",
      " 8   median_house_value  3000 non-null   float64\n",
      "dtypes: float64(9)\n",
      "memory usage: 211.1 KB\n",
      "None\n"
     ]
    }
   ],
   "source": [
    "def selamat(nama):\n",
    "  print('\\nSelamat datang ', nama)\n",
    "\n",
    "def login():\n",
    "  user = input('Masukkan User : ')\n",
    "  pas = input('Masukkan Sandi : ')\n",
    "  if user=='admin' and pas=='admin':\n",
    "    selamat(user)\n",
    "    return True\n",
    "  elif pas=='admin':\n",
    "    selamat(user)\n",
    "    return True\n",
    "  else:\n",
    "    return False\n",
    "\n",
    "def admin(kode):\n",
    "  if kode==120220:\n",
    "    print('\\nAnda IT angkatan 2020')\n",
    "    data()\n",
    "  else:\n",
    "    print('\\nAnda bukan IT angkatan 2020')\n",
    "\n",
    "def data():\n",
    "  print('\\n\\nSelamat!!!! Anda mendapatkan Akses\\n')\n",
    "  data = pd.read_csv('/content/sample_data/california_housing_test.csv')\n",
    "  print(data.info())\n",
    "\n",
    "if login()==True:\n",
    "  nim = int(input('Masukkan 6 digit awal NIM : '))\n",
    "  admin(nim)\n",
    "else:\n",
    "  print('Maaf Anda tidak dikenal')"
   ]
  }
 ],
 "metadata": {
  "colab": {
   "name": "Fungsi.ipynb",
   "provenance": []
  },
  "kernelspec": {
   "display_name": "Python 3",
   "language": "python",
   "name": "python3"
  },
  "language_info": {
   "codemirror_mode": {
    "name": "ipython",
    "version": 3
   },
   "file_extension": ".py",
   "mimetype": "text/x-python",
   "name": "python",
   "nbconvert_exporter": "python",
   "pygments_lexer": "ipython3",
   "version": "3.8.8"
  }
 },
 "nbformat": 4,
 "nbformat_minor": 1
}

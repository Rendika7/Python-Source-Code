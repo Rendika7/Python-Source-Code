{
 "cells": [
  {
   "cell_type": "code",
   "execution_count": 4,
   "id": "0acd273d",
   "metadata": {},
   "outputs": [
    {
     "name": "stdout",
     "output_type": "stream",
     "text": [
      "Masukkan Angka Yang Ingin Diurutkan : 1 2 3 4 5 6 7 8 9\n",
      "[1, 2, 3, 4, 5, 6, 7, 8, 9]\n"
     ]
    }
   ],
   "source": [
    "number= list(map(int,input(\"Masukkan Angka Yang Ingin Diurutkan : \").split()))\n",
    "for i in range(len(number)):\n",
    "  for j in range(i+1,len(number)):\n",
    "    if number[i]>number[j]:\n",
    "      number[i],number[j]=number[j],number[i]\n",
    "print(number)"
   ]
  },
  {
   "cell_type": "code",
   "execution_count": 17,
   "id": "7883a430",
   "metadata": {},
   "outputs": [
    {
     "name": "stdout",
     "output_type": "stream",
     "text": [
      "Masukkan Nama Yang Ingin Diurutkan : Rendika,Sigit,Irma,Thesi,Farhan,Ryanta,Nanda\n",
      "Masukkan Nama Yang Ingin Diurutkan : Ironman,Spiderman,Hawkeye,Thor,Hulk,Wanda\n",
      "['Thesi', 'Sigit', 'Ryanta', 'Rendika', 'Nanda', 'Irma', 'Farhan'] \n",
      " ['Hawkeye', 'Hulk', 'Ironman', 'Spiderman', 'Thor', 'Wanda']\n"
     ]
    }
   ],
   "source": [
    "NameAscending = list(map(str,input(\"Masukkan Nama Yang Ingin Diurutkan : \").split(\",\")))\n",
    "NameDescending = list(map(str,input(\"Masukkan Nama Yang Ingin Diurutkan : \").split(\",\")))\n",
    "\n",
    "\n",
    "NameAscending.sort(reverse=True)\n",
    "NameDescending.sort()\n",
    "\n",
    "print(NameAscending,\"\\n\",NameDescending)"
   ]
  },
  {
   "cell_type": "code",
   "execution_count": 31,
   "id": "ffa1b13e",
   "metadata": {},
   "outputs": [
    {
     "name": "stdout",
     "output_type": "stream",
     "text": [
      "Sorted array is:\n",
      "5\n",
      "6\n",
      "11\n",
      "12\n",
      "13\n"
     ]
    }
   ],
   "source": [
    "# Program Python untuk Implementasi \"Insertion Sort\"\n",
    "  \n",
    "# Function untuk melakukan \"Insertion Sort\"\n",
    "def InsertionSort(List):\n",
    "  \n",
    "    # Melewati 1 sampai dengan len(List)\n",
    "    for i in range(1, len(List)):\n",
    "  \n",
    "        key = List[i]\n",
    "  \n",
    "        # Move elements of arr[0..i-1], that are\n",
    "        # greater than key, to one position ahead\n",
    "        # of their current position\n",
    "        j = i-1\n",
    "        while j >=0 and key < List[j] :\n",
    "                List[j+1] = List[j]\n",
    "                j -= 1\n",
    "        List[j+1] = key\n",
    "  \n",
    "  \n",
    "# Driver code to test above\n",
    "arr = [12, 11, 13, 5, 6]\n",
    "InsertionSort(arr)\n",
    "print (\"Sorted array is:\")\n",
    "for i in range(len(arr)):\n",
    "    print (\"%d\" %arr[i])"
   ]
  },
  {
   "cell_type": "code",
   "execution_count": null,
   "id": "ef7bc2a3",
   "metadata": {},
   "outputs": [],
   "source": []
  }
 ],
 "metadata": {
  "kernelspec": {
   "display_name": "Python 3",
   "language": "python",
   "name": "python3"
  },
  "language_info": {
   "codemirror_mode": {
    "name": "ipython",
    "version": 3
   },
   "file_extension": ".py",
   "mimetype": "text/x-python",
   "name": "python",
   "nbconvert_exporter": "python",
   "pygments_lexer": "ipython3",
   "version": "3.8.8"
  }
 },
 "nbformat": 4,
 "nbformat_minor": 5
}

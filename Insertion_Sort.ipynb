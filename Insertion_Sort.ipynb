{
  "nbformat": 4,
  "nbformat_minor": 0,
  "metadata": {
    "colab": {
      "provenance": [],
      "collapsed_sections": []
    },
    "kernelspec": {
      "name": "python3",
      "display_name": "Python 3"
    },
    "language_info": {
      "name": "python"
    }
  },
  "cells": [
    {
      "cell_type": "code",
      "execution_count": null,
      "metadata": {
        "colab": {
          "base_uri": "https://localhost:8080/"
        },
        "id": "jn6gw2YEFYUf",
        "outputId": "a9b1da4e-a2f5-4e3f-e3f7-55dcbfb83662"
      },
      "outputs": [
        {
          "output_type": "stream",
          "name": "stdout",
          "text": [
            "[5, 6, 11, 12, 13]\n"
          ]
        }
      ],
      "source": [
        "# Insertion Sort\n",
        "\n",
        "arr=[12, 11, 13, 5, 6]\n",
        "for i in range(1, len(arr)):\n",
        "  key=arr[i]\n",
        "  j = i-1\n",
        "  while j>=0 and key<arr[j]:\n",
        "    arr[j+1]=arr[j]\n",
        "    j-=1\n",
        "  arr[j+1]=key\n",
        "print(arr)"
      ]
    },
    {
      "cell_type": "code",
      "source": [
        "def selectionSort(itemlist):\n",
        "  n=len(itemlist)\n",
        "  for i in range(n-1):\n",
        "    minValueIndex=i\n",
        "\n",
        "    for j in range(i+1, n):\n",
        "      if itemlist[j]<itemlist[minValueIndex]:\n",
        "        minValueIndex=j\n",
        "\n",
        "    if minValueIndex != i :\n",
        "      temp=itemlist[i]\n",
        "      itemlist[i]=itemlist[minValueIndex]\n",
        "      itemlist[minValueIndex]=temp\n",
        "  return itemlist\n",
        "\n",
        "  \n",
        "e1=[21,6,9,33,3]\n",
        "\n",
        "selectionSort(e1)"
      ],
      "metadata": {
        "colab": {
          "base_uri": "https://localhost:8080/"
        },
        "id": "zEbnHT5LG_3C",
        "outputId": "88c4236e-5772-4ea3-d275-0efa9281aee6"
      },
      "execution_count": null,
      "outputs": [
        {
          "output_type": "execute_result",
          "data": {
            "text/plain": [
              "[3, 6, 9, 21, 33]"
            ]
          },
          "metadata": {},
          "execution_count": 35
        }
      ]
    },
    {
      "cell_type": "code",
      "source": [
        "list =[\"Rendika\", 1,2,3]\n",
        "list"
      ],
      "metadata": {
        "colab": {
          "base_uri": "https://localhost:8080/"
        },
        "id": "9r8ah95rHsWR",
        "outputId": "b40963cc-d79a-4807-9ae6-5a9547c4947c"
      },
      "execution_count": null,
      "outputs": [
        {
          "output_type": "execute_result",
          "data": {
            "text/plain": [
              "['Rendika', 1, 2, 3]"
            ]
          },
          "metadata": {},
          "execution_count": 42
        }
      ]
    }
  ]
}
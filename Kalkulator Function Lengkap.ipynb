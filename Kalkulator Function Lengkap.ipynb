{
 "cells": [
  {
   "cell_type": "code",
   "execution_count": 27,
   "id": "e556c43c",
   "metadata": {},
   "outputs": [
    {
     "name": "stdout",
     "output_type": "stream",
     "text": [
      " 1 = Penjumlahan \n",
      " 2 = Pengurangan \n",
      " 3 = Perkalian \n",
      " 4 = Pembagian \n",
      " 5 = Perpangkatan\n",
      "Masukkan Pilihan : 1/2/3/4/5 : 5\n",
      "Masukkan Angka Pertama : 10\n",
      "Masukkan Angka Kedua : 5\n",
      "Hasil dari 10 ^ 5 = 100000\n"
     ]
    }
   ],
   "source": [
    "#Kalkulator Sederhana \n",
    "print(\" 1 = Penjumlahan \\n 2 = Pengurangan \\n 3 = Perkalian \\n 4 = Pembagian \\n 5 = Perpangkatan\")\n",
    "\n",
    "Pilihan = int(input(\"Masukkan Pilihan : 1/2/3/4/5 : \"))\n",
    "\n",
    "def Penjumlahan (angka1, angka2) :\n",
    "    return angka1 + angka2\n",
    "def Pengurangan (angka1, angka2) :\n",
    "    return angka1 - angka2\n",
    "def Pembagian (angka1, angka2) :\n",
    "    return angka1 / angka2\n",
    "def Perkalian (angka1, angka2) :\n",
    "    return angka1 * angka2\n",
    "def Perpangkatan (angka1, angka2) :\n",
    "    return angka1**angka2\n",
    "    \n",
    "if Pilihan == 1 :\n",
    "    Pertama = int(input(\"Masukkan Angka Pertama : \"))\n",
    "    Kedua = int(input(\"Masukkan Angka Kedua : \"))\n",
    "    print (\"Hasil dari\", Pertama, \"+\", Kedua, \"=\", Penjumlahan (Pertama, Kedua) )\n",
    "elif Pilihan == 2 :\n",
    "    Pertama = int(input(\"Masukkan Angka Pertama : \"))\n",
    "    Kedua = int(input(\"Masukkan Angka Kedua : \"))\n",
    "    print (\"Hasil dari\", Pertama, \"-\", Kedua, \"=\", Pengurangan (Pertama, Kedua) )\n",
    "elif Pilihan == 3 :\n",
    "    Pertama = int(input(\"Masukkan Angka Pertama : \"))\n",
    "    Kedua= int(input(\"Masukkan Angka Kedua : \"))\n",
    "    print (\"Hasil dari\", Pertama, \":\", Kedua, \"=\", Pembagian (Pertama, Kedua) )\n",
    "elif Pilihan == 4 :\n",
    "    Pertama = int(input(\"Masukkan Angka Pertama : \"))\n",
    "    Kedua= int(input(\"Masukkan Angka Kedua : \"))\n",
    "    print (\"Hasil dari\", Petama, \"x\", Kedua, \"=\", Perkalian (Pertama, Kedua) )\n",
    "elif Pilihan == 5 :\n",
    "    Pertama = int(input(\"Masukkan Angka Pertama : \"))\n",
    "    Kedua = int(input(\"Masukkan Angka Kedua : \"))\n",
    "    print (\"Hasil dari\", Pertama, \"^\", Kedua , \"=\", Perpangkatan (Pertama,Kedua) )\n",
    "else :\n",
    "    print(\"MASUKKAN ANGKA DARI 1-5 SAJA\")\n"
   ]
  },
  {
   "cell_type": "code",
   "execution_count": 15,
   "id": "1d9a0124",
   "metadata": {},
   "outputs": [
    {
     "name": "stdout",
     "output_type": "stream",
     "text": [
      "3\n",
      "4\n",
      "None\n",
      "None\n",
      "100\n"
     ]
    }
   ],
   "source": [
    "def foo():\n",
    "    print(3)\n",
    "\n",
    "def bar():\n",
    "    print(4)\n",
    "\n",
    "def tst():\n",
    "    return 100\n",
    "\n",
    "x = foo() \n",
    "y = bar()\n",
    "z = tst()\n",
    "\n",
    "print (x) \n",
    "print (y)\n",
    "print (z)"
   ]
  },
  {
   "cell_type": "code",
   "execution_count": null,
   "id": "41141757",
   "metadata": {},
   "outputs": [],
   "source": []
  }
 ],
 "metadata": {
  "kernelspec": {
   "display_name": "Python 3",
   "language": "python",
   "name": "python3"
  },
  "language_info": {
   "codemirror_mode": {
    "name": "ipython",
    "version": 3
   },
   "file_extension": ".py",
   "mimetype": "text/x-python",
   "name": "python",
   "nbconvert_exporter": "python",
   "pygments_lexer": "ipython3",
   "version": "3.8.8"
  }
 },
 "nbformat": 4,
 "nbformat_minor": 5
}

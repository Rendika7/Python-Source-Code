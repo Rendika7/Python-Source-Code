{
 "cells": [
  {
   "cell_type": "code",
   "execution_count": 2,
   "id": "f8db0767",
   "metadata": {},
   "outputs": [
    {
     "name": "stdout",
     "output_type": "stream",
     "text": [
      "Masukkan Angka Pertama : 1\n",
      "Masukkan Angka Kedua : 1\n",
      "Masukkan Pilihan : Penjumlahan/Pengurangan/Pembagian/Perkalian : Perkalian\n",
      "1\n"
     ]
    }
   ],
   "source": [
    "#Kalkulator Sederhana \n",
    "\n",
    "#Input Untuk Memasukkan Angka Yang Mau di operasikan\n",
    "A = int(input(\"Masukkan Angka Pertama : \"))\n",
    "B = int(input(\"Masukkan Angka Kedua : \"))\n",
    "\n",
    "#Mengelompokkan Kode menjadi beberapa fungsi agar bisa dipanggil kembali secara independen\n",
    "def Penjumlahan () :\n",
    "    Nilai_Penjumlahan = A + B\n",
    "    print (Nilai_Penjumlahan)\n",
    "def Pengurangan () :\n",
    "    Nilai_Pengurangan = A - B\n",
    "    print (Nilai_Pengurangan)\n",
    "def Pembagian () :\n",
    "    Nilai_Pembagian = A/B \n",
    "    print(Nilai_Pembagian)\n",
    "def Perkalian () :\n",
    "    Nilai_Perkalian = A*B\n",
    "    print (Nilai_Perkalian);\n",
    "\n",
    "#Input untuk users menentukan mau Penjumlahan/Pengurangan/Pembagian/Perkalian \n",
    "C = input(\"Masukkan Pilihan : Penjumlahan/Pengurangan/Pembagian/Perkalian : \")\n",
    "   \n",
    "#Percabangannya\n",
    "if C == \"Penjumlahan\" :\n",
    "    Penjumlahan()\n",
    "elif C == \"Pengurangan\" :\n",
    "    Pengurangan()\n",
    "elif C == \"Perkalian\" :\n",
    "    Perkalian()\n",
    "elif C == \"Pembagian\" :\n",
    "    Pembagian()\n",
    "else :\n",
    "    print(\"Anda Salah Memasukkan Pilihan \")\n"
   ]
  },
  {
   "cell_type": "code",
   "execution_count": 3,
   "id": "50735675",
   "metadata": {},
   "outputs": [
    {
     "name": "stdout",
     "output_type": "stream",
     "text": [
      "Masukkan Angka Pertama : 10\n",
      "Masukkan Angka Kedua : 2\n",
      "Masukkan Pilihan : Penjumlahan/Pengurangan/Pembagian/Perkalian : Pembagian\n",
      "5.0\n"
     ]
    }
   ],
   "source": [
    "#Kalkulator Sederhana \n",
    "\n",
    "#Input Untuk Memasukkan Angka Yang Mau di operasikan\n",
    "A = int(input(\"Masukkan Angka Pertama : \"))\n",
    "B = int(input(\"Masukkan Angka Kedua : \"))\n",
    "\n",
    "#Input untuk users menentukan mau Penjumlahan/Pengurangan/Pembagian/Perkalian \n",
    "C = input(\"Masukkan Pilihan : Penjumlahan/Pengurangan/Pembagian/Perkalian : \")\n",
    "   \n",
    "#Percabangannya\n",
    "if C == \"Penjumlahan\" :\n",
    "    print(A+B)\n",
    "elif C == \"Pengurangan\" :\n",
    "    print(A-B)\n",
    "elif C == \"Perkalian\" :\n",
    "    print(A*B)\n",
    "elif C == \"Pembagian\" :\n",
    "    print(A/B)\n",
    "else :\n",
    "    print(\"Anda Salah Memasukkan Pilihan \")\n"
   ]
  },
  {
   "cell_type": "code",
   "execution_count": 11,
   "id": "e3ad4cbf",
   "metadata": {},
   "outputs": [
    {
     "name": "stdout",
     "output_type": "stream",
     "text": [
      "==============================\n",
      "pilih\n",
      "1.penjumlahan\n",
      "2.pengurangan\n",
      "3.perkalian\n",
      "4.pembagian\n",
      "==============================\n",
      "masukkan pilihan : 3\n",
      "masukkan bilangan pertama = 10\n",
      "masukkan bilangan kedua = 1\n",
      "==============================\n",
      "10  x  1  =  10\n"
     ]
    }
   ],
   "source": [
    "#kalkulator senderhana\n",
    "print('=' * 30)\n",
    "print(\"pilih\")\n",
    "print(\"1.penjumlahan\")\n",
    "print(\"2.pengurangan\")\n",
    "print(\"3.perkalian\")\n",
    "print(\"4.pembagian\")\n",
    "print('=' * 30)\n",
    "\n",
    "#input data\n",
    "choice = int(input(\"masukkan pilihan : \"))\n",
    "angka_1 = int(input(\"masukkan bilangan pertama = \"))\n",
    "angka_2 = int(input(\"masukkan bilangan kedua = \"))\n",
    "\n",
    "#input jawaban\n",
    "print('=' * 30)\n",
    "if choice == 1 :\n",
    "    hasil = angka_1 + angka_2\n",
    "    print(angka_1 , \" + \", angka_2 ,\" = \", hasil)\n",
    "elif choice == 2 :\n",
    "    hasil = angka_1 - angka_2\n",
    "    print(angka_1 , \" - \", angka_2 ,\" = \", hasil)\n",
    "elif choice == 3 :\n",
    "    hasil = angka_1 * angka_2\n",
    "    print(angka_1 , \" x \", angka_2 ,\" = \", hasil)\n",
    "elif choice == 4 :\n",
    "    hasil = angka_1 / angka_2\n",
    "    print(angka_1 , \" / \", angka_2 ,\" = \", hasil)\n",
    "else :\n",
    "    print(\"input salah\")"
   ]
  },
  {
   "cell_type": "code",
   "execution_count": null,
   "id": "ee833443",
   "metadata": {},
   "outputs": [],
   "source": []
  }
 ],
 "metadata": {
  "kernelspec": {
   "display_name": "Python 3",
   "language": "python",
   "name": "python3"
  },
  "language_info": {
   "codemirror_mode": {
    "name": "ipython",
    "version": 3
   },
   "file_extension": ".py",
   "mimetype": "text/x-python",
   "name": "python",
   "nbconvert_exporter": "python",
   "pygments_lexer": "ipython3",
   "version": "3.8.8"
  }
 },
 "nbformat": 4,
 "nbformat_minor": 5
}

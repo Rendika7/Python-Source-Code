{
 "cells": [
  {
   "cell_type": "code",
   "execution_count": 15,
   "id": "cb4bf0aa",
   "metadata": {},
   "outputs": [
    {
     "name": "stdout",
     "output_type": "stream",
     "text": [
      "masukkan batasan list : 5\n",
      "masukkan anggota: 1\n",
      "masukkan anggota: 24\n",
      "masukkan anggota: 4\n",
      "masukkan anggota: 5\n",
      "masukkan anggota: 5\n",
      "39\n"
     ]
    }
   ],
   "source": [
    "batasan = int(input(\"masukkan batasan list : \"))\n",
    "List = []\n",
    "for i in range(batasan):\n",
    "    if i < batasan:\n",
    "        a = int(input(\"masukkan anggota: \"))\n",
    "        List.append(a)\n",
    "        i+=1\n",
    "        \n",
    "print(sum(List))"
   ]
  },
  {
   "cell_type": "code",
   "execution_count": null,
   "id": "b71ef5a8",
   "metadata": {},
   "outputs": [],
   "source": []
  }
 ],
 "metadata": {
  "kernelspec": {
   "display_name": "Python 3",
   "language": "python",
   "name": "python3"
  },
  "language_info": {
   "codemirror_mode": {
    "name": "ipython",
    "version": 3
   },
   "file_extension": ".py",
   "mimetype": "text/x-python",
   "name": "python",
   "nbconvert_exporter": "python",
   "pygments_lexer": "ipython3",
   "version": "3.8.8"
  }
 },
 "nbformat": 4,
 "nbformat_minor": 5
}

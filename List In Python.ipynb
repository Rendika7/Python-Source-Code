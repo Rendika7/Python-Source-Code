{
 "cells": [
  {
   "cell_type": "code",
   "execution_count": 6,
   "id": "e30bef7d",
   "metadata": {},
   "outputs": [
    {
     "name": "stdout",
     "output_type": "stream",
     "text": [
      "Yes, 'apple' is in the fruits list\n"
     ]
    }
   ],
   "source": [
    "#Untuk menentukan apakah item tertentu ada dalam data\n",
    "data = [\"apple\", \"banana\", \"cherry\"]\n",
    "if \"apple\" in data:\n",
    "  print(\"Yes, 'apple' is in the fruits list\")"
   ]
  },
  {
   "cell_type": "code",
   "execution_count": 14,
   "id": "af34f472",
   "metadata": {},
   "outputs": [
    {
     "name": "stdout",
     "output_type": "stream",
     "text": [
      "No, 'Rendi' isn't in the data list\n",
      "Yes, 'Suharto' is in the data list\n"
     ]
    }
   ],
   "source": [
    "data = [\"Rendika\", \"Nurhartanto\", \"Suharto\", 1206210011]\n",
    "\n",
    "if \"Rendi\" in data:\n",
    "    print(\"Yes, 'Rendi' is in the data list\")\n",
    "else :\n",
    "    print(\"No, 'Rendi' isn't in the data list\")\n",
    "\n",
    "    \n",
    "if \"Suharto\" in data:\n",
    "    print(\"Yes, 'Suharto' is in the data list\")\n",
    "else :\n",
    "    print(\"No, 'Suharto' isn't in the data list\")"
   ]
  },
  {
   "cell_type": "code",
   "execution_count": 16,
   "id": "0111b2ec",
   "metadata": {},
   "outputs": [
    {
     "data": {
      "text/plain": [
       "False"
      ]
     },
     "execution_count": 16,
     "metadata": {},
     "output_type": "execute_result"
    }
   ],
   "source": [
    "data = [\"Rendika\", \"Nurhartanto\", \"Suharto\", 1206210011]\n",
    "\n",
    "\"Rendi\" in data"
   ]
  },
  {
   "cell_type": "code",
   "execution_count": 17,
   "id": "aeae64e3",
   "metadata": {},
   "outputs": [
    {
     "data": {
      "text/plain": [
       "True"
      ]
     },
     "execution_count": 17,
     "metadata": {},
     "output_type": "execute_result"
    }
   ],
   "source": [
    "data = [\"Rendika\", \"Nurhartanto\", \"Suharto\", 1206210011]\n",
    "\n",
    "\"Suharto\" in data"
   ]
  },
  {
   "cell_type": "code",
   "execution_count": 29,
   "id": "32ffdffc",
   "metadata": {},
   "outputs": [
    {
     "name": "stdout",
     "output_type": "stream",
     "text": [
      "['Ucok', 'Ucup', 'Dadang', 'Agustus', 'July', 'April', 'Leo', 'Cancer', 'Taurus']\n"
     ]
    }
   ],
   "source": [
    "Nama = [\"Ucok\", \"Ucup\", \"Dadang\"]\n",
    "Bulan = [\"Agustus\", \"July\", \"April\"]\n",
    "Zodiak = [\"Leo\",\"Cancer\",\"Taurus\"]\n",
    "\n",
    "Nama.extend(Bulan)\n",
    "Nama.extend(Zodiak)\n",
    "\n",
    "print(Nama)\n"
   ]
  },
  {
   "cell_type": "code",
   "execution_count": 30,
   "id": "f97d259f",
   "metadata": {},
   "outputs": [
    {
     "name": "stdout",
     "output_type": "stream",
     "text": [
      "apple\n",
      "banana\n",
      "cherry\n"
     ]
    }
   ],
   "source": [
    "thislist = [\"apple\", \"banana\", \"cherry\"]\n",
    "for x in thislist:\n",
    "  print(x)"
   ]
  },
  {
   "cell_type": "code",
   "execution_count": 61,
   "id": "eaa0adf3",
   "metadata": {},
   "outputs": [
    {
     "name": "stdout",
     "output_type": "stream",
     "text": [
      "['Rendika', 1206210011, 'Rendika', 1206210011, 'Rendika', 1206210011, 'Rendika', 1206210011]\n",
      "['Rendika', 1206210011, 'Rendika', 1206210011, 'Rendika', 1206210011]\n",
      "['Rendika', 1206210011, 'Rendika', 1206210011]\n"
     ]
    }
   ],
   "source": [
    "list1 = [\"Rendika\",1206210011]\n",
    "print (list1 * 4)\n",
    "print (list1 * 3)\n",
    "print (list1 * 2)\n"
   ]
  },
  {
   "cell_type": "code",
   "execution_count": 58,
   "id": "fa9eae07",
   "metadata": {},
   "outputs": [
    {
     "name": "stdout",
     "output_type": "stream",
     "text": [
      "Sigit Minum Malam \n",
      "\n",
      "Rendika Tidur Pagi \n",
      "\n",
      "Thesi Makan Siang\n"
     ]
    }
   ],
   "source": [
    "Multi_Dimensional = [\n",
    "    [\"Rendika\",\"Sigit\",\"Thesi\"],\n",
    "    [\"Tidur\",\"Minum\",\"Makan\"],\n",
    "    [\"Malam\",\"Siang\",\"Pagi\"],\n",
    "]\n",
    "\n",
    "print (Multi_Dimensional[0][1],Multi_Dimensional[1][1],Multi_Dimensional[2][0],\"\\n\")\n",
    "print (Multi_Dimensional[0][0],Multi_Dimensional[1][0],Multi_Dimensional[2][2],\"\\n\")\n",
    "print (Multi_Dimensional[0][2],Multi_Dimensional[1][2],Multi_Dimensional[2][1])"
   ]
  },
  {
   "cell_type": "code",
   "execution_count": null,
   "id": "ea2f04ae",
   "metadata": {},
   "outputs": [],
   "source": []
  }
 ],
 "metadata": {
  "kernelspec": {
   "display_name": "Python 3",
   "language": "python",
   "name": "python3"
  },
  "language_info": {
   "codemirror_mode": {
    "name": "ipython",
    "version": 3
   },
   "file_extension": ".py",
   "mimetype": "text/x-python",
   "name": "python",
   "nbconvert_exporter": "python",
   "pygments_lexer": "ipython3",
   "version": "3.8.8"
  }
 },
 "nbformat": 4,
 "nbformat_minor": 5
}

{
 "cells": [
  {
   "cell_type": "code",
   "execution_count": 43,
   "id": "7a44059d",
   "metadata": {},
   "outputs": [],
   "source": [
    "Bebas = {\"Biodata Mahasiswa 1\" : {\"Nama\":\"Rendika\", \"NIM\" : 1206210011, \"Prodi\" : \"Sains Data\"},\n",
    "        \"Biodata Mahasiswa 2\" : {\"Nama\":\"Halim\", \"NIM\" : 1206210009 , \"Prodi\" : \"Sains Data\"},\n",
    "        \"Biodata Mahasiswa 3\" : {\"Nama\":\"Winalda\", \"NIM\" : 1206210018 , \"Prodi\" : \"Sains Data\"},\n",
    "        \"Biodata Mahasiswa 4\" : {\"Nama\":\"Ryanta\", \"NIM\" : 1206210014 , \"Prodi\" : \"Sains Data\"},\n",
    "        \"Biodata Mahasiswa 5\" : {\"Nama\":\"Dida\", \"NIM\" : 1206210021, \"Prodi\" : \"Sains Data\"}}"
   ]
  },
  {
   "cell_type": "code",
   "execution_count": 44,
   "id": "c006f858",
   "metadata": {},
   "outputs": [
    {
     "name": "stdout",
     "output_type": "stream",
     "text": [
      "{'Biodata Mahasiswa 1': {'Nama': 'Rendika', 'NIM': 1206210011, 'Prodi': 'Sains Data'}, 'Biodata Mahasiswa 2': {'Nama': 'Halim', 'NIM': 1206210009, 'Prodi': 'Sains Data'}, 'Biodata Mahasiswa 3': {'Nama': 'Winalda', 'NIM': 1206210018, 'Prodi': 'Sains Data'}, 'Biodata Mahasiswa 4': {'Nama': 'Ryanta', 'NIM': 1206210014, 'Prodi': 'Sains Data'}, 'Biodata Mahasiswa 5': {'Nama': 'Dida', 'NIM': 1206210021, 'Prodi': 'Sains Data'}}\n"
     ]
    }
   ],
   "source": [
    "print(Bebas)"
   ]
  },
  {
   "cell_type": "code",
   "execution_count": 45,
   "id": "ee7f818f",
   "metadata": {},
   "outputs": [
    {
     "name": "stdout",
     "output_type": "stream",
     "text": [
      "Biodata Mahasiswa 1 :\n",
      "\t Nama : Rendika\n",
      "\t NIM : 1206210011\n",
      "\t Prodi : Sains Data\n",
      "Biodata Mahasiswa 2 :\n",
      "\t Nama : Halim\n",
      "\t NIM : 1206210009\n",
      "\t Prodi : Sains Data\n",
      "Biodata Mahasiswa 3 :\n",
      "\t Nama : Winalda\n",
      "\t NIM : 1206210018\n",
      "\t Prodi : Sains Data\n",
      "Biodata Mahasiswa 4 :\n",
      "\t Nama : Ryanta\n",
      "\t NIM : 1206210014\n",
      "\t Prodi : Sains Data\n",
      "Biodata Mahasiswa 5 :\n",
      "\t Nama : Dida\n",
      "\t NIM : 1206210021\n",
      "\t Prodi : Sains Data\n"
     ]
    }
   ],
   "source": [
    "for i,j in Bebas.items() :\n",
    "    print(i, \":\")\n",
    "    for a, b in Bebas[i].items():\n",
    "        print('\\t',a,\":\",b)"
   ]
  },
  {
   "cell_type": "code",
   "execution_count": null,
   "id": "edd6f557",
   "metadata": {},
   "outputs": [],
   "source": [
    "Biodata = {}\n",
    "Ulangi = \"Ya\"\n",
    "\n",
    "while Ulangi == \"Ya\" :\n",
    "    Nama = input(\"Masukkan Nama : \")\n",
    "    NIM = int(input(\"Masukkan NIM : \"))\n",
    "    Biodata.update({Nama : NIM})\n",
    "    Ulangi = input(\"Apakah mau diulangi (Ya/Tidak) : \")\n",
    "\n",
    "for i, j in Biodata.items():\n",
    "  print(\"\\n\" ,\"Nama : \", i, \"\\n\" , \"NIM = \", j)\n"
   ]
  },
  {
   "cell_type": "code",
   "execution_count": null,
   "id": "e7bfa20a",
   "metadata": {},
   "outputs": [],
   "source": [
    "Biodata = {}\n",
    "Ulangi = True\n",
    "\n",
    "while Ulangi == True :\n",
    "    Nama = input(\"Masukkan Nama : \")\n",
    "    NIM = input(\"Masukkan NIM : \")\n",
    "    Biodata.update({Nama : NIM})\n",
    "    Ulangi = input(\"Apakah mau diulangi (Ya/Tidak) : \")\n",
    "    if Ulangi == \"Ya\" :\n",
    "        Ulangi = True\n",
    "    else :\n",
    "        Ulangi = False\n",
    "\n",
    "for i, j in Biodata.items():\n",
    "  print(\"\\n\" ,\"Nama : \", i, \"\\n\" , \"NIM = \", j)\n"
   ]
  },
  {
   "cell_type": "code",
   "execution_count": null,
   "id": "841c746e",
   "metadata": {},
   "outputs": [],
   "source": [
    "data_mahasiswa = {}\n",
    "repeat = 'y'\n",
    "count = 0\n",
    "while repeat == 'y':\n",
    "    nama = input(\"Masukan nama anda = \")\n",
    "    nim = int(input(\"Masukan NIM anda = \"))\n",
    "    repeat = input(\"Apakah anda ingin mengulangi (y/n) = \")\n",
    "    count += 1\n",
    "    data_mahasiswa.update(\n",
    "        {f'mahasiwa{count}':\n",
    "            {\n",
    "                \"nama\": nama,\n",
    "                \"nim\": nim,\n",
    "             }\n",
    "        }\n",
    "    )\n",
    "\n",
    "for i, data in enumerate(data_mahasiswa.values()):\n",
    "    print(f'Nama Mahasiswa {i+1} = {data[\"nama\"]}')\n",
    "    print(f'NIM Mahasiswa {i+1} =  {data[\"nim\"]}')\n"
   ]
  },
  {
   "cell_type": "code",
   "execution_count": null,
   "id": "7f58695e",
   "metadata": {},
   "outputs": [],
   "source": []
  }
 ],
 "metadata": {
  "kernelspec": {
   "display_name": "Python 3",
   "language": "python",
   "name": "python3"
  },
  "language_info": {
   "codemirror_mode": {
    "name": "ipython",
    "version": 3
   },
   "file_extension": ".py",
   "mimetype": "text/x-python",
   "name": "python",
   "nbconvert_exporter": "python",
   "pygments_lexer": "ipython3",
   "version": "3.8.8"
  }
 },
 "nbformat": 4,
 "nbformat_minor": 5
}

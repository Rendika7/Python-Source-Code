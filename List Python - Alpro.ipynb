{
 "cells": [
  {
   "cell_type": "code",
   "execution_count": 22,
   "id": "4e156885",
   "metadata": {},
   "outputs": [
    {
     "name": "stdout",
     "output_type": "stream",
     "text": [
      "95\n",
      "[100, 95, 90]\n",
      "80\n",
      "70\n"
     ]
    }
   ],
   "source": [
    "#Memilih isi dari suatu List\n",
    "\n",
    "Nilai = [100,95,90,85,80,75,70]\n",
    "print(Nilai[1])\n",
    "print(Nilai[0:3])\n",
    "print(Nilai[-3])\n",
    "print(Nilai[-1])"
   ]
  },
  {
   "cell_type": "code",
   "execution_count": 75,
   "id": "c4cffaee",
   "metadata": {},
   "outputs": [
    {
     "name": "stdout",
     "output_type": "stream",
     "text": [
      "['Rendika', 'Nurhartanto', 'Suharto', 'ITTS']\n"
     ]
    }
   ],
   "source": [
    "#Menambahkan isi List menggunakan append - Hanya bisa satu argumen\n",
    "\n",
    "List = [\"Rendika\",\"Nurhartanto\",\"Suharto\"]\n",
    "List.append (\"ITTS\")\n",
    "#List = List.extend ([\"1206210011\",\"Sains\",\"Data\"])\n",
    "print(List)\n",
    "\n"
   ]
  },
  {
   "cell_type": "code",
   "execution_count": 14,
   "id": "8fb059b0",
   "metadata": {},
   "outputs": [
    {
     "name": "stdout",
     "output_type": "stream",
     "text": [
      "[100, 200, 300, 400, 500, 100, 200, 300, 400, 500]\n"
     ]
    }
   ],
   "source": [
    "#Menambahkan isi List dengan menggunakan extend - Boleh menggunakan banyak Argumen didalam ([...,...,...])\n",
    "A = [100,200,300,400,500]\n",
    "B = [600,700,800]\n",
    "\n",
    "A.extend ([100,200,300,400,500])\n",
    "print(A)\n"
   ]
  },
  {
   "cell_type": "code",
   "execution_count": 33,
   "id": "8749dbce",
   "metadata": {},
   "outputs": [
    {
     "name": "stdout",
     "output_type": "stream",
     "text": [
      "['Sakura', 'Hinata', 'Sasuke', 'Naruto', 'Boruto', 'Rendika']\n"
     ]
    }
   ],
   "source": [
    "#Menambahkan isi List menggunakan insert - bisa memilih mau di index ke-berapa (Index,...)\n",
    "\n",
    "Nama = [\"Sakura\",\"Hinata\",\"Sasuke\",\"Naruto\",\"Rendika\"]\n",
    "Nama.insert(4,\"Boruto\")\n",
    "print(Nama)"
   ]
  },
  {
   "cell_type": "code",
   "execution_count": 28,
   "id": "ee6b7e94",
   "metadata": {},
   "outputs": [
    {
     "name": "stdout",
     "output_type": "stream",
     "text": [
      "7\n",
      "10\n",
      "3\n",
      "4\n",
      "7\n"
     ]
    }
   ],
   "source": [
    "#Memeriksa Panjang List\n",
    "\n",
    "print(len(Nilai))\n",
    "print(len(A))\n",
    "\n",
    "print(len(B))\n",
    "print(len(List))\n",
    "\n",
    "print(len(B) + len(List))"
   ]
  },
  {
   "cell_type": "code",
   "execution_count": 53,
   "id": "97d13e2e",
   "metadata": {},
   "outputs": [
    {
     "name": "stdout",
     "output_type": "stream",
     "text": [
      "['Pamekasan', 'Jogja', 'Surabaya', 'Malang']\n"
     ]
    },
    {
     "data": {
      "text/plain": [
       "4"
      ]
     },
     "execution_count": 53,
     "metadata": {},
     "output_type": "execute_result"
    }
   ],
   "source": [
    "#Menghapus isi List menggunakan remove - Menghapus satu persatu dari isi didalam list\n",
    "\n",
    "Kota = [\"Pamekasan\",\"Jogja\",\"Indonesia\",\"Korea\",\"Jepang\",\"Surabaya\",\"Malang\"]\n",
    "\n",
    "Kota.remove(\"Indonesia\")\n",
    "Kota.remove(\"Korea\")\n",
    "Kota.remove(\"Jepang\")\n",
    "print(Kota)\n",
    "len(Kota)\n",
    "\n"
   ]
  },
  {
   "cell_type": "code",
   "execution_count": 60,
   "id": "6eefe613",
   "metadata": {},
   "outputs": [
    {
     "name": "stdout",
     "output_type": "stream",
     "text": [
      "['Pamekasan', 'Jogja', 'Indonesia', 'Jepang', 'Surabaya', 'Malang']\n",
      "['Pamekasan', 'Jogja', 'Jepang', 'Surabaya', 'Malang']\n",
      "['Pamekasan', 'Jogja', 'Surabaya', 'Malang']\n"
     ]
    },
    {
     "data": {
      "text/plain": [
       "4"
      ]
     },
     "execution_count": 60,
     "metadata": {},
     "output_type": "execute_result"
    }
   ],
   "source": [
    "#Menghapus isi List menggunakan del - Menghapus isi menggunakan index yang diinginkan\n",
    "\n",
    "Kota = [\"Pamekasan\",\"Jogja\",\"Indonesia\",\"Korea\",\"Jepang\",\"Surabaya\",\"Malang\"]\n",
    "\n",
    "\n",
    "del Kota[3]\n",
    "print(Kota)\n",
    "\n",
    "del Kota[2]\n",
    "print(Kota)\n",
    "\n",
    "del Kota[2]\n",
    "print(Kota)\n",
    "\n",
    "len(Kota)"
   ]
  },
  {
   "cell_type": "code",
   "execution_count": 58,
   "id": "e710d7fe",
   "metadata": {},
   "outputs": [
    {
     "name": "stdout",
     "output_type": "stream",
     "text": [
      "[]\n"
     ]
    },
    {
     "data": {
      "text/plain": [
       "0"
      ]
     },
     "execution_count": 58,
     "metadata": {},
     "output_type": "execute_result"
    }
   ],
   "source": [
    "#Menghapus isi List dengan clear - Menghapus semua isi list secara bersamaan\n",
    "\n",
    "Kota.clear()\n",
    "print(Kota)\n",
    "len(Kota)"
   ]
  },
  {
   "cell_type": "code",
   "execution_count": 69,
   "id": "ad654ce0",
   "metadata": {},
   "outputs": [
    {
     "name": "stdout",
     "output_type": "stream",
     "text": [
      "3\n",
      "2\n",
      "0\n",
      "5\n"
     ]
    }
   ],
   "source": [
    "#Menghitung banyaknya isi yang sama dalam List menggunakan count\n",
    "\n",
    "Asal_Negara = [\"Indonesia\",\"Jepang\",\"Korea\",\"Amerika\",\"Jepang\",\"Indonesia\",\"Korea\",\"Jepang\"]\n",
    "print(Asal_Negara.count(\"Jepang\"))\n",
    "print(Asal_Negara.count(\"Korea\"))\n",
    "print(Asal_Negara.count(\"Australia\"))\n",
    "\n",
    "X = Asal_Negara.count(\"Jepang\")\n",
    "Y = Asal_Negara.count(\"Korea\")\n",
    "\n",
    "print(X+Y)"
   ]
  },
  {
   "cell_type": "code",
   "execution_count": 81,
   "id": "2886baae",
   "metadata": {},
   "outputs": [
    {
     "name": "stdout",
     "output_type": "stream",
     "text": [
      "['Andra', 'Rendika', 'Wulan', 'Zabila'] \n",
      " [89, 93, 94, 100]\n",
      "['Zabila', 'Wulan', 'Rendika', 'Andra'] \n",
      " [100, 94, 93, 89]\n"
     ]
    }
   ],
   "source": [
    "#Mengurutkan List menggunakan sort dan sort(reverse = True)\n",
    "\n",
    "Coba = [\"Wulan\",\"Rendika\",\"Andra\",\"Zabila\"]\n",
    "Nilai = [100,89,94,93]\n",
    "\n",
    "Nilai.sort()\n",
    "Coba.sort()\n",
    "print(Coba,\"\\n\",Nilai)\n",
    "\n",
    "Nilai.sort(reverse = True)\n",
    "Coba.sort(reverse = True)\n",
    "print(Coba,\"\\n\",Nilai)"
   ]
  },
  {
   "cell_type": "code",
   "execution_count": 93,
   "id": "c2bf7c28",
   "metadata": {
    "scrolled": true
   },
   "outputs": [
    {
     "name": "stdout",
     "output_type": "stream",
     "text": [
      "0\n",
      "4\n",
      "5\n",
      "9\n",
      "----------\n",
      "2\n",
      "6\n",
      "Index 3 dan Index Soeharto jika ditambahkan maka hasilnya adalah 8\n"
     ]
    },
    {
     "data": {
      "text/plain": [
       "7"
      ]
     },
     "execution_count": 93,
     "metadata": {},
     "output_type": "execute_result"
    }
   ],
   "source": [
    "#Mengecek suatu isi dari list ada di index ke-berapa menggunakan index(\"...\")\n",
    "\n",
    "check = [1,2,3,4,5,\"Soekarno\",\"Soeharto\",\"Habibie\",\"Abdurrahman Wahid\",\"Megawati\",\"Susilo Bambang Yudhoyono\"]\n",
    "\n",
    "print(check.index(1))\n",
    "print(check.index(5))\n",
    "print(check.index(\"Soekarno\"))\n",
    "print(check.index(\"Megawati\"))\n",
    "\n",
    "print(\"-\"*10)\n",
    "\n",
    "print(check.index(3))\n",
    "print(check.index(\"Soeharto\"))\n",
    "C = check.index(3)\n",
    "D = check.index(\"Soeharto\")\n",
    "print(\"Index 3 dan Index Soeharto jika ditambahkan maka hasilnya adalah\",C + D)\n",
    "\n",
    "check.index(\"Habibie\")"
   ]
  },
  {
   "cell_type": "code",
   "execution_count": 104,
   "id": "78d077f2",
   "metadata": {},
   "outputs": [
    {
     "name": "stdout",
     "output_type": "stream",
     "text": [
      "[7, 9]\n",
      "[5, 7, 9, 11]\n",
      "[1, 3]\n",
      "[7, 9]\n",
      "[5, 7, 9, 11]\n",
      "[1, 3]\n",
      "[7, 9]\n",
      "[5, 7, 9, 11]\n",
      "[1, 3]\n",
      "[7, 9]\n",
      "[5, 7, 9, 11]\n",
      "[1, 3]\n",
      "[7, 9]\n",
      "[5, 7, 9, 11]\n",
      "[1, 3]\n",
      "[7, 9]\n",
      "[5, 7, 9, 11]\n",
      "[1, 3]\n"
     ]
    }
   ],
   "source": [
    "#List dan For\n",
    "\n",
    "Perulangan = [1,3,5,7,9,11]\n",
    "\n",
    "for ulang in Perulangan :\n",
    "    print(Perulangan[3:5])\n",
    "    print(Perulangan[2:])\n",
    "    print(Perulangan[:2])"
   ]
  },
  {
   "cell_type": "code",
   "execution_count": null,
   "id": "608f958d",
   "metadata": {},
   "outputs": [],
   "source": []
  }
 ],
 "metadata": {
  "kernelspec": {
   "display_name": "Python 3",
   "language": "python",
   "name": "python3"
  },
  "language_info": {
   "codemirror_mode": {
    "name": "ipython",
    "version": 3
   },
   "file_extension": ".py",
   "mimetype": "text/x-python",
   "name": "python",
   "nbconvert_exporter": "python",
   "pygments_lexer": "ipython3",
   "version": "3.8.8"
  }
 },
 "nbformat": 4,
 "nbformat_minor": 5
}

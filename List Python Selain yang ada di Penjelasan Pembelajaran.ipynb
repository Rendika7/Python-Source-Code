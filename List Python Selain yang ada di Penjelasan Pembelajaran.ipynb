{
 "cells": [
  {
   "cell_type": "code",
   "execution_count": 12,
   "id": "3342e615",
   "metadata": {},
   "outputs": [
    {
     "name": "stdout",
     "output_type": "stream",
     "text": [
      "['Green', 'Blue', 'Orange', 'Red']\n"
     ]
    }
   ],
   "source": [
    "Data = [\"Red\", \"Orange\", \"Blue\", \"Green\"]\n",
    "\n",
    "Data.reverse()\n",
    "print(Data)"
   ]
  },
  {
   "cell_type": "code",
   "execution_count": 18,
   "id": "90e8f0c1",
   "metadata": {},
   "outputs": [
    {
     "name": "stdout",
     "output_type": "stream",
     "text": [
      "['Blue', 'Green', 'Orange', 'Red']\n",
      "[1, 2, 3, 4, 5, 6]\n"
     ]
    }
   ],
   "source": [
    "Data = [\"Red\", \"Orange\", \"Blue\", \"Green\"]\n",
    "Data2 = [6, 3, 2, 5, 1, 4]\n",
    "\n",
    "Data.sort()\n",
    "Data2.sort()\n",
    "\n",
    "print(Data)\n",
    "print(Data2)"
   ]
  },
  {
   "cell_type": "code",
   "execution_count": null,
   "id": "4a6c7a22",
   "metadata": {},
   "outputs": [],
   "source": [
    "#Membalikkan urutan daftar"
   ]
  },
  {
   "cell_type": "code",
   "execution_count": 4,
   "id": "93a8090c",
   "metadata": {},
   "outputs": [
    {
     "name": "stdout",
     "output_type": "stream",
     "text": [
      "['Rendika', 'Nurhartanto', 'Suharto', 7, 70, 100, 'Bandung', 'Jogja', 'Malang', 'Kediri', 'Pamekasan', 'Minggu', 'Senin', 'Rabu', \"Jum'at\", 'Sabtu']\n"
     ]
    }
   ],
   "source": [
    "#Menggabungkan antara list 1 dengan lainnya\n",
    "\n",
    "Data1 = [\"Rendika\", \"Nurhartanto\", \"Suharto\", 7, 70, 100]\n",
    "Data2 = [\"Bandung\", \"Jogja\", \"Malang\", \"Kediri\", \"Pamekasan\"]\n",
    "Data3 = [\"Minggu\",\"Senin\",\"Rabu\",\"Jum'at\",\"Sabtu\"]\n",
    "\n",
    "DataX = Data1 + Data2 + Data3\n",
    "\n",
    "print(DataX)"
   ]
  },
  {
   "cell_type": "code",
   "execution_count": 26,
   "id": "3d724475",
   "metadata": {},
   "outputs": [
    {
     "name": "stdout",
     "output_type": "stream",
     "text": [
      "['Olahraga', 'Jalan-Jalan'] \n",
      "\n",
      "['Nonton', 'Olahraga', 'Jalan-Jalan', 'Baca', 'Main'] \n",
      "\n",
      "['Main', 'Makan', 'Tidur'] \n",
      "\n",
      "['Olahraga', 'Jalan-Jalan', 'Baca', 'Main'] \n",
      "\n"
     ]
    }
   ],
   "source": [
    "data = [\"Nonton\", \"Olahraga\", \"Jalan-Jalan\", \"Baca\", \"Main\", \"Makan\", \"Tidur\"]\n",
    "print(data[1:3], \"\\n\")\n",
    "\n",
    "data = [\"Nonton\", \"Olahraga\", \"Jalan-Jalan\", \"Baca\", \"Main\", \"Makan\", \"Tidur\"]\n",
    "print(data[:5], \"\\n\")\n",
    "\n",
    "data = [\"Nonton\", \"Olahraga\", \"Jalan-Jalan\", \"Baca\", \"Main\", \"Makan\", \"Tidur\"]\n",
    "print(data[4:], \"\\n\")\n",
    "\n",
    "data = [\"Nonton\", \"Olahraga\", \"Jalan-Jalan\", \"Baca\", \"Main\", \"Makan\", \"Tidur\"]\n",
    "print(data[-6:-2], \"\\n\")"
   ]
  },
  {
   "cell_type": "code",
   "execution_count": 7,
   "id": "fcd85844",
   "metadata": {},
   "outputs": [
    {
     "name": "stdout",
     "output_type": "stream",
     "text": [
      "Yes, 'apple' is in the fruits list\n"
     ]
    }
   ],
   "source": [
    "#Untuk menentukan apakah item tertentu ada dalam data\n",
    "data = [\"apple\", \"banana\", \"cherry\"]\n",
    "if \"apple\" in data:\n",
    "  print(\"Yes, 'apple' is in the fruits list\")"
   ]
  },
  {
   "cell_type": "code",
   "execution_count": 35,
   "id": "014e3200",
   "metadata": {},
   "outputs": [
    {
     "name": "stdout",
     "output_type": "stream",
     "text": [
      "['Laptop', 'Handphone', 'Komputer']\n"
     ]
    }
   ],
   "source": [
    "electronic = [\"Laptop\", \"Handphone\", \"Komputer\", \"Printer\"]\n",
    "\n",
    "electronic.pop() \n",
    "print(electronic)"
   ]
  },
  {
   "cell_type": "code",
   "execution_count": null,
   "id": "dd1c66b5",
   "metadata": {},
   "outputs": [],
   "source": [
    "#Untuk menghapus isi dalam list sesuai perintah yang diberikan"
   ]
  },
  {
   "cell_type": "code",
   "execution_count": 41,
   "id": "0469deed",
   "metadata": {},
   "outputs": [
    {
     "name": "stdout",
     "output_type": "stream",
     "text": [
      "Saya belajar tentang ['Alpro', 'Pengantar Sains Data', 'Kalkulus', 'Fisika Dasar', 'Literasi TIK'] Di perkuliahan \n",
      "\n",
      "['Alpro', 'Pengantar Sains Data', 'Kalkulus', 'Fisika Dasar', 'Literasi TIK', 'Pendidikan Agama']\n",
      "['Alpro', 'Pengantar Sains Data', 'Kalkulus', 'Fisika Dasar', 'Literasi TIK', 'Pancasila']\n"
     ]
    }
   ],
   "source": [
    "MatKul = [\"Alpro\", \"Pengantar Sains Data\", \"Kalkulus\", \"Fisika Dasar\", \"Literasi TIK\"]  #Old List\n",
    "\n",
    "Belajar = MatKul.copy()  #New List\n",
    "print(\"Saya belajar tentang\", Belajar, \"Di perkuliahan \\n\")\n",
    "\n",
    "MatKul.append(\"Pendidikan Agama\")  #Old List\n",
    "Belajar.append(\"Pancasila\")  #New List\n",
    "\n",
    "print(MatKul)  #Old List\n",
    "print(Belajar)  #New List\n"
   ]
  },
  {
   "cell_type": "code",
   "execution_count": 24,
   "id": "ee874ad0",
   "metadata": {},
   "outputs": [
    {
     "name": "stdout",
     "output_type": "stream",
     "text": [
      "22\n"
     ]
    }
   ],
   "source": [
    "nilai_1 = [2,3,7]\n",
    "nilai_2 = [5,4,1]\n",
    "jumlah = sum(nilai_1 + nilai_2)\n",
    "print(jumlah)"
   ]
  },
  {
   "cell_type": "code",
   "execution_count": 11,
   "id": "8d9cdd9d",
   "metadata": {},
   "outputs": [
    {
     "name": "stdout",
     "output_type": "stream",
     "text": [
      "<class 'str'>\n",
      "<class 'float'>\n",
      "<class 'int'>\n"
     ]
    }
   ],
   "source": [
    "mylist = [\"Rendika\", 7, \"Naruto\", 8.6, \"Sasuke\", 9]\n",
    "print(type(mylist[0]))\n",
    "print(type(mylist[3]))\n",
    "print(type(mylist[-1]))"
   ]
  },
  {
   "cell_type": "code",
   "execution_count": 7,
   "id": "15cf8cac",
   "metadata": {},
   "outputs": [
    {
     "name": "stdout",
     "output_type": "stream",
     "text": [
      "50\n"
     ]
    }
   ],
   "source": [
    "Angka = [50,25,10,15,35]\n",
    "print(max(Angka))"
   ]
  },
  {
   "cell_type": "code",
   "execution_count": 8,
   "id": "71b77afd",
   "metadata": {},
   "outputs": [
    {
     "data": {
      "text/plain": [
       "135"
      ]
     },
     "execution_count": 8,
     "metadata": {},
     "output_type": "execute_result"
    }
   ],
   "source": [
    "Angka = [50,25,10,15,35]\n",
    "sum(Angka)"
   ]
  },
  {
   "cell_type": "code",
   "execution_count": 9,
   "id": "5188ece3",
   "metadata": {},
   "outputs": [
    {
     "name": "stdout",
     "output_type": "stream",
     "text": [
      "10\n"
     ]
    }
   ],
   "source": [
    "Angka = [50,25,10,15,35]\n",
    "print(min(Angka))"
   ]
  },
  {
   "cell_type": "code",
   "execution_count": null,
   "id": "c299b224",
   "metadata": {},
   "outputs": [],
   "source": [
    "#max untuk menentukan nilai terbesar & min untuk menentukan nilai terkecil"
   ]
  }
 ],
 "metadata": {
  "kernelspec": {
   "display_name": "Python 3",
   "language": "python",
   "name": "python3"
  },
  "language_info": {
   "codemirror_mode": {
    "name": "ipython",
    "version": 3
   },
   "file_extension": ".py",
   "mimetype": "text/x-python",
   "name": "python",
   "nbconvert_exporter": "python",
   "pygments_lexer": "ipython3",
   "version": "3.8.8"
  }
 },
 "nbformat": 4,
 "nbformat_minor": 5
}

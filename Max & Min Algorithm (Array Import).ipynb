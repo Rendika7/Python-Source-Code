{
 "cells": [
  {
   "cell_type": "code",
   "execution_count": 48,
   "id": "a2ead1b9",
   "metadata": {},
   "outputs": [
    {
     "name": "stdout",
     "output_type": "stream",
     "text": [
      "70\n",
      "50\n",
      "15\n",
      "30\n",
      "50\n",
      "96\n",
      "80\n",
      "70\n",
      "100\n",
      "30\n"
     ]
    }
   ],
   "source": [
    "import array as arr\n",
    "\n",
    "Nilai = arr.array ('i', [70, 50, 15, 30, 50, 96, 80, 70, 100, 30])\n",
    "#Panjang = print(len(Nilai))\n",
    "\n",
    "Max = 0\n",
    "for i in Nilai :\n",
    "    #print(i)\n",
    "    if i > Max :\n",
    "        Max = i\n",
    "        \n",
    "print(Max)\n"
   ]
  },
  {
   "cell_type": "code",
   "execution_count": 3,
   "id": "cfe6de96",
   "metadata": {},
   "outputs": [
    {
     "name": "stdout",
     "output_type": "stream",
     "text": [
      "array('i', [70, 50, 15, 30, 50, 96, 80, 70, 100, 30])\n"
     ]
    }
   ],
   "source": [
    "print (Nilai)"
   ]
  },
  {
   "cell_type": "code",
   "execution_count": 9,
   "id": "c8c358db",
   "metadata": {},
   "outputs": [
    {
     "name": "stdout",
     "output_type": "stream",
     "text": [
      "100\n"
     ]
    }
   ],
   "source": [
    "print(max(Nilai))"
   ]
  },
  {
   "cell_type": "code",
   "execution_count": 50,
   "id": "92f406e4",
   "metadata": {},
   "outputs": [
    {
     "name": "stdout",
     "output_type": "stream",
     "text": [
      "15\n"
     ]
    }
   ],
   "source": [
    "Nilai = arr.array ('i', [70, 50, 15, 30, 50, 96, 80, 70, 100, 30])\n",
    "#Panjang = print(len(Nilai))\n",
    "\n",
    "Min = Nilai [0]\n",
    "for i in range(len(Nilai)) :\n",
    "    if Nilai[i] < Min :\n",
    "        Min = Nilai[i]\n",
    "        \n",
    "print(Min)"
   ]
  },
  {
   "cell_type": "code",
   "execution_count": 70,
   "id": "f75c7e0d",
   "metadata": {},
   "outputs": [
    {
     "name": "stdout",
     "output_type": "stream",
     "text": [
      "150\n",
      "135\n",
      "230\n",
      "120\n",
      "210\n",
      "140\n",
      "jumlah: 6\n"
     ]
    }
   ],
   "source": [
    "import array as ar\n",
    "panen=[100,150,135,230,75,120,50,75,210,140]\n",
    "x=0\n",
    "for i in range (0, 10):\n",
    "   if panen[i]>100:\n",
    "     print(panen[i])\n",
    "     x=x+1\n",
    "\n",
    "print(\"jumlah:\",x)"
   ]
  },
  {
   "cell_type": "code",
   "execution_count": 69,
   "id": "51863df5",
   "metadata": {},
   "outputs": [
    {
     "name": "stdout",
     "output_type": "stream",
     "text": [
      "100\n"
     ]
    }
   ],
   "source": [
    "#program array nilai maksimum\n",
    "A=[70,50,15,30,50,96,80,70,100,30]\n",
    "hasil = 0\n",
    "for i in range(len(A)):\n",
    "    y = A[i]\n",
    "    if y > hasil:\n",
    "        hasil = y\n",
    "print(hasil)"
   ]
  }
 ],
 "metadata": {
  "kernelspec": {
   "display_name": "Python 3 (ipykernel)",
   "language": "python",
   "name": "python3"
  },
  "language_info": {
   "codemirror_mode": {
    "name": "ipython",
    "version": 3
   },
   "file_extension": ".py",
   "mimetype": "text/x-python",
   "name": "python",
   "nbconvert_exporter": "python",
   "pygments_lexer": "ipython3",
   "version": "3.8.12"
  }
 },
 "nbformat": 4,
 "nbformat_minor": 5
}

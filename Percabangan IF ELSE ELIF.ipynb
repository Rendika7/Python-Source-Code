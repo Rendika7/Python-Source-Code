{
 "cells": [
  {
   "cell_type": "code",
   "execution_count": 11,
   "id": "55ff2b16",
   "metadata": {},
   "outputs": [
    {
     "name": "stdout",
     "output_type": "stream",
     "text": [
      "Masukkan Nilai Anda : 75\n",
      "Masukkan Nama Lengkap Anda : Rendika Nurhartanto Suharto\n",
      "Masukkan Tahun Ajaran Anda : 2021\n",
      "Selamat Rendika Nurhartanto Suharto Anda 'LULUS' Tahun Ajaran 2021\n"
     ]
    }
   ],
   "source": [
    "Nilai = int(input(\"Masukkan Nilai Anda : \"))\n",
    "Nama = input(\"Masukkan Nama Lengkap Anda : \")\n",
    "Tahun = input(\"Masukkan Tahun Ajaran Anda : \")\n",
    "\n",
    "if Nilai >= 70: \n",
    "    print(\"Selamat\",Nama ,\"Anda 'LULUS' \" \"Tahun Ajaran\", Tahun)"
   ]
  },
  {
   "cell_type": "code",
   "execution_count": 15,
   "id": "dd5f0aaa",
   "metadata": {},
   "outputs": [
    {
     "name": "stdout",
     "output_type": "stream",
     "text": [
      "Masukkan Angka : 10\n",
      "10 Adalah Bilangan Genap\n",
      "Masukkan Angka : 10\n",
      "10 Adalah Bilangan Kelipatan 5\n"
     ]
    }
   ],
   "source": [
    "angka = int(input(\"Masukkan Angka : \"))\n",
    "if angka %2 == 0:\n",
    "    print(angka,\"Adalah Bilangan Genap\")\n",
    "    \n",
    "angka = int(input(\"Masukkan Angka : \"))\n",
    "if angka %5 == 0:\n",
    "    print(angka,\"Adalah Bilangan Kelipatan 5\")"
   ]
  },
  {
   "cell_type": "code",
   "execution_count": 17,
   "id": "540ba860",
   "metadata": {},
   "outputs": [
    {
     "name": "stdout",
     "output_type": "stream",
     "text": [
      "Masukkan Angka : 1\n",
      "1 Adalah Bilangan Ganjil\n",
      "Terimakasih\n"
     ]
    }
   ],
   "source": [
    "angka = int(input(\"Masukkan Angka : \"))\n",
    "if angka %2 == 1:\n",
    "    print(angka,\"Adalah Bilangan Ganjil\")\n",
    "print(\"Terimakasih\")"
   ]
  },
  {
   "cell_type": "code",
   "execution_count": 19,
   "id": "9d1aee78",
   "metadata": {},
   "outputs": [
    {
     "name": "stdout",
     "output_type": "stream",
     "text": [
      "Berapa Umur Kamu? 20\n",
      "Kamu Boleh Membuat SIM\n",
      "MANTAP\n"
     ]
    }
   ],
   "source": [
    "Umur = int(input(\"Berapa Umur Kamu? \"))\n",
    "if Umur >= 18 :\n",
    "    print(\"Kamu Boleh Membuat SIM\")\n",
    "else:\n",
    "    print(\"Kamu Tidak Boleh Membuat SIM\")\n",
    "print(\"MANTAP\")"
   ]
  },
  {
   "cell_type": "code",
   "execution_count": 32,
   "id": "63b8de61",
   "metadata": {},
   "outputs": [
    {
     "name": "stdout",
     "output_type": "stream",
     "text": [
      "Masukkan Angka : 0.364\n",
      "0.364 Adalah Bilangan Ganjil\n"
     ]
    }
   ],
   "source": [
    "angka = float(input(\"Masukkan Angka : \"))\n",
    "if angka %2 == 0:\n",
    "    print(angka,\"Adalah Bilangan Genap\")\n",
    "else :\n",
    "    print(angka,\"Adalah Bilangan Ganjil\")"
   ]
  },
  {
   "cell_type": "code",
   "execution_count": 25,
   "id": "ce3c43fd",
   "metadata": {},
   "outputs": [
    {
     "name": "stdout",
     "output_type": "stream",
     "text": [
      "Masukkan Angka : 10\n",
      "Masukkan Angka : 11\n",
      "Angka 11 lebih gede dari Angka 10\n",
      "Bilangan Terbesar adalah  10\n"
     ]
    }
   ],
   "source": [
    "angka1 = int(input(\"Masukkan Angka : \"))\n",
    "angka2 = int(input(\"Masukkan Angka : \"))\n",
    "\n",
    "def bilangan_Terbesar():\n",
    "    if angka1 > angka2:\n",
    "        print(\"Bilangan Terbesar adalah \", Bilangan_Terbesar())\n",
    "    else :\n",
    "        print(\"Bilangan Terbesar adalah \", Bilangan_Terbesar())\n",
    "\n",
    "if angka1 > angka2:\n",
    "    print(\"Angka\", angka1, \"lebih gede dari\", \"Angka\", angka2)\n",
    "else :\n",
    "    print(\"Angka\", angka2, \"lebih gede dari\", \"Angka\", angka1)\n",
    "    \n",
    "print (\"Bilangan Terbesar adalah \", angka1)"
   ]
  },
  {
   "cell_type": "code",
   "execution_count": 42,
   "id": "a2ebf030",
   "metadata": {},
   "outputs": [
    {
     "name": "stdout",
     "output_type": "stream",
     "text": [
      "Masukkan Berat Badan kamu 'Kilo Gram' : 80\n",
      "Masukkan Berat Badan kamu 'Meter' : 1.6\n",
      "Obesitas\n"
     ]
    }
   ],
   "source": [
    "Berat_Badan = int(input(\"Masukkan Berat Badan kamu 'Kilo Gram' : \"))\n",
    "Tinggi_Badan = float(input(\"Masukkan Berat Badan kamu 'Meter' : \"))\n",
    "\n",
    "IMT = Berat_Badan/(Tinggi_Badan**2)\n",
    "\n",
    "if IMT < 18.5:\n",
    "    print(\"Kamu Kurus\")\n",
    "elif 18.5<= IMT < 25 :\n",
    "    print(\"Normal\")\n",
    "elif IMT > 25 :\n",
    "    print(\"Obesitas\")\n",
    "else:\n",
    "    print(\"Masukkan Input Dengan Benar\")"
   ]
  },
  {
   "cell_type": "code",
   "execution_count": null,
   "id": "984721df",
   "metadata": {},
   "outputs": [],
   "source": [
    "Berat_Badan = int(input(\"Masukkan Berat Badan kamu 'Kilo Gram' : \"))\n",
    "Tinggi_Badan = float(input(\"Masukkan Berat Badan kamu 'Meter' : \"))\n",
    "\n",
    "IMT = Berat_Badan/(Tinggi_Badan**2)\n",
    "\n",
    "print(IMT)"
   ]
  },
  {
   "cell_type": "code",
   "execution_count": 55,
   "id": "a7b8384f",
   "metadata": {},
   "outputs": [
    {
     "name": "stdout",
     "output_type": "stream",
     "text": [
      "Masukkan Tahun Yang Mau Di Cek : 2004\n",
      "2004 Bukan Tahun Kabisat\n"
     ]
    }
   ],
   "source": [
    "Tahun = int(input(\"Masukkan Tahun Yang Mau Di Cek : \"))\n",
    "\n",
    "if Tahun %4 == 0 and Tahun %400 == 0 and Tahun %100 != 0:\n",
    "    print(Tahun, \"Tahun Kabisat\")\n",
    "else :\n",
    "    print(Tahun, \"Bukan Tahun Kabisat\")\n",
    "    "
   ]
  },
  {
   "cell_type": "code",
   "execution_count": 59,
   "id": "732944e8",
   "metadata": {},
   "outputs": [
    {
     "name": "stdout",
     "output_type": "stream",
     "text": [
      "Masukkan tahun: 2016\n",
      "2016 merupakan tahun kabisat\n"
     ]
    }
   ],
   "source": [
    "tahun = int(input(\"Masukkan tahun: \"))\n",
    "if tahun % 400 == 0:\n",
    "    print(\"{} merupakan tahun kabisat\".format(tahun))\n",
    "elif tahun % 100 == 0:\n",
    "    print(\"{} bukan tahun kabisat\".format(tahun))\n",
    "elif tahun % 4 == 0:\n",
    "    print(\"{} merupakan tahun kabisat\".format(tahun))\n",
    "else:\n",
    "    print(\"{} bukan tahun kabisat\".format(tahun))"
   ]
  },
  {
   "cell_type": "code",
   "execution_count": 68,
   "id": "b678d12c",
   "metadata": {},
   "outputs": [
    {
     "name": "stdout",
     "output_type": "stream",
     "text": [
      "Masukkan Tahun : 2000\n",
      "2000 Tahun kabisat\n"
     ]
    }
   ],
   "source": [
    "tahun = int(input(\"Masukkan Tahun : \"))\n",
    "if( (tahun%4==0 and tahun%100!=0) or (tahun % 400 == 0)):\n",
    "    print(tahun, \"Termasuk Tahun kabisat\")\n",
    "else:\n",
    "    print(tahun, \"bukan Tahun kabisat\")"
   ]
  },
  {
   "cell_type": "code",
   "execution_count": 69,
   "id": "0eab3b55",
   "metadata": {},
   "outputs": [
    {
     "name": "stdout",
     "output_type": "stream",
     "text": [
      "Masukkan Tahun : 2004\n",
      "2004 Tahun kabisat\n"
     ]
    }
   ],
   "source": [
    "tahun = int(input(\"Masukkan Tahun : \"))\n",
    "if( (tahun%4==0 and tahun%100!=0) or (tahun % 400 == 0)):\n",
    "    print(tahun, \"Termasuk Tahun kabisat\")\n",
    "else:\n",
    "    print(tahun, \"bukan Tahun kabisat\")"
   ]
  },
  {
   "cell_type": "code",
   "execution_count": 71,
   "id": "661d3028",
   "metadata": {},
   "outputs": [
    {
     "name": "stdout",
     "output_type": "stream",
     "text": [
      "Masukkan Tahun : 1089\n",
      "1089  bukan Tahun kabisat\n"
     ]
    }
   ],
   "source": [
    "tahun = int(input(\"Masukkan Tahun : \"))\n",
    "if( (tahun%4==0 and tahun%100!=0) or (tahun % 400 == 0)):\n",
    "    print(tahun, \"Termasuk Tahun kabisat\")\n",
    "else:\n",
    "    print(tahun, \" bukan Tahun kabisat\")"
   ]
  },
  {
   "cell_type": "code",
   "execution_count": null,
   "id": "f319004e",
   "metadata": {},
   "outputs": [],
   "source": []
  }
 ],
 "metadata": {
  "kernelspec": {
   "display_name": "Python 3",
   "language": "python",
   "name": "python3"
  },
  "language_info": {
   "codemirror_mode": {
    "name": "ipython",
    "version": 3
   },
   "file_extension": ".py",
   "mimetype": "text/x-python",
   "name": "python",
   "nbconvert_exporter": "python",
   "pygments_lexer": "ipython3",
   "version": "3.8.8"
  }
 },
 "nbformat": 4,
 "nbformat_minor": 5
}

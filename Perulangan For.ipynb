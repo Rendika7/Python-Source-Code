{
 "cells": [
  {
   "cell_type": "code",
   "execution_count": 8,
   "id": "c71a7b1b",
   "metadata": {},
   "outputs": [
    {
     "name": "stdout",
     "output_type": "stream",
     "text": [
      "Rendika 0\n",
      "Rendika 1\n",
      "Rendika 2\n",
      "Rendika 3\n",
      "Rendika 4\n",
      "Rendika 5\n",
      "Rendika 6\n",
      "Rendika 7\n",
      "Rendika 8\n",
      "Rendika 9\n",
      "Rendika 10\n",
      "Jumlah Pengulangan Ada : 10 Kali\n"
     ]
    }
   ],
   "source": [
    "for i in range (0,11):\n",
    "    print(\"Rendika\", i)\n",
    "print(\"Jumlah Pengulangan Ada :\", i, \"Kali\")"
   ]
  },
  {
   "cell_type": "code",
   "execution_count": 11,
   "id": "baa9aafe",
   "metadata": {},
   "outputs": [
    {
     "name": "stdout",
     "output_type": "stream",
     "text": [
      "0\n",
      "5\n",
      "10\n"
     ]
    }
   ],
   "source": [
    "for i in range (0,100,5):\n",
    "    print(i)\n",
    "    if i == 10: \n",
    "        break"
   ]
  },
  {
   "cell_type": "code",
   "execution_count": 5,
   "id": "a7bdf18b",
   "metadata": {},
   "outputs": [
    {
     "name": "stdout",
     "output_type": "stream",
     "text": [
      "0\n",
      "5\n",
      "15\n",
      "20\n",
      "25\n",
      "30\n",
      "35\n",
      "40\n",
      "45\n",
      "50\n",
      "55\n",
      "60\n",
      "65\n",
      "70\n",
      "75\n",
      "80\n",
      "85\n",
      "90\n",
      "95\n"
     ]
    }
   ],
   "source": [
    "for i in range (0,100,5):\n",
    "    if i == 10: \n",
    "        continue\n",
    "    print(i)"
   ]
  },
  {
   "cell_type": "code",
   "execution_count": 10,
   "id": "e78e77b5",
   "metadata": {},
   "outputs": [
    {
     "name": "stdout",
     "output_type": "stream",
     "text": [
      "Rendika\n",
      "Thesion\n",
      "Irma\n",
      "10\n",
      "12\n"
     ]
    }
   ],
   "source": [
    "List = [\"Rendika\", \"Rendika2\", \"Thesion\", \"Irma\", 10, 12]\n",
    "for i in List:\n",
    "    if i == \"Rendika2\":\n",
    "        continue\n",
    "    print(i)"
   ]
  },
  {
   "cell_type": "code",
   "execution_count": null,
   "id": "354465de",
   "metadata": {},
   "outputs": [],
   "source": [
    "List = [\"Rendika\", \"Rendika2\", \"Thesion\", \"Irma\", 10, 12]\n",
    "for i in List:\n",
    "    print(i)\n",
    "    if i == \"Rendika2\":\n",
    "        break"
   ]
  },
  {
   "cell_type": "code",
   "execution_count": 21,
   "id": "4a3df714",
   "metadata": {},
   "outputs": [
    {
     "name": "stdout",
     "output_type": "stream",
     "text": [
      "Loop = 1\n",
      "Ulang/Tidak : Ulang\n",
      "Loop = 2\n",
      "Ulang/Tidak : Ulang\n",
      "Loop = 3\n",
      "Ulang/Tidak : Tidak\n",
      "Looping Is Over\n"
     ]
    }
   ],
   "source": [
    "Angka = 0\n",
    "while(Niat == \"Ulang\"):\n",
    "    Angka += 1\n",
    "    print(\"Loop =\", Angka)\n",
    "    Niat = input(\"Ulang/Tidak : \")\n",
    "print(\"Looping Is Over\")"
   ]
  },
  {
   "cell_type": "code",
   "execution_count": 44,
   "id": "bd8eca71",
   "metadata": {},
   "outputs": [
    {
     "name": "stdout",
     "output_type": "stream",
     "text": [
      "Masukkan Angka Tebakanmu : 41\n",
      "Tebakan Anda Salah |Bilangan Yang Anda Masukkan Terlalu Besar|\n",
      "Masukkan Angka Tebakanmu : 25\n",
      "Tebakan Anda Benar|Genius|\n",
      "Anda Menang Selamat, Looping Is Over\n"
     ]
    }
   ],
   "source": [
    "Bilangan = 25\n",
    "running = True\n",
    "while running:\n",
    "    Tebakan = int(input (\"Masukkan Angka Tebakanmu : \"))\n",
    "    if Tebakan == Bilangan :\n",
    "        print(\"Tebakan Anda Benar|Genius|\")\n",
    "        running = False\n",
    "    elif Tebakan < Bilangan :\n",
    "        print(\"Tebakan Anda Salah |Bilangan Yang Anda Masukkan Terlalu Kecil|\")\n",
    "    else:\n",
    "        print(\"Tebakan Anda Salah |Bilangan Yang Anda Masukkan Terlalu Besar|\")\n",
    "else:\n",
    "    print (\"Anda Menang Selamat, Looping Is Over\")"
   ]
  },
  {
   "cell_type": "code",
   "execution_count": 45,
   "id": "148f47c5",
   "metadata": {},
   "outputs": [
    {
     "name": "stdout",
     "output_type": "stream",
     "text": [
      "Ketikan Sesuatu : Rendika 7\n",
      "Panjang String Adalah 9\n",
      "Ketikan Sesuatu : quit\n",
      "Thanks, Looping is Over\n"
     ]
    }
   ],
   "source": [
    "while True:\n",
    "    s = input(\"Ketikan Sesuatu : \")\n",
    "    if s == \"quit\" :\n",
    "        break\n",
    "    print(\"Panjang String Adalah\", len(s))\n",
    "print(\"Thanks, Looping is Over\")"
   ]
  },
  {
   "cell_type": "code",
   "execution_count": 64,
   "id": "dbf8b704",
   "metadata": {},
   "outputs": [
    {
     "name": "stdout",
     "output_type": "stream",
     "text": [
      "Masukkan Angka : 5\n",
      "* \n",
      "* * \n",
      "* * * \n",
      "* * * * \n",
      "* * * * * \n"
     ]
    }
   ],
   "source": [
    "A = int(input(\"Masukkan Angka : \"))\n",
    "\n",
    "for i in range (0,A):\n",
    "    print(\"\", end=\"\")\n",
    "    for r in range (0,i+1):\n",
    "        print(\"*\", end=\" \")\n",
    "    print(\"\")"
   ]
  },
  {
   "cell_type": "code",
   "execution_count": 84,
   "id": "1d396ced",
   "metadata": {},
   "outputs": [
    {
     "name": "stdout",
     "output_type": "stream",
     "text": [
      "Masukkan Angka : 4\n",
      "\n",
      "*\n",
      "\n",
      "\n",
      "*\n",
      "*\n",
      "\n",
      "\n",
      "*\n",
      "*\n",
      "*\n",
      "\n",
      "\n",
      "*\n",
      "*\n",
      "*\n",
      "*\n",
      "\n"
     ]
    }
   ],
   "source": [
    "#Tanpa end=\"\"\n",
    "\n",
    "A = int(input(\"Masukkan Angka : \"))\n",
    "\n",
    "for i in range (A):\n",
    "    print(\"\")\n",
    "    for r in range (i+1):\n",
    "        print(\"*\")                          \n",
    "    print(\"\")"
   ]
  },
  {
   "cell_type": "code",
   "execution_count": 19,
   "id": "788022ea",
   "metadata": {},
   "outputs": [
    {
     "name": "stdout",
     "output_type": "stream",
     "text": [
      "Masukkan Angka : 5\n",
      "\n",
      "* \n",
      "\n",
      "* * \n",
      "\n",
      "* * * \n",
      "\n",
      "* * * * \n",
      "\n",
      "* * * * * \n"
     ]
    }
   ],
   "source": [
    "#Pakai end=\"\"\n",
    "\n",
    "A = int(input(\"Masukkan Angka : \"))\n",
    "\n",
    "for i in range (A):\n",
    "    print(\"\")\n",
    "    for r in range (i+1):\n",
    "        print(\"*\", end=\" \")                          \n",
    "    print(\"\")"
   ]
  },
  {
   "cell_type": "code",
   "execution_count": 95,
   "id": "91dd8374",
   "metadata": {},
   "outputs": [
    {
     "name": "stdout",
     "output_type": "stream",
     "text": [
      "Masukkan Baris dan Kolom Yang Diinginkan : 5\n",
      "\n",
      "*\n",
      "**\n",
      "***\n",
      "****\n",
      "*****\n"
     ]
    }
   ],
   "source": [
    "#Jawaban Thasya\n",
    "\n",
    "i = int(input(\"Masukkan Baris dan Kolom Yang Diinginkan : \"))\n",
    "for i in range (i+1):\n",
    "    print(\"*\" * i)"
   ]
  },
  {
   "cell_type": "code",
   "execution_count": 5,
   "id": "2d85ab4b",
   "metadata": {},
   "outputs": [
    {
     "name": "stdout",
     "output_type": "stream",
     "text": [
      "Masukkan Angka : 4\n",
      "1 2 3 4 "
     ]
    }
   ],
   "source": [
    "#Pakai end=\"\"\n",
    "\n",
    "A = int(input(\"Masukkan Angka : \"))\n",
    "\n",
    "for i in range (A):\n",
    "    print(i+1 , end=\" \")\n",
    "    "
   ]
  },
  {
   "cell_type": "code",
   "execution_count": 20,
   "id": "34a65637",
   "metadata": {},
   "outputs": [
    {
     "name": "stdout",
     "output_type": "stream",
     "text": [
      "1 \r\n",
      "1 2 \r\n",
      "1 2 3 \r\n",
      "1 2 3 4 \r\n"
     ]
    }
   ],
   "source": [
    "def pattern(n):\n",
    "     for i in range(1, n):\n",
    "         for j in range(1, i + 1):\n",
    "             print(j, end= \" \")\n",
    "         print(\"\\r\")\n",
    "pattern(5)"
   ]
  },
  {
   "cell_type": "code",
   "execution_count": 22,
   "id": "af9e7e9e",
   "metadata": {},
   "outputs": [
    {
     "name": "stdout",
     "output_type": "stream",
     "text": [
      "Masukkan Angka : 5\n",
      "1 \n",
      "1 2 \n",
      "1 2 3 \n",
      "1 2 3 4 \n"
     ]
    }
   ],
   "source": [
    "A = int(input(\"Masukkan Angka : \"))\n",
    "for i in range(1, A):\n",
    "         for j in range(1, i + 1):\n",
    "             print(j, end= \" \")\n",
    "         print(\"\\r\")\n"
   ]
  },
  {
   "cell_type": "code",
   "execution_count": 29,
   "id": "6d49a904",
   "metadata": {},
   "outputs": [
    {
     "name": "stdout",
     "output_type": "stream",
     "text": [
      "* \n",
      "* * \n",
      "* * * \n",
      "* * * * \n",
      "* * * * * \n"
     ]
    }
   ],
   "source": [
    "a = 5\n",
    "for i in range(0, a):\n",
    "    for j in range(0, i + 1):\n",
    "        print('* ' , end='')\n",
    "    print('')\n"
   ]
  },
  {
   "cell_type": "code",
   "execution_count": 31,
   "id": "f9f077af",
   "metadata": {},
   "outputs": [
    {
     "name": "stdout",
     "output_type": "stream",
     "text": [
      "Masukkan Angka : 5\n",
      "\n",
      "* \n",
      "\n",
      "* * \n",
      "\n",
      "* * * \n",
      "\n",
      "* * * * \n",
      "\n",
      "* * * * * \n"
     ]
    }
   ],
   "source": [
    "A = int(input(\"Masukkan Angka : \"))\n",
    "for i in range (A):\n",
    "    print(\"\")\n",
    "    for r in range (i+1):\n",
    "        print(\"*\", end=\" \")                          \n",
    "    print(\"\")"
   ]
  },
  {
   "cell_type": "code",
   "execution_count": 50,
   "id": "fc9f97c1",
   "metadata": {},
   "outputs": [
    {
     "name": "stdout",
     "output_type": "stream",
     "text": [
      "Masukkan jumlah baris: 5\n",
      "1 \n",
      "2 2 \n",
      "3 3 3 \n",
      "4 4 4 4 \n",
      "5 5 5 5 5 \n"
     ]
    }
   ],
   "source": [
    "s = int(input(\"Masukkan jumlah baris: \"))\n",
    "z = 1\n",
    "for x in range(s):\n",
    "    for y in range(z):\n",
    "        print(z, end = \" \")\n",
    "    print(\"\")\n",
    "    z += 1"
   ]
  },
  {
   "cell_type": "code",
   "execution_count": 49,
   "id": "56cbe1f8",
   "metadata": {},
   "outputs": [
    {
     "name": "stdout",
     "output_type": "stream",
     "text": [
      "Masukkan jumlah baris: 5\n",
      "1 \n",
      "2 2 \n",
      "3 3 3 \n",
      "4 4 4 4 \n",
      "5 5 5 5 5 \n"
     ]
    }
   ],
   "source": [
    "s = int(input(\"Masukkan jumlah baris: \"))\n",
    "z = 1\n",
    "for x in range(s):\n",
    "    for y in range(z):\n",
    "        print(z, end = \" \")\n",
    "    print(\"\")\n",
    "    z += 1"
   ]
  },
  {
   "cell_type": "code",
   "execution_count": null,
   "id": "76ed394e",
   "metadata": {},
   "outputs": [],
   "source": []
  }
 ],
 "metadata": {
  "kernelspec": {
   "display_name": "Python 3",
   "language": "python",
   "name": "python3"
  },
  "language_info": {
   "codemirror_mode": {
    "name": "ipython",
    "version": 3
   },
   "file_extension": ".py",
   "mimetype": "text/x-python",
   "name": "python",
   "nbconvert_exporter": "python",
   "pygments_lexer": "ipython3",
   "version": "3.8.8"
  }
 },
 "nbformat": 4,
 "nbformat_minor": 5
}

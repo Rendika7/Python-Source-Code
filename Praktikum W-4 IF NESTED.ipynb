{
 "cells": [
  {
   "cell_type": "code",
   "execution_count": 10,
   "id": "5174d4e3",
   "metadata": {},
   "outputs": [
    {
     "name": "stdout",
     "output_type": "stream",
     "text": [
      "Masukkan Nilai Mahasiswa Dalam Sekala 100\n",
      "Masukkan Nilai 1 : 99\n",
      "Masukkan Nilai 2 : 98\n",
      "Masukkan Nilai 3 : 97\n",
      "Masukkan Nilai 4 : 99\n",
      "Anda Hanya Bisa Mengambil Maks 24 SKS\n",
      "Anda Berada Grade A\n"
     ]
    }
   ],
   "source": [
    "print(\"Masukkan Nilai Mahasiswa Dalam Sekala 100\")\n",
    "\n",
    "Nilai_1 = int(input(\"Masukkan Nilai 1 : \"))\n",
    "Nilai_2 = int(input(\"Masukkan Nilai 2 : \"))\n",
    "Nilai_3 = int(input(\"Masukkan Nilai 3 : \"))\n",
    "Nilai_4 = int(input(\"Masukkan Nilai 4 : \"))\n",
    "\n",
    "IP = (Nilai_1 + Nilai_2 + Nilai_3 + Nilai_4)/4\n",
    "\n",
    "if IP > 85 :\n",
    "    print (\"Anda Hanya Bisa Mengambil Maks 24 SKS\")\n",
    "elif IP > 75 and IP <= 85 :\n",
    "    print (\"Anda Hanya Bisa Mengambil Maks 22 SKS\")\n",
    "elif IP > 60 and IP <= 75 :\n",
    "    print (\"Anda Hanya Bisa Mengambil Maks 19 SKS\")\n",
    "else : \n",
    "    print (\"WAJIB MENGULANG\")\n",
    "    \n",
    "if IP > 90 :\n",
    "    print (\"Anda Berada Grade A\")\n",
    "elif IP >= 85 and IP < 90 :\n",
    "    print (\"Anda Berada Grade AB\")\n",
    "elif IP >= 80 and IP < 85 :\n",
    "    print (\"Anda Berada Grade B\")\n",
    "elif IP >= 75 and IP < 80 :\n",
    "    print (\"Anda Berada Grade C\")\n",
    "else:\n",
    "    print (\"MAHASISWA HARUS MENGULANG\")"
   ]
  },
  {
   "cell_type": "code",
   "execution_count": 25,
   "id": "70b9ce68",
   "metadata": {},
   "outputs": [
    {
     "name": "stdout",
     "output_type": "stream",
     "text": [
      "Masukkan Nilai Mahasiswa Dalam Sekala 100\n",
      "Masukkan Nilai 1 : 100\n",
      "Masukkan Nilai 2 : 100\n",
      "Masukkan Nilai 3 : 55\n",
      "Masukkan Nilai 4 : 92\n",
      "Nilai Anda Adalah :  86.75\n",
      "Anda Bisa Mengambil 24 SKS\n",
      "Anda Berada Grade AB\n"
     ]
    }
   ],
   "source": [
    "print(\"Masukkan Nilai Mahasiswa Dalam Sekala 100\")\n",
    "\n",
    "Nilai_1 = int(input(\"Masukkan Nilai 1 : \"))\n",
    "Nilai_2 = int(input(\"Masukkan Nilai 2 : \"))\n",
    "Nilai_3 = int(input(\"Masukkan Nilai 3 : \"))\n",
    "Nilai_4 = int(input(\"Masukkan Nilai 4 : \"))\n",
    "\n",
    "IP = (Nilai_1 + Nilai_2 + Nilai_3 + Nilai_4)/4\n",
    "\n",
    "if IP >= 85:\n",
    "    print(\"Nilai Anda Adalah : \", IP)\n",
    "    print(\"Anda Bisa Mengambil 24 SKS\")\n",
    "    if IP >= 90:\n",
    "        print(\"Anda Berada Grade A\")\n",
    "    else :\n",
    "        print(\"Anda Berada Grade AB\")\n",
    "elif IP >= 75:\n",
    "    print(\"Nilai Anda Adalah : \", IP)\n",
    "    print(\"Anda Bisa Mengambil 24 SKS\")\n",
    "    if IP >= 80:\n",
    "        print(\"Anda Berada Grade B\")\n",
    "    else :\n",
    "        print(\"Anda Berada Grade C\")\n",
    "else :\n",
    "    if IP >= 55:\n",
    "        print(\"Nilai Anda Adalah : \", IP)\n",
    "        print(\"Anda Bisa Mengambil 19 SKS\")\n",
    "        print(\"Anda Berada Grade D\")\n",
    "    else :\n",
    "        print(\"Maaf Anda Harus Mengulang\")"
   ]
  },
  {
   "cell_type": "code",
   "execution_count": null,
   "id": "99465415",
   "metadata": {},
   "outputs": [],
   "source": [
    "a = int(input(\"Masukkan Angka : \"))\n",
    "\n",
    "for i in range (0,a) :\n",
    "    for j in range (0,i+1):\n",
    "        print(\"*\",end=\"\")\n",
    "    print(\"\")"
   ]
  },
  {
   "cell_type": "code",
   "execution_count": 20,
   "id": "16eb1023",
   "metadata": {},
   "outputs": [
    {
     "name": "stdout",
     "output_type": "stream",
     "text": [
      "Masukkan Gender (L/P) : 111\n",
      "Apakah Anda Berkacamata ? (Y/T) : \n",
      "Anda Memasukkan Input Yang Salah\n"
     ]
    }
   ],
   "source": [
    "A = input(\"Masukkan Gender (L/P) : \")\n",
    "B = input(\"Apakah Anda Berkacamata ? (Y/T) : \")\n",
    "\n",
    "if A == \"L\":\n",
    "    if B == \"Y\":\n",
    "        print(\"Anda Laki-Laki Berkacamata\")\n",
    "    else :\n",
    "        print(\"Anda Laki-Laki Tidak Berkacamata\")\n",
    "elif A == \"P\":\n",
    "    if B == \"Y\":\n",
    "        print(\"Anda Perempuan Berkacamata\")\n",
    "    else :\n",
    "        print(\"Anda Perempuan Tidak Berkacamata\")\n",
    "else :\n",
    "    print(\"Anda Memasukkan Input Yang Salah\")"
   ]
  },
  {
   "cell_type": "code",
   "execution_count": 17,
   "id": "d828dbae",
   "metadata": {},
   "outputs": [
    {
     "name": "stdout",
     "output_type": "stream",
     "text": [
      "Masukkan Angka Pertama : 10\n",
      "Apakah Angaka Kedua : 5\n",
      "Hasil 10 - 5 adalah 5\n",
      "Hasil Merupakn Bilangan Ganjil dan Bilangan Positif\n"
     ]
    }
   ],
   "source": [
    "A = int(input(\"Masukkan Angka Pertama : \"))\n",
    "B = int(input(\"Apakah Angaka Kedua : \"))\n",
    "\n",
    "C = A - B\n",
    "print(\"Hasil\", A, \"-\", B, \"adalah\", C )\n",
    "\n",
    "if C %2 == 0 :\n",
    "    if C < 0 :\n",
    "        print(\"Hasil Merupakan Bilangan Genap dan Bilangan Negatif\")\n",
    "    else :\n",
    "        print(\"Hasil Merupakn Bilangan Genap dan Bilangan Positif\")\n",
    "else :\n",
    "    if C < 0 :\n",
    "        print(\"Hasil Merupakan Bilangan Ganjil dan Bilangan Negatif\")\n",
    "    else :\n",
    "        print(\"Hasil Merupakn Bilangan Ganjil\n",
    "              dan Bilangan Positif\")"
   ]
  },
  {
   "cell_type": "code",
   "execution_count": null,
   "id": "b92f7ed9",
   "metadata": {},
   "outputs": [],
   "source": []
  }
 ],
 "metadata": {
  "kernelspec": {
   "display_name": "Python 3",
   "language": "python",
   "name": "python3"
  },
  "language_info": {
   "codemirror_mode": {
    "name": "ipython",
    "version": 3
   },
   "file_extension": ".py",
   "mimetype": "text/x-python",
   "name": "python",
   "nbconvert_exporter": "python",
   "pygments_lexer": "ipython3",
   "version": "3.8.8"
  }
 },
 "nbformat": 4,
 "nbformat_minor": 5
}

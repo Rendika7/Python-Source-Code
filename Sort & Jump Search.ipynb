{
 "cells": [
  {
   "cell_type": "code",
   "execution_count": 29,
   "id": "6cc3b453",
   "metadata": {},
   "outputs": [
    {
     "data": {
      "text/plain": [
       "'Data Tidak Ditemukan 3'"
      ]
     },
     "execution_count": 29,
     "metadata": {},
     "output_type": "execute_result"
    }
   ],
   "source": [
    "# Python3 code to implement Jump Search\n",
    "import math\n",
    " \n",
    "def jumpSearch( arr , x , n ):\n",
    "     \n",
    "    # Finding block size to be jumped\n",
    "    step = math.sqrt(n)\n",
    "     \n",
    "    # Finding the block where element is\n",
    "    # present (if it is present)\n",
    "    prev = 0\n",
    "    while arr[int(min(step, n)-1)] < x:\n",
    "        prev = step\n",
    "        step += math.sqrt(n)\n",
    "        if prev >= n:\n",
    "            return \"Data Tdiak Ditemukan 1\"\n",
    "     \n",
    "    # Doing a linear search for x in\n",
    "    # block beginning with prev.\n",
    "    while arr[int(prev)] < x:\n",
    "        prev += 1\n",
    "         \n",
    "        # If we reached next block or end\n",
    "        # of array, element is not present.\n",
    "        if prev == min(step, n):\n",
    "            return \"Data Tidak Ditemukan 2\"\n",
    "     \n",
    "    # If element is found\n",
    "    if arr[int(prev)] == x:\n",
    "        return \"Data ditemukan\"\n",
    "     \n",
    "    return \"Data Tidak Ditemukan 3\"\n",
    "\n",
    "List = [1,2,3,5,6,7,8,9,10,11,12,13]\n",
    "Cari = 4\n",
    "n = len(List)\n",
    "\n",
    "jumpSearch(List, Cari, n)"
   ]
  },
  {
   "cell_type": "code",
   "execution_count": 8,
   "id": "67f8d9a7",
   "metadata": {},
   "outputs": [
    {
     "name": "stdout",
     "output_type": "stream",
     "text": [
      "[2, 5, 6, 6, 7, 10, 11, 12, 12, 13, 13, 15, 16, 18, 19, 19, 20, 20, 21, 21, 22, 22, 22, 22, 24, 24, 24, 25, 32, 32, 36, 37, 37, 43, 45, 47, 48, 48, 50, 51, 52, 54, 54, 55, 55, 55, 56, 56, 56, 57, 58, 58, 61, 62, 62, 63, 63, 64, 64, 64, 66, 66, 66, 68, 68, 68, 69, 70, 71, 73, 73, 76, 77, 78, 78, 79, 79, 81, 81, 81, 82, 86, 86, 87, 87, 89, 89, 91, 93, 94, 94, 95, 97, 97, 97, 97, 99, 99, 99, 99]\n",
      "Masukkan angka yang ingin anda cari : 10\n",
      "Angka yang anda cari berada di posisi ke - 6\n"
     ]
    },
    {
     "data": {
      "text/plain": [
       "'Data ditemukan'"
      ]
     },
     "execution_count": 8,
     "metadata": {},
     "output_type": "execute_result"
    }
   ],
   "source": [
    "#quick.sort\n",
    "def urut(data) :\n",
    "  if len(data) <= 1 :\n",
    "    return data\n",
    "\n",
    "  hai = (len(data))/2\n",
    "  hai = int(hai)\n",
    "  pivot = data[hai]\n",
    "  data.remove(pivot)\n",
    "  less = []\n",
    "  greater = []\n",
    "  for num in data :\n",
    "    if num <= pivot :\n",
    "      less.append(num)\n",
    "    else :\n",
    "      greater.append(num)\n",
    "  return (urut(less) + [pivot] + urut(greater))\n",
    "\n",
    "\n",
    "#------------------------------------------------------------------------------------------------------\n",
    "\n",
    "\n",
    "# Python3 code to implement Jump Search\n",
    "import math\n",
    " \n",
    "def JumpSearch( arr , x , n ):\n",
    "     \n",
    "    # Finding block size to be jumped\n",
    "    step = math.sqrt(n)\n",
    "     \n",
    "    # Finding the block where element is\n",
    "    # present (if it is present)\n",
    "    prev = 0\n",
    "    while arr[int(min(step, n)-1)] < x:\n",
    "        prev = step\n",
    "        step += math.sqrt(n)\n",
    "        if prev >= n:\n",
    "            return \"Data Tdiak Ditemukan\"\n",
    "     \n",
    "    # Doing a linear search for x in\n",
    "    # block beginning with prev.\n",
    "    while arr[int(prev)] < x:\n",
    "        prev += 1\n",
    "         \n",
    "        # If we reached next block or end\n",
    "        # of array, element is not present.\n",
    "        if prev == min(step, n):\n",
    "            return \"Data Tidak Ditemukan\"\n",
    "     \n",
    "    # If element is found\n",
    "    if arr[int(prev)] == x:\n",
    "        print(\"Angka yang anda cari berada di posisi ke -\",int(prev) + 1)\n",
    "        return \"Data ditemukan\"\n",
    "     \n",
    "    return \"Data Tidak Ditemukan\"\n",
    "\n",
    "\n",
    "#------------------------------------------------------------------------------------------------------\n",
    "\n",
    "\n",
    "import random\n",
    "\n",
    "List=[]\n",
    "for i in range (100) :\n",
    "    bil = random.randint(0,100)\n",
    "    List.append(bil)\n",
    "    \n",
    "Terurut = urut(List)\n",
    "print(Terurut)\n",
    "Cari = int(input(\"Masukkan angka yang ingin anda cari : \"))\n",
    "Interval = len(Terurut)\n",
    "\n",
    "JumpSearch( Terurut , Cari , Interval )"
   ]
  },
  {
   "cell_type": "code",
   "execution_count": 1,
   "id": "b7c9fbe6",
   "metadata": {},
   "outputs": [
    {
     "data": {
      "text/plain": [
       "[2, 4, 5, 5, 6, 7, 8, 9, 9]"
      ]
     },
     "execution_count": 1,
     "metadata": {},
     "output_type": "execute_result"
    }
   ],
   "source": [
    "#quick.sort\n",
    "def urut(data) :\n",
    "  if len(data) <= 1 :\n",
    "    return data\n",
    "\n",
    "  hai = (len(data))/2\n",
    "  hai = int(hai)\n",
    "  pivot = data[hai]\n",
    "  data.remove(pivot)\n",
    "  less = []\n",
    "  greater = []\n",
    "  for num in data :\n",
    "    if num <= pivot :\n",
    "      less.append(num)\n",
    "    else :\n",
    "      greater.append(num)\n",
    "  return (urut(less) + [pivot] + urut(greater))\n",
    "\n",
    "List = [5,7,8,9,6,4,2,5,9] \n",
    "\n",
    "urut(List)"
   ]
  },
  {
   "cell_type": "code",
   "execution_count": null,
   "id": "876b27ff",
   "metadata": {},
   "outputs": [],
   "source": []
  }
 ],
 "metadata": {
  "kernelspec": {
   "display_name": "Python 3",
   "language": "python",
   "name": "python3"
  },
  "language_info": {
   "codemirror_mode": {
    "name": "ipython",
    "version": 3
   },
   "file_extension": ".py",
   "mimetype": "text/x-python",
   "name": "python",
   "nbconvert_exporter": "python",
   "pygments_lexer": "ipython3",
   "version": "3.8.8"
  }
 },
 "nbformat": 4,
 "nbformat_minor": 5
}

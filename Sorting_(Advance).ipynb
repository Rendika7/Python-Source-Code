{
  "nbformat": 4,
  "nbformat_minor": 0,
  "metadata": {
    "colab": {
      "provenance": [],
      "collapsed_sections": []
    },
    "kernelspec": {
      "name": "python3",
      "display_name": "Python 3"
    },
    "language_info": {
      "name": "python"
    }
  },
  "cells": [
    {
      "cell_type": "code",
      "execution_count": null,
      "metadata": {
        "colab": {
          "base_uri": "https://localhost:8080/"
        },
        "id": "bb2a34j-Cn0Y",
        "outputId": "7d8371da-1f25-4298-abd1-368f1d385fe1"
      },
      "outputs": [
        {
          "output_type": "stream",
          "name": "stdout",
          "text": [
            "[1, 2, 3, 5, 7]\n"
          ]
        }
      ],
      "source": [
        "def mergeSort(nlist):\n",
        "  if len(nlist)>1:\n",
        "    mid = len(nlist)//2\n",
        "    lefthalf = nlist[:mid]\n",
        "    righthalf = nlist[mid:]\n",
        "    mergeSort(lefthalf)\n",
        "    mergeSort(righthalf)\n",
        "    i=j=k=0\n",
        "    while i<len(lefthalf) and j<len(righthalf):\n",
        "      if lefthalf[i]<righthalf[i]:\n",
        "        nlist[k] = lefthalf[i]\n",
        "        i=i+1\n",
        "      else:\n",
        "        nlist[k]=righthalf[j]\n",
        "        j=j+1\n",
        "      k=k+1\n",
        "    while i < len(lefthalf):\n",
        "      nlist[k]=lefthalf[i]\n",
        "      i = i+1\n",
        "      k = k+1\n",
        "    while j<len(righthalf):\n",
        "      nlist[k]=righthalf[j]\n",
        "      j = j+1\n",
        "      k=k+1\n",
        "\n",
        "nlist=[5,7,3,2,1]\n",
        "mergeSort(nlist)\n",
        "print(nlist)"
      ]
    },
    {
      "cell_type": "code",
      "source": [
        "def partition(arr, low, high):\n",
        "  i = (low-1)\n",
        "  pivot = arr[high]\n",
        "\n",
        "  for j in range(low, high):\n",
        "    if arr[j] <= pivot:\n",
        "      i += 1\n",
        "      arr[i], arr[j] = arr[j], arr[i]\n",
        "  arr[i+1], arr[high] = arr[high], arr[i+1]\n",
        "  return (i+1)\n",
        "\n",
        "def quickSort(arr,low,high):\n",
        "  if len(arr) ==1:\n",
        "    return arr\n",
        "  if low < high:\n",
        "    pi = partition(arr,low,high)\n",
        "    quickSort(arr,low,pi-1)\n",
        "    quickSort(arr,pi+1,high)\n",
        "\n",
        "arr = [10,7,8,9,1,5]\n",
        "n = len(arr)\n",
        "quickSort(arr,0,n-1)\n",
        "print(\"Sorted:\")\n",
        "print(arr)"
      ],
      "metadata": {
        "id": "iLDvXo0xETJy",
        "colab": {
          "base_uri": "https://localhost:8080/"
        },
        "outputId": "ae2f8ee4-81a4-4a2f-eae7-529f986ab604"
      },
      "execution_count": null,
      "outputs": [
        {
          "output_type": "stream",
          "name": "stdout",
          "text": [
            "Sorted:\n",
            "[1, 5, 7, 8, 9, 10]\n"
          ]
        }
      ]
    },
    {
      "cell_type": "code",
      "source": [],
      "metadata": {
        "id": "puv9016RM9KS"
      },
      "execution_count": null,
      "outputs": []
    }
  ]
}
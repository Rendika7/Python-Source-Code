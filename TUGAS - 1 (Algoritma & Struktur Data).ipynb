{
 "cells": [
  {
   "cell_type": "code",
   "execution_count": 1,
   "id": "48c02939",
   "metadata": {},
   "outputs": [
    {
     "name": "stdout",
     "output_type": "stream",
     "text": [
      "[241.8935632 162.3104725 212.7408556 220.0424703 206.3498006 152.2121558\n",
      " 134.6110153 128.446415  137.4745698 143.8408398 124.2630529 125.4670161\n",
      " 107.2247071 149.4134676 155.1331864]\n",
      "['Male' 'Male' 'Male' 'Male' 'Male' 'Male' 'Female' 'Female' 'Female'\n",
      " 'Female' 'Female' 'Female' 'Female' 'Female' 'Female']\n",
      "Total orang dengan tinggi >170 ada 4 Orang\n",
      "206.3498006\n",
      "212.7408556\n",
      "220.0424703\n",
      "241.8935632\n",
      "Total orang dengan tinggi >170 ada 4 orang\n",
      "laki-laki yang memiliki tinggi >170 ada 4 orang\n",
      "perempuan yang memiliki tinggi >170 ada 0 orang\n"
     ]
    }
   ],
   "source": [
    "import pandas as pd\n",
    "import numpy as np\n",
    "datatinggi = {\"Gender\" :[\"Male\",\"Male\",\"Male\",\"Male\",\"Male\",\"Male\",\"Female\",\"Female\",\"Female\",\"Female\",\"Female\",\"Female\",\"Female\",\"Female\",\"Female\",],\n",
    "       \"Weight\" : [73.84701702, 68.78190405, 74.11010539, 71.7309784, 69.88179586, 67.25301569, 64.62329203, 65.23591282, 62.9747851 ,64.72079374, 61.99110332, 63.03448673, 61.72207869, 66.23547229, 64.94853593],\n",
    "       \"Height\" : [241.8935632, 162.3104725, 212.7408556, 220.0424703, 206.3498006, 152.2121558, 134.6110153, 128.446415, 137.4745698, 143.8408398, 124.2630529, 125.4670161, 107.2247071, 149.4134676, 155.1331864]}\n",
    "\n",
    "df = pd.DataFrame(datatinggi)\n",
    "df\n",
    "\n",
    "arr1 = np.array(df['Height'])\n",
    "arr2 = np.array(df['Gender'])\n",
    "print(arr1)\n",
    "print(arr2)\n",
    "\n",
    "#jumlah orang yang tinggi >170 menggunakan binary search\n",
    "def binarysearch(data, target):\n",
    "    arr1.sort()\n",
    "    low = 0\n",
    "    high = len(data) - 1\n",
    "    while low <= high:\n",
    "        mid = (low + high)//2\n",
    "        if target < data[mid]:\n",
    "            high = mid - 1\n",
    "        elif target > data[mid]:\n",
    "            low = mid + 1\n",
    "        else:\n",
    "            return mid\n",
    "tinggi = binarysearch(arr1, 206.3498006)\n",
    "totaltinggi = len(arr1)-tinggi\n",
    "print(\"Total orang dengan tinggi >170 ada\", totaltinggi, \"Orang\")\n",
    "\n",
    "#Menggunakan linear search\n",
    "x = 0\n",
    "c= 0\n",
    "for i in arr1:\n",
    "    if arr1[c] > 170:\n",
    "        print(arr1[c])\n",
    "        x += 1\n",
    "        c += 1\n",
    "    else:\n",
    "        c += 1\n",
    "print(\"Total orang dengan tinggi >170 ada\", x, \"orang\")\n",
    "\n",
    "L = df[(df['Gender'] == 'Male')& (df['Height'] > 170)]\n",
    "L.loc[0:, ['Gender','Height']]\n",
    "\n",
    "ar1 = np.array(df[(df['Gender'] == 'Male') & (df['Height'] > 170)])\n",
    "x = 0\n",
    "for i in ar1:\n",
    "    x +=1\n",
    "print(\"laki-laki yang memiliki tinggi >170 ada\", x, \"orang\")\n",
    "\n",
    "\n",
    "df[(df['Gender'] == 'Female')& (df['Height'] > 170)]\n",
    "ar2 =np.array(df[(df['Gender'] == 'Female') & (df['Height'] > 170)])\n",
    "y = 0\n",
    "for i in ar2:\n",
    "    x +=1\n",
    "print(\"perempuan yang memiliki tinggi >170 ada\", y, \"orang\")"
   ]
  },
  {
   "cell_type": "code",
   "execution_count": 2,
   "id": "ad8de152",
   "metadata": {},
   "outputs": [
    {
     "data": {
      "text/html": [
       "<div>\n",
       "<style scoped>\n",
       "    .dataframe tbody tr th:only-of-type {\n",
       "        vertical-align: middle;\n",
       "    }\n",
       "\n",
       "    .dataframe tbody tr th {\n",
       "        vertical-align: top;\n",
       "    }\n",
       "\n",
       "    .dataframe thead th {\n",
       "        text-align: right;\n",
       "    }\n",
       "</style>\n",
       "<table border=\"1\" class=\"dataframe\">\n",
       "  <thead>\n",
       "    <tr style=\"text-align: right;\">\n",
       "      <th></th>\n",
       "      <th>NIM</th>\n",
       "      <th>Nama</th>\n",
       "      <th>Usia</th>\n",
       "      <th>IPK</th>\n",
       "    </tr>\n",
       "  </thead>\n",
       "  <tbody>\n",
       "    <tr>\n",
       "      <th>0</th>\n",
       "      <td>1206210010</td>\n",
       "      <td>Rizal</td>\n",
       "      <td>18</td>\n",
       "      <td>3.7</td>\n",
       "    </tr>\n",
       "    <tr>\n",
       "      <th>1</th>\n",
       "      <td>1206210009</td>\n",
       "      <td>Halim</td>\n",
       "      <td>18</td>\n",
       "      <td>3.5</td>\n",
       "    </tr>\n",
       "    <tr>\n",
       "      <th>2</th>\n",
       "      <td>1206210012</td>\n",
       "      <td>Senna</td>\n",
       "      <td>18</td>\n",
       "      <td>3.6</td>\n",
       "    </tr>\n",
       "    <tr>\n",
       "      <th>3</th>\n",
       "      <td>1206210011</td>\n",
       "      <td>Rendika</td>\n",
       "      <td>18</td>\n",
       "      <td>3.9</td>\n",
       "    </tr>\n",
       "    <tr>\n",
       "      <th>4</th>\n",
       "      <td>1206210007</td>\n",
       "      <td>Fikri</td>\n",
       "      <td>18</td>\n",
       "      <td>3.8</td>\n",
       "    </tr>\n",
       "  </tbody>\n",
       "</table>\n",
       "</div>"
      ],
      "text/plain": [
       "          NIM     Nama  Usia  IPK\n",
       "0  1206210010    Rizal    18  3.7\n",
       "1  1206210009    Halim    18  3.5\n",
       "2  1206210012    Senna    18  3.6\n",
       "3  1206210011  Rendika    18  3.9\n",
       "4  1206210007    Fikri    18  3.8"
      ]
     },
     "execution_count": 2,
     "metadata": {},
     "output_type": "execute_result"
    }
   ],
   "source": [
    "import pandas as pd\n",
    "import numpy as np\n",
    "data = {'NIM' : [1206210010, 1206210009, 1206210012, 1206210011, 1206210007], \n",
    "        'Nama' : ['Rizal', 'Halim', 'Senna', 'Rendika',  'Fikri'], \n",
    "        'Usia' : [18,18,18,18,18],\n",
    "        'IPK': [3.7, 3.5,3.6,3.9,3.8]}\n",
    "df = pd.DataFrame(data)\n",
    "df"
   ]
  },
  {
   "cell_type": "code",
   "execution_count": 3,
   "id": "b5ce93f3",
   "metadata": {},
   "outputs": [
    {
     "name": "stdout",
     "output_type": "stream",
     "text": [
      "-1\n",
      "Tidak ditemukan\n"
     ]
    }
   ],
   "source": [
    "arr = np.array(df['NIM'])\n",
    "def binary (arr,x):\n",
    "    left = 0\n",
    "    right = len(arr)-1\n",
    "    mid = 0\n",
    "    while left <= right:\n",
    "        mid = (right+left)//2\n",
    "        if arr[mid] < x:\n",
    "            left = mid + 1\n",
    "        elif arr[mid] > x:\n",
    "            right = mid - 1\n",
    "        else:\n",
    "            return mid\n",
    "    return -1\n",
    "x = 1206210007\n",
    "a = binary(arr, x)\n",
    "print(a)\n",
    "if a != -1:\n",
    "    print(df.iloc[a])\n",
    "else:\n",
    "    print(\"Tidak ditemukan\")"
   ]
  },
  {
   "cell_type": "code",
   "execution_count": 4,
   "id": "c338bbc4",
   "metadata": {},
   "outputs": [
    {
     "name": "stdout",
     "output_type": "stream",
     "text": [
      "[1206210010 1206210009 1206210012 1206210011 1206210007]\n"
     ]
    }
   ],
   "source": [
    "print(arr)"
   ]
  },
  {
   "cell_type": "code",
   "execution_count": 5,
   "id": "385ca661",
   "metadata": {},
   "outputs": [
    {
     "name": "stdout",
     "output_type": "stream",
     "text": [
      "NIM     1206210010\n",
      "Nama         Rizal\n",
      "Usia            18\n",
      "IPK            3.7\n",
      "Name: 0, dtype: object\n"
     ]
    }
   ],
   "source": [
    "def linear(array, n, x):\n",
    "    for i in range(0, n):\n",
    "        if (array[i] == x):\n",
    "            return i\n",
    "    return -1\n",
    "\n",
    "x = 1206210010\n",
    "n = len(df)\n",
    "result = linear(arr, n, x)\n",
    "if result != -1:\n",
    "    print(df.iloc[result])\n",
    "else:\n",
    "    print(\"Tidak ditemukan\")"
   ]
  },
  {
   "cell_type": "code",
   "execution_count": 13,
   "id": "8b2ffe2a",
   "metadata": {},
   "outputs": [
    {
     "name": "stdout",
     "output_type": "stream",
     "text": [
      "Tidak ditemukan\n"
     ]
    }
   ],
   "source": [
    "import pandas as pd\n",
    "import numpy as np\n",
    "data = {'NIM' : [1206210011, 1206210009, 1206210012, 1206210007, 1206210010], \n",
    "        'Nama' : ['Rendika', 'Halim', 'Senna', 'Fikri', 'Rizal'], \n",
    "        'Usia' : [18,18,18,18,18],\n",
    "        'IPK': [3.5, 3.5,3.6,3.9,3.8]}\n",
    "df = pd.DataFrame(data)\n",
    "df\n",
    "\n",
    "#----------------------------------------------------------------------------\n",
    "\n",
    "arr = np.array(df['NIM'])\n",
    "def binary (ar, x):\n",
    "    left = 0\n",
    "    right = len(arr)-1\n",
    "    mid = 0\n",
    "    while left <= right:\n",
    "        mid = (right+left)//2\n",
    "        if arr[mid] < x:\n",
    "            left = mid + 1\n",
    "        elif arr[mid] > x:\n",
    "            right = mid - 1\n",
    "        else:\n",
    "            return mid\n",
    "    return -1\n",
    "x = 1206210010\n",
    "a = binary(arr, x)\n",
    "if a != -1:\n",
    "    print(df.iloc[a])\n",
    "else:\n",
    "    print(\"Tidak ditemukan\")\n",
    "\n",
    "#----------------------------------------------------------------------------\n",
    "\n",
    "\n"
   ]
  },
  {
   "cell_type": "code",
   "execution_count": 28,
   "id": "0ba69375",
   "metadata": {},
   "outputs": [
    {
     "ename": "SyntaxError",
     "evalue": "invalid syntax (3693635964.py, line 17)",
     "output_type": "error",
     "traceback": [
      "\u001b[1;36m  Input \u001b[1;32mIn [28]\u001b[1;36m\u001b[0m\n\u001b[1;33m    List.append((%timeit linear(arr, n, x))\u001b[0m\n\u001b[1;37m                 ^\u001b[0m\n\u001b[1;31mSyntaxError\u001b[0m\u001b[1;31m:\u001b[0m invalid syntax\n"
     ]
    }
   ],
   "source": [
    "def linear(array, n, x):\n",
    "    for i in range(0, n):\n",
    "        if (array[i] == x):\n",
    "            return i\n",
    "    return -1\n",
    "\n",
    "x = 1206210011\n",
    "n = len(df)\n",
    "result = linear(arr, n, x)\n",
    "if result != -1:\n",
    "    print(df.iloc[result])\n",
    "else:\n",
    "    print(\"Tidak ditemukan\")\n",
    "    \n",
    "List = []\n",
    "for i in range (11) :\n",
    "    Waktu = %timeit linear(arr, n, x)\n",
    "    List.append(Waktu)\n",
    "print(List)"
   ]
  },
  {
   "cell_type": "code",
   "execution_count": null,
   "id": "a310e0c6",
   "metadata": {},
   "outputs": [],
   "source": []
  }
 ],
 "metadata": {
  "kernelspec": {
   "display_name": "Python 3 (ipykernel)",
   "language": "python",
   "name": "python3"
  },
  "language_info": {
   "codemirror_mode": {
    "name": "ipython",
    "version": 3
   },
   "file_extension": ".py",
   "mimetype": "text/x-python",
   "name": "python",
   "nbconvert_exporter": "python",
   "pygments_lexer": "ipython3",
   "version": "3.8.12"
  }
 },
 "nbformat": 4,
 "nbformat_minor": 5
}

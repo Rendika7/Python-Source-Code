{
 "cells": [
  {
   "cell_type": "code",
   "execution_count": 3,
   "id": "a47d3f64",
   "metadata": {},
   "outputs": [
    {
     "name": "stdout",
     "output_type": "stream",
     "text": [
      "Masukkan angka pertama : 1\n",
      "Masukkan angka kedua : 2\n",
      "Masukkan jumlah suku yang diinginkan : 5\n",
      "1 2 3 5 8 "
     ]
    }
   ],
   "source": [
    "angka1 = int(input(\"Masukkan angka pertama : \"))\n",
    "angka2 = int(input(\"Masukkan angka kedua : \"))\n",
    "n = int(input(\"Masukkan jumlah suku yang diinginkan : \"))\n",
    "\n",
    "for i in range (n) :\n",
    "    print (angka1, end=' ')\n",
    "    Fibo = angka2 + angka1\n",
    "    angka1 = angka2\n",
    "    angka2 = Fibo"
   ]
  },
  {
   "cell_type": "code",
   "execution_count": 2,
   "id": "f301580f",
   "metadata": {},
   "outputs": [
    {
     "name": "stdout",
     "output_type": "stream",
     "text": [
      "Maukan Berapa Pengulangan : 5\n",
      "1 \n",
      "2 3 \n",
      "4 5 6 \n",
      "7 8 9 10 \n",
      "11 12 13 14 15 \n"
     ]
    }
   ],
   "source": [
    "x = int(input(\"Masukkan Berapa Pengulangan : \"))\n",
    "y = 1\n",
    "for i in range(0, x):\n",
    "    for j in range(0, i+1):\n",
    "        print(y, end=\" \")\n",
    "        y = y + 1\n",
    "    print()"
   ]
  }
 ],
 "metadata": {
  "kernelspec": {
   "display_name": "Python 3",
   "language": "python",
   "name": "python3"
  },
  "language_info": {
   "codemirror_mode": {
    "name": "ipython",
    "version": 3
   },
   "file_extension": ".py",
   "mimetype": "text/x-python",
   "name": "python",
   "nbconvert_exporter": "python",
   "pygments_lexer": "ipython3",
   "version": "3.8.8"
  }
 },
 "nbformat": 4,
 "nbformat_minor": 5
}

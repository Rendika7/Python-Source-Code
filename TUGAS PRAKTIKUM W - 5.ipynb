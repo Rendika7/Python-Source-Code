{
 "cells": [
  {
   "cell_type": "markdown",
   "id": "e4587bf2",
   "metadata": {},
   "source": [
    "#Fahrenheit ----------------------------------------------------------------\n",
    "\n",
    "F = (9/5) C + 32\n",
    "\n",
    "Keterangan:\n",
    "\n",
    "F = suhu dalam skala Fahrenheit\n",
    "C = suhu dalam skala Celcius\n",
    "Titik didih Fahrenheit = 212\n",
    "\n",
    "#Reamur --------------------------------------------------------------------\n",
    "\n",
    "Rumus C ke R adalah: R = (4/5) C\n",
    "\n",
    "R = suhu dalam skala Reamur\n",
    "C = suhu dalam skala Celcius\n",
    "Titik didih Reamur = 80"
   ]
  },
  {
   "cell_type": "code",
   "execution_count": 54,
   "id": "84e98ab5",
   "metadata": {},
   "outputs": [
    {
     "name": "stdout",
     "output_type": "stream",
     "text": [
      "Masukkan Suhu Yang diinginkan : 100\n",
      "100 Celcius ke Fahrenheit = 212.0\n",
      "100 Celcius ke Reamur adalah = 80.0\n"
     ]
    }
   ],
   "source": [
    "F = 0 \n",
    "R = 0\n",
    "\n",
    "while(F<212 and R<80):\n",
    "    C = int(input(\"Masukkan Suhu Yang diinginkan : \"))\n",
    "    F = (9/5) * C + 32\n",
    "    R = (4/5) * C\n",
    "    print(C, \"Celcius ke Fahrenheit =\", F)\n",
    "    print(C, \"Celcius ke Reamur adalah =\", R)"
   ]
  },
  {
   "cell_type": "code",
   "execution_count": 56,
   "id": "44ade1ad",
   "metadata": {},
   "outputs": [
    {
     "ename": "SyntaxError",
     "evalue": "unexpected EOF while parsing (<ipython-input-56-9bc7fff7f9da>, line 3)",
     "output_type": "error",
     "traceback": [
      "\u001b[1;36m  File \u001b[1;32m\"<ipython-input-56-9bc7fff7f9da>\"\u001b[1;36m, line \u001b[1;32m3\u001b[0m\n\u001b[1;33m    for number in range (1,Suku+1):\u001b[0m\n\u001b[1;37m                                   ^\u001b[0m\n\u001b[1;31mSyntaxError\u001b[0m\u001b[1;31m:\u001b[0m unexpected EOF while parsing\n"
     ]
    }
   ],
   "source": [
    "Suku = int(input(\"Masukkan Angka : \"))\n",
    "\n",
    "for number in range (1,Suku+1):\n",
    "    print(f\"Total perulagan: {hitung}\")"
   ]
  },
  {
   "cell_type": "code",
   "execution_count": 57,
   "id": "bcf7d68d",
   "metadata": {},
   "outputs": [
    {
     "name": "stdout",
     "output_type": "stream",
     "text": [
      "Masukkan Suhu Yang diinginkan : 50\n"
     ]
    },
    {
     "ename": "NameError",
     "evalue": "name 'f' is not defined",
     "output_type": "error",
     "traceback": [
      "\u001b[1;31m---------------------------------------------------------------------------\u001b[0m",
      "\u001b[1;31mNameError\u001b[0m                                 Traceback (most recent call last)",
      "\u001b[1;32m<ipython-input-57-84f9f4c19e51>\u001b[0m in \u001b[0;36m<module>\u001b[1;34m\u001b[0m\n\u001b[0;32m      7\u001b[0m     \u001b[0mprint\u001b[0m\u001b[1;33m(\u001b[0m\u001b[0mC\u001b[0m\u001b[1;33m,\u001b[0m \u001b[1;34m\"Celcius ke Reamur adalah =\"\u001b[0m\u001b[1;33m,\u001b[0m \u001b[0mR\u001b[0m\u001b[1;33m)\u001b[0m\u001b[1;33m\u001b[0m\u001b[1;33m\u001b[0m\u001b[0m\n\u001b[0;32m      8\u001b[0m \u001b[1;33m\u001b[0m\u001b[0m\n\u001b[1;32m----> 9\u001b[1;33m \u001b[1;32mwhile\u001b[0m\u001b[1;33m(\u001b[0m\u001b[0mf\u001b[0m \u001b[1;33m<\u001b[0m \u001b[1;36m212\u001b[0m \u001b[1;32mand\u001b[0m \u001b[0mr\u001b[0m \u001b[1;33m<\u001b[0m \u001b[1;36m80\u001b[0m\u001b[1;33m)\u001b[0m\u001b[1;33m:\u001b[0m\u001b[1;33m\u001b[0m\u001b[1;33m\u001b[0m\u001b[0m\n\u001b[0m\u001b[0;32m     10\u001b[0m     \u001b[0mC\u001b[0m \u001b[1;33m=\u001b[0m \u001b[0mint\u001b[0m\u001b[1;33m(\u001b[0m\u001b[0minput\u001b[0m\u001b[1;33m(\u001b[0m\u001b[1;34m\"Masukkan Suhu Yang diinginkan : \"\u001b[0m\u001b[1;33m)\u001b[0m\u001b[1;33m)\u001b[0m\u001b[1;33m\u001b[0m\u001b[1;33m\u001b[0m\u001b[0m\n\u001b[0;32m     11\u001b[0m     \u001b[0mF\u001b[0m \u001b[1;33m=\u001b[0m \u001b[1;33m(\u001b[0m\u001b[1;36m9\u001b[0m\u001b[1;33m/\u001b[0m\u001b[1;36m5\u001b[0m\u001b[1;33m)\u001b[0m \u001b[1;33m*\u001b[0m \u001b[0mC\u001b[0m \u001b[1;33m+\u001b[0m \u001b[1;36m32\u001b[0m\u001b[1;33m\u001b[0m\u001b[1;33m\u001b[0m\u001b[0m\n",
      "\u001b[1;31mNameError\u001b[0m: name 'f' is not defined"
     ]
    }
   ],
   "source": [
    "C = int(input(\"Masukkan Suhu Yang diinginkan : \"))\n",
    "\n",
    "    F = (9/5) * C + 32\n",
    "    print(C, \"Celcius ke Fahrenheit =\", F)\n",
    "    R = (4/5) * C\n",
    "    print(C, \"Celcius ke Reamur adalah =\", R)\n",
    "\n",
    "while(f < 212 and r < 80):\n",
    "    C = int(input(\"Masukkan Suhu Yang diinginkan : \"))\n",
    "    F = (9/5) * C + 32\n",
    "    R = (4/5) * C\n",
    "    print(C, \"Celcius ke Fahrenheit =\", F)\n",
    "    print(C, \"Celcius ke Reamur adalah =\", R)"
   ]
  },
  {
   "cell_type": "code",
   "execution_count": null,
   "id": "d20f393a",
   "metadata": {},
   "outputs": [],
   "source": [
    "jawab = 'ya'\n",
    "hitung = 0\n",
    "\n",
    "while(jawab == 'ya'):\n",
    "    C = int(input(\"Masukkan Suhu Yang diinginkan : \"))\n",
    "    F = (9/5) * C + 32\n",
    "    R = (4/5) * C\n",
    "    print(C, \"Celcius ke Fahrenheit =\", F)\n",
    "    print(C, \"Celcius ke Reamur adalah =\", R)\n",
    "    jawab = input(\"Ulang lagi tidak? \")\n",
    "    hitung +=1\n",
    "print(f\"Total perulagan: {hitung}\")"
   ]
  }
 ],
 "metadata": {
  "kernelspec": {
   "display_name": "Python 3",
   "language": "python",
   "name": "python3"
  },
  "language_info": {
   "codemirror_mode": {
    "name": "ipython",
    "version": 3
   },
   "file_extension": ".py",
   "mimetype": "text/x-python",
   "name": "python",
   "nbconvert_exporter": "python",
   "pygments_lexer": "ipython3",
   "version": "3.8.8"
  }
 },
 "nbformat": 4,
 "nbformat_minor": 5
}

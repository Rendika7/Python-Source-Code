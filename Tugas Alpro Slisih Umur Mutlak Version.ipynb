{
 "cells": [
  {
   "cell_type": "code",
   "execution_count": null,
   "id": "89cb4928",
   "metadata": {},
   "outputs": [],
   "source": [
    "Nama_1 = input('Masukkan Nama Orang 1 : ')\n",
    "Umur_1 = int(input('Masukkan Umur Orang 1 : '))\n",
    "Nama_2 = input('Masukkan Nama Orang 2 : ')\n",
    "Umur_2 = int(input('Masukkan Umur Orang 2 : '))\n",
    "Selisih = Umur_1 - Umur_2\n",
    "print (\"Selisih umur\", Nama_1,\"dan\", Nama_2, \"adalah \",abs (Selisih))"
   ]
  },
  {
   "cell_type": "code",
   "execution_count": null,
   "id": "96dc9dee",
   "metadata": {},
   "outputs": [],
   "source": []
  }
 ],
 "metadata": {
  "kernelspec": {
   "display_name": "Python 3",
   "language": "python",
   "name": "python3"
  },
  "language_info": {
   "codemirror_mode": {
    "name": "ipython",
    "version": 3
   },
   "file_extension": ".py",
   "mimetype": "text/x-python",
   "name": "python",
   "nbconvert_exporter": "python",
   "pygments_lexer": "ipython3",
   "version": "3.8.8"
  }
 },
 "nbformat": 4,
 "nbformat_minor": 5
}

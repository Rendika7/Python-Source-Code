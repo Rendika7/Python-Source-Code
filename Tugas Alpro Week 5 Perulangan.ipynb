{
 "cells": [
  {
   "cell_type": "code",
   "execution_count": 14,
   "id": "dae78bd7",
   "metadata": {},
   "outputs": [
    {
     "name": "stdout",
     "output_type": "stream",
     "text": [
      "Masukkan panjang deret:5\n",
      "[0, 1, 1, 2, 3]\n"
     ]
    }
   ],
   "source": [
    "def fibonacci (n):\n",
    "  if n < 1:\n",
    "    return [n]\n",
    "\n",
    "  listSebelumN = fibonacci(n - 1)\n",
    "  angka1 = listSebelumN[-2] if len(listSebelumN) > 2 else 0\n",
    "  angka2 = listSebelumN[-1] if len(listSebelumN) > 2 else 1\n",
    "\n",
    "  return listSebelumN + [angka1 + angka2]\n",
    "\n",
    "panjang = int(input('Masukkan panjang deret:'))\n",
    "\n",
    "# kita kurangin satu agar tidak kelebihan :D\n",
    "print(fibonacci(panjang - 1))"
   ]
  },
  {
   "cell_type": "code",
   "execution_count": 2,
   "id": "c327a8f2",
   "metadata": {},
   "outputs": [
    {
     "name": "stdout",
     "output_type": "stream",
     "text": [
      "masukan banyaknya bilangan: 5\n",
      "[0, 1, 1, 2, 3]\n",
      "Deret fibonacci dengan banyak bilangan 5 adalah:\n",
      "0, 1, 1, 2, 3\n"
     ]
    }
   ],
   "source": [
    "banyak_bilangan = int(input('masukan banyaknya bilangan: '))\n",
    "count = 0\n",
    "n1 = 0\n",
    "n2 = 1\n",
    " \n",
    "list_fibonacci = []\n",
    "while count < banyak_bilangan:\n",
    "   list_fibonacci.append(n1)\n",
    "   bilangan_terakhir = n1 + n2\n",
    "   n1 = n2\n",
    "   n2 = bilangan_terakhir\n",
    "   count += 1\n",
    "   \n",
    "print(list_fibonacci)\n",
    " \n",
    "daftar_string = [str(angka) for angka in list_fibonacci]\n",
    "deret_string = ', '.join(daftar_string)\n",
    "print('Deret fibonacci dengan banyak bilangan {} adalah:\\n{}'. format(banyak_bilangan, ', '.join(daftar_string)))\n"
   ]
  }
 ],
 "metadata": {
  "kernelspec": {
   "display_name": "Python 3",
   "language": "python",
   "name": "python3"
  },
  "language_info": {
   "codemirror_mode": {
    "name": "ipython",
    "version": 3
   },
   "file_extension": ".py",
   "mimetype": "text/x-python",
   "name": "python",
   "nbconvert_exporter": "python",
   "pygments_lexer": "ipython3",
   "version": "3.8.8"
  }
 },
 "nbformat": 4,
 "nbformat_minor": 5
}

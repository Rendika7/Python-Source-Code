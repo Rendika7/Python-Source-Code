{
 "cells": [
  {
   "cell_type": "code",
   "execution_count": 5,
   "id": "50c9e558",
   "metadata": {},
   "outputs": [
    {
     "name": "stdout",
     "output_type": "stream",
     "text": [
      "{'a', 'i', 'k', 'e', 'R', 'n', 'd'}\n"
     ]
    }
   ],
   "source": [
    "SET1 = set(\"Rendika\")\n",
    "print(SET1)"
   ]
  },
  {
   "cell_type": "code",
   "execution_count": 18,
   "id": "e290d9e2",
   "metadata": {},
   "outputs": [
    {
     "name": "stdout",
     "output_type": "stream",
     "text": [
      "{2, 3, 10, 45, 78, 21, 54, 89}\n"
     ]
    }
   ],
   "source": [
    "SET2 = set([10,21,3,45,2,78,54,89])\n",
    "print(SET2)"
   ]
  },
  {
   "cell_type": "code",
   "execution_count": 26,
   "id": "0df58db9",
   "metadata": {},
   "outputs": [],
   "source": [
    "SET3 = SET1 and SET2"
   ]
  },
  {
   "cell_type": "code",
   "execution_count": 38,
   "id": "ff8cc500",
   "metadata": {},
   "outputs": [
    {
     "name": "stdout",
     "output_type": "stream",
     "text": [
      "<class 'set'>\n",
      "{1, 50, 99, 53, 23, 10, 45}\n"
     ]
    },
    {
     "data": {
      "text/plain": [
       "set"
      ]
     },
     "execution_count": 38,
     "metadata": {},
     "output_type": "execute_result"
    }
   ],
   "source": [
    "SET_COBA = set([99,10,23,53,45,1,53,50])\n",
    "print(type(SET_COBA))\n",
    "print(set(SET_COBA))\n",
    "type(SET_COBA)"
   ]
  },
  {
   "cell_type": "code",
   "execution_count": 28,
   "id": "0abb0d71",
   "metadata": {},
   "outputs": [
    {
     "name": "stdout",
     "output_type": "stream",
     "text": [
      "{65, 2, 3, 10, 45, 78, 84, 21, 54, 89}\n"
     ]
    }
   ],
   "source": [
    "SET3.update([10,45,84,65])\n",
    "print(SET3)"
   ]
  },
  {
   "cell_type": "code",
   "execution_count": 32,
   "id": "69b3917f",
   "metadata": {},
   "outputs": [
    {
     "name": "stdout",
     "output_type": "stream",
     "text": [
      "{65, 2, 3, 10, 12, 78, 84, 21, 20, 89, 32, 35, 41, 45, 54}\n"
     ]
    }
   ],
   "source": [
    "SET4 = set([10,20,32,41,12,35])\n",
    "SET3.update(SET4)\n",
    "\n",
    "print(SET3)"
   ]
  },
  {
   "cell_type": "code",
   "execution_count": 48,
   "id": "e88e9dfa",
   "metadata": {},
   "outputs": [
    {
     "name": "stdout",
     "output_type": "stream",
     "text": [
      "None\n"
     ]
    }
   ],
   "source": [
    "LIST_MULTIDIMENSI = [\n",
    "[\"Rendika\",\"Naruto\"],\n",
    "[\"Nurhartanto\",\"Sasuke\"],\n",
    "[\"Suharto\",\"Sakura\"],\n",
    "]\n",
    "LIST_MULTIDIMENSI_2 = LIST_MULTIDIMENSI.append(SET3)\n",
    "print(LIST_MULTIDIMENSI_2)"
   ]
  },
  {
   "cell_type": "code",
   "execution_count": 75,
   "id": "1998aad0",
   "metadata": {},
   "outputs": [
    {
     "name": "stdout",
     "output_type": "stream",
     "text": [
      "2.931818181818182\n",
      "5.23943661971831\n",
      "19.6\n",
      "13.793103448275858\n",
      "20.851063829787247\n",
      "17.538461538461533\n"
     ]
    }
   ],
   "source": [
    "y = [0.01,1.3,5.02,10.9,18.9,28.7,40.1]\n",
    "t = [0.05,0.49,1.2,1.5,2.08,2.55,3.2]\n",
    "\n",
    "Panjang = len(y) - 1\n",
    "\n",
    "for i in range(Panjang):\n",
    "    Vi = (y[i] - y[i+1])/(t[i]-t[i+1])\n",
    "    print(Vi)"
   ]
  },
  {
   "cell_type": "code",
   "execution_count": 7,
   "id": "8b9d05d0",
   "metadata": {},
   "outputs": [
    {
     "name": "stdout",
     "output_type": "stream",
     "text": [
      " 2 4\n",
      " 8 12\n",
      " 6 18\n",
      "[[1 4 3]\n",
      " [2 6 9]]\n"
     ]
    }
   ],
   "source": [
    "import numpy as np\n",
    "\n",
    "x = [[1,2],[4,6],[3,9]]\n",
    "\n",
    "for baris in x :\n",
    "    for nilai in baris :\n",
    "        print(\"\", nilai*2,end=\"\")\n",
    "    print(\"\")\n",
    "    \n",
    "Transpose = np.transpose(x)\n",
    "print(Transpose)"
   ]
  },
  {
   "cell_type": "code",
   "execution_count": 1,
   "id": "cf348c28",
   "metadata": {},
   "outputs": [
    {
     "name": "stdout",
     "output_type": "stream",
     "text": [
      "[12, 4, 3]\n",
      "[7, 5, 8]\n"
     ]
    }
   ],
   "source": [
    "# Program to transpose a matrix using a nested loop\n",
    "\n",
    "X = [[12,7],\n",
    "    [4 ,5],\n",
    "    [3 ,8]]\n",
    "\n",
    "result = [[0,0,0],\n",
    "         [0,0,0]]\n",
    "\n",
    "# iterate through rows\n",
    "for i in range(len(X)):\n",
    "   # iterate through columns\n",
    "   for j in range(len(X[0])):\n",
    "       result[j][i] = X[i][j]\n",
    "\n",
    "for r in result:\n",
    "   print(r)\n"
   ]
  },
  {
   "cell_type": "code",
   "execution_count": 8,
   "id": "eaf3756b",
   "metadata": {},
   "outputs": [
    {
     "name": "stdout",
     "output_type": "stream",
     "text": [
      "[[0. 0. 0.]\n",
      " [0. 0. 0.]]\n",
      "Matriks A\n",
      "[[1. 2.]\n",
      " [3. 4.]\n",
      " [5. 6.]]\n",
      "\n",
      "Matriks A Transpose\n",
      "[[1. 3. 5.]\n",
      " [2. 4. 6.]]\n"
     ]
    }
   ],
   "source": [
    "from numpy import*\n",
    "\n",
    "A = array([[1.,2.],\\\n",
    "         [3.,4.],\\\n",
    "         [5.,6.]])\n",
    "\n",
    "n,m=3,2\n",
    "\n",
    "At = zeros ((m,n))\n",
    "print (At)\n",
    "for i in range (0,m):\n",
    "    for j in range (0,n):\n",
    "        At[i][j]=A[j][i]\n",
    "\n",
    "print('Matriks A')\n",
    "print(A)\n",
    "print()\n",
    "\n",
    "print('Matriks A Transpose')\n",
    "print (At)"
   ]
  },
  {
   "cell_type": "code",
   "execution_count": 43,
   "id": "dcfb1f34",
   "metadata": {},
   "outputs": [
    {
     "name": "stdout",
     "output_type": "stream",
     "text": [
      "MASUKKAN PANJANG LIST : 3\n",
      "Masukkan Angka Untuk Baris Dari List Anda : 1\n",
      "Masukkan Angka Untuk Baris Dari List Anda : 23\n",
      "Masukkan Angka Untuk Baris Dari List Anda : 4\n",
      "[1, 23, 4]\n"
     ]
    }
   ],
   "source": [
    "#input User ke List\n",
    "\n",
    "LIST = []\n",
    "        \n",
    "Kolom = int(input(\"MASUKKAN PANJANG LIST : \"))\n",
    "for i in range(Kolom):\n",
    "    LIST.append(int(input(\"Masukkan Angka Untuk Kolom Dari List Anda : \")))\n",
    "print(LIST)"
   ]
  },
  {
   "cell_type": "code",
   "execution_count": 63,
   "id": "25158cfc",
   "metadata": {},
   "outputs": [
    {
     "name": "stdout",
     "output_type": "stream",
     "text": [
      "Masukkan Baris : 3\n",
      "Masukkan Baris : 2\n",
      "[[0. 0.]\n",
      " [0. 0.]\n",
      " [0. 0.]]\n"
     ]
    }
   ],
   "source": [
    "from numpy import*\n",
    "\n",
    "m = int(input(\"Masukkan Baris : \"))\n",
    "n = int(input(\"Masukkan Baris : \"))\n",
    "At = zeros ((m,n))\n",
    "print (At)"
   ]
  },
  {
   "cell_type": "code",
   "execution_count": 15,
   "id": "f3e35c99",
   "metadata": {},
   "outputs": [
    {
     "name": "stdout",
     "output_type": "stream",
     "text": [
      "Masukkan banyak Baris : 3\n",
      "Masukkan banyak Kolom : 2\n",
      "Masukkan angka untuk 0 0 : 1\n",
      "Masukkan angka untuk 0 1 : 2\n",
      "\n",
      "Masukkan angka untuk 1 0 : 4\n",
      "Masukkan angka untuk 1 1 : 5\n",
      "\n",
      "Masukkan angka untuk 2 0 : 7\n",
      "Masukkan angka untuk 2 1 : 8\n",
      "\n",
      "[[1, 2], [4, 5], [7, 8]]\n",
      "1 2 \n",
      "4 5 \n",
      "7 8 \n"
     ]
    }
   ],
   "source": [
    "a = int(input(\"Masukkan banyak Baris : \"))\n",
    "b = int(input(\"Masukkan banyak Kolom : \"))\n",
    "\n",
    "Matrix = []\n",
    "\n",
    "for i in range(a) :\n",
    "    c = []\n",
    "    for j in range (b) :\n",
    "        j = int(input(\"Masukkan angka untuk \"+str(i)+\" \"+str(j)+\" : \"))\n",
    "        c.append(j)\n",
    "    print()\n",
    "    Matrix.append(c)\n",
    "\n",
    "print(Matrix)\n",
    "\n",
    "for i in range (a) :\n",
    "    for j in range (b) :\n",
    "        print(Matrix[i][j], end = \" \")\n",
    "    print()"
   ]
  },
  {
   "cell_type": "code",
   "execution_count": 3,
   "id": "3fd0182b",
   "metadata": {},
   "outputs": [
    {
     "name": "stdout",
     "output_type": "stream",
     "text": [
      "Masukkan Banyak Baris : 2\n",
      "Masukkan Banyak Kolom : 2\n",
      "Masukkan Angka |Baris,Kolom| (0,0) : 1\n",
      "Masukkan Angka |Baris,Kolom| (0,1) : 2\n",
      "Masukkan Angka |Baris,Kolom| (1,0) : 4\n",
      "Masukkan Angka |Baris,Kolom| (1,1) : 5\n",
      "1  2  \n",
      "4  5  \n"
     ]
    }
   ],
   "source": [
    "Matrix = []\n",
    "Baris = int(input(\"Masukkan Banyak Baris : \"))\n",
    "Kolom = int(input(\"Masukkan Banyak Kolom : \"))\n",
    "\n",
    "for i in range (Baris) :\n",
    "    New = []\n",
    "    for y in range (Kolom) :\n",
    "        New.append(int(input(\"Masukkan Angka |Baris,Kolom| (\"+str(i)+\",\"+str(y)+\") : \")))\n",
    "    Matrix.extend([New])\n",
    "    \n",
    "for a in Matrix :\n",
    "    for b in a :\n",
    "        print(b, end=\"  \")\n",
    "    print(\"\")"
   ]
  },
  {
   "cell_type": "code",
   "execution_count": 3,
   "id": "5200dd62",
   "metadata": {},
   "outputs": [
    {
     "name": "stdout",
     "output_type": "stream",
     "text": [
      "Masukkan jumlah dimensi [baris] : 3\n",
      "Masukkan jumlah dimensi [kolom] : 2\n",
      "\n",
      " 3 X 2\n",
      "Masukkan Nilai : 1\n",
      "Masukkan Nilai : 2\n",
      "Masukkan Nilai : 3\n",
      "Masukkan Nilai : 4\n",
      "Masukkan Nilai : 5\n",
      "Masukkan Nilai : 6\n",
      "[[1, 2], [3, 4], [5, 6]]\n"
     ]
    }
   ],
   "source": [
    "m=[] #variable matrix\n",
    "\n",
    "b=int(input(\"Masukkan jumlah dimensi [baris] : \")) #baris\n",
    "k=int(input(\"Masukkan jumlah dimensi [kolom] : \")) #kolom\n",
    "\n",
    "print(\"\\n\",b,\"X\",k)\n",
    "\n",
    "for x in range (b):\n",
    "    kons=[]\n",
    "    for y in range (k):\n",
    "        kons.append(int(input(\"Masukkan Nilai : \")))\n",
    "    m.extend([kons])\n",
    "print(m)"
   ]
  },
  {
   "cell_type": "code",
   "execution_count": 23,
   "id": "aad732a8",
   "metadata": {},
   "outputs": [
    {
     "name": "stdout",
     "output_type": "stream",
     "text": [
      "[[[1, 2], [4, 6]], [[1, 2], [4, 6]]]\n"
     ]
    }
   ],
   "source": [
    "t = [[1,2],[4,6]]\n",
    "\n",
    "m = []\n",
    "\n",
    "for x in range (2) :\n",
    "    kons = []\n",
    "    for i in t :\n",
    "        kons.append(i)\n",
    "    m.extend([kons])\n",
    "print(m)"
   ]
  },
  {
   "cell_type": "code",
   "execution_count": 12,
   "id": "a847370b",
   "metadata": {},
   "outputs": [
    {
     "name": "stdout",
     "output_type": "stream",
     "text": [
      " 2 4\n",
      " 8 12\n",
      " 6 18\n"
     ]
    }
   ],
   "source": [
    "x = [[1,2],[4,6],[3,9]]\n",
    "\n",
    "for baris in x :\n",
    "    for nilai in baris :\n",
    "        print(\"\", nilai*2,end=\"\")\n",
    "    print(\"\")"
   ]
  },
  {
   "cell_type": "markdown",
   "id": "01d1fd49",
   "metadata": {},
   "source": [
    "Rendika Nurhartanto Suharto\n",
    "(1206210011)"
   ]
  },
  {
   "cell_type": "code",
   "execution_count": 66,
   "id": "29ad6693",
   "metadata": {},
   "outputs": [
    {
     "name": "stdout",
     "output_type": "stream",
     "text": [
      "[1, 2]\n",
      "[4, 6]\n",
      "[3, 9]\n",
      " \n",
      "[2, 8, 6]\n",
      "[4, 12, 18]\n"
     ]
    }
   ],
   "source": [
    "# Program untuk Transpose Matrix (No User Input)\n",
    "\n",
    "Matrix = [[1,2],\n",
    "          [4,6],\n",
    "          [3,9]]\n",
    "\n",
    "result = [[0,0,0], \n",
    "         [0,0,0]]\n",
    "\n",
    "# iterate(Pengulangan) untuk baris\n",
    "for i in range(len(Matrix)): #ngambil banyaknya matrix |[1,2],[4,6],[3,9]|\n",
    "   # iterate(Pengulangan) untuk kolom\n",
    "   for j in range(len(Matrix[0])): #ngambil banyaknya Matrix Index Ke-0 |[1,2]|\n",
    "       result[j][i] = 2*Matrix[i][j]\n",
    "\n",
    "for i in Matrix :  #Matrix Biasa\n",
    "    print(i)\n",
    "    \n",
    "print(\" \")\n",
    "\n",
    "for r in result:   #Transpose Matrix\n",
    "   print(r)"
   ]
  },
  {
   "cell_type": "code",
   "execution_count": 21,
   "id": "d6753c3e",
   "metadata": {},
   "outputs": [
    {
     "name": "stdout",
     "output_type": "stream",
     "text": [
      "[1, 2]\n",
      "[4, 6]\n",
      " \n",
      "[1, 4]\n",
      "[2, 6]\n"
     ]
    }
   ],
   "source": [
    "Matrix = [[0,0], \n",
    "         [0,0]]\n",
    "\n",
    "result = [[1,2],\n",
    "          [4,6],]\n",
    "\n",
    "# iterate(Pengulangan) untuk baris\n",
    "for i in range(len(result)): \n",
    "   # iterate(Pengulangan) untuk kolom\n",
    "   for j in range(len(result[0])): \n",
    "       Matrix[i][j] = result[j][i] \n",
    "\n",
    "for i in result :  #Transpose Matrix\n",
    "    print(i)\n",
    "    \n",
    "print(\" \")\n",
    "\n",
    "for r in Matrix:   #Matrix Biasa\n",
    "   print(r)"
   ]
  },
  {
   "cell_type": "code",
   "execution_count": null,
   "id": "a6dabfad",
   "metadata": {},
   "outputs": [],
   "source": [
    "Matrix = []\n",
    "anggota = []\n",
    "\n",
    "B = int(input(\"Masukkan banyak baris yang diinginkan : \"))\n",
    "K = int(input(\"Masukkan banyak kolom yang diinginkan : \"))\n",
    "\n",
    "for i in range (B) :\n",
    "    print(\"Baris ke -\", i+1)\n",
    "    for y in range (K) :\n",
    "        print(\"Masukkan Nilai Kolom ke -\", y+1)\n",
    "        Masuk = int(input())\n",
    "        anggota.append(Masuk)\n",
    "    Matrix.append(anggota)\n",
    "    anggota = []\n",
    "\n",
    "for a in Matrix :\n",
    "    for b in a :\n",
    "        print(b, end=\"  \")\n",
    "    print(\"\")\n",
    "print(\"---------------------\")"
   ]
  }
 ],
 "metadata": {
  "kernelspec": {
   "display_name": "Python 3",
   "language": "python",
   "name": "python3"
  },
  "language_info": {
   "codemirror_mode": {
    "name": "ipython",
    "version": 3
   },
   "file_extension": ".py",
   "mimetype": "text/x-python",
   "name": "python",
   "nbconvert_exporter": "python",
   "pygments_lexer": "ipython3",
   "version": "3.8.8"
  }
 },
 "nbformat": 4,
 "nbformat_minor": 5
}

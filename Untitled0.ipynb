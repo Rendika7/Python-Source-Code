{
  "nbformat": 4,
  "nbformat_minor": 0,
  "metadata": {
    "colab": {
      "provenance": [],
      "collapsed_sections": []
    },
    "kernelspec": {
      "name": "python3",
      "display_name": "Python 3"
    },
    "language_info": {
      "name": "python"
    }
  },
  "cells": [
    {
      "cell_type": "code",
      "metadata": {
        "id": "gvN9PSfBCR7G",
        "colab": {
          "base_uri": "https://localhost:8080/"
        },
        "outputId": "74fc752f-789b-4498-a779-f27201e21645"
      },
      "source": [
        "a = [1,3,4,6,8]\n",
        "res = [el*el for el in a]\n",
        "print(res)"
      ],
      "execution_count": null,
      "outputs": [
        {
          "output_type": "stream",
          "name": "stdout",
          "text": [
            "[1, 9, 16, 36, 64]\n"
          ]
        }
      ]
    },
    {
      "cell_type": "code",
      "metadata": {
        "colab": {
          "base_uri": "https://localhost:8080/"
        },
        "id": "2lSd__3ipjWl",
        "outputId": "9cb3746f-2a33-4c38-f93d-4488a4418c60"
      },
      "source": [
        "a = [1,3,4,6,8]\n",
        "a.append(\"Rendika\")\n",
        "print(a)"
      ],
      "execution_count": null,
      "outputs": [
        {
          "output_type": "stream",
          "name": "stdout",
          "text": [
            "[1, 3, 4, 6, 8, 'Rendika']\n"
          ]
        }
      ]
    },
    {
      "cell_type": "code",
      "metadata": {
        "colab": {
          "base_uri": "https://localhost:8080/"
        },
        "id": "oeaQZ7UIqHqj",
        "outputId": "92fbb738-2661-437d-aed4-66085d510127"
      },
      "source": [
        "print([0]*3)"
      ],
      "execution_count": null,
      "outputs": [
        {
          "output_type": "stream",
          "name": "stdout",
          "text": [
            "[0, 0, 0]\n"
          ]
        }
      ]
    },
    {
      "cell_type": "code",
      "metadata": {
        "colab": {
          "base_uri": "https://localhost:8080/"
        },
        "id": "X7OYeKJKqbT7",
        "outputId": "42488295-77d4-49f9-b2d1-f2480ae27fc4"
      },
      "source": [
        "mydict = {2: 10, 5: 6, 7:100}\n",
        "print(mydict[2])"
      ],
      "execution_count": null,
      "outputs": [
        {
          "output_type": "stream",
          "name": "stdout",
          "text": [
            "10\n"
          ]
        }
      ]
    },
    {
      "cell_type": "code",
      "metadata": {
        "colab": {
          "base_uri": "https://localhost:8080/"
        },
        "id": "ZB-sd4b8qxO7",
        "outputId": "c98af501-7e00-440a-cca3-787b7d86302a"
      },
      "source": [
        "mydict = {26: 4, 5: 6, 7:100}\n",
        "print(mydict.get(2))"
      ],
      "execution_count": null,
      "outputs": [
        {
          "output_type": "stream",
          "name": "stdout",
          "text": [
            "None\n"
          ]
        }
      ]
    },
    {
      "cell_type": "code",
      "metadata": {
        "colab": {
          "base_uri": "https://localhost:8080/"
        },
        "id": "Pw_3D9XerDRt",
        "outputId": "f34be6e1-3af8-4c56-ec5b-dad7ba210109"
      },
      "source": [
        "a = [1,3,4,6,8]\n",
        "sorted(a)"
      ],
      "execution_count": null,
      "outputs": [
        {
          "output_type": "execute_result",
          "data": {
            "text/plain": [
              "[1, 3, 4, 6, 8]"
            ]
          },
          "metadata": {},
          "execution_count": 53
        }
      ]
    },
    {
      "cell_type": "code",
      "metadata": {
        "colab": {
          "base_uri": "https://localhost:8080/"
        },
        "id": "h0QK3_Y7rUXm",
        "outputId": "7006f3ec-3e23-43ef-97b5-41665e343f7e"
      },
      "source": [
        "lambda x : x + 3"
      ],
      "execution_count": null,
      "outputs": [
        {
          "output_type": "execute_result",
          "data": {
            "text/plain": [
              "<function __main__.<lambda>>"
            ]
          },
          "metadata": {},
          "execution_count": 54
        }
      ]
    },
    {
      "cell_type": "code",
      "metadata": {
        "colab": {
          "base_uri": "https://localhost:8080/"
        },
        "id": "kWhYG7EUrbZk",
        "outputId": "7515ed24-8cb6-447e-8c54-8a5e619f8d30"
      },
      "source": [
        "n = 7\n",
        "\n",
        "parity = \"even\" if n%2 == 0 else \"odd\"\n",
        "print(parity)"
      ],
      "execution_count": null,
      "outputs": [
        {
          "output_type": "stream",
          "name": "stdout",
          "text": [
            "odd\n"
          ]
        }
      ]
    },
    {
      "cell_type": "code",
      "metadata": {
        "colab": {
          "base_uri": "https://localhost:8080/"
        },
        "id": "VlNd8MjisIth",
        "outputId": "963dfa95-69ed-4a2d-c03d-be0092c583a6"
      },
      "source": [
        "a = [1,3,4,6,8]\n",
        "\n",
        "print(a[3:])\n",
        "print(a[:3])\n",
        "print(a[3:] + a[:3])"
      ],
      "execution_count": null,
      "outputs": [
        {
          "output_type": "stream",
          "name": "stdout",
          "text": [
            "[6, 8]\n",
            "[1, 3, 4]\n",
            "[6, 8, 1, 3, 4]\n"
          ]
        }
      ]
    },
    {
      "cell_type": "code",
      "metadata": {
        "colab": {
          "base_uri": "https://localhost:8080/"
        },
        "id": "Rjv9A9xQsXUw",
        "outputId": "f9ffc7ae-c3ce-41c5-c36d-408c1534a3ef"
      },
      "source": [
        "n = 3\n",
        "\n",
        "def isSquareNumber(n):\n",
        "  i = 0\n",
        "  while i*i < n :\n",
        "    if i*i == n :\n",
        "      return True\n",
        "    i += 1\n",
        "  return False\n",
        "\n",
        "isSquareNumber(n)"
      ],
      "execution_count": null,
      "outputs": [
        {
          "output_type": "execute_result",
          "data": {
            "text/plain": [
              "False"
            ]
          },
          "metadata": {},
          "execution_count": 66
        }
      ]
    },
    {
      "cell_type": "code",
      "metadata": {
        "id": "C0VpIoz0vlrw",
        "colab": {
          "base_uri": "https://localhost:8080/"
        },
        "outputId": "7cbe6936-df59-42ee-d0b3-c4bdd8fd8929"
      },
      "source": [
        "n = 25\n",
        "\n",
        "def isSquareNumber(n):\n",
        "  i = 0\n",
        "  while i*i <= n :\n",
        "    if i*i == n :\n",
        "      return True\n",
        "    i += 1\n",
        "  return False\n",
        "\n",
        "isSquareNumber(n)"
      ],
      "execution_count": null,
      "outputs": [
        {
          "output_type": "execute_result",
          "data": {
            "text/plain": [
              "True"
            ]
          },
          "metadata": {},
          "execution_count": 67
        }
      ]
    },
    {
      "cell_type": "code",
      "metadata": {
        "id": "Pr_uaPcfwSGH",
        "colab": {
          "base_uri": "https://localhost:8080/"
        },
        "outputId": "5d8289df-8b8c-40ee-8652-9ed122c7aff3"
      },
      "source": [
        "a = [1,3,4,6,8]\n",
        "b = [2,4,3,7,1]\n",
        "\n",
        "res = 0 \n",
        "for i in range(4):\n",
        "  res += a[i]*b[i]\n",
        "print(res)"
      ],
      "execution_count": null,
      "outputs": [
        {
          "output_type": "stream",
          "name": "stdout",
          "text": [
            "68\n"
          ]
        }
      ]
    },
    {
      "cell_type": "code",
      "metadata": {
        "id": "5in0wK0AwYIC",
        "colab": {
          "base_uri": "https://localhost:8080/"
        },
        "outputId": "6bfe14f4-7796-4562-edf1-3f5f81f0f2c5"
      },
      "source": [
        "a = [1,3,4,6,8]\n",
        "b = [2,4,3,7,1]\n",
        "\n",
        "\n",
        "import numpy as np\n",
        "print(np.dot(a,b))"
      ],
      "execution_count": null,
      "outputs": [
        {
          "output_type": "stream",
          "name": "stdout",
          "text": [
            "76\n"
          ]
        }
      ]
    },
    {
      "cell_type": "code",
      "metadata": {
        "id": "raz9WOAcweOb",
        "colab": {
          "base_uri": "https://localhost:8080/"
        },
        "outputId": "f1d67552-6efe-4b75-ac97-caadbb047199"
      },
      "source": [
        "a = [1,3,4,6,8]\n",
        "b = [2,4,3,7,1]\n",
        "\n",
        "\n",
        "import numpy as np\n",
        "print(np.sum(np.array(a)*np.array(b)))"
      ],
      "execution_count": null,
      "outputs": [
        {
          "output_type": "stream",
          "name": "stdout",
          "text": [
            "76\n"
          ]
        }
      ]
    },
    {
      "cell_type": "code",
      "metadata": {
        "colab": {
          "base_uri": "https://localhost:8080/"
        },
        "id": "2sv9imKKyp4T",
        "outputId": "ac43c462-ec15-4324-ec82-a119b66e776a"
      },
      "source": [
        "a = [1,3,4,6,8]\n",
        "b = [2,4,3,7,1]\n",
        "\n",
        "print(sum([x[0]*x[1] for x in zip(a,b)]))"
      ],
      "execution_count": null,
      "outputs": [
        {
          "output_type": "stream",
          "name": "stdout",
          "text": [
            "76\n"
          ]
        }
      ]
    },
    {
      "cell_type": "code",
      "metadata": {
        "id": "U3gVy8Mzy8Wy",
        "colab": {
          "base_uri": "https://localhost:8080/"
        },
        "outputId": "9f72a30f-bccd-4f3c-8d1d-d9ecf7a725d1"
      },
      "source": [
        "x = int(input(\"Masukkan Berapa Pengulangan : \"))\n",
        "y = 1\n",
        "for i in range(0, x):\n",
        "    for j in range(0, i+1):\n",
        "        print(y, end=\" \")\n",
        "        y = y + 1\n",
        "    print()"
      ],
      "execution_count": null,
      "outputs": [
        {
          "output_type": "stream",
          "name": "stdout",
          "text": [
            "Masukkan Berapa Pengulangan : 5\n",
            "1 \n",
            "2 3 \n",
            "4 5 6 \n",
            "7 8 9 10 \n",
            "11 12 13 14 15 \n"
          ]
        }
      ]
    },
    {
      "cell_type": "code",
      "metadata": {
        "colab": {
          "base_uri": "https://localhost:8080/"
        },
        "id": "hix_X7y_09dS",
        "outputId": "c8a3d6e9-eb2b-4b42-81a1-3ed26b67f87e"
      },
      "source": [
        "x = int(input(\"Masukkan Berapa Pengulangan : \"))\n",
        "y = 1\n",
        "for i in range(0, x):\n",
        "  for j in range (0, i+1):\n",
        "    print(y, end=\" ^ \")\n",
        "    y+=1\n",
        "  print(\"+\")"
      ],
      "execution_count": null,
      "outputs": [
        {
          "output_type": "stream",
          "name": "stdout",
          "text": [
            "Masukkan Berapa Pengulangan : 5\n",
            "1 ^ +\n",
            "2 ^ 3 ^ +\n",
            "4 ^ 5 ^ 6 ^ +\n",
            "7 ^ 8 ^ 9 ^ 10 ^ +\n",
            "11 ^ 12 ^ 13 ^ 14 ^ 15 ^ +\n"
          ]
        }
      ]
    },
    {
      "cell_type": "code",
      "metadata": {
        "id": "-RjJzuda10jW"
      },
      "source": [],
      "execution_count": null,
      "outputs": []
    }
  ]
}
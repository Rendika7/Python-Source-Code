{
 "cells": [
  {
   "cell_type": "code",
   "execution_count": null,
   "id": "1cf13e4d",
   "metadata": {},
   "outputs": [],
   "source": [
    "Biodata = {}\n",
    "Ulangi = \"Ya\"\n",
    "\n",
    "while Ulangi == \"Ya\" :\n",
    "    Nama = input(\"Masukkan Nama : \")\n",
    "    NIM = input(\"Masukkan NIM : \")\n",
    "    Biodata.update({Nama : NIM})\n",
    "    Ulangi = input(\"Apakah mau diulangi (Ya/Tidak) : \")\n",
    "\n",
    "for i, j in Biodata.items():\n",
    "  print(\"\\n\" ,\"Nama : \", i, \"\\n\" , \"NIM = \", j)\n"
   ]
  },
  {
   "cell_type": "code",
   "execution_count": null,
   "id": "22b4c5e7",
   "metadata": {},
   "outputs": [],
   "source": [
    "Biodata = {}\n",
    "Ulangi = True\n",
    "\n",
    "while Ulangi == True :\n",
    "    Nama = input(\"Masukkan Nama : \")\n",
    "    NIM = input(\"Masukkan NIM : \")\n",
    "    Biodata.update({Nama : NIM})\n",
    "    Ulangi = input(\"Apakah mau diulangi (Ya/Tidak) : \")\n",
    "    if Ulangi == \"Ya\" :\n",
    "        Ulangi = True\n",
    "    else :\n",
    "        Ulangi = False\n",
    "\n",
    "for i, j in Biodata.items():\n",
    "  print(\"\\n\" ,\"Nama : \", i, \"\\n\" , \"NIM = \", j)\n"
   ]
  },
  {
   "cell_type": "code",
   "execution_count": null,
   "id": "fae71803",
   "metadata": {},
   "outputs": [],
   "source": []
  }
 ],
 "metadata": {
  "kernelspec": {
   "display_name": "Python 3",
   "language": "python",
   "name": "python3"
  },
  "language_info": {
   "codemirror_mode": {
    "name": "ipython",
    "version": 3
   },
   "file_extension": ".py",
   "mimetype": "text/x-python",
   "name": "python",
   "nbconvert_exporter": "python",
   "pygments_lexer": "ipython3",
   "version": "3.8.8"
  }
 },
 "nbformat": 4,
 "nbformat_minor": 5
}

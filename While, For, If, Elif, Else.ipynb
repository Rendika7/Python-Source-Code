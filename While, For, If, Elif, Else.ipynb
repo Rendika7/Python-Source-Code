{
 "cells": [
  {
   "cell_type": "code",
   "execution_count": 8,
   "id": "f4a528ac",
   "metadata": {},
   "outputs": [
    {
     "name": "stdout",
     "output_type": "stream",
     "text": [
      "Masukkan User : ggrr\n",
      "Masukkan Pass : gerg\n",
      "Maaf Password atau User yang anda masukkan SALAH!\n",
      "\n",
      " Try Again \n",
      "\n",
      "Masukkan User : erg\n",
      "Masukkan Pass : egr\n",
      "Maaf Password atau User yang anda masukkan SALAH!\n",
      "\n",
      " Don't forget your account and password, You get last chance for Sign in \n",
      "\n",
      "Masukkan User : ger\n",
      "Masukkan Pass : ge\n",
      "Maaf Password atau User yang anda masukkan SALAH!\n",
      "\n",
      " You are Blocked!!!\n",
      "\n",
      " CHANGE PASSWORD \t SIGN-UP \n",
      "\n",
      "Choose Other Solution For Join : grge\n",
      "\n",
      " Yah syukurin Mas/Mbak udah takdir, wes pulang jangan daftar-daftar lagi\n"
     ]
    }
   ],
   "source": [
    "def Login (User, Pass) :\n",
    "    if User == \"Rendika\" and Pass == \"AkuSayangKamu\" :\n",
    "        print(\"Welcome Rendika\")\n",
    "        return True\n",
    "    else :\n",
    "        print(\"Maaf Password atau User yang anda masukkan SALAH!\")\n",
    "        return False\n",
    "    \n",
    "x = 0\n",
    "perulangan = True\n",
    "\n",
    "while perulangan :\n",
    "    Uname = input(\"Masukkan User : \")\n",
    "    Pw = input(\"Masukkan Pass : \")\n",
    "    if Login (Uname, Pw) :\n",
    "        perulangan = False\n",
    "    else :\n",
    "        x+=1\n",
    "        if x == 3 :\n",
    "            print(\"\\n You are Blocked!!!\")\n",
    "            print(\"\\n CHANGE PASSWORD \\t SIGN-UP \\n\")\n",
    "            Solusi = input(\"Choose Other Solution For Join : \")\n",
    "            break\n",
    "        elif x == 2 :\n",
    "            print(\"\\n Don't forget your account and password, You get last chance for Sign in \\n\")\n",
    "        else :\n",
    "            print(\"\\n Try Again \\n\")\n",
    "if Solusi == \"CHANGE PASSWORD\" :\n",
    "    print(\"Makanya jangan lupa Sandi dan UserName sendiri\")\n",
    "else :\n",
    "    print(\"\\n Yah syukurin Mas/Mbak udah takdir, wes pulang jangan daftar-daftar lagi\")"
   ]
  },
  {
   "cell_type": "code",
   "execution_count": 7,
   "id": "67f6e9e0",
   "metadata": {},
   "outputs": [
    {
     "name": "stdout",
     "output_type": "stream",
     "text": [
      "Makan\n",
      "Apakah masih lapar? Kenyang\n"
     ]
    }
   ],
   "source": [
    "X = \"Lapar\"\n",
    "\n",
    "while X != \"Kenyang\" :\n",
    "    print(\"Makan\")\n",
    "    X = input(\"Apakah masih lapar? \")"
   ]
  },
  {
   "cell_type": "code",
   "execution_count": 22,
   "id": "d64ddfd9",
   "metadata": {},
   "outputs": [
    {
     "name": "stdout",
     "output_type": "stream",
     "text": [
      "Masukkan Username : efewf\n",
      "Masukkan Password : gewag\n",
      "Maaf User atau Sandi Anda salah\n"
     ]
    }
   ],
   "source": [
    "User = input (\"Masukkan Username : \")\n",
    "Pass = input (\"Masukkan Password : \")\n",
    "\n",
    "def Login (User, Pass) :\n",
    "    if User == \"Admin\" and Pass == \"Admin\" :\n",
    "        print(\"Anda Berhasil Login\")\n",
    "    else :\n",
    "        print(\"Maaf User atau Sandi Anda salah\")\n",
    "Login (User, Pass)"
   ]
  },
  {
   "cell_type": "code",
   "execution_count": 32,
   "id": "587a2660",
   "metadata": {},
   "outputs": [
    {
     "name": "stdout",
     "output_type": "stream",
     "text": [
      "MASUKKAN SUHU DALAM CELCIUS : 100\n"
     ]
    },
    {
     "data": {
      "text/plain": [
       "80.0"
      ]
     },
     "execution_count": 32,
     "metadata": {},
     "output_type": "execute_result"
    }
   ],
   "source": [
    "C = int(input(\"MASUKKAN SUHU DALAM CELCIUS : \"))\n",
    "\n",
    "def fahrenheit(C) :\n",
    "    hasil = (9/5*C) + 32\n",
    "    return hasil\n",
    "def reamur(C) :\n",
    "    hasil = 4/5*C\n",
    "    return hasil\n",
    "def Kelvin(C) :\n",
    "    hasil = C + 273\n",
    "    return hasil\n",
    "\n",
    "reamur(C)"
   ]
  },
  {
   "cell_type": "code",
   "execution_count": 49,
   "id": "f0aec8f9",
   "metadata": {},
   "outputs": [
    {
     "name": "stdout",
     "output_type": "stream",
     "text": [
      "Masukkan Angka Pertama : 7\n",
      "Masukkan Angka Kedua : 3\n",
      "1000\n"
     ]
    }
   ],
   "source": [
    "Angka1 = int(input(\"Masukkan Angka Pertama : \"))\n",
    "Angka2 = int(input(\"Masukkan Angka Kedua : \"))\n",
    "\n",
    "def Penjumlahan (A, B):\n",
    "    hasil = A + B\n",
    "    return hasil\n",
    "\n",
    "def Perpangkatan (A, B):\n",
    "    hasil = A ** B\n",
    "    print(hasil)\n",
    "\n",
    "Perpangkatan(Penjumlahan(Angka1, Angka2), Angka2)"
   ]
  },
  {
   "cell_type": "code",
   "execution_count": 50,
   "id": "e41c7579",
   "metadata": {},
   "outputs": [
    {
     "name": "stdout",
     "output_type": "stream",
     "text": [
      "inputin;5\n",
      "inputin;2\n"
     ]
    },
    {
     "data": {
      "text/plain": [
       "49"
      ]
     },
     "execution_count": 50,
     "metadata": {},
     "output_type": "execute_result"
    }
   ],
   "source": [
    "def jumlah(a,b):\n",
    "    c=a+b\n",
    "    return c\n",
    "def pangkat(c):\n",
    "    d= c**e\n",
    "    return d\n",
    "w=int(input(\"inputin;\"))\n",
    "e=int(input(\"inputin;\"))\n",
    "pangkat(jumlah(w,e))"
   ]
  },
  {
   "cell_type": "code",
   "execution_count": null,
   "id": "1858744b",
   "metadata": {},
   "outputs": [],
   "source": []
  }
 ],
 "metadata": {
  "kernelspec": {
   "display_name": "Python 3",
   "language": "python",
   "name": "python3"
  },
  "language_info": {
   "codemirror_mode": {
    "name": "ipython",
    "version": 3
   },
   "file_extension": ".py",
   "mimetype": "text/x-python",
   "name": "python",
   "nbconvert_exporter": "python",
   "pygments_lexer": "ipython3",
   "version": "3.8.8"
  }
 },
 "nbformat": 4,
 "nbformat_minor": 5
}

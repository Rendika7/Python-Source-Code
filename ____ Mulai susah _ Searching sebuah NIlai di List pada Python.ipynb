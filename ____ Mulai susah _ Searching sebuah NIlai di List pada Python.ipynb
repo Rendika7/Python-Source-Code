{
 "cells": [
  {
   "cell_type": "markdown",
   "id": "583b2b56",
   "metadata": {},
   "source": [
    "# Sequential Search"
   ]
  },
  {
   "cell_type": "code",
   "execution_count": 1,
   "id": "44735912",
   "metadata": {},
   "outputs": [
    {
     "data": {
      "text/plain": [
       "False"
      ]
     },
     "execution_count": 1,
     "metadata": {},
     "output_type": "execute_result"
    }
   ],
   "source": [
    "'Unordered'\n",
    "\n",
    "def SeqSearch(ListData,Data) :\n",
    "    Index = 0\n",
    "    Found = False\n",
    "    while Index < len(ListData) and not Found :\n",
    "        if ListData[Index] == Data :\n",
    "            Found = True\n",
    "        else :\n",
    "            Index += 1\n",
    "    return Found\n",
    "\n",
    "List = [\"R\",\"E\",\"N\",\"D\",\"I\",\"K\",\"A\"]\n",
    "SeqSearch(List,\"Y\")"
   ]
  },
  {
   "cell_type": "code",
   "execution_count": 4,
   "id": "ec40f117",
   "metadata": {},
   "outputs": [
    {
     "name": "stdout",
     "output_type": "stream",
     "text": [
      "0\n",
      "1\n",
      "2\n",
      "3\n",
      "4\n",
      "5\n",
      "6\n",
      "7\n",
      "8\n",
      "8\n"
     ]
    },
    {
     "data": {
      "text/plain": [
       "True"
      ]
     },
     "execution_count": 4,
     "metadata": {},
     "output_type": "execute_result"
    }
   ],
   "source": [
    "\"Pembuktian untuk Perulangan tidak dilakukan sampe akhir\"\n",
    "\n",
    "'Unordered'\n",
    "\n",
    "def SeqSearch(ListData,Data) :\n",
    "    Index = 0\n",
    "    Found = False\n",
    "    while Index < len(ListData) and not Found :\n",
    "        print(Index)\n",
    "        if ListData[Index] == Data :\n",
    "            Found = True\n",
    "            print(Index)\n",
    "        else :\n",
    "            Index += 1\n",
    "    return Found\n",
    "\n",
    "List = [1,8,3,10,5,14,7,8,\"Rendika\",\"Rendika\",9]\n",
    "SeqSearch(List,\"Rendika\")"
   ]
  },
  {
   "cell_type": "code",
   "execution_count": 6,
   "id": "e5494ddc",
   "metadata": {},
   "outputs": [
    {
     "data": {
      "text/plain": [
       "0"
      ]
     },
     "execution_count": 6,
     "metadata": {},
     "output_type": "execute_result"
    }
   ],
   "source": [
    "'ordered'\n",
    "\n",
    "def SeqSearch(ListData,Data) :\n",
    "    Index = 0\n",
    "    Found = False\n",
    "    Stop = False\n",
    "    Position = []\n",
    "    while Index < len(ListData) and not Found and not Stop:\n",
    "        if ListData[Index] == Data :\n",
    "            Found = True\n",
    "            Position.append(Index)\n",
    "        else :\n",
    "            if ListData[Index] > Data :\n",
    "                Stop = True\n",
    "            else :\n",
    "                Index += 1\n",
    "    if Found == True :\n",
    "        return Index\n",
    "        print(Index)\n",
    "    else :\n",
    "        return(\"Data Tidak Ada\")\n",
    "                \n",
    "\n",
    "List = [\"Rendika\", \"Manusia\", \"Thesi\", \"Sigit\"]\n",
    "SeqSearch(List,\"Rendika\")"
   ]
  },
  {
   "cell_type": "markdown",
   "id": "12908e64",
   "metadata": {},
   "source": [
    "# Binary Search"
   ]
  },
  {
   "cell_type": "code",
   "execution_count": 7,
   "id": "fc9e6ce3",
   "metadata": {},
   "outputs": [
    {
     "name": "stdout",
     "output_type": "stream",
     "text": [
      "Mencari nilai 8 dengan binary search pada list [2, 5, 8, 9, 12, 14, 16]\n",
      "posisi pencarian:indeks 3 dengan nilai 9\n",
      "posisi pencarian:indeks 1 dengan nilai 5\n",
      "posisi pencarian:indeks 2 dengan nilai 8\n",
      "Nilai 8 ditemukan pada indeks 2\n"
     ]
    }
   ],
   "source": [
    "l=[2,5,8,9,12,14,16]\n",
    "dicari=8\n",
    "print('Mencari nilai',dicari,'dengan binary search pada list',l)\n",
    "found=False\n",
    "batas_awal=0\n",
    "batas_akhir=len(l)-1\n",
    "\n",
    "while not found and batas_awal <= batas_akhir:\n",
    "  pos_cari=int((batas_awal+batas_akhir)/2)\n",
    "  print('posisi pencarian:indeks',pos_cari,'dengan nilai',l[pos_cari])\n",
    "  if l[pos_cari]==dicari:\n",
    "    found=True\n",
    "  elif l[pos_cari]>dicari:\n",
    "    batas_akhir=pos_cari-1\n",
    "  else:\n",
    "    batas_awal=pos_cari+1\n",
    "\n",
    "if found==True:\n",
    "  print('Nilai',dicari,'ditemukan pada indeks',pos_cari)\n",
    "else:\n",
    "  print('Nilai',dicari,'tidak ditemukan')"
   ]
  },
  {
   "cell_type": "code",
   "execution_count": 8,
   "id": "4abb09c7",
   "metadata": {},
   "outputs": [
    {
     "name": "stdout",
     "output_type": "stream",
     "text": [
      "Mencari nilai 14 dengan binary search pada list [2, 5, 8, 9, 12, 14, 16]\n",
      "posisi pencarian:indeks 4 dengan nilai 12\n",
      "posisi pencarian:indeks 5 dengan nilai 14\n",
      "Nilai 14 ditemukan pada indeks 5\n"
     ]
    }
   ],
   "source": [
    "l=[2,5,8,9,12,14,16]\n",
    "dicari=14\n",
    "print('Mencari nilai',dicari,'dengan binary search pada list',l)\n",
    "ditemukan=False\n",
    "batas_awal=0\n",
    "batas_akhir=len(l)-1\n",
    "\n",
    "while not ditemukan and batas_awal <= batas_akhir:\n",
    "  pos_cari=int(batas_awal+((batas_akhir-batas_awal)*((dicari-l[batas_awal])/(l[batas_akhir]+l[batas_awal]))))\n",
    "  print('posisi pencarian:indeks',pos_cari,'dengan nilai',l[pos_cari])\n",
    "  if l[pos_cari]==dicari:\n",
    "    ditemukan=True\n",
    "  elif l[pos_cari]>dicari:\n",
    "    batas_akhir=pos_cari-1\n",
    "  else:\n",
    "    batas_awal=pos_cari+1\n",
    "\n",
    "if ditemukan:\n",
    "  print('Nilai',dicari,'ditemukan pada indeks',pos_cari)\n",
    "else:\n",
    "  print('Nilai',dicari,'tidak ditemukan')"
   ]
  },
  {
   "cell_type": "code",
   "execution_count": null,
   "id": "d4f9bd02",
   "metadata": {},
   "outputs": [],
   "source": []
  }
 ],
 "metadata": {
  "kernelspec": {
   "display_name": "Python 3",
   "language": "python",
   "name": "python3"
  },
  "language_info": {
   "codemirror_mode": {
    "name": "ipython",
    "version": 3
   },
   "file_extension": ".py",
   "mimetype": "text/x-python",
   "name": "python",
   "nbconvert_exporter": "python",
   "pygments_lexer": "ipython3",
   "version": "3.8.8"
  }
 },
 "nbformat": 4,
 "nbformat_minor": 5
}

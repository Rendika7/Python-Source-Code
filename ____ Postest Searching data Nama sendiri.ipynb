{
 "cells": [
  {
   "cell_type": "code",
   "execution_count": null,
   "id": "1552e5be",
   "metadata": {},
   "outputs": [
    {
     "name": "stdout",
     "output_type": "stream",
     "text": [
      "1. Pencarian Huruf di dalam suatu nama \n",
      "2. Pencarian suatu item di dalam list Data \n",
      "3. Keluar\n",
      "Masukkan Pilihan Anda(1/2/3) : 1\n",
      "\n",
      "Masukkan Nama Anda : Rendika\n",
      "['R', 'e', 'n', 'd', 'i', 'k', 'a'] \n",
      "\n",
      "Masukkan huruf yang ingin kamu cari : a\n",
      "Target Ditemukan Di Nama2\n"
     ]
    }
   ],
   "source": [
    "def LinearSearch_Nama(List,Target) :\n",
    "    index = len(List)\n",
    "    for i in range(index) :\n",
    "        if List[i] == Target:\n",
    "            return True\n",
    "    return False\n",
    "\n",
    "#-----------------------------------------------------------------------------------------\n",
    "        \n",
    "def LinearSearch_Data(List,Target) :\n",
    "    index = len(List)\n",
    "    for i in range(index) :\n",
    "        if List[i] == Target:\n",
    "            return True\n",
    "    return False\n",
    "\n",
    "#-----------------------------------------------------------------------------------------\n",
    "  \n",
    "print(\"1. Pencarian Huruf di dalam suatu nama \\n2. Pencarian suatu item di dalam list Data \\n3. Keluar\")\n",
    "\n",
    "\n",
    "#-----------------------------------------------------------------------------------------\n",
    "Ulangi = True\n",
    "while Ulangi == True :\n",
    "    Pilihan = int(input(\"Masukkan Pilihan Anda(1/2/3) : \"))\n",
    "    if Pilihan == 1 :\n",
    "        nama_list = []\n",
    "        Nama = input(\"\\nMasukkan Nama Anda : \")\n",
    "        nama_list += Nama\n",
    "        print(nama_list,\"\\n\")\n",
    "        Huruf = str(input(\"Masukkan huruf yang ingin kamu cari : \"))\n",
    "        LinearSearch_Nama(nama_list,Huruf)\n",
    "        if LinearSearch_Nama(nama_list,Huruf) :\n",
    "            print(\"Target Ditemukan Di Nama\")\n",
    "        else :\n",
    "            print(\"Target tidak ada di nama\")\n",
    "#-----------------------------------------------------------------------------------------\n",
    "    \n",
    "    elif Pilihan == 2 :\n",
    "        data =[1461,20,'RH',80,11622,'Pave','NULL','Reg','Lvl','AllPub','Inside',\n",
    "           'Gtl','Nullma','Feedr','Norm','1Fam','1Story',5,6,1961,1961,'Gable',\n",
    "           'CompShg','VinylSd','VinylSd','Null',0,'TA','TA','CBlock','TA','TA',\n",
    "           'No','Rec',468,'LwQ',144,270,882,'GasA','TA','Y','SBrkr',896,0,0,896,0,0,\n",
    "           1,0,2,1,'TA',5,'Typ',0,'NULL','Attchd',1961,'Unf',1,730,'TA','TA','Y',140,0,0,\n",
    "           0,120,0,'NULL','MnPrv','NULL',0,6,2010,'WD','Normal']\n",
    "        Data_2 = []\n",
    "        for x in data :\n",
    "            Data_2.append(str(x))\n",
    "        print(\"\\nData =\", Data_2,\"\\n\")\n",
    "        Item = input(\"Masukkan item yang ingin dicari : \")\n",
    "        LinearSearch_Data(Data_2,Item)\n",
    "        if LinearSearch_Nama(Data_2,Item) :\n",
    "            print(\"Target Ditemukan di dalam Data\")\n",
    "        else :\n",
    "            print(\"Target tidak ada di dalam Data\")\n",
    "    elif Pilihan == 3 :\n",
    "        print(\"\\nProgram Anda Telah Berhenti\")\n",
    "        break"
   ]
  },
  {
   "cell_type": "code",
   "execution_count": null,
   "id": "79b58234",
   "metadata": {},
   "outputs": [],
   "source": [
    "data = [1461,20,'RH',80,11622,'Pave','NULL','Reg','Lvl','AllPub','Inside','Gtl','Nullma','Feedr','Norm','1Fam','1Story',5,\n",
    "        6,1961,1961,'Gable','CompShg','VinylSd','VinylSd','Null',0,'TA','TA','CBlock','TA','TA','No','Rec',468,'LwQ',144,270,\n",
    "        882,'GasA','TA','Y','SBrkr',896,0,0,896,0,0,1,0,2,1,'TA',5,'Typ',0,'NULL','Attchd',1961,'Unf',1,730,'TA','TA','Y',140,\n",
    "        0,0,0,120,0,'NULL','MnPrv','NULL',0,6,2010,'WD','Normal']\n",
    "new=[]\n",
    "for i in data:\n",
    "    new.append(str(i))\n",
    "\n",
    "Cari = int(input(\" Yang Mau Dicari : \\n1.Pencarian Huruf dari nama\\n2. Pencarian int/string dalam Data\\n :\"))\n",
    "\n",
    "def cariHuruf(nam, hrf):\n",
    "    l = len(nam)\n",
    "    for i in range(l):\n",
    "        if nam[i]  == hrf :\n",
    "            print(\"Target ditemukan di nama\")\n",
    "            return True\n",
    "    else : \n",
    "        return False\n",
    "    \n",
    "def caridata(data,target):\n",
    "    p = len(data)\n",
    "    for i in range(p):\n",
    "        if data[i] == target :\n",
    "            print(\"Target ditemukan di data\")\n",
    "            return True\n",
    "    else :\n",
    "        print(\"Tidak ditemukan\")\n",
    "                   \n",
    "if Cari == 1 :\n",
    "    nam = input(\"Masukkan Nama Anda : \")\n",
    "    hrf = input(\"Masukkan huruf yang mau dicari : \")\n",
    "    if cariHuruf(nam,hrf):\n",
    "        print('ketemu')\n",
    "    else:\n",
    "        print('gk ketemu')\n",
    "            \n",
    "\n",
    "elif Cari == 2 :\n",
    "    target = input(\"Masukkan nilai yang dicari \")\n",
    "    caridata(new,target)"
   ]
  },
  {
   "cell_type": "code",
   "execution_count": 60,
   "id": "8ff939a4",
   "metadata": {},
   "outputs": [
    {
     "name": "stdout",
     "output_type": "stream",
     "text": [
      "Masukkan Nama Anda : Rendika\n",
      "['R', 'e', 'n', 'd', 'i', 'k', 'a']\n",
      "Masukkan huruf yang ingin kamu cari : y\n"
     ]
    },
    {
     "ename": "IndexError",
     "evalue": "list index out of range",
     "output_type": "error",
     "traceback": [
      "\u001b[1;31m---------------------------------------------------------------------------\u001b[0m",
      "\u001b[1;31mIndexError\u001b[0m                                Traceback (most recent call last)",
      "\u001b[1;32m<ipython-input-60-f97a180ce9db>\u001b[0m in \u001b[0;36m<module>\u001b[1;34m\u001b[0m\n\u001b[0;32m     21\u001b[0m         \u001b[0mprint\u001b[0m\u001b[1;33m(\u001b[0m\u001b[1;34m\"Target Tidak Ada Di Nama\"\u001b[0m\u001b[1;33m)\u001b[0m\u001b[1;33m\u001b[0m\u001b[1;33m\u001b[0m\u001b[0m\n\u001b[0;32m     22\u001b[0m \u001b[1;33m\u001b[0m\u001b[0m\n\u001b[1;32m---> 23\u001b[1;33m \u001b[0mSeqSearch\u001b[0m\u001b[1;33m(\u001b[0m\u001b[0mnama_list\u001b[0m\u001b[1;33m,\u001b[0m\u001b[0mHuruf\u001b[0m\u001b[1;33m)\u001b[0m\u001b[1;33m\u001b[0m\u001b[1;33m\u001b[0m\u001b[0m\n\u001b[0m",
      "\u001b[1;32m<ipython-input-60-f97a180ce9db>\u001b[0m in \u001b[0;36mSeqSearch\u001b[1;34m(ListData, Data)\u001b[0m\n\u001b[0;32m     12\u001b[0m     \u001b[1;32mwhile\u001b[0m \u001b[1;32mnot\u001b[0m \u001b[0mFound\u001b[0m\u001b[1;33m:\u001b[0m\u001b[1;33m\u001b[0m\u001b[1;33m\u001b[0m\u001b[0m\n\u001b[0;32m     13\u001b[0m         \u001b[1;32mfor\u001b[0m \u001b[0mi\u001b[0m \u001b[1;32min\u001b[0m \u001b[0mrange\u001b[0m\u001b[1;33m(\u001b[0m\u001b[0mlen\u001b[0m\u001b[1;33m(\u001b[0m\u001b[0mListData\u001b[0m\u001b[1;33m)\u001b[0m\u001b[1;33m)\u001b[0m \u001b[1;33m:\u001b[0m\u001b[1;33m\u001b[0m\u001b[1;33m\u001b[0m\u001b[0m\n\u001b[1;32m---> 14\u001b[1;33m             \u001b[1;32mif\u001b[0m \u001b[0mListData\u001b[0m\u001b[1;33m[\u001b[0m\u001b[0mIndex\u001b[0m\u001b[1;33m]\u001b[0m \u001b[1;33m==\u001b[0m \u001b[0mData\u001b[0m \u001b[1;33m:\u001b[0m\u001b[1;33m\u001b[0m\u001b[1;33m\u001b[0m\u001b[0m\n\u001b[0m\u001b[0;32m     15\u001b[0m                 \u001b[0mFound\u001b[0m \u001b[1;33m=\u001b[0m \u001b[1;32mTrue\u001b[0m\u001b[1;33m\u001b[0m\u001b[1;33m\u001b[0m\u001b[0m\n\u001b[0;32m     16\u001b[0m             \u001b[1;32melse\u001b[0m \u001b[1;33m:\u001b[0m\u001b[1;33m\u001b[0m\u001b[1;33m\u001b[0m\u001b[0m\n",
      "\u001b[1;31mIndexError\u001b[0m: list index out of range"
     ]
    }
   ],
   "source": [
    "nama_list = []\n",
    "\n",
    "Nama = input(\"Masukkan Nama Anda : \")\n",
    "nama_list += Nama\n",
    "print(nama_list)\n",
    "\n",
    "Huruf = str(input(\"Masukkan huruf yang ingin kamu cari : \"))\n",
    "\n",
    "def SeqSearch(ListData,Data) :\n",
    "    Index = 0\n",
    "    Found = False\n",
    "    while not Found:\n",
    "        for i in range(len(ListData)) :\n",
    "            if ListData[Index] == Data :\n",
    "                Found = True\n",
    "            else : \n",
    "                Index += 1\n",
    "    if Found == True :\n",
    "        print(\"Target Ditemukan Di Nama\")\n",
    "    else :\n",
    "        print(\"Target Tidak Ada Di Nama\")\n",
    "       \n",
    "SeqSearch(nama_list,Huruf)"
   ]
  },
  {
   "cell_type": "code",
   "execution_count": 40,
   "id": "ba0671be",
   "metadata": {},
   "outputs": [
    {
     "name": "stdout",
     "output_type": "stream",
     "text": [
      "Masukkan nilai yang dicari: Y\n",
      "Nilai:  Y tidak ditemukan\n"
     ]
    }
   ],
   "source": [
    "# Program pencarian beruntun\n",
    "\n",
    "a = ['R', 'e', 'n', 'd', 'i', 'k', 'a']\n",
    "\n",
    "cari = input(\"Masukkan nilai yang dicari: \")\n",
    "ketemu = False\n",
    "for i in range(0, len(a)):\n",
    "  if cari == a[i]:\n",
    "    ketemu = True\n",
    "    \n",
    "\n",
    "if ketemu:\n",
    "  print (\"Nilai: \", cari, \"berhasil ditemukan\")\n",
    "else:\n",
    "  print (\"Nilai: \", cari, \"tidak ditemukan\")"
   ]
  },
  {
   "cell_type": "code",
   "execution_count": 3,
   "id": "43ffebc8",
   "metadata": {},
   "outputs": [
    {
     "name": "stdout",
     "output_type": "stream",
     "text": [
      "['1461', '20', 'RH', '80', '11622', 'Pave', 'NULL', 'Reg', 'Lvl', 'AllPub', 'Inside', 'Gtl', 'Nullma', 'Feedr', 'Norm', '1Fam', '1Story', '5', '6', '1961', '1961', 'Gable', 'CompShg', 'VinylSd', 'VinylSd', 'Null', '0', 'TA', 'TA', 'CBlock', 'TA', 'TA', 'No', 'Rec', '468', 'LwQ', '144', '270', '882', 'GasA', 'TA', 'Y', 'SBrkr', '896', '0', '0', '896', '0', '0', '1', '0', '2', '1', 'TA', '5', 'Typ', '0', 'NULL', 'Attchd', '1961', 'Unf', '1', '730', 'TA', 'TA', 'Y', '140', '0', '0', '0', '120', '0', 'NULL', 'MnPrv', 'NULL', '0', '6', '2010', 'WD', 'Normal']\n"
     ]
    }
   ],
   "source": [
    "data =[1461,20,'RH',80,11622,'Pave','NULL','Reg','Lvl','AllPub','Inside',\n",
    "       'Gtl','Nullma','Feedr','Norm','1Fam','1Story',5,6,1961,1961,'Gable',\n",
    "       'CompShg','VinylSd','VinylSd','Null',0,'TA','TA','CBlock','TA','TA',\n",
    "       'No','Rec',468,'LwQ',144,270,882,'GasA','TA','Y','SBrkr',896,0,0,896,0,0,\n",
    "       1,0,2,1,'TA',5,'Typ',0,'NULL','Attchd',1961,'Unf',1,730,'TA','TA','Y',140,0,0,\n",
    "       0,120,0,'NULL','MnPrv','NULL',0,6,2010,'WD','Normal']\n",
    "\n",
    "Data_2 = []\n",
    "\n",
    "for x in data :\n",
    "    Data_2.append(str(x))"
   ]
  },
  {
   "cell_type": "code",
   "execution_count": 5,
   "id": "faf592e4",
   "metadata": {},
   "outputs": [
    {
     "name": "stdout",
     "output_type": "stream",
     "text": [
      "1, 2, 3, 4\n"
     ]
    }
   ],
   "source": [
    "numList = ['1', '2', '3', '4']\n",
    "separator = ', '\n",
    "print(separator.join(numList))"
   ]
  },
  {
   "cell_type": "code",
   "execution_count": 11,
   "id": "b3a57017",
   "metadata": {},
   "outputs": [
    {
     "name": "stdout",
     "output_type": "stream",
     "text": [
      "Masukkan Nama Anda : Rendika\n",
      "['R', 'e', 'n', 'd', 'i', 'k', 'a']\n"
     ]
    }
   ],
   "source": [
    "nama_list = []\n",
    "\n",
    "Nama = input(\"Masukkan Nama Anda : \")\n",
    "nama_list += Nama\n",
    "print(nama_list)"
   ]
  },
  {
   "cell_type": "code",
   "execution_count": null,
   "id": "3b873169",
   "metadata": {},
   "outputs": [],
   "source": []
  }
 ],
 "metadata": {
  "kernelspec": {
   "display_name": "Python 3",
   "language": "python",
   "name": "python3"
  }
 },
 "nbformat": 4,
 "nbformat_minor": 5
}

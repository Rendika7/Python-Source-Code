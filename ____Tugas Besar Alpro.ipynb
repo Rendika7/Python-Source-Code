{
 "cells": [
  {
   "cell_type": "code",
   "execution_count": 11,
   "id": "5a788e38",
   "metadata": {},
   "outputs": [
    {
     "name": "stdout",
     "output_type": "stream",
     "text": [
      "MASUKKAN BANYAK LIST : 5\n",
      "\n",
      "Data Sebelum Diurutkan : [43, 105, 310, 919, 246]\n",
      "\n",
      "\n",
      "[43, 105, 310, 246, 919]\n",
      "[43, 105, 246, 310, 919]\n",
      "[43, 105, 246, 310, 919]\n",
      "[43, 105, 246, 310, 919]\n",
      "Data Sesudah Diurutkan : [43, 105, 246, 310, 919]\n"
     ]
    }
   ],
   "source": [
    "# Random List\n",
    "import random\n",
    "\n",
    "Data = []\n",
    "\n",
    "Masukkan = int(input(\"MASUKKAN BANYAK LIST : \"))\n",
    "print(\"\")\n",
    "for i in range (Masukkan) :\n",
    "    X = random.randint(0,1000)\n",
    "    Data.append(X)\n",
    "print(\"Data Sebelum Diurutkan :\",Data)\n",
    "\n",
    "#------------------------------------------------------------------------------\n",
    "print(\"\\n\")\n",
    "#------------------------------------------------------------------------------\n",
    "# Bubble Sort\n",
    "def BubbleSort(data):\n",
    "    for i in range(len(data)-1,0,-1) :\n",
    "        for j in range(len(data)-1) :\n",
    "            if data[j] > data[j+1] :\n",
    "                data[j], data[j+1] = data[j+1], data[j]\n",
    "    return data\n",
    "    \n",
    "Data_Urut = BubbleSort(Data)\n",
    "print(\"Data Sesudah Diurutkan :\",Data_Urut)"
   ]
  },
  {
   "cell_type": "code",
   "execution_count": 34,
   "id": "18fe0120",
   "metadata": {},
   "outputs": [
    {
     "name": "stdout",
     "output_type": "stream",
     "text": [
      "\n",
      "\n",
      "Langkah - Langkah\n",
      "[5, 3, 1, 4, 7, 8, 9]\n",
      "Langkah - Langkah\n",
      "[3, 1, 4, 5, 7, 8, 9]\n",
      "Langkah - Langkah\n",
      "[1, 3, 4, 5, 7, 8, 9]\n",
      "Langkah - Langkah\n",
      "[1, 3, 4, 5, 7, 8, 9]\n",
      "Langkah - Langkah\n",
      "[1, 3, 4, 5, 7, 8, 9]\n",
      "Langkah - Langkah\n",
      "[1, 3, 4, 5, 7, 8, 9]\n"
     ]
    }
   ],
   "source": [
    "# Random List\n",
    "import random\n",
    "\n",
    "Data = [8,5,3,1,4,7,9]\n",
    "5831479\n",
    "5381479\n",
    "5318479\n",
    "5314879\n",
    "5314789\n",
    "\n",
    "531\n",
    "#------------------------------------------------------------------------------\n",
    "print(\"\\n\")\n",
    "#------------------------------------------------------------------------------\n",
    "# Bubble Sort\n",
    "def BubbleSort(data):\n",
    "    for i in range(len(data)-1,0,-1) :\n",
    "        print(\"Langkah - Langkah\")\n",
    "        for j in range(len(data) - 1) :\n",
    "            if data[j] > data[j+1] :\n",
    "                data[j], data[j+1] = data[j+1], data[j]\n",
    "        print(data)\n",
    "\n",
    "BubbleSort(Data)"
   ]
  },
  {
   "cell_type": "code",
   "execution_count": 6,
   "id": "0bb0caff",
   "metadata": {},
   "outputs": [
    {
     "name": "stdout",
     "output_type": "stream",
     "text": [
      "9 5\n"
     ]
    }
   ],
   "source": [
    "a = 5\n",
    "b = 4\n",
    "a, b = a + b, a\n",
    "print (a, b)"
   ]
  },
  {
   "cell_type": "code",
   "execution_count": 1,
   "id": "04279f70",
   "metadata": {},
   "outputs": [
    {
     "name": "stdout",
     "output_type": "stream",
     "text": [
      "MASUKKAN BANYAK LIST : 50\n",
      "\n",
      "Data Sebelum Diurutkan : [213, 642, 826, 975, 931, 15, 790, 237, 655, 691, 756, 508, 194, 65, 242, 837, 277, 187, 779, 317, 88, 849, 717, 6, 372, 223, 651, 829, 396, 760, 840, 50, 341, 650, 137, 201, 550, 605, 860, 895, 239, 756, 98, 793, 595, 609, 606, 334, 414, 171]\n",
      "\n",
      "\n",
      "Data Sesudah Diurutkan : [6, 15, 50, 65, 88, 98, 137, 171, 187, 194, 201, 213, 223, 237, 239, 242, 277, 317, 334, 341, 372, 396, 414, 508, 550, 595, 605, 606, 609, 642, 650, 651, 655, 691, 717, 756, 756, 760, 779, 790, 793, 826, 829, 837, 840, 849, 860, 895, 931, 975]\n"
     ]
    }
   ],
   "source": [
    "# Random List\n",
    "import random\n",
    "\n",
    "Data = []\n",
    "\n",
    "Masukkan = int(input(\"MASUKKAN BANYAK LIST : \"))\n",
    "print(\"\")\n",
    "for i in range (Masukkan) :\n",
    "    X = random.randint(0,1000)\n",
    "    Data.append(X)\n",
    "print(\"Data Sebelum Diurutkan :\",Data)\n",
    "\n",
    "#------------------------------------------------------------------------------\n",
    "print(\"\\n\")\n",
    "#------------------------------------------------------------------------------\n",
    "# Bubble Sort\n",
    "def BubbleSort(data):\n",
    "    for i in range(Masukkan) :\n",
    "        for j in range(Masukkan - 1) :\n",
    "            if data[j] > data[j+1] :\n",
    "                data[j], data[j+1] = data[j+1], data[j]\n",
    "    return data\n",
    "    \n",
    "Data_Urut = BubbleSort(Data)\n",
    "print(\"Data Sesudah Diurutkan :\",Data_Urut)"
   ]
  },
  {
   "cell_type": "code",
   "execution_count": 38,
   "id": "79635a18",
   "metadata": {},
   "outputs": [
    {
     "name": "stdout",
     "output_type": "stream",
     "text": [
      "MASUKKAN BANYAK LIST : 150\n",
      "\n",
      "Data Sebelum Diurutkan : [691, 106, 706, 332, 949, 166, 112, 774, 713, 79, 375, 730, 774, 428, 962, 902, 60, 114, 942, 103, 488, 869, 386, 757, 161, 993, 466, 267, 767, 321, 710, 488, 464, 824, 830, 407, 540, 733, 7, 541, 961, 14, 189, 675, 739, 767, 384, 225, 778, 462, 83, 878, 375, 968, 957, 919, 498, 159, 590, 657, 7, 335, 161, 26, 835, 726, 638, 384, 436, 137, 21, 991, 576, 592, 215, 123, 915, 609, 842, 728, 682, 959, 576, 825, 757, 206, 425, 212, 692, 769, 720, 465, 876, 954, 948, 574, 945, 363, 322, 672, 857, 212, 25, 696, 158, 154, 933, 641, 110, 746, 296, 641, 101, 594, 676, 138, 307, 640, 627, 800, 78, 655, 66, 250, 552, 439, 593, 161, 352, 476, 673, 610, 670, 120, 735, 541, 37, 565, 636, 334, 121, 132, 661, 523, 992, 73, 729, 859, 715, 119]\n",
      "\n",
      "\n",
      "Data Sesudah Diurutkan : [7, 7, 14, 21, 25, 26, 37, 60, 66, 73, 78, 79, 83, 101, 103, 106, 110, 112, 114, 119, 120, 121, 123, 132, 137, 138, 154, 158, 159, 161, 161, 161, 166, 189, 206, 212, 212, 215, 225, 250, 267, 296, 307, 321, 322, 332, 334, 335, 352, 363, 375, 375, 384, 384, 386, 407, 425, 428, 436, 439, 462, 464, 465, 466, 476, 488, 488, 498, 523, 540, 541, 541, 552, 565, 574, 576, 576, 590, 592, 593, 594, 609, 610, 627, 636, 638, 640, 641, 641, 655, 657, 661, 670, 672, 673, 675, 676, 682, 691, 692, 696, 706, 710, 713, 715, 720, 726, 728, 729, 730, 733, 735, 739, 746, 757, 757, 767, 767, 769, 774, 774, 778, 800, 824, 825, 830, 835, 842, 857, 859, 869, 876, 878, 902, 915, 919, 933, 942, 945, 948, 949, 954, 957, 959, 961, 962, 968, 991, 992, 993]\n",
      "\n",
      "\n",
      "Masukkan Angka Yang Ingin Di Cari : 50\n",
      "\n",
      "Target Tidak Ditemukan Di Dalam List\n"
     ]
    }
   ],
   "source": [
    "# Random List\n",
    "\n",
    "import random\n",
    "\n",
    "Data = []\n",
    "\n",
    "Masukkan = int(input(\"MASUKKAN BANYAK LIST : \"))\n",
    "print(\"\")\n",
    "for i in range (Masukkan) :\n",
    "    X = random.randint(0,1000)\n",
    "    Data.append(X)\n",
    "print(\"Data Sebelum Diurutkan :\",Data)\n",
    "\n",
    "#------------------------------------------------------------------------------\n",
    "print(\"\\n\")\n",
    "#------------------------------------------------------------------------------\n",
    "# bubble Sort\n",
    "\n",
    "def BubbleSort(data):\n",
    "    for i in range(Masukkan) :\n",
    "        for j in range(Masukkan - 1) :\n",
    "            if data[j] > data[j+1] :\n",
    "                data[j], data[j+1] = data[j+1], data[j]\n",
    "    return data\n",
    "    \n",
    "Data_Urut = BubbleSort(Data)\n",
    "print(\"Data Sesudah Diurutkan :\",Data_Urut)\n",
    "#------------------------------------------------------------------------------\n",
    "print(\"\\n\")\n",
    "#------------------------------------------------------------------------------\n",
    "# Interpolation Search\n",
    " \n",
    "def interpolationSearch(data, low, high, x):\n",
    "    if (low <= high and x >= data[low] and x <= data[high]):\n",
    "        posisi = low + ((high - low) // (data[high] - data[low]) * (x - data[low]))\n",
    "        if data[posisi] == x:\n",
    "            return posisi\n",
    "        if data[posisi] < x:\n",
    "            return interpolationSearch(data, posisi + 1, high, x)\n",
    "        if data[posisi] > x:\n",
    "            return interpolationSearch(data, low, posisi - 1, x)\n",
    "    return -1\n",
    "\n",
    "Target = int(input(\"Masukkan Angka Yang Ingin Di Cari : \"))\n",
    "n = len(Data_Urut)\n",
    "Index = interpolationSearch(Data_Urut, 0, n - 1, Target)\n",
    "\n",
    "print(\"\")\n",
    "\n",
    "if Index != -1:\n",
    "    print(\"Target Ada Di Index Ke -\", Index, \"Di Dalam List.\\nDan diurutan ke -\", Index + 1)\n",
    "else:\n",
    "    print(\"Target Tidak Ditemukan Di Dalam List\")"
   ]
  },
  {
   "cell_type": "code",
   "execution_count": 14,
   "id": "2a613149",
   "metadata": {},
   "outputs": [
    {
     "name": "stdout",
     "output_type": "stream",
     "text": [
      "MASUKKAN JUMLAH LIST : 10\n",
      "[53, 31, 17, 50, 69, 41, 18, 97, 100, 1]\n"
     ]
    }
   ],
   "source": [
    "import random\n",
    "\n",
    "Data = []\n",
    "\n",
    "Masukkan = int(input(\"MASUKKAN JUMLAH LIST : \"))\n",
    "for i in range (Masukkan) :\n",
    "    X = random.randint(0,100)\n",
    "    Data.append(X)\n",
    "print(Data)"
   ]
  },
  {
   "cell_type": "code",
   "execution_count": 47,
   "id": "243a6022",
   "metadata": {},
   "outputs": [],
   "source": [
    "#-------------------------------------------------------------------------------------------------------------------------------\n",
    "#-------------------------------------------------------------------------------------------------------------------------------\n",
    "#-------------------------------------------------------------------------------------------------------------------------------\n",
    "#-------------------------------------------------------------------------------------------------------------------------------\n",
    "#-------------------------------------------------------------------------------------------------------------------------------"
   ]
  },
  {
   "cell_type": "code",
   "execution_count": 20,
   "id": "87898d5f",
   "metadata": {},
   "outputs": [
    {
     "name": "stdout",
     "output_type": "stream",
     "text": [
      "MASUKKAN BANYAK LIST : 5\n",
      "\n",
      "Data Sebelum Diurutkan : [60, 33, 76, 97, 70]\n",
      "\n",
      "\n",
      "Langkah ke - 4\n",
      "[33, 60, 76, 97, 70]\n",
      "[33, 60, 76, 70, 97]\n",
      "Langkah ke - 3\n",
      "[33, 60, 70, 76, 97]\n",
      "Langkah ke - 2\n",
      "Langkah ke - 1\n"
     ]
    },
    {
     "data": {
      "text/plain": [
       "[33, 60, 70, 76, 97]"
      ]
     },
     "execution_count": 20,
     "metadata": {},
     "output_type": "execute_result"
    }
   ],
   "source": [
    "# Random List\n",
    "import random\n",
    "\n",
    "Data = []\n",
    "\n",
    "Masukkan = int(input(\"MASUKKAN BANYAK LIST : \"))\n",
    "print(\"\")\n",
    "for i in range (Masukkan) :\n",
    "    X = random.randint(0,100)\n",
    "    Data.append(X)\n",
    "print(\"Data Sebelum Diurutkan :\",Data)\n",
    "\n",
    "#------------------------------------------------------------------------------\n",
    "print(\"\\n\")\n",
    "#------------------------------------------------------------------------------\n",
    "# Bubble Sort\n",
    "def BubbleSort(data):\n",
    "    for i in range(len(data)-1,0,-1) :\n",
    "        print(\"Langkah ke -\", i)\n",
    "        for j in range(len(data) - 1) :\n",
    "            if data[j] > data[j+1] :\n",
    "                data[j], data[j+1] = data[j+1], data[j]\n",
    "                print(data)\n",
    "    return data\n",
    "\n",
    "BubbleSort(Data)\n"
   ]
  },
  {
   "cell_type": "code",
   "execution_count": 41,
   "id": "beb6c34e",
   "metadata": {},
   "outputs": [],
   "source": [
    "# bubble Sort\n",
    "\n",
    "def bubbleSort(data):\n",
    "    for i in range(100) :\n",
    "        for j in range(99) :\n",
    "            if data[j] > data[j+1] :\n",
    "                data[j], data[j+1] = data[j+1], data[j]\n",
    "    print(data)"
   ]
  },
  {
   "cell_type": "code",
   "execution_count": null,
   "id": "a65440df",
   "metadata": {},
   "outputs": [],
   "source": [
    "# Python program for implementation of Bubble Sort\n",
    "  \n",
    "def bubbleSort(arr):\n",
    "    n = len(arr)\n",
    "  \n",
    "    # Traverse through all array elements\n",
    "    for i in range(n):\n",
    "  \n",
    "        # Last i elements are already in place\n",
    "        for j in range(0, n-i-1):\n",
    "  \n",
    "            # traverse the array from 0 to n-i-1\n",
    "            # Swap if the element found is greater\n",
    "            # than the next element\n",
    "            if arr[j] > arr[j+1] :\n",
    "                arr[j], arr[j+1] = arr[j+1], arr[j]"
   ]
  },
  {
   "cell_type": "code",
   "execution_count": null,
   "id": "f7786dce",
   "metadata": {},
   "outputs": [],
   "source": [
    "def interpolationSearch(data, low, high, x):\n",
    "    if (low <= high and x >= data[low] and x <= data[high]):\n",
    "        posisi = low + ((high - low) // (data[high] - data[low]) * (x - data[low]))\n",
    "        if data[posisi] == x:\n",
    "            return posisi\n",
    "        if data[posisi] < x:\n",
    "            return interpolationSearch(data, posisi + 1, high, x)\n",
    "        if data[posisi] > x:\n",
    "            return interpolationSearch(data, low, posisi - 1, x)\n",
    "    return -1\n",
    "\n",
    "x = int(input(\"masukkan angka yang ingin di cari = \"))\n",
    "data = [2,4,5,7,9,12,14,24,25,28,32,34,37,40,45,48,49,53,55,56,59,60,61,69]\n",
    "n = len(data)\n",
    "index = interpolationSearch(data, 0, n - 1, x)\n",
    "\n",
    "if index != -1:\n",
    "    print(\"target ada di index ke\", index)\n",
    "else:\n",
    "    print(\"target tidak ditemukan\")"
   ]
  },
  {
   "cell_type": "code",
   "execution_count": null,
   "id": "c92cac94",
   "metadata": {},
   "outputs": [],
   "source": [
    "# Python3 program to implement\n",
    "# interpolation search\n",
    "# with recursion\n",
    " \n",
    "# If x is present in arr[0..n-1], then\n",
    "# returns index of it, else returns -1.\n",
    " \n",
    "def interpolationSearch(arr, lo, hi, x):\n",
    " \n",
    "    # Since array is sorted, an element present\n",
    "    # in array must be in range defined by corner\n",
    "    if (lo <= hi and x >= arr[lo] and x <= arr[hi]):\n",
    " \n",
    "        # Probing the position with keeping\n",
    "        # uniform distribution in mind.\n",
    "        pos = lo + ((hi - lo) // (arr[hi] - arr[lo]) *\n",
    "                    (x - arr[lo]))\n",
    " \n",
    "        # Condition of target found\n",
    "        if arr[pos] == x:\n",
    "            return pos\n",
    " \n",
    "        # If x is larger, x is in right subarray\n",
    "        if arr[pos] < x:\n",
    "            return interpolationSearch(arr, pos + 1,\n",
    "                                       hi, x)\n",
    " \n",
    "        # If x is smaller, x is in left subarray\n",
    "        if arr[pos] > x:\n",
    "            return interpolationSearch(arr, lo,\n",
    "                                       pos - 1, x)\n",
    "    return -1\n",
    " \n",
    "# Driver code\n",
    "\n",
    "\n",
    "# Array of items in which\n",
    "# search will be conducted\n",
    "arr = [10, 12, 13, 16, 18, 19, 20,\n",
    "       21, 22, 23, 24, 33, 35, 42, 47]\n",
    "n = len(arr)\n",
    " \n",
    "# Element to be searched\n",
    "x = 18\n",
    "index = interpolationSearch(arr, 0, n - 1, x)\n",
    " \n",
    "if index != -1:\n",
    "    print(\"Element found at index\", index)\n",
    "else:\n",
    "    print(\"Element not found\")\n",
    " \n",
    "# This code is contributed by Hardik Jain"
   ]
  }
 ],
 "metadata": {
  "kernelspec": {
   "display_name": "Python 3",
   "language": "python",
   "name": "python3"
  },
  "language_info": {
   "codemirror_mode": {
    "name": "ipython",
    "version": 3
   },
   "file_extension": ".py",
   "mimetype": "text/x-python",
   "name": "python",
   "nbconvert_exporter": "python",
   "pygments_lexer": "ipython3",
   "version": "3.8.8"
  }
 },
 "nbformat": 4,
 "nbformat_minor": 5
}
